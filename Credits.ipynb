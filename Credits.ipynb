{
 "cells": [
  {
   "cell_type": "markdown",
   "metadata": {},
   "source": [
    "<img src=\"resources/cropped-SummerWorkshop_Header.png\">  \n",
    "\n",
    "<h1 align=\"center\">Python Bootcamp and Summer Workshop on the Dynamic Brain</h1> \n",
    "<h3 align=\"center\">August 19-September 3, 2016</h3> "
   ]
  },
  {
   "cell_type": "markdown",
   "metadata": {},
   "source": [
    "<div style=\"border-left: 3px solid #000; padding: 1px; padding-left: 10px; background: #F0FAFF; \">\n",
    "<center><h1>Credits</h1></center>\n",
    "\n",
    "<p>The material for the Python Bootcamp and the Summer Workshop on the Dynamic Brain is the result of hard work from many people.  In no particular order, they are:\n",
    "\n",
    "<ul>\n",
    "<li>Saskia de Vries\n",
    "<li>David Feng\n",
    "<li>Nathan Gouwens\n",
    "<li>Anton Arkhipov\n",
    "<li>Shawn Olsen\n",
    "<li>Michael A. Buice\n",
    "<li>Doug Ollerenshaw\n",
    "<li>Luke Campagnola\n",
    "<li>Nile Gaddis\n",
    "<li>Jun Zhuang\n",
    "<li>Marina Garrett\n",
    "<li>Jennifer Whitesell\n",
    "<li>Agata Budzillo\n",
    "<li>Yazan Billeh\n",
    "<li>Peter Ledochowitsch\n",
    "<li>Gabe Ocker\n",
    "<li>Eliza Barkan\n",
    "<li>Forrest Collman\n",
    "<li>Justin Kiggins\n",
    "<li>Tim Fliss\n",
    "<li>Nika Hejazinia\n",
    "</ul>\n",
    "\n",
    "<p>This material builds upon work from previous years.  Contributors are:\n",
    "<ul>\n",
    "<li>Nicholas Cain\n",
    "<li>Lydia Ng\n",
    "<li>Chris Mochizuki\n",
    "<li>Aaron Oldre\n",
    "<li>Kameron Harris\n",
    "<li>Mark Wronkiewicz\n",
    "<li>Rich Pang\n",
    "</ul>\n",
    "</div>"
   ]
  }
 ],
 "metadata": {
  "kernelspec": {
   "display_name": "Python 2",
   "language": "python",
   "name": "python2"
  },
  "language_info": {
   "codemirror_mode": {
    "name": "ipython",
    "version": 2
   },
   "file_extension": ".py",
   "mimetype": "text/x-python",
   "name": "python",
   "nbconvert_exporter": "python",
   "pygments_lexer": "ipython2",
   "version": "2.7.13"
  }
 },
 "nbformat": 4,
 "nbformat_minor": 0
}
