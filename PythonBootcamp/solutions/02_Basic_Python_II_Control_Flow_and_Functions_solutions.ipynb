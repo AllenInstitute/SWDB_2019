{
 "cells": [
  {
   "cell_type": "markdown",
   "metadata": {},
   "source": [
    "<img src=\"../support_files/cropped-SummerWorkshop_Header.png\">  \n",
    "\n",
    "<h1 align=\"center\">Python Bootcamp</h1> \n",
    "<h3 align=\"center\">August 18-19, 2018</h3> "
   ]
  },
  {
   "cell_type": "markdown",
   "metadata": {},
   "source": [
    "<div style=\"border-left: 3px solid #000; padding: 1px; padding-left: 10px; background: #F0FAFF; \">\n",
    "<center><h1>Basic Python Part 2 - Control Flow and Functions</h1></center>\n",
    "\n",
    "<p>In this section we will go over the basic control flow features in Python -- for-loops, if-then blocks, and functions. \n",
    "\n",
    "<p>**Documentation:** [control flow](https://docs.python.org/2/tutorial/controlflow.html)\n",
    "</div>"
   ]
  },
  {
   "cell_type": "markdown",
   "metadata": {},
   "source": [
    "<div style=\"border-left: 3px solid #000; padding: 1px; padding-left: 10px; background: #F0FAFF; \">\n",
    "<h2>`for`-loops</h2>\n",
    "\n",
    "<p>Python has a number of ways to iterate, or \"loop\" over commands.  The most common is the `for` loop, which allows a single block of code to be executed multiple times in sequence:\n",
    "</div>"
   ]
  },
  {
   "cell_type": "code",
   "execution_count": 1,
   "metadata": {
    "scrolled": true
   },
   "outputs": [
    {
     "name": "stdout",
     "output_type": "stream",
     "text": [
      "0\n",
      "1\n",
      "2\n",
      "3\n",
      "4\n",
      "5\n",
      "All done.\n"
     ]
    }
   ],
   "source": [
    "for i in range(6):\n",
    "    print(i)\n",
    "    \n",
    "print(\"All done.\")"
   ]
  },
  {
   "cell_type": "markdown",
   "metadata": {},
   "source": [
    "<div style=\"border-left: 3px solid #000; padding: 1px; padding-left: 10px; background: #F0FAFF; \">\n",
    "<p>The code above does the following:\n",
    "\n",
    "<ol>\n",
    "<li> `range(6)` creates a list of 6 consecutive integers starting at 0.\n",
    "<li> For each integer in the list, assign the integer to the variable `i` and then execute the code inside the `for` loop. This means that the statement `print(i)` is executed 6 times, each time with a different value assigned to `i`.\n",
    "<li> Print \"All done.'\n",
    "</ol>\n",
    "\n",
    "<p>If you're coming from almost any other programming language, the above code may look strange to you--how does Python know that `print(i)` is meant to be executed 6 times, whereas `print \"All done.\"` should only be executed once? Most languages would require you to explicitly mark the end of `for` loop (for example, by writing `END`, `ENDFOR`, or a closing brace `}`). \n",
    "\n",
    "<p>The answer is that Python uses *indentation* to determine the beginning and end of code blocks. Every line with the same initial indentation is considered a part of the same code block. A different indentation level indicates another code block. This makes many newcomers uncomfortable at first! Never fear; we love this feature for its simplicity and cleanliness, and our text editors take care of the tedious work for us.\n",
    "\n",
    "<p>Let's see what would have happened if the `print(i)` statement were not correctly indented:\n",
    "</div>"
   ]
  },
  {
   "cell_type": "code",
   "execution_count": 2,
   "metadata": {
    "scrolled": false
   },
   "outputs": [
    {
     "ename": "IndentationError",
     "evalue": "expected an indented block (<ipython-input-2-0c8aafc23d7e>, line 2)",
     "output_type": "error",
     "traceback": [
      "\u001b[0;36m  File \u001b[0;32m\"<ipython-input-2-0c8aafc23d7e>\"\u001b[0;36m, line \u001b[0;32m2\u001b[0m\n\u001b[0;31m    print(i)\u001b[0m\n\u001b[0m        ^\u001b[0m\n\u001b[0;31mIndentationError\u001b[0m\u001b[0;31m:\u001b[0m expected an indented block\n"
     ]
    }
   ],
   "source": [
    "for i in range(10):\n",
    "print(i)"
   ]
  },
  {
   "cell_type": "markdown",
   "metadata": {},
   "source": [
    "<div style=\"border-left: 3px solid #000; padding: 1px; padding-left: 10px; background: #F0FAFF; \">\n",
    "<p>The code in the previous cell gives an `IndentationError`, which tells us that we need to fix the indentation of the line that says `print(i)`.\n",
    "\n",
    "<p>How much should you indent?  By convention, most Python code indents using 4 spaces.  This is good practice.  Technically, you can choose as much white space you would like as long as it is *consistent*, but please do not use tabs!  This can confuse other people trying to use your code on a different platform or with a different editor.  Most Python environments will by default or can be configured to convert the use of the tab key to 4 spaces.  Many will also auto-indent what should be a new code block.\n",
    "\n",
    "<p>We will see many more examples of code indentation below.\n",
    "</div>"
   ]
  },
  {
   "cell_type": "markdown",
   "metadata": {},
   "source": [
    "<div style=\"background: #DFF0D8; border-radius: 3px; padding: 10px;\">\n",
    "<p>**Exercise 2.1:** \n",
    "Try typing the above for-loop into the cell below.  Notice that when you press `enter` at the end of the first line, Jupyter will automatically begin an indented code block.\n",
    "</div>"
   ]
  },
  {
   "cell_type": "code",
   "execution_count": 3,
   "metadata": {},
   "outputs": [
    {
     "name": "stdout",
     "output_type": "stream",
     "text": [
      "0\n",
      "1\n",
      "2\n",
      "3\n",
      "4\n",
      "5\n",
      "6\n",
      "7\n",
      "8\n",
      "9\n"
     ]
    }
   ],
   "source": [
    "for i in range(10):\n",
    "    print(i)"
   ]
  },
  {
   "cell_type": "markdown",
   "metadata": {},
   "source": [
    "<div style=\"background: #DFF0D8; border-radius: 3px; padding: 10px;\">\n",
    "<p>**Exercise 2.2:** \n",
    "Print out the squares of the first ten integers.\n",
    "</div>"
   ]
  },
  {
   "cell_type": "code",
   "execution_count": 4,
   "metadata": {},
   "outputs": [
    {
     "name": "stdout",
     "output_type": "stream",
     "text": [
      "0\n",
      "1\n",
      "4\n",
      "9\n",
      "16\n",
      "25\n",
      "36\n",
      "49\n",
      "64\n",
      "81\n"
     ]
    }
   ],
   "source": [
    "for i in range(10):\n",
    "    print(i*i)"
   ]
  },
  {
   "cell_type": "markdown",
   "metadata": {},
   "source": [
    "<div style=\"background: #DFF0D8; border-radius: 3px; padding: 10px;\">\n",
    "<p>**Exercise 2.3:** \n",
    "Print out the sum of the first ten integers.\n",
    "</div>"
   ]
  },
  {
   "cell_type": "code",
   "execution_count": 5,
   "metadata": {},
   "outputs": [
    {
     "name": "stdout",
     "output_type": "stream",
     "text": [
      "45\n",
      "45\n"
     ]
    }
   ],
   "source": [
    "# simple way\n",
    "isum = 0\n",
    "for i in range(10):\n",
    "    isum += i\n",
    "print(isum)\n",
    "\n",
    "# one-liner using built-in function\n",
    "print(sum(range(10)))"
   ]
  },
  {
   "cell_type": "markdown",
   "metadata": {},
   "source": [
    "<div style=\"background: #DFF0D8; border-radius: 3px; padding: 10px;\">\n",
    "<p>**Exercise 2.4:** \n",
    "Add two equal length lists of numbers element-wise.\n",
    "</div>"
   ]
  },
  {
   "cell_type": "code",
   "execution_count": 6,
   "metadata": {},
   "outputs": [
    {
     "name": "stdout",
     "output_type": "stream",
     "text": [
      "[8, 8, 6, 7, 9]\n"
     ]
    }
   ],
   "source": [
    "X = [1,2,3,4,5]\n",
    "Y = [7,6,3,3,4]\n",
    "\n",
    "Z = []\n",
    "for i in range(len(X)):\n",
    "    Z.append(X[i] + Y[i])\n",
    "print(Z)"
   ]
  },
  {
   "cell_type": "markdown",
   "metadata": {},
   "source": [
    "<div style=\"border-left: 3px solid #000; padding: 1px; padding-left: 10px; background: #F0FAFF; \">\n",
    "<h2>Conditionals: if...elif...else</h2>\n",
    "<p>`if` statements allow your code to make decisions based on the value of an object. \n",
    "</div>"
   ]
  },
  {
   "cell_type": "code",
   "execution_count": 7,
   "metadata": {},
   "outputs": [
    {
     "name": "stdout",
     "output_type": "stream",
     "text": [
      "x equals 5!\n"
     ]
    }
   ],
   "source": [
    "x = 5\n",
    "\n",
    "if x == 5:\n",
    "    # this line will be executed\n",
    "    print(\"x equals 5!\")\n",
    "    \n",
    "if x < 2:\n",
    "    # this line will NOT be executed\n",
    "    print(\"x is less than two.\")"
   ]
  },
  {
   "cell_type": "markdown",
   "metadata": {},
   "source": [
    "<div style=\"border-left: 3px solid #000; padding: 1px; padding-left: 10px; background: #F0FAFF; \">\n",
    "<p>Again, the body of the `if` code block is defined by indentation. \n",
    "\n",
    "<p>Note the use of the double-equal sign to indicate a test for equality. Remember: \n",
    "\n",
    "<ul>\n",
    "<li> A single-equal `=` is an *assignment*; this changes the value of a variable.\n",
    "<li> A double-equal `==` is a *question*; it returns True if the objects on either side are equal.\n",
    "</ul>\n",
    "\n",
    "</div>"
   ]
  },
  {
   "cell_type": "markdown",
   "metadata": {},
   "source": [
    "<div style=\"background: #DFF0D8; border-radius: 3px; padding: 10px;\">\n",
    "<p>**Exercise 2.5:** \n",
    "<p>Repeat the above code block with the if statement changed to\n",
    "</div>\n",
    "\n",
    "```python\n",
    "if x=5:\n",
    "```\n",
    "<div style=\"background: #DFF0D8; border-radius: 3px; padding: 10px;\">\n",
    "<p>What do you get?\n",
    "</div>"
   ]
  },
  {
   "cell_type": "code",
   "execution_count": 8,
   "metadata": {},
   "outputs": [
    {
     "ename": "SyntaxError",
     "evalue": "invalid syntax (<ipython-input-8-2a3d71f65427>, line 3)",
     "output_type": "error",
     "traceback": [
      "\u001b[0;36m  File \u001b[0;32m\"<ipython-input-8-2a3d71f65427>\"\u001b[0;36m, line \u001b[0;32m3\u001b[0m\n\u001b[0;31m    if x = 5:\u001b[0m\n\u001b[0m         ^\u001b[0m\n\u001b[0;31mSyntaxError\u001b[0m\u001b[0;31m:\u001b[0m invalid syntax\n"
     ]
    }
   ],
   "source": [
    "x = 5\n",
    "\n",
    "if x = 5:\n",
    "    # this line will be executed\n",
    "    print(\"x equals 5!\")"
   ]
  },
  {
   "cell_type": "markdown",
   "metadata": {},
   "source": [
    "<div style=\"border-left: 3px solid #000; padding: 1px; padding-left: 10px; background: #F0FAFF; \">\n",
    "The expression `x==5` evaluates to a boolean value (either `True` or `False`).\n",
    "</div>"
   ]
  },
  {
   "cell_type": "code",
   "execution_count": 9,
   "metadata": {},
   "outputs": [
    {
     "name": "stdout",
     "output_type": "stream",
     "text": [
      "True\n",
      "<class 'bool'>\n"
     ]
    }
   ],
   "source": [
    "print(x==5)\n",
    "print(type(x==5))"
   ]
  },
  {
   "cell_type": "markdown",
   "metadata": {},
   "source": [
    "<div style=\"border-left: 3px solid #000; padding: 1px; padding-left: 10px; background: #F0FAFF; \">\n",
    "Any type of expression that can be evaluated to a boolean may be used as a condition in an if-block. For example:\n",
    "</div>"
   ]
  },
  {
   "cell_type": "code",
   "execution_count": 10,
   "metadata": {},
   "outputs": [
    {
     "name": "stdout",
     "output_type": "stream",
     "text": [
      "False\n",
      "False\n",
      "True\n",
      "True\n",
      "False\n"
     ]
    }
   ],
   "source": [
    "# Tests for inequality\n",
    "print(x > 5)   # greater than\n",
    "print(x < 5)   # less than\n",
    "print(x >= 5)  # greater than or equal\n",
    "print(x <= 5)  # less than or equal\n",
    "print(x != 5)  # not equal"
   ]
  },
  {
   "cell_type": "code",
   "execution_count": 11,
   "metadata": {},
   "outputs": [
    {
     "name": "stdout",
     "output_type": "stream",
     "text": [
      "True\n",
      "True\n"
     ]
    }
   ],
   "source": [
    "# Compound boolean tests\n",
    "print((x > 2) and (x < 10))\n",
    "print((x < 2) or not (x > 10))"
   ]
  },
  {
   "cell_type": "code",
   "execution_count": 12,
   "metadata": {},
   "outputs": [
    {
     "name": "stdout",
     "output_type": "stream",
     "text": [
      "True\n",
      "True\n"
     ]
    }
   ],
   "source": [
    "# Tests for inclusion\n",
    "print(7 in range(10))\n",
    "print('x' not in ['a', 'b', 'c'])"
   ]
  },
  {
   "cell_type": "markdown",
   "metadata": {},
   "source": [
    "<div style=\"border-left: 3px solid #000; padding: 1px; padding-left: 10px; background: #F0FAFF; \">\n",
    "One can also add `elif` and `else` blocks to an `if` statement.  `elif` adds another conditional to be tested in case the first is false.  The `else` block is run only if all other conditions are false.  `elif` and `else` are both optional.\n",
    "</div>"
   ]
  },
  {
   "cell_type": "code",
   "execution_count": 13,
   "metadata": {
    "scrolled": true
   },
   "outputs": [
    {
     "name": "stdout",
     "output_type": "stream",
     "text": [
      "x is positive\n"
     ]
    }
   ],
   "source": [
    "x = 5\n",
    "\n",
    "# There are three possible blocks for Python to execute here.\n",
    "# Only the *first* block to pass its conditional test will be executed.\n",
    "if x == 0:\n",
    "    print(\"x is 0\")\n",
    "elif x < 0:\n",
    "    print(\"x is negative\")\n",
    "else:\n",
    "    print(\"x is positive\")"
   ]
  },
  {
   "cell_type": "markdown",
   "metadata": {},
   "source": [
    "<div style=\"border-left: 3px solid #000; padding: 1px; padding-left: 10px; background: #F0FAFF; \">\n",
    "<h2>Mixing for-loops and conditionals</h2>\n",
    "<p>`for` loops also support `break` and `continue` statements. These follow the standard behavior used in many other languages:\n",
    "\n",
    "<ul>\n",
    "<li> `break` causes the currently-running loop to exit immediately--execution jumps to the first line *after* the end of the for-loop's block.\n",
    "<li> `continue` causes the current iteration of the for-loop to end--execution jumps back to the beginning of the for-loop's block, and the next iteration begins.\n",
    "</ul>\n",
    "</div>"
   ]
  },
  {
   "cell_type": "code",
   "execution_count": 14,
   "metadata": {},
   "outputs": [
    {
     "name": "stdout",
     "output_type": "stream",
     "text": [
      "0\n",
      "1\n",
      "2\n"
     ]
    }
   ],
   "source": [
    "for i in range(10):\n",
    "    if i == 3:\n",
    "        break\n",
    "    print(i)"
   ]
  },
  {
   "cell_type": "code",
   "execution_count": 15,
   "metadata": {
    "scrolled": false
   },
   "outputs": [
    {
     "name": "stdout",
     "output_type": "stream",
     "text": [
      "1\n",
      "3\n",
      "5\n",
      "7\n",
      "9\n"
     ]
    }
   ],
   "source": [
    "for i in range(10):\n",
    "    if i % 2 == 0:\n",
    "        continue\n",
    "    print(i)"
   ]
  },
  {
   "cell_type": "markdown",
   "metadata": {},
   "source": [
    "<div style=\"border-left: 3px solid #000; padding: 1px; padding-left: 10px; background: #F0FAFF; \">\n",
    "Note the use of *nested* indentation--we have an `if` block nested inside a `for`-loop.\n",
    "</div>"
   ]
  },
  {
   "cell_type": "markdown",
   "metadata": {},
   "source": [
    "<div style=\"background: #DFF0D8; border-radius: 3px; padding: 10px;\">\n",
    "<p>**Exercise 2.6:** Most code editors provide some means to automatically indent and de-indent whole blocks of code. In the cell above, select the last three lines and then press `tab` to increase their indentation, and `shift-tab` to decrease their indentation.\n",
    "</div>"
   ]
  },
  {
   "cell_type": "code",
   "execution_count": 16,
   "metadata": {},
   "outputs": [
    {
     "name": "stdout",
     "output_type": "stream",
     "text": [
      "1\n",
      "3\n",
      "5\n",
      "7\n",
      "9\n"
     ]
    }
   ],
   "source": [
    "for i in range(10):\n",
    "    if i % 2 == 0:\n",
    "        continue\n",
    "    print(i)"
   ]
  },
  {
   "cell_type": "markdown",
   "metadata": {},
   "source": [
    "<div style=\"border-left: 3px solid #000; padding: 1px; padding-left: 10px; background: #F0FAFF; \">\n",
    "<h2>Iterating over lists, tuples, and dicts</h2>\n",
    "\n",
    "<p>A very common operation in programming is to loop over a list, performing the same action once for each item in the list. How does this work in Python? \n",
    "\n",
    "<p>For example, if you want to print each item in a list, one at a time, then you might try the following:\n",
    "</div>"
   ]
  },
  {
   "cell_type": "code",
   "execution_count": 17,
   "metadata": {},
   "outputs": [
    {
     "name": "stdout",
     "output_type": "stream",
     "text": [
      "hello,\n",
      "world.\n",
      "How\n",
      "are\n",
      "you?\n"
     ]
    }
   ],
   "source": [
    "words_from_hello = 'hello, world.  How are you?'.split()\n",
    "\n",
    "number_of_words = len(words_from_hello)\n",
    "\n",
    "for i in range(number_of_words):\n",
    "    print(words_from_hello[i])"
   ]
  },
  {
   "cell_type": "markdown",
   "metadata": {},
   "source": [
    "<div style=\"border-left: 3px solid #000; padding: 1px; padding-left: 10px; background: #F0FAFF; \">\n",
    "<p>Is there a better way?\n",
    "\n",
    "<p>When we originally used `for i in range(6)`, we said that `range(6)` just generates a list of integers, and that the for-loop simply executes its code block once for each item in the list. \n",
    "\n",
    "<p>In this case, we already *have* the list of items we want to iterate over in `words_from_hello`, so there is no need to introduce a second list of integers:\n",
    "</div>"
   ]
  },
  {
   "cell_type": "code",
   "execution_count": 18,
   "metadata": {},
   "outputs": [
    {
     "name": "stdout",
     "output_type": "stream",
     "text": [
      "hello,\n",
      "world.\n",
      "How\n",
      "are\n",
      "you?\n"
     ]
    }
   ],
   "source": [
    "for word in words_from_hello:\n",
    "    print(word)"
   ]
  },
  {
   "cell_type": "markdown",
   "metadata": {},
   "source": [
    "<div style=\"border-left: 3px solid #000; padding: 1px; padding-left: 10px; background: #F0FAFF; \">\n",
    "<p>In each iteration of the loop, the next succesive element in the list `words_from_hello` is assigned to the value `word`.  The variable `word` can then be used inside the loop. \n",
    "\n",
    "<p>We can also iterate over `tuple`s and `dict`s. Iterating over a `tuple` works exactly as with `list`s:\n",
    "</div>"
   ]
  },
  {
   "cell_type": "code",
   "execution_count": 19,
   "metadata": {},
   "outputs": [
    {
     "name": "stdout",
     "output_type": "stream",
     "text": [
      "1\n",
      "2\n",
      "3\n",
      "4\n"
     ]
    }
   ],
   "source": [
    "for i in (1,2,3,4):\n",
    "    print(i)"
   ]
  },
  {
   "cell_type": "markdown",
   "metadata": {},
   "source": [
    "<div style=\"border-left: 3px solid #000; padding: 1px; padding-left: 10px; background: #F0FAFF; \">\n",
    "<p>If we use a `dict` in a for-loop, then the behavior is to iterate over the *keys* of the `dict`:\n",
    "</div>"
   ]
  },
  {
   "cell_type": "code",
   "execution_count": 20,
   "metadata": {},
   "outputs": [
    {
     "name": "stdout",
     "output_type": "stream",
     "text": [
      "red\n",
      "orange\n",
      "yellow\n"
     ]
    }
   ],
   "source": [
    "fruit_dict = {'apple':'red',  'orange':'orange',  'banana':'yellow'}\n",
    "\n",
    "# inside the for-loop, fruit will be assigned to the *keys* from fruit_dict,\n",
    "# not the *values*.\n",
    "for fruit in fruit_dict:\n",
    "    # for each key, retrieve and print the corresponding value\n",
    "    print(fruit_dict[fruit])\n"
   ]
  },
  {
   "cell_type": "markdown",
   "metadata": {},
   "source": [
    "<div style=\"border-left: 3px solid #000; padding: 1px; padding-left: 10px; background: #F0FAFF; \">\n",
    "<p>Are the values printed in the order you expected? Be careful! `dict`s are not ordered, so you cannot rely on the order of the sequence that is returned.\n",
    "\n",
    "<p>There are actually a few different ways to iterate over a `dict`:\n",
    "</div>"
   ]
  },
  {
   "cell_type": "code",
   "execution_count": 21,
   "metadata": {},
   "outputs": [
    {
     "name": "stdout",
     "output_type": "stream",
     "text": [
      "Iterate over keys:\n",
      "apple\n",
      "orange\n",
      "banana\n",
      "\n",
      "Iterate over values:\n",
      "red\n",
      "orange\n",
      "yellow\n",
      "\n",
      "Iterate over keys AND values simultaneously:\n",
      "apple red\n",
      "orange orange\n",
      "banana yellow\n"
     ]
    }
   ],
   "source": [
    "print(\"Iterate over keys:\")\n",
    "# (this is the same behavior as shown above)\n",
    "for key in fruit_dict.keys():\n",
    "    print(key)\n",
    "\n",
    "print(\"\")\n",
    "    \n",
    "print(\"Iterate over values:\")\n",
    "for value in fruit_dict.values():\n",
    "    print(value)\n",
    "    \n",
    "print(\"\")\n",
    "    \n",
    "print(\"Iterate over keys AND values simultaneously:\")\n",
    "for key,value in fruit_dict.items():\n",
    "    print(key, value)"
   ]
  },
  {
   "cell_type": "markdown",
   "metadata": {},
   "source": [
    "<div style=\"border-left: 3px solid #000; padding: 1px; padding-left: 10px; background: #F0FAFF; \">\n",
    "<p>The last example is a nice combination of *multiple assignment* and iterators.  The `items()` method generates a tuple for each loop iteration that contains the `(key, value)` pair, which is then split and assigned to the `key` and `value` variables in the for-loop.\n",
    "\n",
    "<p>It is quite common that we will want to iterate over a list of items *and* at the same time have access to the index (position) of each item within the list. This can be done simply using the tools shown above, but Python also provides a convenient function called `enumerate()` that makes this easier:\n",
    "</div>"
   ]
  },
  {
   "cell_type": "code",
   "execution_count": 22,
   "metadata": {},
   "outputs": [
    {
     "name": "stdout",
     "output_type": "stream",
     "text": [
      "0 hello,\n",
      "1 world.\n",
      "2 How\n",
      "3 are\n",
      "4 you?\n"
     ]
    }
   ],
   "source": [
    "for i,word in enumerate(words_from_hello):\n",
    "    print(i, word)"
   ]
  },
  {
   "cell_type": "markdown",
   "metadata": {},
   "source": [
    "<div style=\"background: #DFF0D8; border-radius: 3px; padding: 10px;\">\n",
    "<p>**Exercise 2.7:** \n",
    "Create a dictionary with the following keys and values by iterating with a `for` loop. Start with an empty `dict` and add one key/value pair at a time.\n",
    "</div>"
   ]
  },
  {
   "cell_type": "code",
   "execution_count": 23,
   "metadata": {},
   "outputs": [
    {
     "name": "stdout",
     "output_type": "stream",
     "text": [
      "{'smuggler': 'Han', 'princess': 'Leia', 'farmboy': 'Luke'}\n"
     ]
    }
   ],
   "source": [
    "key_list   = ['smuggler', 'princess','farmboy']\n",
    "value_list = ['Han', 'Leia', 'Luke']\n",
    "\n",
    "# simple way\n",
    "empty = {}\n",
    "for i in range(3):\n",
    "    empty[key_list[i]] = value_list[i]\n",
    "\n",
    "# using built-in zip function \n",
    "empty = {}\n",
    "for key, value in zip(key_list, value_list):\n",
    "    empty[key] = value\n",
    "    \n",
    "# using dictionary comprehension\n",
    "empty = { key:value for key,value in zip(key_list, value_list) }  \n",
    "\n",
    "print(empty)"
   ]
  },
  {
   "cell_type": "markdown",
   "metadata": {},
   "source": [
    "<div style=\"border-left: 3px solid #000; padding: 1px; padding-left: 10px; background: #F0FAFF; \">\n",
    "<h2>List Comprehensions</h2>\n",
    "\n",
    "<p>Earlier, we said that a very common operation in programming is to loop over a list, performing the same action once for each item in the list. Python has a cool feature to simplify this process. For example, let's take a list of numbers and compute a new list containing the squares of those numbers:\n",
    "</div>"
   ]
  },
  {
   "cell_type": "code",
   "execution_count": 24,
   "metadata": {
    "scrolled": true
   },
   "outputs": [
    {
     "name": "stdout",
     "output_type": "stream",
     "text": [
      "[4, 36, 9, 64, 16, 49]\n"
     ]
    }
   ],
   "source": [
    "# First, the long way:\n",
    "numbers = [2, 6, 3, 8, 4, 7]\n",
    "squares = []\n",
    "for n in numbers:\n",
    "    squares.append(n**2)\n",
    "    \n",
    "print(squares)"
   ]
  },
  {
   "cell_type": "markdown",
   "metadata": {},
   "source": [
    "<div style=\"border-left: 3px solid #000; padding: 1px; padding-left: 10px; background: #F0FAFF; \">\n",
    "A *list comprehension* performs the same operation as above, but condensed into a single line.\n",
    "</div>"
   ]
  },
  {
   "cell_type": "code",
   "execution_count": 25,
   "metadata": {
    "scrolled": true
   },
   "outputs": [
    {
     "name": "stdout",
     "output_type": "stream",
     "text": [
      "[4, 36, 9, 64, 16, 49]\n"
     ]
    }
   ],
   "source": [
    "# A one-line version of the same operation:\n",
    "squares = [n**2 for n in numbers]\n",
    "\n",
    "print(squares)"
   ]
  },
  {
   "cell_type": "markdown",
   "metadata": {},
   "source": [
    "<div style=\"border-left: 3px solid #000; padding: 1px; padding-left: 10px; background: #F0FAFF; \">\n",
    "<p>List comprehensions can also be used to filter lists using `if` statements.  For example, the following prints out the first 100 even valued perfect squares.\n",
    "</div>"
   ]
  },
  {
   "cell_type": "code",
   "execution_count": 26,
   "metadata": {},
   "outputs": [
    {
     "name": "stdout",
     "output_type": "stream",
     "text": [
      "[0, 4, 16, 36, 64]\n",
      "[0, 4, 16, 36, 64]\n"
     ]
    }
   ],
   "source": [
    "# The long way:\n",
    "even_squares = []\n",
    "for x in range(10):\n",
    "    if x%2 == 0:\n",
    "        even_squares.append(x * x)\n",
    "        \n",
    "print(even_squares) \n",
    "\n",
    "# The short way:\n",
    "even_squares = [x*x for x in range(10) if x%2 == 0]\n",
    "\n",
    "print(even_squares)"
   ]
  },
  {
   "cell_type": "markdown",
   "metadata": {},
   "source": [
    "<div style=\"border-left: 3px solid #000; padding: 1px; padding-left: 10px; background: #F0FAFF; \">\n",
    "<p>List comprehensions are frequently-used by Python programmers, so although it is not necessary to use list comprehensions in your own code, you should still understand how to read them.\n",
    "</div>"
   ]
  },
  {
   "cell_type": "markdown",
   "metadata": {},
   "source": [
    "<div style=\"border-left: 3px solid #000; padding: 1px; padding-left: 10px; background: #F0FAFF; \">\n",
    "<h2>Functions</h2>\n",
    "\n",
    "<p>Code execution is often very repetitive; we have seen this above with for-loops. What happens when you need the same block of code to be executed from two different parts of your program? Beginning programmers are often tempted to copy-and-paste snippets of code, a practice that is highly discouraged. In the vast majority of cases, code duplication results in programs that are difficult to read, maintain, and debug.\n",
    "\n",
    "<p>To avoid code duplication, we define blocks of re-usable code called *functions*. These are one of the most ubiquitous and powerful features across all programming languages. We have already seen a few of Python's built-in functions above--`range()`, `len()`, `enumerate()`, etc. In this section we will see how to define new functions for our own use.\n",
    "\n",
    "<p>In Python, we define new functions by using the following syntax:\n",
    "</div>"
   ]
  },
  {
   "cell_type": "code",
   "execution_count": 27,
   "metadata": {
    "scrolled": true
   },
   "outputs": [
    {
     "name": "stdout",
     "output_type": "stream",
     "text": [
      "8\n"
     ]
    }
   ],
   "source": [
    "# Define a function called \"my_add_func\" that requires 2 arguments (inputs)\n",
    "# called \"x\" and \"y\"\n",
    "def my_add_func(x, y):   \n",
    "    # The indented code block defines the behavior of the function\n",
    "    z = x + y\n",
    "    return z\n",
    "\n",
    "# Run the function here, with x=3 and y=5\n",
    "print(my_add_func(3, 5))"
   ]
  },
  {
   "cell_type": "markdown",
   "metadata": {},
   "source": [
    "<div style=\"border-left: 3px solid #000; padding: 1px; padding-left: 10px; background: #F0FAFF; \">\n",
    "<p>The first line (1) defines a new function called `my_add_func`, and (2) specifies that the function requires two arguments (inputs) called `x` and `y`.\n",
    "\n",
    "<p>In the last line we actually execute the function that we have just defined. When the Python interpreter encounters this line, it immediately jumps to the first line of `my_add_func`, with the value 3 assigned to `x` and 5 assigned to `y`. The function returns the sum `x + y`, which is then passed to the `print()` function. \n",
    "\n",
    "<p>The indented code block in between defines what will actually happen whenever the function is run. All functions must either return an object--the output of the function--or raise an exception if an error occurred. Any type of object may be returned, including tuples for returning multiple values:\n",
    "</div>"
   ]
  },
  {
   "cell_type": "code",
   "execution_count": 28,
   "metadata": {},
   "outputs": [
    {
     "name": "stdout",
     "output_type": "stream",
     "text": [
      "(8, -2)\n"
     ]
    }
   ],
   "source": [
    "def my_new_coordinates(x, y):\n",
    "    return x+y, x-y\n",
    "\n",
    "print(my_new_coordinates(3,5))"
   ]
  },
  {
   "cell_type": "markdown",
   "metadata": {},
   "source": [
    "<div style=\"border-left: 3px solid #000; padding: 1px; padding-left: 10px; background: #F0FAFF; \">\n",
    "<p>Another nice feature of Python is that it allows documentation to be embedded within the code.\n",
    "\n",
    "<p>We document functions by adding a string just below the declaration.  This is called the \"docstring\" and generally contains information about the function.  Calling \"help\" on a function returns the docstring.\n",
    "\n",
    "<p>Note that the triple-quote `'''` below allows the string to span multiple lines.\n",
    "</div>"
   ]
  },
  {
   "cell_type": "code",
   "execution_count": 29,
   "metadata": {},
   "outputs": [
    {
     "name": "stdout",
     "output_type": "stream",
     "text": [
      "Help on function my_new_coordinates in module __main__:\n",
      "\n",
      "my_new_coordinates(x, y)\n",
      "    Returns a tuple consisting of the sum (x+y) and difference (x-y) of the arguments (x,y).\n",
      "    \n",
      "    This function is intended primarily for nefarious purposes.\n",
      "\n"
     ]
    }
   ],
   "source": [
    "def my_new_coordinates(x, y):\n",
    "    '''Returns a tuple consisting of the sum (x+y) and difference (x-y) of the arguments (x,y).\n",
    "    \n",
    "    This function is intended primarily for nefarious purposes.\n",
    "    '''\n",
    "    return x+y, x-y\n",
    "\n",
    "help(my_new_coordinates)"
   ]
  },
  {
   "cell_type": "markdown",
   "metadata": {},
   "source": [
    "<div style=\"border-left: 3px solid #000; padding: 1px; padding-left: 10px; background: #F0FAFF; \">\n",
    "A function's arguments can be given a default value by using `argname=value` in the declared list of arguments.  These are called \"keyword arguments\", and they must appear *after* all other arguments.  When we call the function, argument values can be specified many different ways, as we will see below:\n",
    "</div>"
   ]
  },
  {
   "cell_type": "code",
   "execution_count": 30,
   "metadata": {},
   "outputs": [
    {
     "name": "stdout",
     "output_type": "stream",
     "text": [
      "6\n",
      "8\n",
      "13\n",
      "12\n"
     ]
    }
   ],
   "source": [
    "def add_to_x(x, y=1):\n",
    "    \"\"\"Return the sum of x and y.\n",
    "    If y is not specified, then its default value is 1.\n",
    "    \"\"\"\n",
    "    return x+y\n",
    "\n",
    "# Many different ways we can call add_to_x():\n",
    "print(add_to_x(5))\n",
    "print(add_to_x(5, 3))\n",
    "print(add_to_x(6, y=7))\n",
    "print(add_to_x(y=8, x=4))"
   ]
  },
  {
   "cell_type": "markdown",
   "metadata": {},
   "source": [
    "<div style=\"border-left: 3px solid #000; padding: 1px; padding-left: 10px; background: #F0FAFF; \">\n",
    "You can also \"unpack\" the values inside lists and tuples to fill multiple arguments:\n",
    "</div>"
   ]
  },
  {
   "cell_type": "code",
   "execution_count": 31,
   "metadata": {},
   "outputs": [
    {
     "name": "stdout",
     "output_type": "stream",
     "text": [
      "8\n"
     ]
    }
   ],
   "source": [
    "args = (3,5)\n",
    "\n",
    "print(add_to_x(*args))   # equivalent to add_to_x(args[0],args[1])"
   ]
  },
  {
   "cell_type": "markdown",
   "metadata": {},
   "source": [
    "<div style=\"border-left: 3px solid #000; padding: 1px; padding-left: 10px; background: #F0FAFF; \">\n",
    "Alternatively, you can unpack a dictionary that contains the names and values to assign for multiple keyword arguments:\n",
    "</div>"
   ]
  },
  {
   "cell_type": "code",
   "execution_count": 32,
   "metadata": {},
   "outputs": [
    {
     "name": "stdout",
     "output_type": "stream",
     "text": [
      "8\n"
     ]
    }
   ],
   "source": [
    "arg_dict = {'x':3, 'y':5}\n",
    "\n",
    "print(add_to_x(**arg_dict))"
   ]
  },
  {
   "cell_type": "markdown",
   "metadata": {},
   "source": [
    "<div style=\"border-left: 3px solid #000; padding: 1px; padding-left: 10px; background: #F0FAFF; \">\n",
    "<h2>Function arguments are passed by reference</h2>\n",
    "<p>Let's revisit a point we made earlier about variable names.\n",
    "\n",
    "<p>A variable in Python is a *reference* to an object. If you have multiple variables that all reference the same object, then any modifications made to the object will appear to affect all of those variables.\n",
    "\n",
    "For example:\n",
    "</div>"
   ]
  },
  {
   "cell_type": "code",
   "execution_count": 33,
   "metadata": {},
   "outputs": [
    {
     "name": "stdout",
     "output_type": "stream",
     "text": [
      "[1, 2, 3]\n",
      "[3, 2, 1]\n",
      "[3, 2, 1]\n"
     ]
    }
   ],
   "source": [
    "# Here's a simple function:\n",
    "def print_backward(list_to_print):\n",
    "    \"\"\"Print the contents of a list in reverse order.\"\"\"\n",
    "    list_to_print.reverse()\n",
    "    print(list_to_print)\n",
    "\n",
    "# Define a list of numbers\n",
    "my_list = [1,2,3]\n",
    "print(my_list)\n",
    "\n",
    "# Use our function to print it backward\n",
    "print_backward(my_list)\n",
    "\n",
    "# Now let's look at the original list again\n",
    "print(my_list)"
   ]
  },
  {
   "cell_type": "markdown",
   "metadata": {},
   "source": [
    "<div style=\"border-left: 3px solid #000; padding: 1px; padding-left: 10px; background: #F0FAFF; \">\n",
    "<p>What happened in the code above? We printed `my_list` twice, but got a different result the second time.\n",
    "\n",
    "<p>This is because we have two variables--`my_list` and `list_to_print`--that both reference the *same* list. When we reversed `list_to_print` from inside `print_backward()`, it also affected `my_list`.\n",
    "\n",
    "<p>If we wanted to avoid this side-effect, we would need to somehow avoid modifying the original list. If the side-effect is *intended*, however, then it should be described in the docstring:\n",
    "\n",
    "</div>"
   ]
  },
  {
   "cell_type": "code",
   "execution_count": 34,
   "metadata": {},
   "outputs": [],
   "source": [
    "# Solution 1: copy the list before reversing\n",
    "def print_backward(list_to_print):\n",
    "    \"\"\"Print the contents of a list in reverse order.\"\"\"\n",
    "    list_copy = list_to_print[:]  # the [:] notation creates a copy of the list\n",
    "    list_copy.reverse()\n",
    "    print(list_copy)\n",
    "\n",
    "# Solution 2: fix the docstring\n",
    "def print_backward(list_to_print):\n",
    "    \"\"\"Reverse a list and print its contents.\"\"\"\n",
    "    list_to_print.reverse()\n",
    "    print(list_to_print)"
   ]
  },
  {
   "cell_type": "markdown",
   "metadata": {},
   "source": [
    "<div style=\"border-left: 3px solid #000; padding: 1px; padding-left: 10px; background: #F0FAFF; \">\n",
    "<h2>Variable Scope</h2>\n",
    "\n",
    "<p>When working with large programs, we might create so many variables that we lose track of which names have been used and which have not. To mitigate this problem, most programming languages use a concept called \"scope\" to confine most variable names to a smaller portion of the program. \n",
    "\n",
    "<p>In Python, the scope for any particular variable depends on the location where it is first defined. Most of the variables we have defined in this notebook so far are \"global\" variables, which means that we should be able to access them from anywhere else in the notebook. However, variables that are assigned inside a function (including the function's arguments) have a more restricted scope--these can only be accessed from within the function. Note that unlike with functions, this does not apply to the other control flow structures we have seen; for-loops and if-blocks do not have a local scope.\n",
    "\n",
    "<p>Let's see an example of local scoping in a function:\n",
    "</div>"
   ]
  },
  {
   "cell_type": "code",
   "execution_count": 35,
   "metadata": {},
   "outputs": [
    {
     "name": "stdout",
     "output_type": "stream",
     "text": [
      "hi\n"
     ]
    },
    {
     "ename": "NameError",
     "evalue": "name 'message' is not defined",
     "output_type": "error",
     "traceback": [
      "\u001b[0;31m---------------------------------------------------------------------------\u001b[0m",
      "\u001b[0;31mNameError\u001b[0m                                 Traceback (most recent call last)",
      "\u001b[0;32m<ipython-input-35-dd0d4820b1a0>\u001b[0m in \u001b[0;36m<module>\u001b[0;34m()\u001b[0m\n\u001b[1;32m      7\u001b[0m \u001b[0;31m# This generates a NameError because the variable `message` does not exist in this scope;\u001b[0m\u001b[0;34m\u001b[0m\u001b[0;34m\u001b[0m\u001b[0m\n\u001b[1;32m      8\u001b[0m \u001b[0;31m# it can only be accessed from inside the function.\u001b[0m\u001b[0;34m\u001b[0m\u001b[0;34m\u001b[0m\u001b[0m\n\u001b[0;32m----> 9\u001b[0;31m \u001b[0mprint\u001b[0m\u001b[0;34m(\u001b[0m\u001b[0mmessage\u001b[0m\u001b[0;34m)\u001b[0m\u001b[0;34m\u001b[0m\u001b[0m\n\u001b[0m",
      "\u001b[0;31mNameError\u001b[0m: name 'message' is not defined"
     ]
    }
   ],
   "source": [
    "def print_hi():\n",
    "    message = \"hi\"\n",
    "    print(message)\n",
    "\n",
    "print_hi()\n",
    "\n",
    "# This generates a NameError because the variable `message` does not exist in this scope;\n",
    "# it can only be accessed from inside the function.\n",
    "print(message)"
   ]
  },
  {
   "cell_type": "markdown",
   "metadata": {},
   "source": [
    "<div style=\"border-left: 3px solid #000; padding: 1px; padding-left: 10px; background: #F0FAFF; \">\n",
    "<p>The above example generates a `NameError` because the variable `message` only exists within the scope of the `print_hi()` function. By the time we try to print it again, `message` is no longer available. \n",
    "\n",
    "<p>The reverse of this example is when we try to access a global variable from within a function:\n",
    "</div>"
   ]
  },
  {
   "cell_type": "code",
   "execution_count": 36,
   "metadata": {},
   "outputs": [
    {
     "name": "stdout",
     "output_type": "stream",
     "text": [
      "hi\n",
      "goodbye\n"
     ]
    }
   ],
   "source": [
    "message = \"hi\"\n",
    "\n",
    "def print_hi():\n",
    "    print(message)\n",
    "\n",
    "print_hi()\n",
    "\n",
    "message = \"goodbye\"\n",
    "\n",
    "print_hi()"
   ]
  },
  {
   "cell_type": "markdown",
   "metadata": {},
   "source": [
    "<div style=\"border-left: 3px solid #000; padding: 1px; padding-left: 10px; background: #F0FAFF; \">\n",
    "In this case, we *are* able to access the variable `message` from within the function, because the variable is defined in the global scope. However, this practice is generally discouraged because it can make your code more difficult to maintain and debug.\n",
    "</div>"
   ]
  },
  {
   "cell_type": "markdown",
   "metadata": {},
   "source": [
    "# Exercises 2\n",
    "<br>\n",
    "\n",
    "<div style=\"background: #DFF0D8; border-radius: 3px; padding: 10px;\">\n",
    "<p>**Exercise 2.8:** Write a function to 'flatten' a nested list.  Can you do this with a list comprehension?  (Caution:  The answer for a list comprehension is very simple but can be quite tricky to work out.)\n",
    "</div>\n",
    "\n",
    "```\n",
    "    [['a','b'],['c','d']] -> ['a','b','c','d']\n",
    "```\n",
    "\n"
   ]
  },
  {
   "cell_type": "code",
   "execution_count": 37,
   "metadata": {},
   "outputs": [
    {
     "name": "stdout",
     "output_type": "stream",
     "text": [
      "['a', 'b', 'c', 'd']\n",
      "['a', 'b', 'c', 'd']\n"
     ]
    }
   ],
   "source": [
    "X = [['a','b'],['c','d']]\n",
    "\n",
    "flat_list = []\n",
    "for sub_list in X:\n",
    "    for item in sub_list:\n",
    "        flat_list.append(item)\n",
    "print(flat_list)\n",
    "\n",
    "# list comprehension version\n",
    "print([item for sublist in X for item in sublist])"
   ]
  },
  {
   "cell_type": "markdown",
   "metadata": {},
   "source": [
    "<div style=\"background: #DFF0D8; border-radius: 3px; padding: 10px;\">\n",
    "<p>**Exercise 2.9:** Consider the function in the following code block.  Does this function work as expected?  What happens to the list passed in as `my_list` when you run it?  Experiment with a list of numbers.\n",
    "</div>\n",
    "\n",
    "```python\n",
    "def square_ith(i,my_list):\n",
    "    '''Return the square of the ith element of a list'''\n",
    "    x = my_list.pop(i)\n",
    "    return x*x\n",
    "\n",
    "X = [1,2,3,4,5]\n",
    "print square_ith(3,X)  # Should output 16\n",
    "```"
   ]
  },
  {
   "cell_type": "code",
   "execution_count": 38,
   "metadata": {},
   "outputs": [
    {
     "name": "stdout",
     "output_type": "stream",
     "text": [
      "16\n",
      "[1, 2, 3, 5]\n"
     ]
    }
   ],
   "source": [
    "def square_ith(i,my_list):\n",
    "    '''Return the square of the ith element of a list'''\n",
    "    x = my_list.pop(i)\n",
    "    return x*x\n",
    "\n",
    "X = [1,2,3,4,5]\n",
    "print(square_ith(3,X))  # Should output 16\n",
    "print(X) # uh oh! where did 4 go?"
   ]
  },
  {
   "cell_type": "markdown",
   "metadata": {},
   "source": [
    "<div style=\"background: #DFF0D8; border-radius: 3px; padding: 10px;\">\n",
    "<p>**Exercise 2.10:** Write a function to create a string consisting of a single character repeated <code>100</code> times.\n",
    "</div>\n",
    "      "
   ]
  },
  {
   "cell_type": "code",
   "execution_count": 39,
   "metadata": {},
   "outputs": [],
   "source": [
    "def repeat_string(char):\n",
    "    return [c] * 100"
   ]
  },
  {
   "cell_type": "markdown",
   "metadata": {},
   "source": [
    "<div style=\"background: #DFF0D8; border-radius: 3px; padding: 10px;\">\n",
    "<p>**Exercise 2.11:**  Write a function to transpose a dictionary (swap keys and values).\n",
    "</div>"
   ]
  },
  {
   "cell_type": "code",
   "execution_count": 40,
   "metadata": {},
   "outputs": [],
   "source": [
    "def transpose_dict(obj):\n",
    "    return { value:key for key,value in obj.items() }"
   ]
  },
  {
   "cell_type": "markdown",
   "metadata": {},
   "source": [
    "<div style=\"background: #DFF0D8; border-radius: 3px; padding: 10px;\">\n",
    "<p>**Exercise 2.12:**  Suppose you are given a list of dictionaries, each with the same keys. Write a function that converts this to a dictionary of lists.  \n",
    "</div>\n",
    "\n",
    "```\n",
    "    [{'a':0, 'b':1},{'a':4, 'b':7}] ->  {'a':[0, 4], 'b':[1, 7]}\n",
    "```"
   ]
  },
  {
   "cell_type": "code",
   "execution_count": 41,
   "metadata": {},
   "outputs": [
    {
     "name": "stdout",
     "output_type": "stream",
     "text": [
      "{'a': [0, 4], 'b': [1, 7]}\n",
      "{'a': [0, 4], 'b': [1, 7]}\n"
     ]
    }
   ],
   "source": [
    "list_of_dicts = [{'a':0, 'b':1}, {'a':4, 'b':7}]\n",
    "\n",
    "def dict_of_lists(list_of_dicts):\n",
    "    obj = {}\n",
    "    \n",
    "    for d in list_of_dicts:\n",
    "        for k,v in d.items():\n",
    "            if k not in obj:\n",
    "                obj[k] = [v]\n",
    "            else:\n",
    "                obj[k].append(v)\n",
    "    return obj\n",
    "\n",
    "print(dict_of_lists(list_of_dicts))\n",
    "\n",
    "# using defaultdict\n",
    "from collections import defaultdict\n",
    "def dict_of_lists_defaultdict(list_of_dicts):\n",
    "    # initial default value to the empty list\n",
    "    obj = defaultdict(list)\n",
    "    \n",
    "    for d in list_of_dicts:\n",
    "        for k,v in d.items():\n",
    "            obj[k].append(v)\n",
    "            \n",
    "    return dict(obj)\n",
    "\n",
    "print(dict_of_lists_defaultdict(list_of_dicts))    "
   ]
  },
  {
   "cell_type": "markdown",
   "metadata": {},
   "source": [
    "<div style=\"background: #DFF0D8; border-radius: 3px; padding: 10px;\">\n",
    "<p>**Exercise 2.13:**  Write a function to sort the words in a string by the number of characters in each word.  (Hint:  `list`s have a method called `sort` that takes an optional argument called `key`.  `key` allows you to specify how elements are compared for the sorting process.  Try passing the function `len` as a `key` argument to `sort`.)\n",
    "</div>"
   ]
  },
  {
   "cell_type": "code",
   "execution_count": 42,
   "metadata": {},
   "outputs": [
    {
     "name": "stdout",
     "output_type": "stream",
     "text": [
      "['1', '22', '333', '4444']\n"
     ]
    }
   ],
   "source": [
    "strings = [ \"1\", \"4444\", \"333\", \"22\" ]\n",
    "print(sorted(strings, key=len))"
   ]
  },
  {
   "cell_type": "markdown",
   "metadata": {},
   "source": [
    "<div style=\"background: #DFF0D8; border-radius: 3px; padding: 10px;\">\n",
    "<p>**Exercise 2.14:**  Write a function to determine whether an integer is prime.  (Hint:  a number X is prime if it has no divisors other than 1 or itself.  This means that there will be no integers smaller than X that divide it evenly, i.e. there will be no number y &lt; X such that X%y==0.)\n",
    "</div>\n",
    "\n",
    "```\n",
    "    is_prime(9) -> False\n",
    "    is_prime(11) -> True\n",
    "```"
   ]
  },
  {
   "cell_type": "code",
   "execution_count": 43,
   "metadata": {},
   "outputs": [],
   "source": [
    "def is_prime(n):\n",
    "    for i in range(2,n):\n",
    "        if n % i == 0:\n",
    "            return False\n",
    "    return True"
   ]
  },
  {
   "cell_type": "markdown",
   "metadata": {},
   "source": [
    "<div style=\"background: #DFF0D8; border-radius: 3px; padding: 10px;\">\n",
    "<p>**Exercise 2.15:** Write a function that returns a list of all prime numbers less than an input value X.\n",
    "</div>"
   ]
  },
  {
   "cell_type": "code",
   "execution_count": 44,
   "metadata": {},
   "outputs": [
    {
     "name": "stdout",
     "output_type": "stream",
     "text": [
      "[0, 1, 2, 3, 5, 7]\n"
     ]
    }
   ],
   "source": [
    "def all_primes(n):\n",
    "    return [ i for i in range(n) if is_prime(i) ]\n",
    "print(all_primes(10))"
   ]
  },
  {
   "cell_type": "markdown",
   "metadata": {},
   "source": [
    "<div style=\"background: #DFF0D8; border-radius: 3px; padding: 10px;\">\n",
    "<p>**Exercise 2.16:**  Write a function to generate the Fibonnaci sequence.  The first two elements of this sequence are the number 1.  The next elements are generated by computing the sum of the previous two elements.\n",
    "</div>\n",
    "\n",
    "```\n",
    "    1,1,2,3,5,8,...\n",
    "```"
   ]
  },
  {
   "cell_type": "code",
   "execution_count": 45,
   "metadata": {},
   "outputs": [
    {
     "name": "stdout",
     "output_type": "stream",
     "text": [
      "[1, 1, 2, 3, 5, 8, 13, 21, 34, 55]\n"
     ]
    }
   ],
   "source": [
    "def fib(n, seq=[]):\n",
    "    if n == 0:\n",
    "        return seq\n",
    "    \n",
    "    nseq = len(seq)\n",
    "    if nseq < 2:\n",
    "        return fib(n-1, [1] * (nseq+1))\n",
    "    \n",
    "    return fib(n-1, seq + [seq[-2] + seq[-1]])\n",
    "    \n",
    "    \n",
    "print(fib(10))"
   ]
  },
  {
   "cell_type": "markdown",
   "metadata": {},
   "source": [
    "<div style=\"background: #DFF0D8; border-radius: 3px; padding: 10px;\">\n",
    "<p>**Exercise 2.17:**  The string method `find` will return the index of the beginning of the first substring that matches a pattern,e.g.\n",
    "</div>\n",
    "\n",
    "```python\n",
    "    'hello, world'.find('lo') -> 3\n",
    "```\n",
    "\n",
    "<div style=\"background: #DFF0D8; border-radius: 3px; padding: 10px;\">\n",
    "Write a function that will return a list of the initial positions of  *all* matching substrings.\n",
    "</div>\n",
    "\n",
    "```python\n",
    "    find_all_substrings('hello, hello, world', 'lo') -> [3, 10] \n",
    "```"
   ]
  },
  {
   "cell_type": "code",
   "execution_count": 46,
   "metadata": {},
   "outputs": [
    {
     "data": {
      "text/plain": [
       "[3, 10]"
      ]
     },
     "execution_count": 46,
     "metadata": {},
     "output_type": "execute_result"
    }
   ],
   "source": [
    "def find_all_substrings(s, subs):\n",
    "    out_indices = []\n",
    "    start_index = 0        \n",
    "    while start_index >= 0:        \n",
    "        start_index = s.find(subs)\n",
    "                          \n",
    "        out_indices.append(start_index)\n",
    "        s = s[start_index+1:]      \n",
    "        \n",
    "    for i in range(1,len(out_indices)):\n",
    "        out_indices[i] += out_indices[i-1] + 1\n",
    "        \n",
    "    # the array has a duplicate from the -1 at the end\n",
    "    return out_indices[:-1]\n",
    "\n",
    "find_all_substrings('hello, hello, world', 'lo')"
   ]
  },
  {
   "cell_type": "markdown",
   "metadata": {},
   "source": [
    "    \n",
    "<div style=\"background: #DFF0D8; border-radius: 3px; padding: 10px;\">\n",
    "<p>**Exercise 2.18:**  Write a function that will compute the sum of all numbers less than X that are divisible by either y or z (say 3 or 5). \n",
    "</div>"
   ]
  },
  {
   "cell_type": "code",
   "execution_count": 47,
   "metadata": {},
   "outputs": [
    {
     "name": "stdout",
     "output_type": "stream",
     "text": [
      "23\n"
     ]
    }
   ],
   "source": [
    "def complicated_sum(x, y, z):\n",
    "    return sum([i for i in range(x)\n",
    "               if (i % y == 0) or (i % z == 0)])\n",
    "print(complicated_sum(10,3,5))"
   ]
  },
  {
   "cell_type": "markdown",
   "metadata": {},
   "source": [
    "<div style=\"background: #DFF0D8; border-radius: 3px; padding: 10px;\">\n",
    "<p>**Exercise 2.19:**  Write a function that tests whether a string is a palindrome.\n",
    "</div>\n",
    "\n",
    "```\n",
    "      \"0908090\" ->  True\n",
    "      \"212555655533\" -> False\n",
    "      \"Doc, note: I dissent. A fast never prevents a fatness. I diet on cod\" -> True\n",
    "```"
   ]
  },
  {
   "cell_type": "code",
   "execution_count": 48,
   "metadata": {},
   "outputs": [
    {
     "name": "stdout",
     "output_type": "stream",
     "text": [
      "True\n",
      "False\n",
      "True\n"
     ]
    }
   ],
   "source": [
    "def is_palindrome(s, ignore_chars=' ,.:'):\n",
    "    forward = [c.lower() for c in s if c not in ignore_chars]\n",
    "    reverse = forward[::-1]\n",
    "    return forward == reverse\n",
    "\n",
    "print(is_palindrome(\"0908090\"))\n",
    "print(is_palindrome(\"212555655533\"))\n",
    "print(is_palindrome(\"Doc, note: I dissent. A fast never prevents a fatness. I diet on cod\"))"
   ]
  }
 ],
 "metadata": {
  "kernelspec": {
   "display_name": "Python 3",
   "language": "python",
   "name": "python3"
  },
  "language_info": {
   "codemirror_mode": {
    "name": "ipython",
    "version": 3
   },
   "file_extension": ".py",
   "mimetype": "text/x-python",
   "name": "python",
   "nbconvert_exporter": "python",
   "pygments_lexer": "ipython3",
   "version": "3.6.5"
  }
 },
 "nbformat": 4,
 "nbformat_minor": 1
}
