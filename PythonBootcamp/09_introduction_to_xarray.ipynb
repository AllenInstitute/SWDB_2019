{
 "cells": [
  {
   "cell_type": "markdown",
   "metadata": {},
   "source": [
    "<img src=\"support_files/cropped-SummerWorkshop_Header.png\">  \n",
    "\n",
    "<h1 align=\"center\">Python Bootcamp</h1> \n",
    "<h3 align=\"center\">August 24-25, 2019, Seattle, WA</h3> "
   ]
  },
  {
   "cell_type": "markdown",
   "metadata": {},
   "source": [
    "<div style=\"border-left: 3px solid #000; padding: 1px; padding-left: 10px; background: #F0FAFF; \">\n",
    "<center><h1>Introduction to xarray</h1></center>\n",
    "\n",
    "<p>\n",
    "    <a href=\"http://xarray.pydata.org/en/stable/\">xarray</a> is a library with labelled, n-dimensional data structures. You can think of these data structures like:\n",
    "<ul>\n",
    "<li>numpy arrays with labelled axes.\n",
    "<li>pandas dataframes that can be more than 2-dimensional\n",
    "</ul>\n",
    "Using xarray lets you write code that easier to read and harder to misuse. We'll cover a bit of its functionality here, but the xarray project's <a href=\"http://xarray.pydata.org/en/stable/examples/weather-data.html\">the examples</a> and <a href=\"http://xarray.pydata.org/en/stable/index.html\">documentation</a> provide the complete story.\n",
    "\n",
    "</p>\n",
    "</div>"
   ]
  },
  {
   "cell_type": "code",
   "execution_count": 22,
   "metadata": {},
   "outputs": [],
   "source": [
    "import os\n",
    "import json\n",
    "\n",
    "import numpy as np\n",
    "import xarray as xr\n",
    "import matplotlib.pyplot as plt"
   ]
  },
  {
   "cell_type": "markdown",
   "metadata": {},
   "source": [
    "<div style=\"border-left: 3px solid #000; padding: 1px; padding-left: 10px; background: #F0FAFF; \">\n",
    "<center><h1>the data</h1></center>\n",
    "    \n",
    "<p>\n",
    "We're going to load up a small dataset of anterograde tract tracing results (from <a href=\"http://connectivity.brain-map.org/\">this project</a>). These are volumes of projection signal, all registered to a common reference space and downsampled to 500-micron isometric resolution.\n",
    "</p>\n",
    "</div>"
   ]
  },
  {
   "cell_type": "code",
   "execution_count": 23,
   "metadata": {},
   "outputs": [],
   "source": [
    "data_path = os.path.join(\"support_files\", \"projection_densities.npy\")\n",
    "experiments_path = os.path.join(\"support_files\", \"experiment_ids.json\")\n",
    "\n",
    "data = np.load(data_path)\n",
    "with open(experiments_path, \"r\") as experiments_file:\n",
    "    experiments = json.load(experiments_file)"
   ]
  },
  {
   "cell_type": "code",
   "execution_count": 24,
   "metadata": {},
   "outputs": [
    {
     "name": "stdout",
     "output_type": "stream",
     "text": [
      "[266583498, 161460864, 162018169, 299859225, 518222748, 126116142, 286319739, 267608343, 113766744, 547202505, 560799305, 265136608, 307135126, 298003295, 300237470, 120811946, 267703239, 177889243, 297951732, 485846989, 158257355, 287996596, 182459635, 272968624, 278511717]\n"
     ]
    }
   ],
   "source": [
    "# what experiments do we have?\n",
    "print(experiments)"
   ]
  },
  {
   "cell_type": "code",
   "execution_count": 25,
   "metadata": {},
   "outputs": [
    {
     "name": "stdout",
     "output_type": "stream",
     "text": [
      "25\n"
     ]
    }
   ],
   "source": [
    "# and how many?\n",
    "print(len(experiments))"
   ]
  },
  {
   "cell_type": "code",
   "execution_count": 26,
   "metadata": {},
   "outputs": [
    {
     "name": "stdout",
     "output_type": "stream",
     "text": [
      "data type: <class 'numpy.ndarray'>\n",
      "data shape: (25, 26, 16, 23)\n"
     ]
    }
   ],
   "source": [
    "# what are these data?\n",
    "print(f\"data type: {type(data)}\")\n",
    "print(f\"data shape: {data.shape}\")"
   ]
  },
  {
   "cell_type": "markdown",
   "metadata": {},
   "source": [
    "<div style=\"border-left: 3px solid #000; padding: 1px; padding-left: 10px; background: #F0FAFF; \">\n",
    "<center><h1>the problem</h1></center>\n",
    "    \n",
    "<p>\n",
    "It's pretty hard to tell what this code does:\n",
    "</p>\n",
    "\n",
    "</div>"
   ]
  },
  {
   "cell_type": "code",
   "execution_count": 39,
   "metadata": {},
   "outputs": [],
   "source": [
    "max_projection = data[13, :, :, :].max(axis=0)"
   ]
  },
  {
   "cell_type": "code",
   "execution_count": 40,
   "metadata": {},
   "outputs": [
    {
     "data": {
      "image/png": "[encoded data removed]",
      "text/plain": [
       "<Figure size 432x288 with 1 Axes>"
      ]
     },
     "metadata": {
      "needs_background": "light"
     },
     "output_type": "display_data"
    }
   ],
   "source": [
    "fig, ax = plt.subplots()\n",
    "ax.imshow(max_projection)\n",
    "plt.show()"
   ]
  },
  {
   "cell_type": "markdown",
   "metadata": {},
   "source": [
    "<div style=\"border-left: 3px solid #000; padding: 1px; padding-left: 10px; background: #F0FAFF; \">    \n",
    "<p>\n",
    "The answer goes like this:\n",
    "    \n",
    "Our data is a 4d array with the following dimensions:\n",
    "<ul>\n",
    "    <li>experiment</li>\n",
    "    <li>anterior-posterior</li>\n",
    "    <li>dorsal-ventral</li>\n",
    "    <li>left-right</li>\n",
    "</ul>\n",
    "    \n",
    "So our code selects the experiment at index 13 (experiment 298003295) and produces a max projection along the anterior-posterior dimension (you can sort of see cortex!).\n",
    "\n",
    "It is not easy see what this code does by reading it. Also, it is fragile! If some other piece of code changed the order of experiments or dimensions, our snippet would start doing something completely different.\n",
    "\n",
    "</p>\n",
    "</div>"
   ]
  },
  {
   "cell_type": "markdown",
   "metadata": {},
   "source": [
    "<div style=\"border-left: 3px solid #000; padding: 1px; padding-left: 10px; background: #F0FAFF; \">\n",
    "    <center><h1>the xarray <code>DataArray</code></h1></center>\n",
    "\n",
    "<p> The <code>xarray.DataArray</code> class represents a single n-dimensional array with labels. Its important attributes are:\n",
    "<ul>\n",
    "    <li><b>data</b> An underlying <code>numpy.array</code> that actually holds the data</li>\n",
    "    <li><b>dims</b> Names for each dimension, stored in a tuple</li>\n",
    "    <li><b>coords</b> A dictionary describing the position at each index in meaningful units</li>\n",
    "</ul>\n",
    "\n",
    "We can make a <code>DataArray</code> out of our numpy array by providing some additional information:\n",
    "\n",
    "</p>\n",
    "</div>"
   ]
  },
  {
   "cell_type": "code",
   "execution_count": 47,
   "metadata": {},
   "outputs": [],
   "source": [
    "resolution_step = 500\n",
    "\n",
    "data_array = xr.DataArray(\n",
    "    data=data,\n",
    "    dims=(\"experiment\", \"anterior_posterior\", \"dorsal_ventral\", \"left_right\"),\n",
    "    coords={\n",
    "        \"experiment\": experiments,\n",
    "        \"anterior_posterior\": np.arange(data.shape[1]) * resolution_step,\n",
    "        \"dorsal_ventral\": np.arange(data.shape[2]) * resolution_step,\n",
    "        \"left_right\": np.arange(data.shape[3]) * resolution_step,\n",
    "    }\n",
    ")"
   ]
  },
  {
   "cell_type": "code",
   "execution_count": 48,
   "metadata": {},
   "outputs": [
    {
     "data": {
      "text/plain": [
       "<xarray.DataArray (experiment: 25, anterior_posterior: 26, dorsal_ventral: 16, left_right: 23)>\n",
       "array([[[[ 1.427220e-27, ...,  6.053609e-43],\n",
       "         ...,\n",
       "         [-2.721686e-40, ..., -8.448615e-32]],\n",
       "\n",
       "        ...,\n",
       "\n",
       "        [[ 0.000000e+00, ..., -1.571545e-33],\n",
       "         ...,\n",
       "         [-2.802597e-45, ..., -7.006492e-45]]],\n",
       "\n",
       "\n",
       "       ...,\n",
       "\n",
       "\n",
       "       [[[ 9.809089e-45, ..., -9.528830e-44],\n",
       "         ...,\n",
       "         [ 0.000000e+00, ..., -2.942727e-44]],\n",
       "\n",
       "        ...,\n",
       "\n",
       "        [[-3.643376e-44, ...,  0.000000e+00],\n",
       "         ...,\n",
       "         [ 4.764415e-44, ..., -3.655287e-41]]]], dtype=float32)\n",
       "Coordinates:\n",
       "  * experiment          (experiment) int64 266583498 161460864 ... 278511717\n",
       "  * anterior_posterior  (anterior_posterior) int64 0 500 1000 ... 12000 12500\n",
       "  * dorsal_ventral      (dorsal_ventral) int64 0 500 1000 ... 6500 7000 7500\n",
       "  * left_right          (left_right) int64 0 500 1000 1500 ... 10000 10500 11000"
      ]
     },
     "execution_count": 48,
     "metadata": {},
     "output_type": "execute_result"
    }
   ],
   "source": [
    "# let's take a look\n",
    "data_array"
   ]
  },
  {
   "cell_type": "code",
   "execution_count": 55,
   "metadata": {},
   "outputs": [
    {
     "data": {
      "text/plain": [
       "<xarray.DataArray (dorsal_ventral: 16, left_right: 23)>\n",
       "array([[6.965700e-26, 2.098320e-15, 8.302471e-12, ..., 2.941277e-11,\n",
       "        3.612269e-15, 6.707731e-25],\n",
       "       [2.535230e-24, 3.667599e-07, 3.060545e-06, ..., 1.134120e-08,\n",
       "        1.045940e-10, 3.803884e-21],\n",
       "       [2.748662e-20, 1.077682e-08, 2.033244e-08, ..., 1.509524e-06,\n",
       "        6.279043e-10, 1.190489e-22],\n",
       "       ...,\n",
       "       [7.142423e-10, 8.628609e-07, 2.061254e-08, ..., 3.139119e-08,\n",
       "        2.626336e-06, 1.045532e-08],\n",
       "       [5.599495e-07, 1.224249e-06, 1.981034e-07, ..., 2.181099e-08,\n",
       "        1.171465e-07, 5.092454e-09],\n",
       "       [5.304657e-22, 1.217718e-04, 1.162100e-05, ..., 2.612993e-21,\n",
       "        3.157377e-25, 8.175592e-21]], dtype=float32)\n",
       "Coordinates:\n",
       "    experiment      int64 298003295\n",
       "  * dorsal_ventral  (dorsal_ventral) int64 0 500 1000 1500 ... 6500 7000 7500\n",
       "  * left_right      (left_right) int64 0 500 1000 1500 ... 10000 10500 11000"
      ]
     },
     "execution_count": 55,
     "metadata": {},
     "output_type": "execute_result"
    }
   ],
   "source": [
    "# and rewrite our max projection_snippet\n",
    "max_projection_xr = data_array.loc[{\"experiment\": 298003295}].max(dim=\"anterior_posterior\")\n",
    "\n",
    "# this produces:\n",
    "max_projection_xr"
   ]
  },
  {
   "cell_type": "code",
   "execution_count": 54,
   "metadata": {},
   "outputs": [
    {
     "data": {
      "image/png": "[encoded data removed]",
      "text/plain": [
       "<Figure size 432x288 with 1 Axes>"
      ]
     },
     "metadata": {
      "needs_background": "light"
     },
     "output_type": "display_data"
    }
   ],
   "source": [
    "fig, ax = plt.subplots()\n",
    "ax.imshow(max_projection_xr)\n",
    "plt.show()"
   ]
  },
  {
   "cell_type": "markdown",
   "metadata": {},
   "source": [
    "<div style=\"border-left: 3px solid #000; padding: 1px; padding-left: 10px; background: #F0FAFF; \">\n",
    "    <center><h1>selecting data</h1></center>\n",
    "\n",
    "Above we used <code>.loc[{\"experiment\": 298003295}]</code> to extract data for a single experiment. Commonly we want to do \n",
    "\n",
    "</p>\n",
    "</div>"
   ]
  },
  {
   "cell_type": "code",
   "execution_count": 56,
   "metadata": {},
   "outputs": [
    {
     "data": {
      "text/plain": [
       "<xarray.DataArray (experiment: 2, anterior_posterior: 26, dorsal_ventral: 16, left_right: 23)>\n",
       "array([[[[-1.102682e-41, ..., -8.407791e-45],\n",
       "         ...,\n",
       "         [ 1.440793e-27, ..., -2.858649e-43]],\n",
       "\n",
       "        ...,\n",
       "\n",
       "        [[-2.648566e-32, ..., -1.723267e-34],\n",
       "         ...,\n",
       "         [-1.250420e-29, ...,  1.446488e-30]]],\n",
       "\n",
       "\n",
       "       [[[-1.972011e-35, ...,  0.000000e+00],\n",
       "         ...,\n",
       "         [-0.000000e+00, ...,  1.696171e-37]],\n",
       "\n",
       "        ...,\n",
       "\n",
       "        [[-2.972785e-24, ..., -9.034757e-39],\n",
       "         ...,\n",
       "         [ 7.075450e-40, ...,  1.401298e-45]]]], dtype=float32)\n",
       "Coordinates:\n",
       "  * experiment          (experiment) int64 298003295 177889243\n",
       "  * anterior_posterior  (anterior_posterior) int64 0 500 1000 ... 12000 12500\n",
       "  * dorsal_ventral      (dorsal_ventral) int64 0 500 1000 ... 6500 7000 7500\n",
       "  * left_right          (left_right) int64 0 500 1000 1500 ... 10000 10500 11000"
      ]
     },
     "execution_count": 56,
     "metadata": {},
     "output_type": "execute_result"
    }
   ],
   "source": [
    "# we can select on multiple experiments\n",
    "data_array.loc[{\"experiment\": [298003295, 177889243]}]"
   ]
  },
  {
   "cell_type": "code",
   "execution_count": 57,
   "metadata": {},
   "outputs": [
    {
     "data": {
      "text/plain": [
       "<xarray.DataArray (experiment: 2, dorsal_ventral: 16, left_right: 23)>\n",
       "array([[[-5.753792e-30,  3.403639e-29, ..., -5.130423e-15,  6.360052e-32],\n",
       "        [-1.310686e-26,  2.155300e-11, ...,  4.960527e-18,  6.578841e-35],\n",
       "        ...,\n",
       "        [-4.174892e-17, -1.174847e-19, ...,  9.054034e-12, -5.910500e-29],\n",
       "        [-1.420594e-34, -4.412779e-37, ...,  1.490631e-28,  1.063776e-31]],\n",
       "\n",
       "       [[-8.772409e-41,  5.079570e-30, ..., -8.511342e-32,  6.465744e-35],\n",
       "        [ 1.184419e-38,  1.478139e-20, ..., -6.149782e-15, -1.412135e-31],\n",
       "        ...,\n",
       "        [-3.685415e-43, -6.495278e-27, ...,  4.186304e-12, -5.759880e-28],\n",
       "        [-0.000000e+00, -5.380986e-43, ...,  1.089879e-08,  2.010051e-25]]],\n",
       "      dtype=float32)\n",
       "Coordinates:\n",
       "  * experiment          (experiment) int64 298003295 177889243\n",
       "    anterior_posterior  int64 2000\n",
       "  * dorsal_ventral      (dorsal_ventral) int64 0 500 1000 ... 6500 7000 7500\n",
       "  * left_right          (left_right) int64 0 500 1000 1500 ... 10000 10500 11000"
      ]
     },
     "execution_count": 57,
     "metadata": {},
     "output_type": "execute_result"
    }
   ],
   "source": [
    "# or on multiple dimensions simultaneously\n",
    "data_array.loc[{\n",
    "    \"experiment\": [298003295, 177889243],\n",
    "    \"anterior_posterior\": 2000\n",
    "}]"
   ]
  },
  {
   "cell_type": "code",
   "execution_count": 59,
   "metadata": {},
   "outputs": [
    {
     "data": {
      "text/plain": [
       "<xarray.DataArray (experiment: 25, anterior_posterior: 26, dorsal_ventral: 5, left_right: 23)>\n",
       "array([[[[-2.905573e-33, ...,  9.429528e-39],\n",
       "         ...,\n",
       "         [-2.721686e-40, ..., -8.448615e-32]],\n",
       "\n",
       "        ...,\n",
       "\n",
       "        [[-1.500397e-34, ..., -0.000000e+00],\n",
       "         ...,\n",
       "         [-2.802597e-45, ..., -7.006492e-45]]],\n",
       "\n",
       "\n",
       "       ...,\n",
       "\n",
       "\n",
       "       [[[ 0.000000e+00, ...,  3.503667e-41],\n",
       "         ...,\n",
       "         [ 0.000000e+00, ..., -2.942727e-44]],\n",
       "\n",
       "        ...,\n",
       "\n",
       "        [[-1.506829e-36, ..., -7.717908e-31],\n",
       "         ...,\n",
       "         [ 4.764415e-44, ..., -3.655287e-41]]]], dtype=float32)\n",
       "Coordinates:\n",
       "  * experiment          (experiment) int64 266583498 161460864 ... 278511717\n",
       "  * anterior_posterior  (anterior_posterior) int64 0 500 1000 ... 12000 12500\n",
       "  * dorsal_ventral      (dorsal_ventral) int64 5500 6000 6500 7000 7500\n",
       "  * left_right          (left_right) int64 0 500 1000 1500 ... 10000 10500 11000"
      ]
     },
     "execution_count": 59,
     "metadata": {},
     "output_type": "execute_result"
    }
   ],
   "source": [
    "# We can also subselect data by conditions\n",
    "data_array.where(data_array[\"dorsal_ventral\"] > 5000, drop=True)"
   ]
  },
  {
   "cell_type": "code",
   "execution_count": null,
   "metadata": {},
   "outputs": [],
   "source": []
  }
 ],
 "metadata": {
  "kernelspec": {
   "display_name": "py37",
   "language": "python",
   "name": "py37"
  },
  "language_info": {
   "codemirror_mode": {
    "name": "ipython",
    "version": 3
   },
   "file_extension": ".py",
   "mimetype": "text/x-python",
   "name": "python",
   "nbconvert_exporter": "python",
   "pygments_lexer": "ipython3",
   "version": "3.7.3"
  }
 },
 "nbformat": 4,
 "nbformat_minor": 2
}
