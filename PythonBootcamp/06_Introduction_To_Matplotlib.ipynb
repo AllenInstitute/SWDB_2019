{
 "cells": [
  {
   "cell_type": "markdown",
   "metadata": {},
   "source": [
    "<img src=\"support_files/cropped-SummerWorkshop_Header.png\">  \n",
    "\n",
    "<h1 align=\"center\">Python Bootcamp</h1> \n",
    "<h3 align=\"center\">August 24-25, 2019</h3> "
   ]
  },
  {
   "cell_type": "markdown",
   "metadata": {
    "collapsed": true
   },
   "source": [
    "<div style=\"border-left: 3px solid #000; padding: 1px; padding-left: 10px; background: #F0FAFF; \">\n",
    "<center><h1>Introduction to Matplotlib</h1></center>\n",
    "\n",
    "<p>\n",
    "    <b>matplotlib</b> is a plotting library for Python.\n",
    "<p>\n",
    "<h3>Pros:</h3>\n",
    "<ul> \n",
    "<li>Huge amount of functionality/options.\n",
    "<li>Works with numpy arrays and python lists.\n",
    "<li>Comes with many prepackaged Python distros (anaconda, WinPython, etc.).\n",
    "<li>Easily saves plots to image (.png, .bmp, etc.) and vector (.svg, .pdf, etc.) formats.\n",
    "<li>Has an excellent set of examples (with code) at the <a href=\"http://matplotlib.org/gallery\">matplotlib gallery</a>\n",
    "<li>Shares many syntactic conventions with Matlab.\n",
    "</ul>\n",
    "\n",
    "<p>\n",
    "<h3>Cons:</h3>\n",
    "<ul>\n",
    "<li>Slow for rapidly updating plots.\n",
    "<li>3D plotting support is not great.\n",
    "<li>Documentation is not always useful.\n",
    "<li>Essentially has two interfaces.  One is intended to be close to Matlab, the other is object oriented.  You will find examples that assume one or the other, but rarely the one you are after.\n",
    "<li>Shares many syntactic conventions with Matlab.\n",
    "</ul>\n",
    "</div>"
   ]
  },
  {
   "cell_type": "code",
   "execution_count": null,
   "metadata": {},
   "outputs": [],
   "source": [
    "# Import numpy and pyplot \n",
    "import matplotlib.pyplot as plt\n",
    "import numpy as np"
   ]
  },
  {
   "cell_type": "markdown",
   "metadata": {},
   "source": [
    "<div style=\"border-left: 3px solid #000; padding: 1px; padding-left: 10px; background: #F0FAFF; \">\n",
    "<left><h1>Enable Inline Plotting</h1></left>\n",
    "<p>One of the great features of the Jupyter Notebook is the ability to have your code, outputs, and graphics in a single document. But plots do not render in the notebook by default. To turn on inline plot rendering, we have to use a so-called <b>Magic Command</b>, which is a special Jupyter command preceded by a <code>%</code>.\n",
    "\n",
    "<p>Two commonly used Matplotlib magic commands are:\n",
    "<ul>\n",
    "    <li><code>%matplotlib notebook</code> - creates interactive plots. This is what we're going to use today. Interactive features depend on the kernel running in the background, which means they disappear without the kernel. This feature is somewhat new, so still has occasional bugs.\n",
    "    <li><code>%matplotlib inline</code> - creates static (non-interactive) plots. This still remains the most common way to generate plots.\n",
    "</ul>\n",
    "<p>It's important to note that the above commands are specific to Jupyter. In other environments, you'll need to add a line of code to explicitly display your plots, or save them to disk.  This will be discussed further when we cover other environments. \n",
    "\n",
    "</div>"
   ]
  },
  {
   "cell_type": "code",
   "execution_count": null,
   "metadata": {},
   "outputs": [],
   "source": [
    "%matplotlib notebook\n",
    "# %matplotlib inline\n",
    "# Feel free to replace the command above and see how the behavior of the notebook changes"
   ]
  },
  {
   "cell_type": "markdown",
   "metadata": {},
   "source": [
    "<div style=\"border-left: 3px solid #000; padding: 1px; padding-left: 10px; background: #F0FAFF; \">\n",
    "<h2>Example 1. Simple plot</h2>\n",
    "\n",
    "<p> start by making some sample data\n",
    "</div>\n",
    "\n"
   ]
  },
  {
   "cell_type": "code",
   "execution_count": null,
   "metadata": {},
   "outputs": [],
   "source": [
    "x = np.arange(0, 10, 0.01) #make evenly spaced points between 0 and 10 at intervals of 0.01\n",
    "y = np.sin(2*np.pi*x)*np.exp(-0.5*x) #some function of x\n",
    "print(\"first five elements of x: {}\".format(x[:5]))\n",
    "print(\"first five elements of y: {}\".format(y[:5]))"
   ]
  },
  {
   "cell_type": "markdown",
   "metadata": {},
   "source": [
    "<div style=\"border-left: 3px solid #000; padding: 1px; padding-left: 10px; background: #F0FAFF; \">\n",
    "\n",
    "<p> Create a figure and axis, then plot our data on the axis\n",
    "</div>"
   ]
  },
  {
   "cell_type": "code",
   "execution_count": null,
   "metadata": {},
   "outputs": [],
   "source": [
    "fig,ax = plt.subplots() #subplots will make a single axis inside a new figure by default\n",
    "ax.plot(x, y, color='red', linewidth=2) \n",
    "\n",
    "# The figure can be saved by uncommenting the line below\n",
    "# All major image formats (as well as PDFs) are accepted formats.\n",
    "# fig.savefig('/testfig.png')"
   ]
  },
  {
   "cell_type": "markdown",
   "metadata": {},
   "source": [
    "<div style=\"border-left: 3px solid #000; padding: 1px; padding-left: 10px; background: #F0FAFF; \">\n",
    "<h2>Example 2. Subplots</h2> \n",
    "\n",
    "<p>A given figure can have more than one axis. The <code>subplot</code> command, which we used above, generates a single axis by default. But we can specify the number of axes that we want.\n",
    "\n",
    "</div>"
   ]
  },
  {
   "cell_type": "code",
   "execution_count": null,
   "metadata": {},
   "outputs": [],
   "source": [
    "#make a time array\n",
    "t = np.arange(0, 10, 0.1)\n",
    "\n",
    "# Create figure and axes objects. Make them share the x-axis\n",
    "fig, axes = plt.subplots(nrows=2, ncols=1, sharex=True)\n",
    "#note that nrows and columns are the first two default arguments, so can be entered without keywords as follows:\n",
    "# fig,axes = plt.subplots(2,1,sharex=True)\n",
    "\n",
    "# Here, `axes` is a numpy array with two axes subplot objects\n",
    "print('axes type: {}'.format(type(axes)))\n",
    "print('axes shape: {}'.format(np.shape(axes)))\n",
    "print('axes object:\\n{}'.format(axes))\n",
    "\n",
    "# Plot on each subplot by indexing into 'ax'\n",
    "axes[0].plot(t, np.sin(t), label='sin')\n",
    "axes[1].plot(t, np.cos(t), label='cos', color='red')\n",
    "\n",
    "# We can loop over the `axes` array to set properties in every subplot (no matter how many)\n",
    "for ax in axes:\n",
    "    ax.legend(loc='best')\n",
    "    ax.set_ylabel('Amplitude',fontsize=14)\n",
    "    \n",
    "# We can also access individual axes to set the properties\n",
    "axes[1].set_xlabel('Time',fontsize=14,weight='bold',style='italic')\n",
    "\n",
    "# We can also edit attributes of the entire figure, such as the title\n",
    "fig.suptitle('This is the figure title',fontsize=18);"
   ]
  },
  {
   "cell_type": "markdown",
   "metadata": {},
   "source": [
    "<div style=\"border-left: 3px solid #000; padding: 1px; padding-left: 10px; background: #F0FAFF; \">\n",
    "\n",
    "Note that the x-axes are tied together in interactive mode due to the <code>sharex = True</code> flag. Try setting that to False and regenerating\n",
    "\n",
    "</div>"
   ]
  },
  {
   "cell_type": "markdown",
   "metadata": {},
   "source": [
    "<div style=\"background: #DFF0D8; border-radius: 3px; padding: 10px;\">\n",
    "    <p><b>Exercise 5.1:</b>\n",
    "\n",
    "<ol>\n",
    "<li>Remake the above plot with 4 subplots (2 rows, 2 columns; hint: you'll now have to index into axes like <code>axes[0, 0]</code>).\n",
    "    <li>Create a loop over all the axes objects (hint: use <code>axes.flatten()</code>) so that the <code>legend</code> and <code>set_ylabel</code> functions are called for all subplots.\n",
    "<li>Use the loop from #2 to add a title to only the top row of plots using the <code>set_title</code> function.\n",
    "    <li>Look at the documentation for the <code>fig.tight_layout()</code> command to optimize figure layout \n",
    "  <br>* Note that this doesn't play nice with the figure suptitle. try using the <code>plt.subplots_adjust(top=0.85)</code> command to control the whitespace at the top of the plot.\n",
    "</ol>\n",
    "  \n",
    "</div>"
   ]
  },
  {
   "cell_type": "code",
   "execution_count": null,
   "metadata": {},
   "outputs": [],
   "source": []
  },
  {
   "cell_type": "markdown",
   "metadata": {},
   "source": [
    "<div style=\"border-left: 3px solid #000; padding: 1px; padding-left: 10px; background: #F0FAFF; \">\n",
    "<h2>Example 3. Plotting histograms </h2> \n",
    "    <p> Use the <code>hist</code> command.\n",
    "</div>"
   ]
  },
  {
   "cell_type": "code",
   "execution_count": null,
   "metadata": {},
   "outputs": [],
   "source": [
    "# Create gaussian distributed data with mu=10, sigma=3\n",
    "x = 10 + 3 * np.random.randn(1000)\n",
    "\n",
    "# Create figure and axes object\n",
    "fig, ax = plt.subplots(1,1,figsize=(10,6))\n",
    "\n",
    "# Create histogram\n",
    "bins=25\n",
    "ax.hist(x, bins=bins, label='Counts')\n",
    "\n",
    "# Set other properties\n",
    "ax.set_ylabel('bin values', fontsize=14)\n",
    "ax.set_xlabel('counts', fontsize=14)\n",
    "ax.legend(loc='upper right')\n"
   ]
  },
  {
   "cell_type": "markdown",
   "metadata": {},
   "source": [
    "<div style=\"background: #DFF0D8; border-radius: 3px; padding: 10px;\">\n",
    "    <p><b>Exercise 5.2:</b>\n",
    "\n",
    "<p>Bin edges can be explicitly defined. \n",
    "<p> For example, you can use numpy's arange command to define bins with a desired width:\n",
    "<p>&nbsp;&nbsp;&nbsp;&nbsp;<code>bins = np.arange(0,25,0.1)</code>\n",
    "\n",
    "<p>Remake the histogram above but explicitly define the bin edges rather than the bin size.\n",
    "\n",
    "</div>"
   ]
  },
  {
   "cell_type": "code",
   "execution_count": null,
   "metadata": {},
   "outputs": [],
   "source": []
  },
  {
   "cell_type": "markdown",
   "metadata": {
    "collapsed": true
   },
   "source": [
    "<div style=\"border-left: 3px solid #000; padding: 1px; padding-left: 10px; background: #F0FAFF; \">\n",
    "<h2>Example 4 - Plotting Images</h2>\n",
    "<p> The <code>imshow</code> and <code>matshow</code> functions are useful for displaying matrices\n",
    "<p> Let's first grab an image that was saved on your hard drive using Matplotlib's <code>image.mpimg</code> function. This will turn the bitmapped image file into a Numpy array with dimensions HEIGHT x WIDTH x COLORS.\n",
    "</div>"
   ]
  },
  {
   "cell_type": "code",
   "execution_count": null,
   "metadata": {},
   "outputs": [],
   "source": [
    "import matplotlib.image as mpimg\n",
    "import os\n",
    "\n",
    "#this if statement is necessary to ensure we can find the file even if working from the solutions folder\n",
    "if os.path.split(os.getcwd())[1] == 'solutions':\n",
    "    stinkbug_file_path = os.path.join(os.path.split(os.getcwd())[0],'support_files','stinkbug.png')\n",
    "elif os.path.split(os.getcwd())[1] == 'PythonBootcamp':\n",
    "    stinkbug_file_path = os.path.join(os.getcwd(),'support_files','stinkbug.png')\n",
    "img=mpimg.imread(stinkbug_file_path)\n",
    "\n",
    "print('the shape of img is: '+str(np.shape(img)))"
   ]
  },
  {
   "cell_type": "markdown",
   "metadata": {},
   "source": [
    "<div style=\"border-left: 3px solid #000; padding: 1px; padding-left: 10px; background: #F0FAFF; \">\n",
    "\n",
    "<p> Now create a new figure and axis, then use <code>imshow</code> to display the data\n",
    "</div>"
   ]
  },
  {
   "cell_type": "code",
   "execution_count": null,
   "metadata": {},
   "outputs": [],
   "source": [
    "fig,ax=plt.subplots()\n",
    "imgplot = ax.imshow(img)"
   ]
  },
  {
   "cell_type": "markdown",
   "metadata": {},
   "source": [
    "<div style=\"border-left: 3px solid #000; padding: 1px; padding-left: 10px; background: #F0FAFF; \">\n",
    "<p> Note that, despite this having data in three color channels, it renders as a grayscale image. Why is that?\n",
    "<p> Let's look at all three color values for a given point on the image:\n",
    "</div>"
   ]
  },
  {
   "cell_type": "code",
   "execution_count": null,
   "metadata": {},
   "outputs": [],
   "source": [
    "img[200,200,:]"
   ]
  },
  {
   "cell_type": "markdown",
   "metadata": {},
   "source": [
    "<div style=\"background: #DFF0D8; border-radius: 3px; padding: 10px;\">\n",
    "    <p><b>Exercise 5.3:</b>\n",
    "\n",
    "<p>Plot a single color channel\n",
    "\n",
    "<ol>\n",
    "<li>Use Numpy slicing commands that you learned in the previous module to extract all pixels for one of the three color channels\n",
    "<li>Repeat the imshow command for that single color channel\n",
    "<li>Note that, in the absence of color data, Matplotlib applies the 'viridis' colormap by default. Try adding the following keyword argument to your imshow command:\n",
    "<p>&nbsp;&nbsp;&nbsp;&nbsp;<code>cmap = 'gray'</code>\n",
    "</ol>\n",
    "\n",
    "</div>"
   ]
  },
  {
   "cell_type": "code",
   "execution_count": null,
   "metadata": {},
   "outputs": [],
   "source": []
  },
  {
   "cell_type": "markdown",
   "metadata": {},
   "source": [
    "<div style=\"border-left: 3px solid #000; padding: 1px; padding-left: 10px; background: #F0FAFF; \">\n",
    "<p> Now let's use the same functions to display some mathemically defined data\n",
    "</div>"
   ]
  },
  {
   "cell_type": "code",
   "execution_count": null,
   "metadata": {},
   "outputs": [],
   "source": [
    "# Create some datapoints\n",
    "x = np.linspace(0,10,num=500)\n",
    "y = np.linspace(0,1,num=500)\n",
    "\n",
    "#create a meshgrid (evenly spaced 2d array on each axis)\n",
    "XX, YY = np.meshgrid(x, y)\n",
    "\n",
    "## make ZZ a function of XX and YY\n",
    "ZZ = np.sin(0.2*np.pi*XX**2) * YY\n",
    "\n",
    "# Create figure and axes object\n",
    "fig, ax = plt.subplots()\n",
    "\n",
    "# Plot colormap and add colorbar scale \n",
    "image_plot = ax.imshow(ZZ,cmap='coolwarm', extent=[0,10,1,0],aspect=\"auto\") \n",
    "# image_plot = ax.matshow(ZZ,cmap='coolwarm',origin=\"lower\") \n",
    "\n",
    "#make a colorbar\n",
    "cbar = plt.colorbar(image_plot)\n",
    "#set the colorbar's label properties, including an example of using LaTex code\n",
    "cbar.set_label('$\\sin(0.2 \\pi x^2)*y$',fontsize=20,rotation=90)\n",
    "\n",
    "ax.set_xlabel('x',fontsize=16)\n",
    "ax.set_ylabel('y',fontsize=16)\n",
    "\n",
    "print('the shape of z is: '+str(np.shape(ZZ)))"
   ]
  },
  {
   "cell_type": "markdown",
   "metadata": {},
   "source": [
    "<div style=\"background: #DFF0D8; border-radius: 3px; padding: 10px;\">\n",
    "    <p><b>Exercise 5.4:</b>\n",
    "<ol>\n",
    "<li>Try experimenting with some different <a href=\"http://matplotlib.org/examples/color/colormaps_reference.html\">colormaps</a>.\n",
    "    <li>Try reducing the number of points on the x and y axes by changing the <code>num</code> argument in the linspace command. What happens for low values (<= 100 points)?\n",
    "<li>Note that the imshow command turns on interpolation by default to reduce pixelation in images. When displaying quantitive data, this is generally not desireable. Here's a full list of  <a href=\"http://matplotlib.org/examples/images_contours_and_fields/interpolation_methods.html\">interpolation methods</a>. Try setting interpolation to 'none'\n",
    "<li>Look up the documentation for <code>matshow</code>. Try using it instead of <code>imshow</code>.\n",
    "<li>Notice the <code>extent</code> and <code>aspect</code> keywords in the <code>imshow</code> function. Try removing or editing them to see what happens\n",
    "<li>Note that, in both imshow and matshow, the origin is in the upper left hand corner. Try using the following argument:\n",
    "<p>&nbsp;&nbsp;&nbsp;&nbsp;<code>origin=\"lower\"</code> (but notice how this interacts with the <code>extent</code> keyword)\n",
    "\n",
    "</ol>\n",
    "</div>"
   ]
  },
  {
   "cell_type": "code",
   "execution_count": null,
   "metadata": {},
   "outputs": [],
   "source": []
  },
  {
   "cell_type": "markdown",
   "metadata": {},
   "source": [
    "<div style=\"border-left: 3px solid #000; padding: 1px; padding-left: 10px; background: #F0FAFF; \">\n",
    "<h2> Example 5 -  Error bars </h2>\n",
    "<p>The <code>errorbar</code> function can be used to generate line plots with errorbars\n",
    "</div>"
   ]
  },
  {
   "cell_type": "code",
   "execution_count": null,
   "metadata": {},
   "outputs": [],
   "source": [
    "# Create some data\n",
    "x = np.arange(0., 1., 0.1)\n",
    "y = x + 1\n",
    "y_error = y ** 2\n",
    "\n",
    "# Create figure and axes object\n",
    "fig, ax = plt.subplots()\n",
    "\n",
    "# Create errorbar plot using `y_error` and color errorbars red\n",
    "ax.errorbar(x, y, yerr=y_error, ecolor='red')\n",
    "ax.set_xlim([-.1, 1.])"
   ]
  },
  {
   "cell_type": "markdown",
   "metadata": {},
   "source": [
    "<div style=\"border-left: 3px solid #000; padding: 1px; padding-left: 10px; background: #F0FAFF; \">\n",
    "\n",
    "<h2> Example 6 -  Scatter Plots </h2>\n",
    "<p> The <code>scatterplot</code> function allows you to generate scatter plots with dots of different sizes, colors, transparencies, etc.\n",
    "\n",
    "</div>"
   ]
  },
  {
   "cell_type": "code",
   "execution_count": null,
   "metadata": {},
   "outputs": [],
   "source": [
    "#make first dataset\n",
    "n1 = 500\n",
    "x1 = 5+1.5*np.random.randn(n1)\n",
    "y1 = 1+0.2*np.random.randn(n1)\n",
    "size1 = 100*np.random.rand(n1)\n",
    "\n",
    "#make second dataset\n",
    "n2 = 750\n",
    "x2 = 2+0.5*np.random.randn(n2)\n",
    "y2 = 0.25+0.5*np.random.randn(n2)\n",
    "size2 = 100*np.random.rand(n2)\n",
    "\n",
    "#make figure,axes handles\n",
    "fig,ax=plt.subplots()\n",
    "\n",
    "#plot scatter plots\n",
    "ax.scatter(x1,y1,s=size1,color='red',alpha=0.25)\n",
    "ax.scatter(x2,y2,s=size2,color='blue',alpha=0.25)\n",
    "\n",
    "#set axis limits\n",
    "ax.set_xlim(0,10)\n",
    "ax.set_ylim(-2,2)"
   ]
  },
  {
   "cell_type": "markdown",
   "metadata": {},
   "source": [
    "<div style=\"border-left: 3px solid #000; padding: 1px; padding-left: 10px; background: #F0FAFF; \">\n",
    "\n",
    "<h2>Example 7 - Gridspec </h2>\n",
    "\n",
    "<p>Gridspec is useful when you have uneven subplots. It can get tricky for more complex plots, so first try to use <code>ax.subplots()</code> (like in the previous examples) if possible.  \n",
    "\n",
    "<p>The documentation for gridspec is <a href=\"http://matplotlib.org/users/gridspec.html\">here</a>.\n",
    "</div>\n"
   ]
  },
  {
   "cell_type": "code",
   "execution_count": null,
   "metadata": {},
   "outputs": [],
   "source": [
    "import matplotlib.gridspec as gridspec\n",
    "\n",
    "t = np.arange(0., 5., 0.01)\n",
    "\n",
    "fig=plt.figure()\n",
    "# Create grispec object and define each subplot\n",
    "gs = gridspec.GridSpec(2, 2)\n",
    "ax0 = plt.subplot(gs[0, 0]) # Top left corner\n",
    "ax1 = plt.subplot(gs[0, 1]) # Top right corner\n",
    "ax2 = plt.subplot(gs[1, :]) # Bottom, span entire width\n",
    "\n",
    "ax0.plot(t, np.cos(5 * t), c='b')\n",
    "ax1.plot(t, np.exp(-1 * t), c='g')\n",
    "ax2.plot(t, np.cos(5 * t) * np.exp(-1 * t), c='k')"
   ]
  },
  {
   "cell_type": "markdown",
   "metadata": {
    "collapsed": true
   },
   "source": [
    "<div style=\"background: #DFF0D8; border-radius: 3px; padding: 10px;\">\n",
    "    <p><b>Exercise 5.5:</b>\n",
    "<p>Modify the above plot in the following ways:\n",
    "<ol>\n",
    "<li>Add another plot on the right edge that spans the full vertical distance (can be a scatter plot, imshow, line plot, etc.)\n",
    "<li>Change the size of the entire plot to 9 inches wide by 6 inches tall\n",
    "<li>Add a title to each subplot, and the figure as a whole\n",
    "<li>Label all axes\n",
    "<li>Modify the x-labels on the lower-left plot such that there is a tick every 0.5 points (0, 0.5, 1, 1.5, etc).\n",
    "<li>Add gridlines to the upper left plot\n",
    "<li>Make the line in the lower left plot thicker (linewidth of 3) and dashed\n",
    "<ol>\n",
    "</div>"
   ]
  },
  {
   "cell_type": "code",
   "execution_count": null,
   "metadata": {
    "scrolled": false
   },
   "outputs": [],
   "source": [
    "\n"
   ]
  }
 ],
 "metadata": {
  "anaconda-cloud": {},
  "kernelspec": {
   "display_name": "Python 3",
   "language": "python",
   "name": "python3"
  },
  "language_info": {
   "codemirror_mode": {
    "name": "ipython",
    "version": 3
   },
   "file_extension": ".py",
   "mimetype": "text/x-python",
   "name": "python",
   "nbconvert_exporter": "python",
   "pygments_lexer": "ipython3",
   "version": "3.7.3"
  }
 },
 "nbformat": 4,
 "nbformat_minor": 1
}
