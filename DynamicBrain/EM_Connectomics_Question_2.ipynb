{
 "cells": [
  {
   "cell_type": "markdown",
   "metadata": {},
   "source": [
    "<img src=\"../resources/cropped-SummerWorkshop_Header.png\">  \n",
    "\n",
    "<h1 align=\"center\">EM Connectomics Workshop SWDB 2019 </h1> \n",
    "<h3 align=\"center\">Tuesday, August 27, 2019</h3> "
   ]
  },
  {
   "cell_type": "markdown",
   "metadata": {},
   "source": [
    "\n",
    "\n",
    "<div style=\"border-left: 3px solid #000; padding: 1px; padding-left: 10px; background: #F0FAFF; \">\n",
    "    <p><b>Task 2:</b> The location of synaptic input can strongly affect how it is integrated in a postsynaptic cell. The chandelier cell is a GABAergic cell type in cortex that exclusively targets the axon initial segment (AIS). In this exercise, we want to look into input the the AIS of a pyramidal cell.\n",
    "</div>"
   ]
  },
  {
   "cell_type": "markdown",
   "metadata": {},
   "source": [
    "<div style=\"background: #DFF0D8; border-radius: 3px; padding: 10px;\">\n",
    "<p><b>Task 2.1:</b> Import the key modules and set parameters\n",
    "\n",
    "</div>"
   ]
  },
  {
   "cell_type": "code",
   "execution_count": null,
   "metadata": {},
   "outputs": [],
   "source": []
  },
  {
   "cell_type": "markdown",
   "metadata": {},
   "source": [
    "<div style=\"background: #DFF0D8; border-radius: 3px; padding: 10px;\">\n",
    "    <p><b>Task 2.2:</b> Find the AIS of a pyramidal cell from its mesh.\n",
    "Find the part of the mesh associated with the AIS. We have manually identified points at the top and bottom bounds of the AIS for pyramidal cells in the volume. The table `manual_ais` points at 45 cells far from the edges of the volume where we gave careful manual scrutiny to cells along the AIS. The table `ais_bounds_v3` contains the actual upper (`func_id=1`) and lower (`func_id=0`) bounds of AIS \n",
    "        \n",
    "        \n",
    "<p><b>Task 2.2.1</b> Query the AIS bounds table `manual_ais` and find the AIS points associate with the pyramidal cell with `func_id=1` in the table. Visualize the mesh and the upper and lower points in vtk as a sanity check.\n",
    "</div>"
   ]
  },
  {
   "cell_type": "code",
   "execution_count": null,
   "metadata": {},
   "outputs": [],
   "source": []
  },
  {
   "cell_type": "markdown",
   "metadata": {},
   "source": [
    "<div style=\"background: #DFF0D8; border-radius: 3px; padding: 10px;\">\n",
    "    <p><b>Task 2.2.2: </b> Find the vertex indices of the mesh that are closest to the AIS bounds points. Either by computing the Euclidean distance or visualizing in 3d, check that the bounds points and the mesh indices you find are actually close.\n",
    "\n",
    "Hint: quick computation of closest spatial distances can be accomplished with a data structure called a k-D tree. `mesh.kdtree` is the k-D tree of the mesh vertices built using `scipy.spatial`. \n",
    "\n",
    "</div>"
   ]
  },
  {
   "cell_type": "code",
   "execution_count": null,
   "metadata": {},
   "outputs": [],
   "source": []
  },
  {
   "cell_type": "markdown",
   "metadata": {},
   "source": [
    "<div style=\"background: #DFF0D8; border-radius: 3px; padding: 10px;\">\n",
    "    <p><b>Task 2.2.3: </b> Find the vertex indices of the mesh \"between\" the top and bottom points. Note that in, gneeral, axons and dendrites can pass close to the AIS, so just using Euclidean space won't work.\n",
    "\n",
    "Hint: `scipy.sparse.csgraph.dijkstra` is a useful shortest-path algorithm for finding paths along the mesh graph (`mesh.csgraph`)\n",
    "\n",
    "</div>"
   ]
  },
  {
   "cell_type": "code",
   "execution_count": null,
   "metadata": {},
   "outputs": [],
   "source": []
  },
  {
   "cell_type": "markdown",
   "metadata": {},
   "source": [
    "<div style=\"background: #DFF0D8; border-radius: 3px; padding: 10px;\">\n",
    "    <p><b>Task 2.2.4: </b> Visualize the AIS in the context of the whole neuron mesh.\n",
    "\n",
    "Hint `mesh.apply_mask` takes a mesh.vertex-length boolean vector and returns a new mesh with only those points. \n",
    "</div>"
   ]
  },
  {
   "cell_type": "code",
   "execution_count": null,
   "metadata": {},
   "outputs": [],
   "source": []
  },
  {
   "cell_type": "markdown",
   "metadata": {},
   "source": [
    "<div style=\"background: #DFF0D8; border-radius: 3px; padding: 10px;\">\n",
    "    <p><b>Task 2.3: </b> Synaptic input into the AIS\n",
    "\n",
    "<p><b>Task 2.3.1: </b> Get an array of synapse locations ('ctr_pt_position') onto the same cell you looked at above and filter only those onto mesh points corresponding to the AIS.\n",
    "    </div>"
   ]
  },
  {
   "cell_type": "code",
   "execution_count": null,
   "metadata": {},
   "outputs": [],
   "source": []
  },
  {
   "cell_type": "markdown",
   "metadata": {},
   "source": [
    "<div style=\"background: #DFF0D8; border-radius: 3px; padding: 10px;\">\n",
    "    <p><b>Task 2.3.2 </b> Count how many synapses per presynaptic object there are. \n",
    "        </div>"
   ]
  },
  {
   "cell_type": "code",
   "execution_count": null,
   "metadata": {},
   "outputs": [],
   "source": []
  },
  {
   "cell_type": "markdown",
   "metadata": {},
   "source": [
    "<div style=\"background: #DFF0D8; border-radius: 3px; padding: 10px;\">\n",
    "    <p><b>Task 2.3.3 </b>Visualize the synapses on the AIS mesh (using the trimesh_vtk.point_cloud_actor function) with a different color for each distinct presynaptic object and the size corresponding to the total number of synapses that neuron makes.\n",
    "\n",
    "Knowing that chandelier cells make multi-synaptic candles, which synapses do you suspect are likely to come from chandelier cells?\n",
    "</div>"
   ]
  },
  {
   "cell_type": "code",
   "execution_count": null,
   "metadata": {},
   "outputs": [],
   "source": []
  },
  {
   "cell_type": "markdown",
   "metadata": {},
   "source": [
    "<div style=\"background: #DFF0D8; border-radius: 3px; padding: 10px;\">\n",
    "    <p><b>Task 2.3.4  (Optional) </b> Write up AIS extraction and synapse filtering as a function. Try to run it on all 45 cells in the manual_ais table in order to get a histogram of AIS input and synapses per connection across pyramidal cells.\n",
    "        </div>"
   ]
  },
  {
   "cell_type": "code",
   "execution_count": null,
   "metadata": {},
   "outputs": [],
   "source": []
  }
 ],
 "metadata": {
  "kernelspec": {
   "display_name": "conda_python3",
   "language": "python",
   "name": "conda_python3"
  },
  "language_info": {
   "codemirror_mode": {
    "name": "ipython",
    "version": 3
   },
   "file_extension": ".py",
   "mimetype": "text/x-python",
   "name": "python",
   "nbconvert_exporter": "python",
   "pygments_lexer": "ipython3",
   "version": "3.6.5"
  }
 },
 "nbformat": 4,
 "nbformat_minor": 2
}
