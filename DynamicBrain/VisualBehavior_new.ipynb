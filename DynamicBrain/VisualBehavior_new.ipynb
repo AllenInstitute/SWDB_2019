{
 "cells": [
  {
   "cell_type": "markdown",
   "metadata": {},
   "source": [
    "<img src=\"../resources/cropped-SummerWorkshop_Header.png\">  \n",
    "\n",
    "<h1 align=\"center\">Dataset 2: Change Detection Behavior + Optical Physiology </h1> \n",
    "<h2 align=\"center\">Summer Workshop on the Dynamic Brain </h2> \n",
    "<h3 align=\"center\">Tuesday, August 21, 2018</h3> \n",
    "\n",
    "<img src=\"../resources/change_detection_schematic.png\" height=\"400\" width=\"400\">  \n"
   ]
  },
  {
   "cell_type": "markdown",
   "metadata": {},
   "source": [
    "This notebook will introduce you to the Visual Behavior pilot dataset. This pre-release dataset uses 2-photon calcium imaging to measure neural activity in mice performing an image change detection task, and was collected during piloting for the new Visual Behavior Brain Observatory. Production data collection for the Observatory will begin September 2018 and data will be publicly released in 2019. The insights obtained here at SWDB may help shape the collection of the production dataset. \n",
    "\n",
    "In this notebook, we will describe the dimensions of the dataset, the core components of each experimental session, and the tools for accessing and analyzing the data. \n",
    "\n",
    "By the end of the notebook, you will compute stimulus selectivity across a population of neurons from a mouse performing the change detection task, and compare the mean selectivity value with other experiments in the dataset coming from different cell populations."
   ]
  },
  {
   "cell_type": "markdown",
   "metadata": {},
   "source": [
    "** Outline:**\n",
    "1. Explore the dimensions of the dataset using the manifest file \n",
    "2. Explore the contents of a single experiment session using the VisualBehaviorOphysDataset class\n",
    "3. Use the ResponseAnalysis class to explore neural activity for specific stimulus or behavioral conditions \n",
    "4. Identify all the cells in your experiment with a significant visual response\n",
    "5. Compute a metric called lifetime sparseness for the visually responsive neurons in your experiment \n",
    "6. Compare your metric value with other experiments in the dataset \n",
    "7. Additional exercises & project ideas "
   ]
  },
  {
   "cell_type": "markdown",
   "metadata": {},
   "source": [
    "<div style=\"background: #DFF0D8; border-radius: 3px; padding: 10px;\">\n",
    "\n",
    "<p>Let's get started\n",
    "\n",
    "</div>"
   ]
  },
  {
   "cell_type": "code",
   "execution_count": 72,
   "metadata": {},
   "outputs": [],
   "source": [
    "# you will need these libraries for computation & data manipulation\n",
    "import os\n",
    "import numpy as np\n",
    "import pandas as pd\n",
    "\n",
    "# matplotlib is a standard python visualization package\n",
    "import matplotlib.pyplot as plt\n",
    "%matplotlib inline\n",
    "\n",
    "# seaborn is another library for statistical data visualization\n",
    "# seaborn style & context settings make plots pretty & legible\n",
    "import seaborn as sns\n",
    "sns.set_context('notebook', font_scale=1.5, rc={'lines.markeredgewidth': 2})\n",
    "# sns.set_style('white')\n",
    "sns.set_palette('deep');"
   ]
  },
  {
   "cell_type": "markdown",
   "metadata": {},
   "source": [
    "<div style=\"border-left: 3px solid #000; padding: 1px; padding-left: 10px; background: #F0FAFF; \">\n",
    "<p>The dimensions of the dataset are described in the manifest file. You can inspect the manifest to identify experiments of interest and their metadata. \n",
    "\n",
    "<p>The manifest file is located in the cache directory, along with the data itself. \n",
    "\n",
    "<p>Make sure your 'cache_dir' is set properly, and complete the following task to load and inspect the 'manifest_file'. </div>\n",
    "\n"
   ]
  },
  {
   "cell_type": "code",
   "execution_count": 73,
   "metadata": {
    "collapsed": true
   },
   "outputs": [],
   "source": [
    "# macOS/OS X\n",
    "# cache_dir = r'/Volumes/Brain2018/data/dynamic-brain-workshop/brain_observatory_cache/'\n",
    "\n",
    "# Windows \n",
    "cache_dir = r'\\\\allen\\programs\\braintv\\workgroups\\nc-ophys\\visual_behavior\\visual_behavior_pilot_analysis'\n",
    "\n",
    "# Linux \n",
    "# cache_dir = r'/media/Brain2017/data/dynamic-brain-workshop/brain_observatory_cache'\n",
    "\n",
    "# AWS\n",
    "# cache_dir = '/data/dynamic-brain-workshop/brain_observatory_cache/'"
   ]
  },
  {
   "cell_type": "markdown",
   "metadata": {},
   "source": [
    "<div style=\"background: #DFF0D8; border-radius: 3px; padding: 10px;\">\n",
    "<p>**Task 1.1:**  Get information about what's in the dataset \n",
    "\n",
    "<p>Read in visual_behavior_data_manifest.csv using pandas and explore the columns to see the available visual areas, cre lines, and session types. \n",
    "\n",
    "</div>"
   ]
  },
  {
   "cell_type": "code",
   "execution_count": 74,
   "metadata": {
    "collapsed": true
   },
   "outputs": [],
   "source": [
    "manifest_file = 'visual_behavior_data_manifest.csv'"
   ]
  },
  {
   "cell_type": "code",
   "execution_count": 75,
   "metadata": {},
   "outputs": [],
   "source": [
    "manifest = pd.read_csv(os.path.join(cache_dir,manifest_file))"
   ]
  },
  {
   "cell_type": "code",
   "execution_count": 76,
   "metadata": {},
   "outputs": [
    {
     "data": {
      "text/html": [
       "<div>\n",
       "<style scoped>\n",
       "    .dataframe tbody tr th:only-of-type {\n",
       "        vertical-align: middle;\n",
       "    }\n",
       "\n",
       "    .dataframe tbody tr th {\n",
       "        vertical-align: top;\n",
       "    }\n",
       "\n",
       "    .dataframe thead th {\n",
       "        text-align: right;\n",
       "    }\n",
       "</style>\n",
       "<table border=\"1\" class=\"dataframe\">\n",
       "  <thead>\n",
       "    <tr style=\"text-align: right;\">\n",
       "      <th></th>\n",
       "      <th>experiment_id</th>\n",
       "      <th>experiment_container_id</th>\n",
       "      <th>targeted_structure</th>\n",
       "      <th>imaging_depth</th>\n",
       "      <th>cre_line</th>\n",
       "      <th>reporter_line</th>\n",
       "      <th>full_genotype</th>\n",
       "      <th>session_type</th>\n",
       "      <th>donor_id</th>\n",
       "      <th>specimen_id</th>\n",
       "      <th>experiment_date</th>\n",
       "    </tr>\n",
       "  </thead>\n",
       "  <tbody>\n",
       "    <tr>\n",
       "      <th>0</th>\n",
       "      <td>644942849</td>\n",
       "      <td>644919226</td>\n",
       "      <td>VISp</td>\n",
       "      <td>175</td>\n",
       "      <td>Vip-IRES-Cre</td>\n",
       "      <td>Ai148</td>\n",
       "      <td>Vip-IRES-Cre;Ai148</td>\n",
       "      <td>behavior_session_A</td>\n",
       "      <td>329071</td>\n",
       "      <td>596175193</td>\n",
       "      <td>10/24/2017 10:32</td>\n",
       "    </tr>\n",
       "    <tr>\n",
       "      <th>1</th>\n",
       "      <td>645035903</td>\n",
       "      <td>644919226</td>\n",
       "      <td>VISp</td>\n",
       "      <td>175</td>\n",
       "      <td>Vip-IRES-Cre</td>\n",
       "      <td>Ai148</td>\n",
       "      <td>Vip-IRES-Cre;Ai148</td>\n",
       "      <td>behavior_session_B</td>\n",
       "      <td>329071</td>\n",
       "      <td>596175193</td>\n",
       "      <td>10/25/2017 10:34</td>\n",
       "    </tr>\n",
       "    <tr>\n",
       "      <th>2</th>\n",
       "      <td>645086795</td>\n",
       "      <td>644919226</td>\n",
       "      <td>VISp</td>\n",
       "      <td>175</td>\n",
       "      <td>Vip-IRES-Cre</td>\n",
       "      <td>Ai148</td>\n",
       "      <td>Vip-IRES-Cre;Ai148</td>\n",
       "      <td>behavior_session_C</td>\n",
       "      <td>329071</td>\n",
       "      <td>596175193</td>\n",
       "      <td>10/26/2017 10:27</td>\n",
       "    </tr>\n",
       "    <tr>\n",
       "      <th>3</th>\n",
       "      <td>645362806</td>\n",
       "      <td>644919226</td>\n",
       "      <td>VISp</td>\n",
       "      <td>175</td>\n",
       "      <td>Vip-IRES-Cre</td>\n",
       "      <td>Ai148</td>\n",
       "      <td>Vip-IRES-Cre;Ai148</td>\n",
       "      <td>behavior_session_D</td>\n",
       "      <td>329071</td>\n",
       "      <td>596175193</td>\n",
       "      <td>10/30/2017 11:41</td>\n",
       "    </tr>\n",
       "    <tr>\n",
       "      <th>4</th>\n",
       "      <td>646922970</td>\n",
       "      <td>646555436</td>\n",
       "      <td>VISp</td>\n",
       "      <td>175</td>\n",
       "      <td>Vip-IRES-Cre</td>\n",
       "      <td>Ai148</td>\n",
       "      <td>Vip-IRES-Cre;Ai148</td>\n",
       "      <td>behavior_session_A</td>\n",
       "      <td>330982</td>\n",
       "      <td>596393048</td>\n",
       "      <td>11/7/2017 14:19</td>\n",
       "    </tr>\n",
       "  </tbody>\n",
       "</table>\n",
       "</div>"
      ],
      "text/plain": [
       "   experiment_id  experiment_container_id targeted_structure  imaging_depth  \\\n",
       "0      644942849                644919226               VISp            175   \n",
       "1      645035903                644919226               VISp            175   \n",
       "2      645086795                644919226               VISp            175   \n",
       "3      645362806                644919226               VISp            175   \n",
       "4      646922970                646555436               VISp            175   \n",
       "\n",
       "       cre_line reporter_line       full_genotype        session_type  \\\n",
       "0  Vip-IRES-Cre         Ai148  Vip-IRES-Cre;Ai148  behavior_session_A   \n",
       "1  Vip-IRES-Cre         Ai148  Vip-IRES-Cre;Ai148  behavior_session_B   \n",
       "2  Vip-IRES-Cre         Ai148  Vip-IRES-Cre;Ai148  behavior_session_C   \n",
       "3  Vip-IRES-Cre         Ai148  Vip-IRES-Cre;Ai148  behavior_session_D   \n",
       "4  Vip-IRES-Cre         Ai148  Vip-IRES-Cre;Ai148  behavior_session_A   \n",
       "\n",
       "   donor_id  specimen_id   experiment_date  \n",
       "0    329071    596175193  10/24/2017 10:32  \n",
       "1    329071    596175193  10/25/2017 10:34  \n",
       "2    329071    596175193  10/26/2017 10:27  \n",
       "3    329071    596175193  10/30/2017 11:41  \n",
       "4    330982    596393048   11/7/2017 14:19  "
      ]
     },
     "execution_count": 76,
     "metadata": {},
     "output_type": "execute_result"
    }
   ],
   "source": [
    "manifest.head()"
   ]
  },
  {
   "cell_type": "code",
   "execution_count": 77,
   "metadata": {},
   "outputs": [
    {
     "name": "stdout",
     "output_type": "stream",
     "text": [
      "targeted structures: ['VISp' 'VISal']\n",
      "cre_lines: ['Vip-IRES-Cre' 'Slc17a7-IRES2-Cre']\n",
      "stimulus_types: ['behavior_session_A' 'behavior_session_B' 'behavior_session_C'\n",
      " 'behavior_session_D']\n"
     ]
    }
   ],
   "source": [
    "print 'targeted structures:', manifest.targeted_structure.unique()\n",
    "print 'cre_lines:', manifest.cre_line.unique()\n",
    "print 'stimulus_types:', manifest.session_type.unique()"
   ]
  },
  {
   "cell_type": "markdown",
   "metadata": {},
   "source": [
    "<div style=\"background: #DFF0D8; border-radius: 3px; padding: 10px;\">\n",
    "<p>**Task 1.2:**  Everyone gets an experiment! \n",
    "\n",
    "<p>Get your experiment ID and assign it to a variable called experiment_id\n",
    "\n",
    "<p>What is the targeted_structure, cre_line and session_type for your experiment_id? \n",
    "\n",
    "</div>"
   ]
  },
  {
   "cell_type": "code",
   "execution_count": 78,
   "metadata": {
    "collapsed": true
   },
   "outputs": [],
   "source": [
    "experiment_id = 719321260"
   ]
  },
  {
   "cell_type": "code",
   "execution_count": 79,
   "metadata": {},
   "outputs": [
    {
     "data": {
      "text/html": [
       "<div>\n",
       "<style scoped>\n",
       "    .dataframe tbody tr th:only-of-type {\n",
       "        vertical-align: middle;\n",
       "    }\n",
       "\n",
       "    .dataframe tbody tr th {\n",
       "        vertical-align: top;\n",
       "    }\n",
       "\n",
       "    .dataframe thead th {\n",
       "        text-align: right;\n",
       "    }\n",
       "</style>\n",
       "<table border=\"1\" class=\"dataframe\">\n",
       "  <thead>\n",
       "    <tr style=\"text-align: right;\">\n",
       "      <th></th>\n",
       "      <th>experiment_id</th>\n",
       "      <th>experiment_container_id</th>\n",
       "      <th>targeted_structure</th>\n",
       "      <th>imaging_depth</th>\n",
       "      <th>cre_line</th>\n",
       "      <th>reporter_line</th>\n",
       "      <th>full_genotype</th>\n",
       "      <th>session_type</th>\n",
       "      <th>donor_id</th>\n",
       "      <th>specimen_id</th>\n",
       "      <th>experiment_date</th>\n",
       "    </tr>\n",
       "  </thead>\n",
       "  <tbody>\n",
       "    <tr>\n",
       "      <th>56</th>\n",
       "      <td>719321260</td>\n",
       "      <td>719538773</td>\n",
       "      <td>VISal</td>\n",
       "      <td>175</td>\n",
       "      <td>Slc17a7-IRES2-Cre</td>\n",
       "      <td>Camk2a-tTA;Ai93</td>\n",
       "      <td>Slc17a7-IRES2-Cre;Camk2a-tTA;Ai93</td>\n",
       "      <td>behavior_session_A</td>\n",
       "      <td>385255</td>\n",
       "      <td>685152008</td>\n",
       "      <td>7/12/2018 10:27</td>\n",
       "    </tr>\n",
       "  </tbody>\n",
       "</table>\n",
       "</div>"
      ],
      "text/plain": [
       "    experiment_id  experiment_container_id targeted_structure  imaging_depth  \\\n",
       "56      719321260                719538773              VISal            175   \n",
       "\n",
       "             cre_line    reporter_line                      full_genotype  \\\n",
       "56  Slc17a7-IRES2-Cre  Camk2a-tTA;Ai93  Slc17a7-IRES2-Cre;Camk2a-tTA;Ai93   \n",
       "\n",
       "          session_type  donor_id  specimen_id  experiment_date  \n",
       "56  behavior_session_A    385255    685152008  7/12/2018 10:27  "
      ]
     },
     "execution_count": 79,
     "metadata": {},
     "output_type": "execute_result"
    }
   ],
   "source": [
    "manifest[manifest.experiment_id==experiment_id]"
   ]
  },
  {
   "cell_type": "markdown",
   "metadata": {},
   "source": [
    "<div style=\"background: #DFF0D8; border-radius: 3px; padding: 10px;\">\n",
    "<p>**Task 1.3:**  What is in an experiment container? \n",
    "\n",
    "<p>The experiment container describes a set of experiment sessions performed at the same location (targeted area and imaging depth) in the same mouse that targets the same set of cells. All the sessions in an experiment container have a common experiment_container_id\n",
    "\n",
    "<p>Get a the experiment_container_id for your experiment_id and find out what other sessions were recorded at that same location\n",
    "\n",
    "<p>Do all experiment containers have the same number of sessions associated with them? \n",
    "\n",
    "</div>"
   ]
  },
  {
   "cell_type": "code",
   "execution_count": 80,
   "metadata": {},
   "outputs": [
    {
     "name": "stdout",
     "output_type": "stream",
     "text": [
      "719538773\n"
     ]
    }
   ],
   "source": [
    "experiment_container_id = manifest[manifest.experiment_id==experiment_id].experiment_container_id.values[0]\n",
    "print experiment_container_id"
   ]
  },
  {
   "cell_type": "code",
   "execution_count": 81,
   "metadata": {},
   "outputs": [
    {
     "data": {
      "text/html": [
       "<div>\n",
       "<style scoped>\n",
       "    .dataframe tbody tr th:only-of-type {\n",
       "        vertical-align: middle;\n",
       "    }\n",
       "\n",
       "    .dataframe tbody tr th {\n",
       "        vertical-align: top;\n",
       "    }\n",
       "\n",
       "    .dataframe thead th {\n",
       "        text-align: right;\n",
       "    }\n",
       "</style>\n",
       "<table border=\"1\" class=\"dataframe\">\n",
       "  <thead>\n",
       "    <tr style=\"text-align: right;\">\n",
       "      <th></th>\n",
       "      <th>experiment_id</th>\n",
       "      <th>experiment_container_id</th>\n",
       "      <th>targeted_structure</th>\n",
       "      <th>imaging_depth</th>\n",
       "      <th>cre_line</th>\n",
       "      <th>reporter_line</th>\n",
       "      <th>full_genotype</th>\n",
       "      <th>session_type</th>\n",
       "      <th>donor_id</th>\n",
       "      <th>specimen_id</th>\n",
       "      <th>experiment_date</th>\n",
       "    </tr>\n",
       "  </thead>\n",
       "  <tbody>\n",
       "    <tr>\n",
       "      <th>56</th>\n",
       "      <td>719321260</td>\n",
       "      <td>719538773</td>\n",
       "      <td>VISal</td>\n",
       "      <td>175</td>\n",
       "      <td>Slc17a7-IRES2-Cre</td>\n",
       "      <td>Camk2a-tTA;Ai93</td>\n",
       "      <td>Slc17a7-IRES2-Cre;Camk2a-tTA;Ai93</td>\n",
       "      <td>behavior_session_A</td>\n",
       "      <td>385255</td>\n",
       "      <td>685152008</td>\n",
       "      <td>7/12/2018 10:27</td>\n",
       "    </tr>\n",
       "    <tr>\n",
       "      <th>57</th>\n",
       "      <td>719996589</td>\n",
       "      <td>719538773</td>\n",
       "      <td>VISal</td>\n",
       "      <td>175</td>\n",
       "      <td>Slc17a7-IRES2-Cre</td>\n",
       "      <td>Camk2a-tTA;Ai93</td>\n",
       "      <td>Slc17a7-IRES2-Cre;Camk2a-tTA;Ai93</td>\n",
       "      <td>behavior_session_B</td>\n",
       "      <td>385255</td>\n",
       "      <td>685152008</td>\n",
       "      <td>7/13/2018 10:13</td>\n",
       "    </tr>\n",
       "    <tr>\n",
       "      <th>58</th>\n",
       "      <td>723748162</td>\n",
       "      <td>719538773</td>\n",
       "      <td>VISal</td>\n",
       "      <td>175</td>\n",
       "      <td>Slc17a7-IRES2-Cre</td>\n",
       "      <td>Camk2a-tTA;Ai93</td>\n",
       "      <td>Slc17a7-IRES2-Cre;Camk2a-tTA;Ai93</td>\n",
       "      <td>behavior_session_C</td>\n",
       "      <td>385255</td>\n",
       "      <td>685152008</td>\n",
       "      <td>7/23/2018 11:18</td>\n",
       "    </tr>\n",
       "    <tr>\n",
       "      <th>59</th>\n",
       "      <td>723037901</td>\n",
       "      <td>719538773</td>\n",
       "      <td>VISal</td>\n",
       "      <td>175</td>\n",
       "      <td>Slc17a7-IRES2-Cre</td>\n",
       "      <td>Camk2a-tTA;Ai93</td>\n",
       "      <td>Slc17a7-IRES2-Cre;Camk2a-tTA;Ai93</td>\n",
       "      <td>behavior_session_D</td>\n",
       "      <td>385255</td>\n",
       "      <td>685152008</td>\n",
       "      <td>7/20/2018 13:47</td>\n",
       "    </tr>\n",
       "  </tbody>\n",
       "</table>\n",
       "</div>"
      ],
      "text/plain": [
       "    experiment_id  experiment_container_id targeted_structure  imaging_depth  \\\n",
       "56      719321260                719538773              VISal            175   \n",
       "57      719996589                719538773              VISal            175   \n",
       "58      723748162                719538773              VISal            175   \n",
       "59      723037901                719538773              VISal            175   \n",
       "\n",
       "             cre_line    reporter_line                      full_genotype  \\\n",
       "56  Slc17a7-IRES2-Cre  Camk2a-tTA;Ai93  Slc17a7-IRES2-Cre;Camk2a-tTA;Ai93   \n",
       "57  Slc17a7-IRES2-Cre  Camk2a-tTA;Ai93  Slc17a7-IRES2-Cre;Camk2a-tTA;Ai93   \n",
       "58  Slc17a7-IRES2-Cre  Camk2a-tTA;Ai93  Slc17a7-IRES2-Cre;Camk2a-tTA;Ai93   \n",
       "59  Slc17a7-IRES2-Cre  Camk2a-tTA;Ai93  Slc17a7-IRES2-Cre;Camk2a-tTA;Ai93   \n",
       "\n",
       "          session_type  donor_id  specimen_id  experiment_date  \n",
       "56  behavior_session_A    385255    685152008  7/12/2018 10:27  \n",
       "57  behavior_session_B    385255    685152008  7/13/2018 10:13  \n",
       "58  behavior_session_C    385255    685152008  7/23/2018 11:18  \n",
       "59  behavior_session_D    385255    685152008  7/20/2018 13:47  "
      ]
     },
     "execution_count": 81,
     "metadata": {},
     "output_type": "execute_result"
    }
   ],
   "source": [
    "manifest[manifest.experiment_container_id==experiment_container_id]"
   ]
  },
  {
   "cell_type": "code",
   "execution_count": 82,
   "metadata": {},
   "outputs": [
    {
     "name": "stdout",
     "output_type": "stream",
     "text": [
      "number of sessions associated with experiment_container_id 644919226  =  4\n",
      "number of sessions associated with experiment_container_id 646555436  =  4\n",
      "number of sessions associated with experiment_container_id 648562391  =  3\n",
      "number of sessions associated with experiment_container_id 652784528  =  3\n",
      "number of sessions associated with experiment_container_id 639001089  =  4\n",
      "number of sessions associated with experiment_container_id 661409179  =  4\n",
      "number of sessions associated with experiment_container_id 670266085  =  4\n",
      "number of sessions associated with experiment_container_id 682951696  =  2\n",
      "number of sessions associated with experiment_container_id 695444116  =  4\n",
      "number of sessions associated with experiment_container_id 700821114  =  4\n",
      "number of sessions associated with experiment_container_id 692315205  =  4\n",
      "number of sessions associated with experiment_container_id 712038821  =  4\n",
      "number of sessions associated with experiment_container_id 715027436  =  4\n",
      "number of sessions associated with experiment_container_id 715094648  =  4\n",
      "number of sessions associated with experiment_container_id 719860866  =  4\n",
      "number of sessions associated with experiment_container_id 719538773  =  4\n"
     ]
    }
   ],
   "source": [
    "for experiment_container_id in manifest.experiment_container_id.unique(): \n",
    "    container = manifest[manifest.experiment_container_id==experiment_container_id]\n",
    "    print 'number of sessions associated with experiment_container_id',str(experiment_container_id),' = ',str(len(container))"
   ]
  },
  {
   "cell_type": "markdown",
   "metadata": {},
   "source": [
    "<div style=\"border-left: 3px solid #000; padding: 1px; padding-left: 10px; background: #F0FAFF; \">\n",
    "<h2>The VisualBehaviorOphysDataset object</h2>\n",
    "<p>The dataset object contains all the data and metadata for a single experiment session, including dF/F traces, behavior data, and timing information. \n",
    "\n",
    "<p>Provide your experiment_id and your cache directory to load the data for an experiment. \n",
    "\n",
    "<p>Use help to see what functions are contained in the VisualBehaviorOphysDataset class. \n",
    "\n",
    "</div>"
   ]
  },
  {
   "cell_type": "code",
   "execution_count": 83,
   "metadata": {},
   "outputs": [],
   "source": [
    "# import visual behavior dataset class from the visual_behavior package\n",
    "from visual_behavior.ophys.dataset.visual_behavior_ophys_dataset import VisualBehaviorOphysDataset"
   ]
  },
  {
   "cell_type": "code",
   "execution_count": 84,
   "metadata": {
    "scrolled": true
   },
   "outputs": [],
   "source": [
    "dataset= VisualBehaviorOphysDataset(experiment_id, cache_dir=cache_dir)"
   ]
  },
  {
   "cell_type": "code",
   "execution_count": 85,
   "metadata": {},
   "outputs": [
    {
     "name": "stdout",
     "output_type": "stream",
     "text": [
      "Help on class VisualBehaviorOphysDataset in module visual_behavior.ophys.dataset.visual_behavior_ophys_dataset:\n",
      "\n",
      "class VisualBehaviorOphysDataset(__builtin__.object)\n",
      " |  Methods defined here:\n",
      " |  \n",
      " |  __init__(self, experiment_id, cache_dir=None)\n",
      " |      Initialize visual behavior ophys experiment dataset.\n",
      " |          Loads experiment data from cache_dir, including dF/F traces, roi masks, stimulus metadata, running speed, licks, rewards, and metadata.\n",
      " |      \n",
      " |      Parameters\n",
      " |      ----------\n",
      " |      experiment_id : ophys experiment ID\n",
      " |      cache_dir : directory where data files are located for loading\n",
      " |  \n",
      " |  get_analysis_dir(self)\n",
      " |  \n",
      " |  get_cache_dir(self)\n",
      " |  \n",
      " |  get_cell_index_for_cell_specimen_id(self, cell_specimen_id)\n",
      " |  \n",
      " |  get_cell_indices(self)\n",
      " |  \n",
      " |  get_cell_specimen_id_for_cell_index(self, cell_index)\n",
      " |  \n",
      " |  get_cell_specimen_ids(self)\n",
      " |  \n",
      " |  get_dff_traces(self)\n",
      " |  \n",
      " |  get_licks(self)\n",
      " |  \n",
      " |  get_max_projection(self)\n",
      " |  \n",
      " |  get_metadata(self)\n",
      " |  \n",
      " |  get_motion_correction(self)\n",
      " |  \n",
      " |  get_rewards(self)\n",
      " |  \n",
      " |  get_roi_masks(self)\n",
      " |  \n",
      " |  get_roi_metrics(self)\n",
      " |  \n",
      " |  get_running_speed(self)\n",
      " |  \n",
      " |  get_stimulus_metadata(self)\n",
      " |  \n",
      " |  get_stimulus_table(self)\n",
      " |  \n",
      " |  get_stimulus_template(self)\n",
      " |  \n",
      " |  get_task_parameters(self)\n",
      " |  \n",
      " |  get_timestamps(self)\n",
      " |  \n",
      " |  get_timestamps_ophys(self)\n",
      " |  \n",
      " |  get_timestamps_stimulus(self)\n",
      " |  \n",
      " |  get_trials(self)\n",
      " |  \n",
      " |  ----------------------------------------------------------------------\n",
      " |  Data descriptors defined here:\n",
      " |  \n",
      " |  __dict__\n",
      " |      dictionary for instance variables (if defined)\n",
      " |  \n",
      " |  __weakref__\n",
      " |      list of weak references to the object (if defined)\n",
      "\n"
     ]
    }
   ],
   "source": [
    "help(VisualBehaviorOphysDataset)"
   ]
  },
  {
   "cell_type": "markdown",
   "metadata": {},
   "source": [
    "<div style=\"background: #DFF0D8; border-radius: 3px; padding: 10px;\">\n",
    "<p>**Task 2.1:**  What is an experiment dataset? \n",
    "\n",
    "<p>Use tab completion to see what is in the dataset object for an experiment session\n",
    "\n",
    "<p>Whats in the metadata? Make sure it matches what you found in the manifest for this experiment_id.\n",
    "\n",
    "</div>\n"
   ]
  },
  {
   "cell_type": "code",
   "execution_count": 86,
   "metadata": {},
   "outputs": [
    {
     "data": {
      "text/html": [
       "<div>\n",
       "<style scoped>\n",
       "    .dataframe tbody tr th:only-of-type {\n",
       "        vertical-align: middle;\n",
       "    }\n",
       "\n",
       "    .dataframe tbody tr th {\n",
       "        vertical-align: top;\n",
       "    }\n",
       "\n",
       "    .dataframe thead th {\n",
       "        text-align: right;\n",
       "    }\n",
       "</style>\n",
       "<table border=\"1\" class=\"dataframe\">\n",
       "  <thead>\n",
       "    <tr style=\"text-align: right;\">\n",
       "      <th></th>\n",
       "      <th>ophys_experiment_id</th>\n",
       "      <th>experiment_container_id</th>\n",
       "      <th>targeted_structure</th>\n",
       "      <th>imaging_depth</th>\n",
       "      <th>cre_line</th>\n",
       "      <th>reporter_line</th>\n",
       "      <th>full_genotype</th>\n",
       "      <th>session_type</th>\n",
       "      <th>donor_id</th>\n",
       "      <th>experiment_date</th>\n",
       "      <th>specimen_id</th>\n",
       "      <th>ophys_frame_rate</th>\n",
       "      <th>stimulus_frame_rate</th>\n",
       "    </tr>\n",
       "  </thead>\n",
       "  <tbody>\n",
       "    <tr>\n",
       "      <th>719321260</th>\n",
       "      <td>719321260</td>\n",
       "      <td>None</td>\n",
       "      <td>VISal</td>\n",
       "      <td>175</td>\n",
       "      <td>Slc17a7-IRES2-Cre</td>\n",
       "      <td>Camk2a-tTA;Ai93</td>\n",
       "      <td>Slc17a7-IRES2-Cre;Camk2a-tTA;Ai93</td>\n",
       "      <td>behavior_session_A</td>\n",
       "      <td>385255</td>\n",
       "      <td>2018-07-12</td>\n",
       "      <td>685152008</td>\n",
       "      <td>31.0</td>\n",
       "      <td>60.0</td>\n",
       "    </tr>\n",
       "  </tbody>\n",
       "</table>\n",
       "</div>"
      ],
      "text/plain": [
       "          ophys_experiment_id experiment_container_id targeted_structure  \\\n",
       "719321260           719321260                    None              VISal   \n",
       "\n",
       "           imaging_depth           cre_line    reporter_line  \\\n",
       "719321260            175  Slc17a7-IRES2-Cre  Camk2a-tTA;Ai93   \n",
       "\n",
       "                               full_genotype        session_type  donor_id  \\\n",
       "719321260  Slc17a7-IRES2-Cre;Camk2a-tTA;Ai93  behavior_session_A    385255   \n",
       "\n",
       "          experiment_date  specimen_id  ophys_frame_rate  stimulus_frame_rate  \n",
       "719321260      2018-07-12    685152008              31.0                 60.0  "
      ]
     },
     "execution_count": 86,
     "metadata": {},
     "output_type": "execute_result"
    }
   ],
   "source": [
    "dataset.metadata"
   ]
  },
  {
   "cell_type": "code",
   "execution_count": 87,
   "metadata": {},
   "outputs": [
    {
     "name": "stdout",
     "output_type": "stream",
     "text": [
      "targeted_structure: VISal\n",
      "cre line: Slc17a7-IRES2-Cre\n",
      "imaging_depth: 175\n"
     ]
    }
   ],
   "source": [
    "# make sure this is the experiment you selected\n",
    "print 'targeted_structure:', dataset.metadata.targeted_structure.values[0]\n",
    "print 'cre line:', dataset.metadata.cre_line.values[0]\n",
    "print 'imaging_depth:', dataset.metadata.imaging_depth.values[0]"
   ]
  },
  {
   "cell_type": "markdown",
   "metadata": {},
   "source": [
    "<div style=\"background: #DFF0D8; border-radius: 3px; padding: 10px;\">\n",
    "<p>**Exercise 2.4:** Get the maximum intensity projection image for your dataset and display it. \n",
    "</div>"
   ]
  },
  {
   "cell_type": "code",
   "execution_count": 88,
   "metadata": {},
   "outputs": [
    {
     "data": {
      "text/plain": [
       "(-0.5, 446.5, 511.5, -0.5)"
      ]
     },
     "execution_count": 88,
     "metadata": {},
     "output_type": "execute_result"
    },
    {
     "data": {
      "image/png": "[encoded data removed]",
      "text/plain": [
       "<matplotlib.figure.Figure at 0x790cdbe0>"
      ]
     },
     "metadata": {},
     "output_type": "display_data"
    }
   ],
   "source": [
    "plt.imshow(dataset.max_projection,cmap='gray',)\n",
    "plt.axis('off')"
   ]
  },
  {
   "cell_type": "markdown",
   "metadata": {},
   "source": [
    "<div style=\"background: #DFF0D8; border-radius: 3px; padding: 10px;\">\n",
    "<p>**Exercise 2.5:** Plot the dF/F trace for a cell by indexing into the dff_traces array\n",
    "\n",
    "<p>Get the timestamps for ophys acquisition frames and plot the dF/F trace in seconds\n",
    "\n",
    "<p>What does the trace look like for other cells?\n",
    "\n",
    "</div>"
   ]
  },
  {
   "cell_type": "code",
   "execution_count": 89,
   "metadata": {
    "collapsed": true
   },
   "outputs": [],
   "source": [
    "# pick a cell \n",
    "cell_index = 8"
   ]
  },
  {
   "cell_type": "code",
   "execution_count": 90,
   "metadata": {},
   "outputs": [
    {
     "data": {
      "text/plain": [
       "<matplotlib.text.Text at 0x2467ab00>"
      ]
     },
     "execution_count": 90,
     "metadata": {},
     "output_type": "execute_result"
    },
    {
     "data": {
      "image/png": "[encoded data removed]",
      "text/plain": [
       "<matplotlib.figure.Figure at 0x24662208>"
      ]
     },
     "metadata": {},
     "output_type": "display_data"
    }
   ],
   "source": [
    "plt.plot(dataset.timestamps_ophys,dataset.dff_traces[cell_index])\n",
    "plt.xlabel('seconds')\n",
    "plt.ylabel('dF/F')"
   ]
  },
  {
   "cell_type": "markdown",
   "metadata": {},
   "source": [
    "<div style=\"background: #DFF0D8; border-radius: 3px; padding: 10px;\">\n",
    "<p>**Exercise 2.6:** Get the cell_specimen_id for your cell index\n",
    "</div>"
   ]
  },
  {
   "cell_type": "code",
   "execution_count": 91,
   "metadata": {},
   "outputs": [
    {
     "name": "stdout",
     "output_type": "stream",
     "text": [
      "719333939\n"
     ]
    }
   ],
   "source": [
    "cell_specimen_id = dataset.get_cell_specimen_id_for_cell_index(cell_index)\n",
    "print cell_specimen_id"
   ]
  },
  {
   "cell_type": "markdown",
   "metadata": {},
   "source": [
    "<div style=\"background: #DFF0D8; border-radius: 3px; padding: 10px;\">\n",
    "<p>**Exercise 2.7:** Plot the roi mask for that cell using the cell_specimen_id to index into the roi_masks dictionary. \n",
    "</div>"
   ]
  },
  {
   "cell_type": "code",
   "execution_count": 92,
   "metadata": {},
   "outputs": [
    {
     "data": {
      "image/png": "[encoded data removed]",
      "text/plain": [
       "<matplotlib.figure.Figure at 0x2469b3c8>"
      ]
     },
     "metadata": {},
     "output_type": "display_data"
    }
   ],
   "source": [
    "# use cell_specimen_id for roi_dict\n",
    "plt.imshow(dataset.roi_masks[str(cell_specimen_id)])\n",
    "plt.grid('off')"
   ]
  },
  {
   "cell_type": "markdown",
   "metadata": {},
   "source": [
    "<div style=\"border-left: 3px solid #000; padding: 1px; padding-left: 10px; background: #F0FAFF; \">\n",
    "<h2>Behavior timeseries and events - running, licks, rewards, and visual stimuli </h2>\n",
    "<p>As the mouse performs the behavioral task, it is free to run on a disk. The task is a go/no-go style task with licking as the behavioral response. When a mouse correctly licks the water spout, a reward is delivered. \n",
    "\n",
    "<p>Running, licks and rewards are measured at the stimulus frame display rate and share timestamps with the stimulus. "
   ]
  },
  {
   "cell_type": "markdown",
   "metadata": {},
   "source": [
    "<div style=\"background: #DFF0D8; border-radius: 3px; padding: 10px;\">\n",
    "<p>**Exercise 3.1:** Plot running speed\n",
    "\n",
    "<p>Note that dataset.running_speed is a dataframe. Values for running speed need to be extracted from this dataframe. \n",
    "\n",
    "<p>Plot the x-axis in seconds, using 'timestamps_stimulus'\n",
    "<p>Running speed is measured in cm/s. Label the axes appropriately. \n",
    "</div>"
   ]
  },
  {
   "cell_type": "code",
   "execution_count": 93,
   "metadata": {},
   "outputs": [
    {
     "data": {
      "text/plain": [
       "<matplotlib.text.Text at 0x29c856a0>"
      ]
     },
     "execution_count": 93,
     "metadata": {},
     "output_type": "execute_result"
    },
    {
     "data": {
      "image/png": "[encoded data removed]",
      "text/plain": [
       "<matplotlib.figure.Figure at 0x2877d4a8>"
      ]
     },
     "metadata": {},
     "output_type": "display_data"
    }
   ],
   "source": [
    "plt.plot(dataset.timestamps_stimulus,dataset.running_speed.running_speed.values)\n",
    "plt.xlabel('time (sec)')\n",
    "plt.ylabel('running speed (cm/s)')"
   ]
  },
  {
   "cell_type": "markdown",
   "metadata": {},
   "source": [
    "<div style=\"background: #DFF0D8; border-radius: 3px; padding: 10px;\">\n",
    "<p>**Exercise 3.2:** Plot licking and reward times\n",
    "    \n",
    "<p>Re-create the plot above. Set xlims to focus on a 1 minute portion of the behavior session, from x=600 to x=660. \n",
    "\n",
    "<p>Plot licking and rewards as points (not a line), at y = -10. Use different colors or marker types for licks and rewards.\n",
    "\n",
    "<p>Hint: You will need to create an array of len(dataset.licks.time.values) filled with -10 to plot.\n",
    "\n",
    "<p>Create a legend. Bonus: place the legend outside of the main figure.\n",
    "\n",
    "<p>What is the relationship between running, licking and rewards? \n",
    "</div>"
   ]
  },
  {
   "cell_type": "code",
   "execution_count": 94,
   "metadata": {},
   "outputs": [
    {
     "data": {
      "text/plain": [
       "<matplotlib.legend.Legend at 0x27cc4668>"
      ]
     },
     "execution_count": 94,
     "metadata": {},
     "output_type": "execute_result"
    },
    {
     "data": {
      "image/png": "[encoded data removed]",
      "text/plain": [
       "<matplotlib.figure.Figure at 0x284a4550>"
      ]
     },
     "metadata": {},
     "output_type": "display_data"
    }
   ],
   "source": [
    "plt.plot(dataset.timestamps_stimulus,dataset.running_speed.running_speed.values)\n",
    "#plot licks\n",
    "lick_y_vals = np.empty(len(dataset.licks.time.values))\n",
    "lick_y_vals[:] = -10\n",
    "plt.plot(dataset.licks.time.values,lick_y_vals,'.',label='licks')\n",
    "#plot rewards\n",
    "reward_y_vals = np.empty(len(dataset.rewards.time.values))\n",
    "reward_y_vals[:] = -10\n",
    "plt.plot(dataset.rewards.time.values,reward_y_vals,'o',label='rewards')\n",
    "\n",
    "plt.xlim(600,660)\n",
    "plt.xlabel('time (sec)')\n",
    "plt.ylabel('running speed (cm/s)')\n",
    "plt.legend(loc=9, bbox_to_anchor=(1.2,1))"
   ]
  },
  {
   "cell_type": "markdown",
   "metadata": {},
   "source": [
    "<div style=\"background: #DFF0D8; border-radius: 3px; padding: 10px;\">\n",
    "<p>**Exercise 3.3:** Plot visual stimulus times\n",
    "\n",
    "<p>Get 'stimulus_table' from the dataset to identify the times of stimulus presentations. How many stimulus flashes were there? \n",
    "\n",
    "<p>Recreate the plot above, but zoom in on a 20 second window. \n",
    "\n",
    "<p>Plot stimulus presentations using plt.axvspan() with alpha=0.3 & facecolor='gray'\n",
    "\n",
    "<p>Hint: loop through each row of stimulus table and use 'start_time' and 'end_time'\n",
    "\n",
    "</div>"
   ]
  },
  {
   "cell_type": "code",
   "execution_count": 95,
   "metadata": {},
   "outputs": [
    {
     "data": {
      "text/html": [
       "<div>\n",
       "<style scoped>\n",
       "    .dataframe tbody tr th:only-of-type {\n",
       "        vertical-align: middle;\n",
       "    }\n",
       "\n",
       "    .dataframe tbody tr th {\n",
       "        vertical-align: top;\n",
       "    }\n",
       "\n",
       "    .dataframe thead th {\n",
       "        text-align: right;\n",
       "    }\n",
       "</style>\n",
       "<table border=\"1\" class=\"dataframe\">\n",
       "  <thead>\n",
       "    <tr style=\"text-align: right;\">\n",
       "      <th></th>\n",
       "      <th>flash_number</th>\n",
       "      <th>start_frame</th>\n",
       "      <th>end_frame</th>\n",
       "      <th>start_time</th>\n",
       "      <th>end_time</th>\n",
       "      <th>duration</th>\n",
       "      <th>image_category</th>\n",
       "      <th>image_name</th>\n",
       "      <th>orientation</th>\n",
       "      <th>contrast</th>\n",
       "    </tr>\n",
       "  </thead>\n",
       "  <tbody>\n",
       "    <tr>\n",
       "      <th>0</th>\n",
       "      <td>0</td>\n",
       "      <td>1</td>\n",
       "      <td>16</td>\n",
       "      <td>34.88175</td>\n",
       "      <td>35.13180</td>\n",
       "      <td>35.130590</td>\n",
       "      <td>im061</td>\n",
       "      <td>im061</td>\n",
       "      <td>None</td>\n",
       "      <td>None</td>\n",
       "    </tr>\n",
       "    <tr>\n",
       "      <th>45</th>\n",
       "      <td>1</td>\n",
       "      <td>46</td>\n",
       "      <td>61</td>\n",
       "      <td>35.63224</td>\n",
       "      <td>35.88243</td>\n",
       "      <td>35.131233</td>\n",
       "      <td>im061</td>\n",
       "      <td>im061</td>\n",
       "      <td>None</td>\n",
       "      <td>None</td>\n",
       "    </tr>\n",
       "    <tr>\n",
       "      <th>90</th>\n",
       "      <td>2</td>\n",
       "      <td>91</td>\n",
       "      <td>106</td>\n",
       "      <td>36.38278</td>\n",
       "      <td>36.63304</td>\n",
       "      <td>35.131023</td>\n",
       "      <td>im061</td>\n",
       "      <td>im061</td>\n",
       "      <td>None</td>\n",
       "      <td>None</td>\n",
       "    </tr>\n",
       "    <tr>\n",
       "      <th>135</th>\n",
       "      <td>3</td>\n",
       "      <td>136</td>\n",
       "      <td>151</td>\n",
       "      <td>37.13337</td>\n",
       "      <td>37.38367</td>\n",
       "      <td>35.131331</td>\n",
       "      <td>im061</td>\n",
       "      <td>im061</td>\n",
       "      <td>None</td>\n",
       "      <td>None</td>\n",
       "    </tr>\n",
       "    <tr>\n",
       "      <th>180</th>\n",
       "      <td>4</td>\n",
       "      <td>181</td>\n",
       "      <td>196</td>\n",
       "      <td>37.88405</td>\n",
       "      <td>38.13426</td>\n",
       "      <td>35.131247</td>\n",
       "      <td>im061</td>\n",
       "      <td>im061</td>\n",
       "      <td>None</td>\n",
       "      <td>None</td>\n",
       "    </tr>\n",
       "  </tbody>\n",
       "</table>\n",
       "</div>"
      ],
      "text/plain": [
       "     flash_number  start_frame  end_frame  start_time  end_time   duration  \\\n",
       "0               0            1         16    34.88175  35.13180  35.130590   \n",
       "45              1           46         61    35.63224  35.88243  35.131233   \n",
       "90              2           91        106    36.38278  36.63304  35.131023   \n",
       "135             3          136        151    37.13337  37.38367  35.131331   \n",
       "180             4          181        196    37.88405  38.13426  35.131247   \n",
       "\n",
       "    image_category image_name orientation contrast  \n",
       "0            im061      im061        None     None  \n",
       "45           im061      im061        None     None  \n",
       "90           im061      im061        None     None  \n",
       "135          im061      im061        None     None  \n",
       "180          im061      im061        None     None  "
      ]
     },
     "execution_count": 95,
     "metadata": {},
     "output_type": "execute_result"
    }
   ],
   "source": [
    "dataset.stimulus_table.head()"
   ]
  },
  {
   "cell_type": "code",
   "execution_count": 96,
   "metadata": {},
   "outputs": [
    {
     "name": "stdout",
     "output_type": "stream",
     "text": [
      "number of stimulus presentations = 4581\n"
     ]
    }
   ],
   "source": [
    "print 'number of stimulus presentations =',len(dataset.stimulus_table)"
   ]
  },
  {
   "cell_type": "code",
   "execution_count": 97,
   "metadata": {},
   "outputs": [
    {
     "data": {
      "text/plain": [
       "<matplotlib.legend.Legend at 0x283713c8>"
      ]
     },
     "execution_count": 97,
     "metadata": {},
     "output_type": "execute_result"
    },
    {
     "data": {
      "image/png": "[encoded data removed]",
      "text/plain": [
       "<matplotlib.figure.Figure at 0x281d42e8>"
      ]
     },
     "metadata": {},
     "output_type": "display_data"
    }
   ],
   "source": [
    "plt.plot(dataset.timestamps_stimulus,dataset.running_speed.running_speed.values)\n",
    "#plot licks\n",
    "lick_y_vals = np.empty(len(dataset.licks.time.values))\n",
    "lick_y_vals[:] = -10\n",
    "plt.plot(dataset.licks.time.values,lick_y_vals,'.',label='licks')\n",
    "#plot rewards\n",
    "reward_y_vals = np.empty(len(dataset.rewards.time.values))\n",
    "reward_y_vals[:] = -10\n",
    "plt.plot(dataset.rewards.time.values,reward_y_vals,'o',label='rewards')\n",
    "\n",
    "for flash_number in dataset.stimulus_table.flash_number.values:\n",
    "    row_data = dataset.stimulus_table[dataset.stimulus_table.flash_number==flash_number]\n",
    "    plt.axvspan(xmin=row_data.start_time.values[0],xmax=row_data.end_time.values[0],facecolor='gray',alpha=0.3)\n",
    "\n",
    "plt.xlim(600,620)\n",
    "plt.xlabel('time (sec)')\n",
    "plt.ylabel('running speed (cm/s)')\n",
    "plt.legend(loc=9, bbox_to_anchor=(1.2,1))\n"
   ]
  },
  {
   "cell_type": "markdown",
   "metadata": {},
   "source": [
    "<div style=\"background: #DFF0D8; border-radius: 3px; padding: 10px;\">\n",
    "<p>**Exercise 3.3:** Get visual stimulus data\n",
    "\n",
    "<p>Get 'stimulus_metadata' and 'stimulus_template' from the dataset object. How do they relate to each other?\n",
    "\n",
    "<p>Plot an image using plt.imshow. Show the image_name in the title.\n",
    "\n",
    "<p>Hint: 'image_index' of 'stimulus_metadata' corresponds to the index in 'stimulus_template'\n",
    "\n",
    "</div>"
   ]
  },
  {
   "cell_type": "code",
   "execution_count": 98,
   "metadata": {},
   "outputs": [
    {
     "data": {
      "text/html": [
       "<div>\n",
       "<style scoped>\n",
       "    .dataframe tbody tr th:only-of-type {\n",
       "        vertical-align: middle;\n",
       "    }\n",
       "\n",
       "    .dataframe tbody tr th {\n",
       "        vertical-align: top;\n",
       "    }\n",
       "\n",
       "    .dataframe thead th {\n",
       "        text-align: right;\n",
       "    }\n",
       "</style>\n",
       "<table border=\"1\" class=\"dataframe\">\n",
       "  <thead>\n",
       "    <tr style=\"text-align: right;\">\n",
       "      <th></th>\n",
       "      <th>image_category</th>\n",
       "      <th>image_index</th>\n",
       "      <th>image_name</th>\n",
       "    </tr>\n",
       "  </thead>\n",
       "  <tbody>\n",
       "    <tr>\n",
       "      <th>0</th>\n",
       "      <td>im065</td>\n",
       "      <td>0</td>\n",
       "      <td>im065</td>\n",
       "    </tr>\n",
       "    <tr>\n",
       "      <th>1</th>\n",
       "      <td>im077</td>\n",
       "      <td>1</td>\n",
       "      <td>im077</td>\n",
       "    </tr>\n",
       "    <tr>\n",
       "      <th>2</th>\n",
       "      <td>im066</td>\n",
       "      <td>2</td>\n",
       "      <td>im066</td>\n",
       "    </tr>\n",
       "    <tr>\n",
       "      <th>3</th>\n",
       "      <td>im061</td>\n",
       "      <td>3</td>\n",
       "      <td>im061</td>\n",
       "    </tr>\n",
       "    <tr>\n",
       "      <th>4</th>\n",
       "      <td>im063</td>\n",
       "      <td>4</td>\n",
       "      <td>im063</td>\n",
       "    </tr>\n",
       "    <tr>\n",
       "      <th>5</th>\n",
       "      <td>im062</td>\n",
       "      <td>5</td>\n",
       "      <td>im062</td>\n",
       "    </tr>\n",
       "    <tr>\n",
       "      <th>6</th>\n",
       "      <td>im085</td>\n",
       "      <td>6</td>\n",
       "      <td>im085</td>\n",
       "    </tr>\n",
       "    <tr>\n",
       "      <th>7</th>\n",
       "      <td>im069</td>\n",
       "      <td>7</td>\n",
       "      <td>im069</td>\n",
       "    </tr>\n",
       "  </tbody>\n",
       "</table>\n",
       "</div>"
      ],
      "text/plain": [
       "  image_category  image_index image_name\n",
       "0          im065            0      im065\n",
       "1          im077            1      im077\n",
       "2          im066            2      im066\n",
       "3          im061            3      im061\n",
       "4          im063            4      im063\n",
       "5          im062            5      im062\n",
       "6          im085            6      im085\n",
       "7          im069            7      im069"
      ]
     },
     "execution_count": 98,
     "metadata": {},
     "output_type": "execute_result"
    }
   ],
   "source": [
    "stimulus_metadata = dataset.stimulus_metadata\n",
    "stimulus_metadata"
   ]
  },
  {
   "cell_type": "code",
   "execution_count": 99,
   "metadata": {},
   "outputs": [
    {
     "data": {
      "text/plain": [
       "(8L, 918L, 1174L)"
      ]
     },
     "execution_count": 99,
     "metadata": {},
     "output_type": "execute_result"
    }
   ],
   "source": [
    "stimulus_template = dataset.stimulus_template\n",
    "stimulus_template.shape"
   ]
  },
  {
   "cell_type": "code",
   "execution_count": 100,
   "metadata": {},
   "outputs": [
    {
     "data": {
      "text/html": [
       "<div>\n",
       "<style scoped>\n",
       "    .dataframe tbody tr th:only-of-type {\n",
       "        vertical-align: middle;\n",
       "    }\n",
       "\n",
       "    .dataframe tbody tr th {\n",
       "        vertical-align: top;\n",
       "    }\n",
       "\n",
       "    .dataframe thead th {\n",
       "        text-align: right;\n",
       "    }\n",
       "</style>\n",
       "<table border=\"1\" class=\"dataframe\">\n",
       "  <thead>\n",
       "    <tr style=\"text-align: right;\">\n",
       "      <th></th>\n",
       "      <th>image_category</th>\n",
       "      <th>image_index</th>\n",
       "      <th>image_name</th>\n",
       "    </tr>\n",
       "  </thead>\n",
       "  <tbody>\n",
       "    <tr>\n",
       "      <th>0</th>\n",
       "      <td>im065</td>\n",
       "      <td>0</td>\n",
       "      <td>im065</td>\n",
       "    </tr>\n",
       "    <tr>\n",
       "      <th>1</th>\n",
       "      <td>im077</td>\n",
       "      <td>1</td>\n",
       "      <td>im077</td>\n",
       "    </tr>\n",
       "    <tr>\n",
       "      <th>2</th>\n",
       "      <td>im066</td>\n",
       "      <td>2</td>\n",
       "      <td>im066</td>\n",
       "    </tr>\n",
       "    <tr>\n",
       "      <th>3</th>\n",
       "      <td>im061</td>\n",
       "      <td>3</td>\n",
       "      <td>im061</td>\n",
       "    </tr>\n",
       "    <tr>\n",
       "      <th>4</th>\n",
       "      <td>im063</td>\n",
       "      <td>4</td>\n",
       "      <td>im063</td>\n",
       "    </tr>\n",
       "    <tr>\n",
       "      <th>5</th>\n",
       "      <td>im062</td>\n",
       "      <td>5</td>\n",
       "      <td>im062</td>\n",
       "    </tr>\n",
       "    <tr>\n",
       "      <th>6</th>\n",
       "      <td>im085</td>\n",
       "      <td>6</td>\n",
       "      <td>im085</td>\n",
       "    </tr>\n",
       "    <tr>\n",
       "      <th>7</th>\n",
       "      <td>im069</td>\n",
       "      <td>7</td>\n",
       "      <td>im069</td>\n",
       "    </tr>\n",
       "  </tbody>\n",
       "</table>\n",
       "</div>"
      ],
      "text/plain": [
       "  image_category  image_index image_name\n",
       "0          im065            0      im065\n",
       "1          im077            1      im077\n",
       "2          im066            2      im066\n",
       "3          im061            3      im061\n",
       "4          im063            4      im063\n",
       "5          im062            5      im062\n",
       "6          im085            6      im085\n",
       "7          im069            7      im069"
      ]
     },
     "execution_count": 100,
     "metadata": {},
     "output_type": "execute_result"
    }
   ],
   "source": [
    "stimulus_metadata"
   ]
  },
  {
   "cell_type": "code",
   "execution_count": 101,
   "metadata": {},
   "outputs": [
    {
     "data": {
      "text/plain": [
       "<matplotlib.text.Text at 0x34d2d278>"
      ]
     },
     "execution_count": 101,
     "metadata": {},
     "output_type": "execute_result"
    },
    {
     "data": {
      "image/png": "[encoded data removed]",
      "text/plain": [
       "<matplotlib.figure.Figure at 0x29c96518>"
      ]
     },
     "metadata": {},
     "output_type": "display_data"
    }
   ],
   "source": [
    "image_name = stimulus_metadata.image_name.values[0]\n",
    "image_index = stimulus_metadata[stimulus_metadata.image_name==image_name].image_index.values[0]\n",
    "image_data = stimulus_template[image_index]\n",
    "plt.imshow(image_data,cmap='gray')\n",
    "plt.title(image_name)"
   ]
  },
  {
   "cell_type": "markdown",
   "metadata": {},
   "source": [
    "<div style=\"border-left: 3px solid #000; padding: 1px; padding-left: 10px; background: #F0FAFF; \">\n",
    "<h2>Change Detection task - behavioral trials</h2>\n",
    "<p>The change detection task consists of a series of image presentations. Each image flash is 250ms followed by 500ms of gray screen. The task for the mouse is to lick in a 750ms response window following a change in image identity. \n",
    "<p>On each trial, a change time is scheduled. On go trials, a change in image identity occurs. On catch trials, no image change occurs (aka 'sham change'), and we measure false alarm rates in the same 750ms response window. The dataset object has a record of every trial, both 'go' and 'catch', including information about what images were shown before and after the change time, the times of the mouse's licks, reward delivery, and other metadata for each trial.  \n"
   ]
  },
  {
   "cell_type": "markdown",
   "metadata": {},
   "source": [
    "<div style=\"background: #DFF0D8; border-radius: 3px; padding: 10px;\">\n",
    "<p>**Exercise 4.1:** Get the trial records from the dataset object. \n",
    "<p>What images were shown in this behavior session? \n",
    "<p>How many trials were there? \n",
    "<p>How many of those trials had stimulus changes, aka 'go' trials?\n",
    "<p>Hint: Use the value of the 'trial_type' column to filter the dataframe\n",
    "</div>"
   ]
  },
  {
   "cell_type": "code",
   "execution_count": 102,
   "metadata": {},
   "outputs": [
    {
     "data": {
      "text/html": [
       "<div>\n",
       "<style scoped>\n",
       "    .dataframe tbody tr th:only-of-type {\n",
       "        vertical-align: middle;\n",
       "    }\n",
       "\n",
       "    .dataframe tbody tr th {\n",
       "        vertical-align: top;\n",
       "    }\n",
       "\n",
       "    .dataframe thead th {\n",
       "        text-align: right;\n",
       "    }\n",
       "</style>\n",
       "<table border=\"1\" class=\"dataframe\">\n",
       "  <thead>\n",
       "    <tr style=\"text-align: right;\">\n",
       "      <th></th>\n",
       "      <th>trial</th>\n",
       "      <th>original_trial_index</th>\n",
       "      <th>auto_rewarded</th>\n",
       "      <th>change_contrast</th>\n",
       "      <th>change_frame</th>\n",
       "      <th>change_image_category</th>\n",
       "      <th>change_image_name</th>\n",
       "      <th>change_ori</th>\n",
       "      <th>change_time</th>\n",
       "      <th>cumulative_reward_number</th>\n",
       "      <th>...</th>\n",
       "      <th>number_of_rewards</th>\n",
       "      <th>rig_id</th>\n",
       "      <th>trial_type</th>\n",
       "      <th>lick_frames</th>\n",
       "      <th>reward_licks</th>\n",
       "      <th>reward_lick_count</th>\n",
       "      <th>reward_lick_latency</th>\n",
       "      <th>reward_rate</th>\n",
       "      <th>response</th>\n",
       "      <th>color</th>\n",
       "    </tr>\n",
       "  </thead>\n",
       "  <tbody>\n",
       "    <tr>\n",
       "      <th>0</th>\n",
       "      <td>0</td>\n",
       "      <td>32</td>\n",
       "      <td>False</td>\n",
       "      <td>1.0</td>\n",
       "      <td>6704.0</td>\n",
       "      <td>im077</td>\n",
       "      <td>im077</td>\n",
       "      <td>90.0</td>\n",
       "      <td>146.75620</td>\n",
       "      <td>5</td>\n",
       "      <td>...</td>\n",
       "      <td>0</td>\n",
       "      <td>2P6</td>\n",
       "      <td>catch</td>\n",
       "      <td>[6790]</td>\n",
       "      <td>[]</td>\n",
       "      <td>0</td>\n",
       "      <td>NaN</td>\n",
       "      <td>2.566187</td>\n",
       "      <td>0.0</td>\n",
       "      <td>yellow</td>\n",
       "    </tr>\n",
       "    <tr>\n",
       "      <th>1</th>\n",
       "      <td>1</td>\n",
       "      <td>36</td>\n",
       "      <td>None</td>\n",
       "      <td>1.0</td>\n",
       "      <td>7559.0</td>\n",
       "      <td>im063</td>\n",
       "      <td>im063</td>\n",
       "      <td>90.0</td>\n",
       "      <td>161.01790</td>\n",
       "      <td>6</td>\n",
       "      <td>...</td>\n",
       "      <td>1</td>\n",
       "      <td>2P6</td>\n",
       "      <td>go</td>\n",
       "      <td>[7593, 7606, 7618, 7624, 7632, 7639, 7647, 765...</td>\n",
       "      <td>[0.21711, 0.41728, 0.51736, 0.65082, 0.76761, ...</td>\n",
       "      <td>23</td>\n",
       "      <td>0.21711</td>\n",
       "      <td>2.475365</td>\n",
       "      <td>1.0</td>\n",
       "      <td>darkgreen</td>\n",
       "    </tr>\n",
       "    <tr>\n",
       "      <th>2</th>\n",
       "      <td>2</td>\n",
       "      <td>43</td>\n",
       "      <td>None</td>\n",
       "      <td>1.0</td>\n",
       "      <td>9089.0</td>\n",
       "      <td>im066</td>\n",
       "      <td>im066</td>\n",
       "      <td>90.0</td>\n",
       "      <td>186.53876</td>\n",
       "      <td>7</td>\n",
       "      <td>...</td>\n",
       "      <td>1</td>\n",
       "      <td>2P6</td>\n",
       "      <td>go</td>\n",
       "      <td>[9120, 9132, 9143, 9150, 9157, 9165, 9182, 919...</td>\n",
       "      <td>[0.20015, 0.38362, 0.50037, 0.61712, 0.75058, ...</td>\n",
       "      <td>20</td>\n",
       "      <td>0.20015</td>\n",
       "      <td>2.507317</td>\n",
       "      <td>1.0</td>\n",
       "      <td>darkgreen</td>\n",
       "    </tr>\n",
       "    <tr>\n",
       "      <th>3</th>\n",
       "      <td>3</td>\n",
       "      <td>44</td>\n",
       "      <td>None</td>\n",
       "      <td>1.0</td>\n",
       "      <td>9584.0</td>\n",
       "      <td>im085</td>\n",
       "      <td>im085</td>\n",
       "      <td>90.0</td>\n",
       "      <td>194.79547</td>\n",
       "      <td>8</td>\n",
       "      <td>...</td>\n",
       "      <td>1</td>\n",
       "      <td>2P6</td>\n",
       "      <td>go</td>\n",
       "      <td>[9586, 9599, 9613, 9626, 9633, 9646, 9653, 966...</td>\n",
       "      <td>[0.23348, 0.45035, 0.56705, 0.78391, 0.90073, ...</td>\n",
       "      <td>22</td>\n",
       "      <td>0.23348</td>\n",
       "      <td>2.507316</td>\n",
       "      <td>1.0</td>\n",
       "      <td>darkgreen</td>\n",
       "    </tr>\n",
       "    <tr>\n",
       "      <th>4</th>\n",
       "      <td>4</td>\n",
       "      <td>52</td>\n",
       "      <td>None</td>\n",
       "      <td>1.0</td>\n",
       "      <td>10709.0</td>\n",
       "      <td>im062</td>\n",
       "      <td>im062</td>\n",
       "      <td>90.0</td>\n",
       "      <td>213.56080</td>\n",
       "      <td>8</td>\n",
       "      <td>...</td>\n",
       "      <td>0</td>\n",
       "      <td>2P6</td>\n",
       "      <td>go</td>\n",
       "      <td>[]</td>\n",
       "      <td>[]</td>\n",
       "      <td>0</td>\n",
       "      <td>NaN</td>\n",
       "      <td>2.735406</td>\n",
       "      <td>0.0</td>\n",
       "      <td>lightgreen</td>\n",
       "    </tr>\n",
       "  </tbody>\n",
       "</table>\n",
       "<p>5 rows × 65 columns</p>\n",
       "</div>"
      ],
      "text/plain": [
       "   trial  original_trial_index auto_rewarded  change_contrast  change_frame  \\\n",
       "0      0                    32         False              1.0        6704.0   \n",
       "1      1                    36          None              1.0        7559.0   \n",
       "2      2                    43          None              1.0        9089.0   \n",
       "3      3                    44          None              1.0        9584.0   \n",
       "4      4                    52          None              1.0       10709.0   \n",
       "\n",
       "  change_image_category change_image_name  change_ori  change_time  \\\n",
       "0                 im077             im077        90.0    146.75620   \n",
       "1                 im063             im063        90.0    161.01790   \n",
       "2                 im066             im066        90.0    186.53876   \n",
       "3                 im085             im085        90.0    194.79547   \n",
       "4                 im062             im062        90.0    213.56080   \n",
       "\n",
       "   cumulative_reward_number     ...      number_of_rewards  rig_id  \\\n",
       "0                         5     ...                      0     2P6   \n",
       "1                         6     ...                      1     2P6   \n",
       "2                         7     ...                      1     2P6   \n",
       "3                         8     ...                      1     2P6   \n",
       "4                         8     ...                      0     2P6   \n",
       "\n",
       "   trial_type                                        lick_frames  \\\n",
       "0       catch                                             [6790]   \n",
       "1          go  [7593, 7606, 7618, 7624, 7632, 7639, 7647, 765...   \n",
       "2          go  [9120, 9132, 9143, 9150, 9157, 9165, 9182, 919...   \n",
       "3          go  [9586, 9599, 9613, 9626, 9633, 9646, 9653, 966...   \n",
       "4          go                                                 []   \n",
       "\n",
       "                                        reward_licks reward_lick_count  \\\n",
       "0                                                 []                 0   \n",
       "1  [0.21711, 0.41728, 0.51736, 0.65082, 0.76761, ...                23   \n",
       "2  [0.20015, 0.38362, 0.50037, 0.61712, 0.75058, ...                20   \n",
       "3  [0.23348, 0.45035, 0.56705, 0.78391, 0.90073, ...                22   \n",
       "4                                                 []                 0   \n",
       "\n",
       "   reward_lick_latency reward_rate  response       color  \n",
       "0                  NaN    2.566187       0.0      yellow  \n",
       "1              0.21711    2.475365       1.0   darkgreen  \n",
       "2              0.20015    2.507317       1.0   darkgreen  \n",
       "3              0.23348    2.507316       1.0   darkgreen  \n",
       "4                  NaN    2.735406       0.0  lightgreen  \n",
       "\n",
       "[5 rows x 65 columns]"
      ]
     },
     "execution_count": 102,
     "metadata": {},
     "output_type": "execute_result"
    }
   ],
   "source": [
    "trials = dataset.trials\n",
    "trials.head()"
   ]
  },
  {
   "cell_type": "code",
   "execution_count": 103,
   "metadata": {},
   "outputs": [
    {
     "name": "stdout",
     "output_type": "stream",
     "text": [
      "['im077' 'im063' 'im066' 'im085' 'im062' 'im065' 'im061' 'im069']\n"
     ]
    }
   ],
   "source": [
    "images = trials.change_image_name.unique()\n",
    "print images"
   ]
  },
  {
   "cell_type": "code",
   "execution_count": 104,
   "metadata": {},
   "outputs": [
    {
     "name": "stdout",
     "output_type": "stream",
     "text": [
      "number of trials = 302\n"
     ]
    }
   ],
   "source": [
    "print 'number of trials =',len(trials)"
   ]
  },
  {
   "cell_type": "code",
   "execution_count": 105,
   "metadata": {},
   "outputs": [
    {
     "name": "stdout",
     "output_type": "stream",
     "text": [
      "number of change trials = 264\n"
     ]
    }
   ],
   "source": [
    "print 'number of change trials =',len(trials[trials.trial_type=='go'])"
   ]
  },
  {
   "cell_type": "markdown",
   "metadata": {},
   "source": [
    "<div style=\"background: #DFF0D8; border-radius: 3px; padding: 10px;\">\n",
    "<p>**Exercise 4.2:** Plot the behavioral response rate for each image separately for go and catch trials. \n",
    "\n",
    "<p> First, select all the 'go' trials for a given change_image by filtering the dataframe\n",
    "\n",
    "<p> Use the 'response' column to quantify the fraction of selected trials where the mouse emitted a behavioral response. 'response' is a boolean indicating whether or not the mouse emitted a lick on that trial.\n",
    "\n",
    "</div>"
   ]
  },
  {
   "cell_type": "code",
   "execution_count": 106,
   "metadata": {},
   "outputs": [
    {
     "data": {
      "text/html": [
       "<div>\n",
       "<style scoped>\n",
       "    .dataframe tbody tr th:only-of-type {\n",
       "        vertical-align: middle;\n",
       "    }\n",
       "\n",
       "    .dataframe tbody tr th {\n",
       "        vertical-align: top;\n",
       "    }\n",
       "\n",
       "    .dataframe thead th {\n",
       "        text-align: right;\n",
       "    }\n",
       "</style>\n",
       "<table border=\"1\" class=\"dataframe\">\n",
       "  <thead>\n",
       "    <tr style=\"text-align: right;\">\n",
       "      <th></th>\n",
       "      <th>trial</th>\n",
       "      <th>original_trial_index</th>\n",
       "      <th>auto_rewarded</th>\n",
       "      <th>change_contrast</th>\n",
       "      <th>change_frame</th>\n",
       "      <th>change_image_category</th>\n",
       "      <th>change_image_name</th>\n",
       "      <th>change_ori</th>\n",
       "      <th>change_time</th>\n",
       "      <th>cumulative_reward_number</th>\n",
       "      <th>...</th>\n",
       "      <th>number_of_rewards</th>\n",
       "      <th>rig_id</th>\n",
       "      <th>trial_type</th>\n",
       "      <th>lick_frames</th>\n",
       "      <th>reward_licks</th>\n",
       "      <th>reward_lick_count</th>\n",
       "      <th>reward_lick_latency</th>\n",
       "      <th>reward_rate</th>\n",
       "      <th>response</th>\n",
       "      <th>color</th>\n",
       "    </tr>\n",
       "  </thead>\n",
       "  <tbody>\n",
       "    <tr>\n",
       "      <th>9</th>\n",
       "      <td>9</td>\n",
       "      <td>63</td>\n",
       "      <td>None</td>\n",
       "      <td>1.0</td>\n",
       "      <td>14084.0</td>\n",
       "      <td>im077</td>\n",
       "      <td>im077</td>\n",
       "      <td>90.0</td>\n",
       "      <td>269.85678</td>\n",
       "      <td>10</td>\n",
       "      <td>...</td>\n",
       "      <td>0</td>\n",
       "      <td>2P6</td>\n",
       "      <td>go</td>\n",
       "      <td>[14251, 14262]</td>\n",
       "      <td>[]</td>\n",
       "      <td>0</td>\n",
       "      <td>NaN</td>\n",
       "      <td>2.684372</td>\n",
       "      <td>0.0</td>\n",
       "      <td>lightgreen</td>\n",
       "    </tr>\n",
       "    <tr>\n",
       "      <th>22</th>\n",
       "      <td>22</td>\n",
       "      <td>106</td>\n",
       "      <td>None</td>\n",
       "      <td>1.0</td>\n",
       "      <td>24569.0</td>\n",
       "      <td>im077</td>\n",
       "      <td>im077</td>\n",
       "      <td>90.0</td>\n",
       "      <td>444.74971</td>\n",
       "      <td>20</td>\n",
       "      <td>...</td>\n",
       "      <td>0</td>\n",
       "      <td>2P6</td>\n",
       "      <td>go</td>\n",
       "      <td>[24801]</td>\n",
       "      <td>[]</td>\n",
       "      <td>0</td>\n",
       "      <td>NaN</td>\n",
       "      <td>3.141535</td>\n",
       "      <td>0.0</td>\n",
       "      <td>lightgreen</td>\n",
       "    </tr>\n",
       "    <tr>\n",
       "      <th>38</th>\n",
       "      <td>38</td>\n",
       "      <td>204</td>\n",
       "      <td>None</td>\n",
       "      <td>1.0</td>\n",
       "      <td>40678.0</td>\n",
       "      <td>im077</td>\n",
       "      <td>im077</td>\n",
       "      <td>90.0</td>\n",
       "      <td>713.46951</td>\n",
       "      <td>29</td>\n",
       "      <td>...</td>\n",
       "      <td>0</td>\n",
       "      <td>2P6</td>\n",
       "      <td>go</td>\n",
       "      <td>[]</td>\n",
       "      <td>[]</td>\n",
       "      <td>0</td>\n",
       "      <td>NaN</td>\n",
       "      <td>3.208157</td>\n",
       "      <td>0.0</td>\n",
       "      <td>lightgreen</td>\n",
       "    </tr>\n",
       "    <tr>\n",
       "      <th>40</th>\n",
       "      <td>40</td>\n",
       "      <td>208</td>\n",
       "      <td>None</td>\n",
       "      <td>1.0</td>\n",
       "      <td>41618.0</td>\n",
       "      <td>im077</td>\n",
       "      <td>im077</td>\n",
       "      <td>90.0</td>\n",
       "      <td>729.41586</td>\n",
       "      <td>29</td>\n",
       "      <td>...</td>\n",
       "      <td>0</td>\n",
       "      <td>2P6</td>\n",
       "      <td>go</td>\n",
       "      <td>[]</td>\n",
       "      <td>[]</td>\n",
       "      <td>0</td>\n",
       "      <td>NaN</td>\n",
       "      <td>2.695434</td>\n",
       "      <td>0.0</td>\n",
       "      <td>lightgreen</td>\n",
       "    </tr>\n",
       "    <tr>\n",
       "      <th>47</th>\n",
       "      <td>47</td>\n",
       "      <td>231</td>\n",
       "      <td>None</td>\n",
       "      <td>1.0</td>\n",
       "      <td>46883.0</td>\n",
       "      <td>im077</td>\n",
       "      <td>im077</td>\n",
       "      <td>90.0</td>\n",
       "      <td>817.23762</td>\n",
       "      <td>32</td>\n",
       "      <td>...</td>\n",
       "      <td>0</td>\n",
       "      <td>2P6</td>\n",
       "      <td>go</td>\n",
       "      <td>[47057]</td>\n",
       "      <td>[]</td>\n",
       "      <td>0</td>\n",
       "      <td>NaN</td>\n",
       "      <td>3.107339</td>\n",
       "      <td>0.0</td>\n",
       "      <td>lightgreen</td>\n",
       "    </tr>\n",
       "  </tbody>\n",
       "</table>\n",
       "<p>5 rows × 65 columns</p>\n",
       "</div>"
      ],
      "text/plain": [
       "    trial  original_trial_index auto_rewarded  change_contrast  change_frame  \\\n",
       "9       9                    63          None              1.0       14084.0   \n",
       "22     22                   106          None              1.0       24569.0   \n",
       "38     38                   204          None              1.0       40678.0   \n",
       "40     40                   208          None              1.0       41618.0   \n",
       "47     47                   231          None              1.0       46883.0   \n",
       "\n",
       "   change_image_category change_image_name  change_ori  change_time  \\\n",
       "9                  im077             im077        90.0    269.85678   \n",
       "22                 im077             im077        90.0    444.74971   \n",
       "38                 im077             im077        90.0    713.46951   \n",
       "40                 im077             im077        90.0    729.41586   \n",
       "47                 im077             im077        90.0    817.23762   \n",
       "\n",
       "    cumulative_reward_number     ...      number_of_rewards  rig_id  \\\n",
       "9                         10     ...                      0     2P6   \n",
       "22                        20     ...                      0     2P6   \n",
       "38                        29     ...                      0     2P6   \n",
       "40                        29     ...                      0     2P6   \n",
       "47                        32     ...                      0     2P6   \n",
       "\n",
       "    trial_type     lick_frames reward_licks reward_lick_count  \\\n",
       "9           go  [14251, 14262]           []                 0   \n",
       "22          go         [24801]           []                 0   \n",
       "38          go              []           []                 0   \n",
       "40          go              []           []                 0   \n",
       "47          go         [47057]           []                 0   \n",
       "\n",
       "    reward_lick_latency reward_rate  response       color  \n",
       "9                   NaN    2.684372       0.0  lightgreen  \n",
       "22                  NaN    3.141535       0.0  lightgreen  \n",
       "38                  NaN    3.208157       0.0  lightgreen  \n",
       "40                  NaN    2.695434       0.0  lightgreen  \n",
       "47                  NaN    3.107339       0.0  lightgreen  \n",
       "\n",
       "[5 rows x 65 columns]"
      ]
     },
     "execution_count": 106,
     "metadata": {},
     "output_type": "execute_result"
    }
   ],
   "source": [
    "image = images[0]\n",
    "trial_type = 'go'\n",
    "selected_trials = trials[(trials.change_image_name==image)&(trials.trial_type==trial_type)]\n",
    "selected_trials.head()"
   ]
  },
  {
   "cell_type": "code",
   "execution_count": 107,
   "metadata": {},
   "outputs": [
    {
     "name": "stdout",
     "output_type": "stream",
     "text": [
      "fraction of go trials with a behavioral response for image im077 = 0.0909090909091\n"
     ]
    }
   ],
   "source": [
    "fraction_responding_trials = selected_trials.response.mean()\n",
    "print 'fraction of',trial_type,'trials with a behavioral response for image',image,'=',fraction_responding_trials"
   ]
  },
  {
   "cell_type": "markdown",
   "metadata": {},
   "source": [
    "<div style=\"background: #DFF0D8; border-radius: 3px; padding: 10px;\">\n",
    "<p>**Exercise 4.2 (continued):** Plot the behavioral response rate for each image separately for go and catch trials. \n",
    "\n",
    "<p> Now, loop through all images and create a plot of response probability on go trials for each image\n",
    "\n",
    "<p> Do the same for catch trials\n",
    "\n",
    "<p> Bonus: plot response rate for go and catch trials in the same figure, with points colored by trial type\n",
    "\n",
    "</div>"
   ]
  },
  {
   "cell_type": "code",
   "execution_count": 108,
   "metadata": {},
   "outputs": [
    {
     "data": {
      "text/plain": [
       "(0, 1)"
      ]
     },
     "execution_count": 108,
     "metadata": {},
     "output_type": "execute_result"
    },
    {
     "data": {
      "image/png": "[encoded data removed]",
      "text/plain": [
       "<matplotlib.figure.Figure at 0x3503f550>"
      ]
     },
     "metadata": {},
     "output_type": "display_data"
    }
   ],
   "source": [
    "colors = sns.color_palette()\n",
    "trial_type = 'go'\n",
    "for i,image in enumerate(images): \n",
    "    selected_trials = trials[(trials.change_image_name==image)&(trials.trial_type==trial_type)]\n",
    "    response_probability = selected_trials.response.mean()\n",
    "    plt.plot(i,response_probability,'o')\n",
    "plt.xticks(np.arange(0,len(images),1),images,rotation=90)\n",
    "plt.ylabel('response probability')\n",
    "plt.xlabel('change image')\n",
    "plt.title('go trials')\n",
    "plt.ylim(0,1)"
   ]
  },
  {
   "cell_type": "code",
   "execution_count": 109,
   "metadata": {},
   "outputs": [
    {
     "data": {
      "text/plain": [
       "(0, 1)"
      ]
     },
     "execution_count": 109,
     "metadata": {},
     "output_type": "execute_result"
    },
    {
     "data": {
      "image/png": "[encoded data removed]",
      "text/plain": [
       "<matplotlib.figure.Figure at 0x363b0978>"
      ]
     },
     "metadata": {},
     "output_type": "display_data"
    }
   ],
   "source": [
    "colors = sns.color_palette()\n",
    "trial_type = 'catch'\n",
    "for i,image in enumerate(images): \n",
    "    selected_trials = trials[(trials.change_image_name==image)&(trials.trial_type==trial_type)]\n",
    "    response_probability = selected_trials.response.mean()\n",
    "    plt.plot(i,response_probability,'o')\n",
    "plt.xticks(np.arange(0,len(images),1),images,rotation=90)\n",
    "plt.ylabel('response probability')\n",
    "plt.xlabel('change image')\n",
    "plt.title('catch trials')\n",
    "plt.ylim(0,1)"
   ]
  },
  {
   "cell_type": "code",
   "execution_count": 110,
   "metadata": {
    "scrolled": true
   },
   "outputs": [
    {
     "data": {
      "text/plain": [
       "<matplotlib.legend.Legend at 0x367a0f98>"
      ]
     },
     "execution_count": 110,
     "metadata": {},
     "output_type": "execute_result"
    },
    {
     "data": {
      "image/png": "[encoded data removed]",
      "text/plain": [
       "<matplotlib.figure.Figure at 0x281f3908>"
      ]
     },
     "metadata": {},
     "output_type": "display_data"
    }
   ],
   "source": [
    "colors = sns.color_palette()\n",
    "trial_types = trials.trial_type.unique()\n",
    "for i,image in enumerate(images): \n",
    "    for t,trial_type in enumerate(trial_types):\n",
    "        selected_trials = trials[(trials.change_image_name==image)&(trials.trial_type==trial_type)]\n",
    "        response_probability = selected_trials.response.mean()\n",
    "        plt.plot(i,response_probability,'o',color=colors[t])\n",
    "plt.ylim(0,1)\n",
    "plt.xticks(np.arange(0,len(images),1),images,rotation=90)\n",
    "plt.ylabel('response probability')\n",
    "plt.xlabel('change image')\n",
    "plt.title('response probability by trial type & image')\n",
    "plt.legend(['go','catch'])"
   ]
  },
  {
   "cell_type": "markdown",
   "metadata": {},
   "source": [
    "<div style=\"border-left: 3px solid #000; padding: 1px; padding-left: 10px; background: #F0FAFF; \">\n",
    "<h2>The ResponseAnalysis object </h2>\n",
    "<p>The ResponseAnalysis class takes a VisualBehaviorDataset object and extracts cell responses for the stimulus flashes in 'stimulus_table' and for the trials in 'trials'. \n",
    "<p>This does the work of temporal alignment for you, and translates between 'timestamps_stimulus' and 'timestamps_ophys' to get the times in the dF/F trace that correspond to stimulus presentations, in 'dataset.stimulus_table' and behavioral trial change times in 'dataset.trials'\n",
    "<p>\n",
    "</div>"
   ]
  },
  {
   "cell_type": "markdown",
   "metadata": {},
   "source": [
    "<div style=\"background: #DFF0D8; border-radius: 3px; padding: 10px;\">\n",
    "<p>**Exercise 5.1:** Generate the ResponseAnalysis object by passing in your dataset. \n",
    "\n",
    "<p> What is available to you in the ResponseAnalysis class? Use help to check the documentation, or look directly at the code to see what operations are performed. \n",
    "</div>"
   ]
  },
  {
   "cell_type": "code",
   "execution_count": 111,
   "metadata": {},
   "outputs": [],
   "source": [
    "from visual_behavior.ophys.response_analysis.response_analysis import ResponseAnalysis "
   ]
  },
  {
   "cell_type": "code",
   "execution_count": 112,
   "metadata": {},
   "outputs": [
    {
     "name": "stdout",
     "output_type": "stream",
     "text": [
      "loading trial response dataframe\n",
      "loading flash response dataframe\n"
     ]
    }
   ],
   "source": [
    "analysis = ResponseAnalysis(dataset)"
   ]
  },
  {
   "cell_type": "code",
   "execution_count": 113,
   "metadata": {
    "scrolled": true
   },
   "outputs": [
    {
     "name": "stdout",
     "output_type": "stream",
     "text": [
      "Help on class ResponseAnalysis in module visual_behavior.ophys.response_analysis.response_analysis:\n",
      "\n",
      "class ResponseAnalysis(__builtin__.object)\n",
      " |  Contains methods for organizing responses by trial or by  visual stimulus flashes in a DataFrame.\n",
      " |  \n",
      " |  For trial responses, a segment of the dF/F trace for each cell is extracted for each trial in the trials records in a +/-4 seconds window (the 'trial_window') around the change time.\n",
      " |  The mean_response for each cell is taken in a 500ms window after the change time (the 'response_window').\n",
      " |  The trial_response_df also contains behavioral metadata such as lick times, running speed, reward rate, and initial and change stimulus names.\n",
      " |  \n",
      " |  For stimulus flashes, the mean response is taken in a 500ms window after each stimulus presentation (the 'response_window') in the stimulus_table.\n",
      " |  The flash_response_df also contains metadata such as the time from last lick, time since last stimulus change, and mean running speed during each flash.\n",
      " |  \n",
      " |  Parameters\n",
      " |  ----------\n",
      " |  dataset: VisualBehaviorOphysDataset instance\n",
      " |  overwrite_analysis_files: Boolean, if True will create and overwrite response analysis  files.\n",
      " |  If False, will load existing analysis files from dataset.analysis_dir, or generate and save them if none exist.\n",
      " |  \n",
      " |  Methods defined here:\n",
      " |  \n",
      " |  __init__(self, dataset, overwrite_analysis_files=False)\n",
      " |  \n",
      " |  generate_flash_response_df(self)\n",
      " |  \n",
      " |  generate_trial_response_df(self)\n",
      " |  \n",
      " |  get_flash_response_df(self)\n",
      " |  \n",
      " |  get_flash_response_df_path(self)\n",
      " |  \n",
      " |  get_trial_response_df(self)\n",
      " |  \n",
      " |  get_trial_response_df_path(self)\n",
      " |  \n",
      " |  save_flash_response_df(self, flash_response_df)\n",
      " |  \n",
      " |  save_trial_response_df(self, trial_response_df)\n",
      " |  \n",
      " |  ----------------------------------------------------------------------\n",
      " |  Data descriptors defined here:\n",
      " |  \n",
      " |  __dict__\n",
      " |      dictionary for instance variables (if defined)\n",
      " |  \n",
      " |  __weakref__\n",
      " |      list of weak references to the object (if defined)\n",
      "\n"
     ]
    }
   ],
   "source": [
    "help(ResponseAnalysis)"
   ]
  },
  {
   "cell_type": "markdown",
   "metadata": {},
   "source": [
    "<div style=\"background: #DFF0D8; border-radius: 3px; padding: 10px;\">\n",
    "<p>**Exercise 5.2:** Explore the 'trial_response_df' of the ResponseAnalysis object\n",
    "\n",
    "<p>What is in 'trial_response_df' ? What are the columns? Whats different than the trials records in the dataset object? \n",
    "</div>"
   ]
  },
  {
   "cell_type": "code",
   "execution_count": 114,
   "metadata": {},
   "outputs": [
    {
     "data": {
      "text/plain": [
       "Index([u'trial', u'cell', u'cell_specimen_id', u'trace', u'timestamps',\n",
       "       u'mean_response', u'baseline_response', u'p_value', u'sd_over_baseline',\n",
       "       u'running_speed_trace', u'running_speed_timestamps',\n",
       "       u'mean_running_speed', u'trial_type', u'initial_image_name',\n",
       "       u'change_image_name', u'change_time', u'lick_times', u'reward_times',\n",
       "       u'behavioral_response', u'behavioral_response_type',\n",
       "       u'behavioral_response_time', u'behavioral_response_latency',\n",
       "       u'rewarded', u'reward_rate', u'reward_volume', u'cumulative_volume',\n",
       "       u'cumulative_reward_number', u'reward_lick_count', u'color',\n",
       "       u'initial_image_category', u'change_image_category', u'change_frame',\n",
       "       u'lick_frames', u'reward_frames', u'startframe', u'starttime',\n",
       "       u'endframe', u'endtime', u'trial_length', u'stim_duration', u'stimulus',\n",
       "       u'task', u'mouse_id', u'behavior_session_uuid', u'startdatetime'],\n",
       "      dtype='object')"
      ]
     },
     "execution_count": 114,
     "metadata": {},
     "output_type": "execute_result"
    }
   ],
   "source": [
    "rdf = analysis.trial_response_df\n",
    "rdf.keys()"
   ]
  },
  {
   "cell_type": "code",
   "execution_count": 115,
   "metadata": {},
   "outputs": [
    {
     "data": {
      "text/html": [
       "<div>\n",
       "<style scoped>\n",
       "    .dataframe tbody tr th:only-of-type {\n",
       "        vertical-align: middle;\n",
       "    }\n",
       "\n",
       "    .dataframe tbody tr th {\n",
       "        vertical-align: top;\n",
       "    }\n",
       "\n",
       "    .dataframe thead th {\n",
       "        text-align: right;\n",
       "    }\n",
       "</style>\n",
       "<table border=\"1\" class=\"dataframe\">\n",
       "  <thead>\n",
       "    <tr style=\"text-align: right;\">\n",
       "      <th></th>\n",
       "      <th>trial</th>\n",
       "      <th>cell</th>\n",
       "      <th>cell_specimen_id</th>\n",
       "      <th>trace</th>\n",
       "      <th>timestamps</th>\n",
       "      <th>mean_response</th>\n",
       "      <th>baseline_response</th>\n",
       "      <th>p_value</th>\n",
       "      <th>sd_over_baseline</th>\n",
       "      <th>running_speed_trace</th>\n",
       "      <th>...</th>\n",
       "      <th>starttime</th>\n",
       "      <th>endframe</th>\n",
       "      <th>endtime</th>\n",
       "      <th>trial_length</th>\n",
       "      <th>stim_duration</th>\n",
       "      <th>stimulus</th>\n",
       "      <th>task</th>\n",
       "      <th>mouse_id</th>\n",
       "      <th>behavior_session_uuid</th>\n",
       "      <th>startdatetime</th>\n",
       "    </tr>\n",
       "  </thead>\n",
       "  <tbody>\n",
       "    <tr>\n",
       "      <th>0</th>\n",
       "      <td>0</td>\n",
       "      <td>0</td>\n",
       "      <td>719333911</td>\n",
       "      <td>[-0.0341845226221, -0.0222363582266, 0.0619931...</td>\n",
       "      <td>[142.75465, 142.78694, 142.81923, 142.85152, 1...</td>\n",
       "      <td>0.017919</td>\n",
       "      <td>0.006720</td>\n",
       "      <td>0.620637</td>\n",
       "      <td>0.260571</td>\n",
       "      <td>[26.0515611699, 24.1558756149, 21.0925016656, ...</td>\n",
       "      <td>...</td>\n",
       "      <td>143.73711</td>\n",
       "      <td>6793</td>\n",
       "      <td>148.2408</td>\n",
       "      <td>4.503835</td>\n",
       "      <td>0.25</td>\n",
       "      <td>Natural_Images_Lum_Matched_set_training_2017.0...</td>\n",
       "      <td>DoC_NaturalImages_Ophys_SessionA</td>\n",
       "      <td>M385255</td>\n",
       "      <td>None</td>\n",
       "      <td>2018-07-12 10:55:19.576000-07:00</td>\n",
       "    </tr>\n",
       "    <tr>\n",
       "      <th>1</th>\n",
       "      <td>0</td>\n",
       "      <td>1</td>\n",
       "      <td>719333915</td>\n",
       "      <td>[0.0484321614459, 0.017575266082, -0.035155615...</td>\n",
       "      <td>[142.75465, 142.78694, 142.81923, 142.85152, 1...</td>\n",
       "      <td>0.002927</td>\n",
       "      <td>0.021561</td>\n",
       "      <td>0.195686</td>\n",
       "      <td>0.081255</td>\n",
       "      <td>[26.0515611699, 24.1558756149, 21.0925016656, ...</td>\n",
       "      <td>...</td>\n",
       "      <td>143.73711</td>\n",
       "      <td>6793</td>\n",
       "      <td>148.2408</td>\n",
       "      <td>4.503835</td>\n",
       "      <td>0.25</td>\n",
       "      <td>Natural_Images_Lum_Matched_set_training_2017.0...</td>\n",
       "      <td>DoC_NaturalImages_Ophys_SessionA</td>\n",
       "      <td>M385255</td>\n",
       "      <td>None</td>\n",
       "      <td>2018-07-12 10:55:19.576000-07:00</td>\n",
       "    </tr>\n",
       "    <tr>\n",
       "      <th>2</th>\n",
       "      <td>0</td>\n",
       "      <td>2</td>\n",
       "      <td>719333917</td>\n",
       "      <td>[-0.00436815349183, -0.0099722054295, -0.02006...</td>\n",
       "      <td>[142.75465, 142.78694, 142.81923, 142.85152, 1...</td>\n",
       "      <td>-0.010491</td>\n",
       "      <td>-0.016642</td>\n",
       "      <td>0.745467</td>\n",
       "      <td>-0.196375</td>\n",
       "      <td>[26.0515611699, 24.1558756149, 21.0925016656, ...</td>\n",
       "      <td>...</td>\n",
       "      <td>143.73711</td>\n",
       "      <td>6793</td>\n",
       "      <td>148.2408</td>\n",
       "      <td>4.503835</td>\n",
       "      <td>0.25</td>\n",
       "      <td>Natural_Images_Lum_Matched_set_training_2017.0...</td>\n",
       "      <td>DoC_NaturalImages_Ophys_SessionA</td>\n",
       "      <td>M385255</td>\n",
       "      <td>None</td>\n",
       "      <td>2018-07-12 10:55:19.576000-07:00</td>\n",
       "    </tr>\n",
       "    <tr>\n",
       "      <th>3</th>\n",
       "      <td>0</td>\n",
       "      <td>3</td>\n",
       "      <td>719333919</td>\n",
       "      <td>[-0.0215444126666, -0.0529458895098, -0.085730...</td>\n",
       "      <td>[142.75465, 142.78694, 142.81923, 142.85152, 1...</td>\n",
       "      <td>0.007670</td>\n",
       "      <td>-0.020480</td>\n",
       "      <td>0.119278</td>\n",
       "      <td>0.169735</td>\n",
       "      <td>[26.0515611699, 24.1558756149, 21.0925016656, ...</td>\n",
       "      <td>...</td>\n",
       "      <td>143.73711</td>\n",
       "      <td>6793</td>\n",
       "      <td>148.2408</td>\n",
       "      <td>4.503835</td>\n",
       "      <td>0.25</td>\n",
       "      <td>Natural_Images_Lum_Matched_set_training_2017.0...</td>\n",
       "      <td>DoC_NaturalImages_Ophys_SessionA</td>\n",
       "      <td>M385255</td>\n",
       "      <td>None</td>\n",
       "      <td>2018-07-12 10:55:19.576000-07:00</td>\n",
       "    </tr>\n",
       "    <tr>\n",
       "      <th>4</th>\n",
       "      <td>0</td>\n",
       "      <td>4</td>\n",
       "      <td>719333921</td>\n",
       "      <td>[0.0404718712765, 0.0429019691893, 0.047975893...</td>\n",
       "      <td>[142.75465, 142.78694, 142.81923, 142.85152, 1...</td>\n",
       "      <td>0.027847</td>\n",
       "      <td>0.015650</td>\n",
       "      <td>0.466264</td>\n",
       "      <td>0.608709</td>\n",
       "      <td>[26.0515611699, 24.1558756149, 21.0925016656, ...</td>\n",
       "      <td>...</td>\n",
       "      <td>143.73711</td>\n",
       "      <td>6793</td>\n",
       "      <td>148.2408</td>\n",
       "      <td>4.503835</td>\n",
       "      <td>0.25</td>\n",
       "      <td>Natural_Images_Lum_Matched_set_training_2017.0...</td>\n",
       "      <td>DoC_NaturalImages_Ophys_SessionA</td>\n",
       "      <td>M385255</td>\n",
       "      <td>None</td>\n",
       "      <td>2018-07-12 10:55:19.576000-07:00</td>\n",
       "    </tr>\n",
       "  </tbody>\n",
       "</table>\n",
       "<p>5 rows × 45 columns</p>\n",
       "</div>"
      ],
      "text/plain": [
       "   trial  cell  cell_specimen_id  \\\n",
       "0      0     0         719333911   \n",
       "1      0     1         719333915   \n",
       "2      0     2         719333917   \n",
       "3      0     3         719333919   \n",
       "4      0     4         719333921   \n",
       "\n",
       "                                               trace  \\\n",
       "0  [-0.0341845226221, -0.0222363582266, 0.0619931...   \n",
       "1  [0.0484321614459, 0.017575266082, -0.035155615...   \n",
       "2  [-0.00436815349183, -0.0099722054295, -0.02006...   \n",
       "3  [-0.0215444126666, -0.0529458895098, -0.085730...   \n",
       "4  [0.0404718712765, 0.0429019691893, 0.047975893...   \n",
       "\n",
       "                                          timestamps  mean_response  \\\n",
       "0  [142.75465, 142.78694, 142.81923, 142.85152, 1...       0.017919   \n",
       "1  [142.75465, 142.78694, 142.81923, 142.85152, 1...       0.002927   \n",
       "2  [142.75465, 142.78694, 142.81923, 142.85152, 1...      -0.010491   \n",
       "3  [142.75465, 142.78694, 142.81923, 142.85152, 1...       0.007670   \n",
       "4  [142.75465, 142.78694, 142.81923, 142.85152, 1...       0.027847   \n",
       "\n",
       "   baseline_response   p_value  sd_over_baseline  \\\n",
       "0           0.006720  0.620637          0.260571   \n",
       "1           0.021561  0.195686          0.081255   \n",
       "2          -0.016642  0.745467         -0.196375   \n",
       "3          -0.020480  0.119278          0.169735   \n",
       "4           0.015650  0.466264          0.608709   \n",
       "\n",
       "                                 running_speed_trace  \\\n",
       "0  [26.0515611699, 24.1558756149, 21.0925016656, ...   \n",
       "1  [26.0515611699, 24.1558756149, 21.0925016656, ...   \n",
       "2  [26.0515611699, 24.1558756149, 21.0925016656, ...   \n",
       "3  [26.0515611699, 24.1558756149, 21.0925016656, ...   \n",
       "4  [26.0515611699, 24.1558756149, 21.0925016656, ...   \n",
       "\n",
       "                 ...                 starttime  endframe   endtime  \\\n",
       "0                ...                 143.73711      6793  148.2408   \n",
       "1                ...                 143.73711      6793  148.2408   \n",
       "2                ...                 143.73711      6793  148.2408   \n",
       "3                ...                 143.73711      6793  148.2408   \n",
       "4                ...                 143.73711      6793  148.2408   \n",
       "\n",
       "  trial_length stim_duration  \\\n",
       "0     4.503835          0.25   \n",
       "1     4.503835          0.25   \n",
       "2     4.503835          0.25   \n",
       "3     4.503835          0.25   \n",
       "4     4.503835          0.25   \n",
       "\n",
       "                                            stimulus  \\\n",
       "0  Natural_Images_Lum_Matched_set_training_2017.0...   \n",
       "1  Natural_Images_Lum_Matched_set_training_2017.0...   \n",
       "2  Natural_Images_Lum_Matched_set_training_2017.0...   \n",
       "3  Natural_Images_Lum_Matched_set_training_2017.0...   \n",
       "4  Natural_Images_Lum_Matched_set_training_2017.0...   \n",
       "\n",
       "                               task mouse_id  behavior_session_uuid  \\\n",
       "0  DoC_NaturalImages_Ophys_SessionA  M385255                   None   \n",
       "1  DoC_NaturalImages_Ophys_SessionA  M385255                   None   \n",
       "2  DoC_NaturalImages_Ophys_SessionA  M385255                   None   \n",
       "3  DoC_NaturalImages_Ophys_SessionA  M385255                   None   \n",
       "4  DoC_NaturalImages_Ophys_SessionA  M385255                   None   \n",
       "\n",
       "                      startdatetime  \n",
       "0  2018-07-12 10:55:19.576000-07:00  \n",
       "1  2018-07-12 10:55:19.576000-07:00  \n",
       "2  2018-07-12 10:55:19.576000-07:00  \n",
       "3  2018-07-12 10:55:19.576000-07:00  \n",
       "4  2018-07-12 10:55:19.576000-07:00  \n",
       "\n",
       "[5 rows x 45 columns]"
      ]
     },
     "execution_count": 115,
     "metadata": {},
     "output_type": "execute_result"
    }
   ],
   "source": [
    "rdf.head()"
   ]
  },
  {
   "cell_type": "markdown",
   "metadata": {},
   "source": [
    "<div style=\"background: #DFF0D8; border-radius: 3px; padding: 10px;\">\n",
    "<p>**Exercise 5.3:** Plot a cell's response for a single trial \n",
    "\n",
    "<p>Each row of 'trial_response_df' corresponds to a single trial for a single cell from the experiment. Find the row of 'trial_response_df' that has the largest value of the 'mean_response' column. \n",
    "\n",
    "<p>What cell had the largest response? Assign the cell index to the variable 'cell'\n",
    "\n",
    "<p>What image evoked the largest response? Assign the image name to a variable called 'change_image_name'\n",
    "\n",
    "<p>Was it a go or catch trial? Assign the trial type to a variable called 'trial_type'\n",
    "\n",
    "<p>Plot the dF/F trace for that trial\n",
    "\n",
    "<p>Bonus: Plot time in seconds relative to the trial change time, using the 'timestamps' column and knowledge of the range of the 'trial_window'\n",
    "\n",
    "</div>"
   ]
  },
  {
   "cell_type": "code",
   "execution_count": 116,
   "metadata": {},
   "outputs": [
    {
     "data": {
      "text/html": [
       "<div>\n",
       "<style scoped>\n",
       "    .dataframe tbody tr th:only-of-type {\n",
       "        vertical-align: middle;\n",
       "    }\n",
       "\n",
       "    .dataframe tbody tr th {\n",
       "        vertical-align: top;\n",
       "    }\n",
       "\n",
       "    .dataframe thead th {\n",
       "        text-align: right;\n",
       "    }\n",
       "</style>\n",
       "<table border=\"1\" class=\"dataframe\">\n",
       "  <thead>\n",
       "    <tr style=\"text-align: right;\">\n",
       "      <th></th>\n",
       "      <th>trial</th>\n",
       "      <th>cell</th>\n",
       "      <th>cell_specimen_id</th>\n",
       "      <th>trace</th>\n",
       "      <th>timestamps</th>\n",
       "      <th>mean_response</th>\n",
       "      <th>baseline_response</th>\n",
       "      <th>p_value</th>\n",
       "      <th>sd_over_baseline</th>\n",
       "      <th>running_speed_trace</th>\n",
       "      <th>...</th>\n",
       "      <th>starttime</th>\n",
       "      <th>endframe</th>\n",
       "      <th>endtime</th>\n",
       "      <th>trial_length</th>\n",
       "      <th>stim_duration</th>\n",
       "      <th>stimulus</th>\n",
       "      <th>task</th>\n",
       "      <th>mouse_id</th>\n",
       "      <th>behavior_session_uuid</th>\n",
       "      <th>startdatetime</th>\n",
       "    </tr>\n",
       "  </thead>\n",
       "  <tbody>\n",
       "    <tr>\n",
       "      <th>6882</th>\n",
       "      <td>116</td>\n",
       "      <td>38</td>\n",
       "      <td>719334081</td>\n",
       "      <td>[0.0487414343038, 0.0948941468471, 0.009388199...</td>\n",
       "      <td>[1661.43507, 1661.46737, 1661.49966, 1661.5319...</td>\n",
       "      <td>2.46125</td>\n",
       "      <td>0.019795</td>\n",
       "      <td>4.784913e-09</td>\n",
       "      <td>54.045326</td>\n",
       "      <td>[31.1894082437, 31.9595712281, 31.9500110847, ...</td>\n",
       "      <td>...</td>\n",
       "      <td>1660.91071</td>\n",
       "      <td>97955</td>\n",
       "      <td>1669.1675</td>\n",
       "      <td>8.256975</td>\n",
       "      <td>0.25</td>\n",
       "      <td>Natural_Images_Lum_Matched_set_training_2017.0...</td>\n",
       "      <td>DoC_NaturalImages_Ophys_SessionA</td>\n",
       "      <td>M385255</td>\n",
       "      <td>None</td>\n",
       "      <td>2018-07-12 10:55:19.576000-07:00</td>\n",
       "    </tr>\n",
       "  </tbody>\n",
       "</table>\n",
       "<p>1 rows × 45 columns</p>\n",
       "</div>"
      ],
      "text/plain": [
       "      trial  cell  cell_specimen_id  \\\n",
       "6882    116    38         719334081   \n",
       "\n",
       "                                                  trace  \\\n",
       "6882  [0.0487414343038, 0.0948941468471, 0.009388199...   \n",
       "\n",
       "                                             timestamps  mean_response  \\\n",
       "6882  [1661.43507, 1661.46737, 1661.49966, 1661.5319...        2.46125   \n",
       "\n",
       "      baseline_response       p_value  sd_over_baseline  \\\n",
       "6882           0.019795  4.784913e-09         54.045326   \n",
       "\n",
       "                                    running_speed_trace  \\\n",
       "6882  [31.1894082437, 31.9595712281, 31.9500110847, ...   \n",
       "\n",
       "                    ...                  starttime  endframe    endtime  \\\n",
       "6882                ...                 1660.91071     97955  1669.1675   \n",
       "\n",
       "     trial_length stim_duration  \\\n",
       "6882     8.256975          0.25   \n",
       "\n",
       "                                               stimulus  \\\n",
       "6882  Natural_Images_Lum_Matched_set_training_2017.0...   \n",
       "\n",
       "                                  task mouse_id  behavior_session_uuid  \\\n",
       "6882  DoC_NaturalImages_Ophys_SessionA  M385255                   None   \n",
       "\n",
       "                         startdatetime  \n",
       "6882  2018-07-12 10:55:19.576000-07:00  \n",
       "\n",
       "[1 rows x 45 columns]"
      ]
     },
     "execution_count": 116,
     "metadata": {},
     "output_type": "execute_result"
    }
   ],
   "source": [
    "largest_response = rdf[rdf.mean_response==rdf.mean_response.max()]\n",
    "largest_response"
   ]
  },
  {
   "cell_type": "code",
   "execution_count": 117,
   "metadata": {},
   "outputs": [
    {
     "name": "stdout",
     "output_type": "stream",
     "text": [
      "cell with largest response: 38\n"
     ]
    }
   ],
   "source": [
    "cell = largest_response.cell.values[0]\n",
    "print 'cell with largest response:',cell"
   ]
  },
  {
   "cell_type": "code",
   "execution_count": 118,
   "metadata": {},
   "outputs": [
    {
     "name": "stdout",
     "output_type": "stream",
     "text": [
      "trial that evoked largest response for this cell: 116\n"
     ]
    }
   ],
   "source": [
    "trial = largest_response.trial.values[0]\n",
    "print 'trial that evoked largest response for this cell:',trial"
   ]
  },
  {
   "cell_type": "code",
   "execution_count": 119,
   "metadata": {},
   "outputs": [
    {
     "name": "stdout",
     "output_type": "stream",
     "text": [
      "image_name: im069\n",
      "trial_type: go\n"
     ]
    }
   ],
   "source": [
    "image_name = largest_response.change_image_name.values[0]\n",
    "print 'image_name:', image_name\n",
    "trial_type = largest_response.trial_type.values[0]\n",
    "print 'trial_type:',trial_type"
   ]
  },
  {
   "cell_type": "code",
   "execution_count": 120,
   "metadata": {},
   "outputs": [
    {
     "data": {
      "text/plain": [
       "<matplotlib.text.Text at 0x3689b198>"
      ]
     },
     "execution_count": 120,
     "metadata": {},
     "output_type": "execute_result"
    },
    {
     "data": {
      "image/png": "[encoded data removed]",
      "text/plain": [
       "<matplotlib.figure.Figure at 0x3635f780>"
      ]
     },
     "metadata": {},
     "output_type": "display_data"
    }
   ],
   "source": [
    "plt.plot(largest_response.trace.values[0])\n",
    "plt.xlabel('acquisition frames')\n",
    "plt.ylabel('dF/F')"
   ]
  },
  {
   "cell_type": "code",
   "execution_count": 121,
   "metadata": {},
   "outputs": [
    {
     "data": {
      "text/plain": [
       "<matplotlib.text.Text at 0x10cd5c50>"
      ]
     },
     "execution_count": 121,
     "metadata": {},
     "output_type": "execute_result"
    },
    {
     "data": {
      "image/png": "[encoded data removed]",
      "text/plain": [
       "<matplotlib.figure.Figure at 0xb938048>"
      ]
     },
     "metadata": {},
     "output_type": "display_data"
    }
   ],
   "source": [
    "times = largest_response.timestamps.values[0]\n",
    "times = times-times[0]\n",
    "times = times-4\n",
    "plt.plot(times,largest_response.trace.values[0])\n",
    "plt.xlabel('time relative to change (sec)')\n",
    "plt.ylabel('dF/F')"
   ]
  },
  {
   "cell_type": "code",
   "execution_count": 122,
   "metadata": {},
   "outputs": [
    {
     "data": {
      "text/plain": [
       "<matplotlib.axes._subplots.AxesSubplot at 0x34d09ac8>"
      ]
     },
     "execution_count": 122,
     "metadata": {},
     "output_type": "execute_result"
    },
    {
     "data": {
      "image/png": "[encoded data removed]",
      "text/plain": [
       "<matplotlib.figure.Figure at 0x103714a8>"
      ]
     },
     "metadata": {},
     "output_type": "display_data"
    }
   ],
   "source": [
    "#Alternatively, use the plotting functions in visual_behavior.ophys.plotting.summary_figures\n",
    "import visual_behavior.ophys.plotting.summary_figures as sf\n",
    "\n",
    "trace = largest_response.trace.values[0]\n",
    "frame_rate = analysis.ophys_frame_rate\n",
    "sf.plot_single_trial_trace(trace, frame_rate, label=None, color='k', interval_sec=1, xlims=[-4, 4], ax=None)"
   ]
  },
  {
   "cell_type": "markdown",
   "metadata": {},
   "source": [
    "<div style=\"background: #DFF0D8; border-radius: 3px; padding: 10px;\">\n",
    "<p>**Exercise 5.4:** Plot a cell's trial averaged response for a set of conditions\n",
    "\n",
    "<p>Get the dF/F traces for all trials that meet the conditions that evoked the max response (combination of trial_type and image_name) for the cell identified above and assign to a variable called 'traces'\n",
    "\n",
    "<p>Hint 1: Use 'cell', 'image_name', and 'trial_type' to index into 'trial_response_df'\n",
    "\n",
    "<p>Hint 2: Make sure to extract the an array of the values of response, not as a series\n",
    "</div>"
   ]
  },
  {
   "cell_type": "code",
   "execution_count": 123,
   "metadata": {
    "scrolled": false
   },
   "outputs": [
    {
     "data": {
      "text/plain": [
       "1041     [0.0558028141711, 0.0560015195238, 0.011555945...\n",
       "1218     [0.00702525468931, 0.0360659183041, -0.0127236...\n",
       "1808     [0.0553604878225, 0.025183302903, -0.022527919...\n",
       "2162     [0.00258997124095, -0.0225471901432, -0.051958...\n",
       "2516     [-0.00948851488254, -0.0160058666585, -0.03111...\n",
       "3755     [0.029905197452, 0.0325416982156, 0.0516707541...\n",
       "5466     [-0.112178762135, 0.00333763998505, -0.0180339...\n",
       "5643     [0.0293000102694, 0.0457363409215, 0.065675355...\n",
       "5997     [-0.0470720363299, 0.00128024915747, -0.074980...\n",
       "6233     [0.0132551563739, 0.0370672508474, 0.051774992...\n",
       "6882     [0.0487414343038, 0.0948941468471, 0.009388199...\n",
       "7000     [-0.0725788852621, -0.0103691783377, -0.059950...\n",
       "7236     [0.0277719796496, 0.0820311068482, -0.04606674...\n",
       "7649     [0.0119041003733, 0.0130914397131, 0.014408028...\n",
       "8298     [-0.0272576588543, -0.0681492692762, -0.040506...\n",
       "9183     [-0.0237112778442, 0.020751903157, 0.043764099...\n",
       "9714     [-0.0140450471162, -0.00295824556004, 0.036793...\n",
       "10245    [-0.0718586125862, -0.0422214958606, 0.0297304...\n",
       "10599    [-0.0688902100769, -0.0251070895315, -0.039398...\n",
       "11307    [0.0664389933471, -0.134506701503, -0.04243140...\n",
       "11602    [-0.0677546369125, 0.0384457575113, -0.0091051...\n",
       "12133    [0.116947929159, -0.00140665558837, 0.02444787...\n",
       "12310    [-0.0823331142258, 0.085702012557, 0.006141077...\n",
       "12664    [0.0545789770275, 0.0229637217375, 0.078468592...\n",
       "13431    [-9.61556454808e-05, 0.147079979908, -0.015255...\n",
       "14552    [-0.0260134322709, -0.047167644852, -0.0234377...\n",
       "15201    [-0.0409567838121, -0.00549289330712, -0.02161...\n",
       "15732    [0.265048380486, 0.30847812666, 0.158642933727...\n",
       "15850    [-0.132438652089, -0.0507844361582, -0.1877316...\n",
       "16440    [0.0283316319995, 0.0731745566047, -0.00680137...\n",
       "16912    [0.12828129317, 0.0019161836491, -0.0661783653...\n",
       "17679    [0.0286180891928, 0.0924739982566, 0.034565985...\n",
       "Name: trace, dtype: object"
      ]
     },
     "execution_count": 123,
     "metadata": {},
     "output_type": "execute_result"
    }
   ],
   "source": [
    "traces = rdf[(rdf.cell==cell)&(rdf.trial_type==trial_type)&(rdf.change_image_name==image_name)].trace\n",
    "traces"
   ]
  },
  {
   "cell_type": "code",
   "execution_count": 124,
   "metadata": {
    "collapsed": true
   },
   "outputs": [],
   "source": [
    "traces = traces.values"
   ]
  },
  {
   "cell_type": "markdown",
   "metadata": {},
   "source": [
    "<div style=\"background: #DFF0D8; border-radius: 3px; padding: 10px;\">\n",
    "<p>**Exercise 5.4 (continued):** Plot a cell's trial averaged trace for a set of conditions\n",
    "\n",
    "<p>Use the povided plotting function to plot the trial averaged trace for your cell. Note the dynamics of the cell's response. What could be causing the changes in response strength? \n",
    "\n",
    "<p>Bonus: Use the function 'plot_mean_trace' in visual_behavior.ophys.plotting.summary_figures\n",
    "\n",
    "<p>Extra Bonus: Use the function 'plot_flashes_on_trace' to display stimulus presentation times\n",
    "\n",
    "</div>"
   ]
  },
  {
   "cell_type": "code",
   "execution_count": 125,
   "metadata": {
    "collapsed": true
   },
   "outputs": [],
   "source": [
    "def plot_mean_trace(traces):\n",
    "    fig,ax = plt.subplots()\n",
    "    if len(traces) > 0:\n",
    "        trace = np.mean(traces,axis=0)\n",
    "        times = np.arange(0, len(trace), 1)\n",
    "        sem = (traces.std()) / np.sqrt(float(len(traces)))\n",
    "        ax.plot(trace,linewidth=3)\n",
    "        ax.fill_between(times, trace + sem, trace - sem, alpha=0.5)\n",
    "        ax.set_ylabel('dF/F')\n",
    "        ax.set_xlabel('ophys frames')\n",
    "    sns.despine(ax=ax)\n",
    "    return ax"
   ]
  },
  {
   "cell_type": "code",
   "execution_count": 126,
   "metadata": {},
   "outputs": [
    {
     "data": {
      "text/plain": [
       "<matplotlib.axes._subplots.AxesSubplot at 0x10562240>"
      ]
     },
     "execution_count": 126,
     "metadata": {},
     "output_type": "execute_result"
    },
    {
     "data": {
      "image/png": "[encoded data removed]",
      "text/plain": [
       "<matplotlib.figure.Figure at 0x1056dc88>"
      ]
     },
     "metadata": {},
     "output_type": "display_data"
    }
   ],
   "source": [
    "plot_mean_trace(traces)"
   ]
  },
  {
   "cell_type": "code",
   "execution_count": 127,
   "metadata": {},
   "outputs": [
    {
     "data": {
      "text/plain": [
       "<matplotlib.axes._subplots.AxesSubplot at 0x10384978>"
      ]
     },
     "execution_count": 127,
     "metadata": {},
     "output_type": "execute_result"
    },
    {
     "data": {
      "image/png": "[encoded data removed]",
      "text/plain": [
       "<matplotlib.figure.Figure at 0x10c4ce80>"
      ]
     },
     "metadata": {},
     "output_type": "display_data"
    }
   ],
   "source": [
    "fig,ax = plt.subplots()\n",
    "sf.plot_mean_trace(traces, analysis.ophys_frame_rate, label=None, color='k', interval_sec=1, xlims=[-4, 4], ax=ax)\n",
    "sf.plot_flashes_on_trace(ax, analysis, trial_type=None, omitted=False, alpha=0.4)"
   ]
  },
  {
   "cell_type": "markdown",
   "metadata": {},
   "source": [
    "<div style=\"background: #DFF0D8; border-radius: 3px; padding: 10px;\">\n",
    "<p>**Exercise 5.5:** Plot an image tuning curve from stimulus flashes\n",
    "\n",
    "<p>Get the 'flash_response_df' from the analysis object. What are the columns? What are the rows? \n",
    "\n",
    "<p>Filter the dataframe to get the stimulus flashes for the 'image_name' and 'cell' identified above.\n",
    "\n",
    "<p>Get the mean and standard error for the 'mean_response' column for the filtered dataframe\n",
    "\n",
    "<p>Hint: Use 'from scipy.stats import sem' to get a function to compute standard error of the mean\n",
    "</div>"
   ]
  },
  {
   "cell_type": "code",
   "execution_count": 128,
   "metadata": {},
   "outputs": [
    {
     "data": {
      "text/html": [
       "<div>\n",
       "<style scoped>\n",
       "    .dataframe tbody tr th:only-of-type {\n",
       "        vertical-align: middle;\n",
       "    }\n",
       "\n",
       "    .dataframe tbody tr th {\n",
       "        vertical-align: top;\n",
       "    }\n",
       "\n",
       "    .dataframe thead th {\n",
       "        text-align: right;\n",
       "    }\n",
       "</style>\n",
       "<table border=\"1\" class=\"dataframe\">\n",
       "  <thead>\n",
       "    <tr style=\"text-align: right;\">\n",
       "      <th></th>\n",
       "      <th>cell</th>\n",
       "      <th>flash_number</th>\n",
       "      <th>start_time</th>\n",
       "      <th>image_name</th>\n",
       "      <th>mean_response</th>\n",
       "    </tr>\n",
       "  </thead>\n",
       "  <tbody>\n",
       "    <tr>\n",
       "      <th>0</th>\n",
       "      <td>0</td>\n",
       "      <td>0</td>\n",
       "      <td>34.88175</td>\n",
       "      <td>im061</td>\n",
       "      <td>-0.007589</td>\n",
       "    </tr>\n",
       "    <tr>\n",
       "      <th>1</th>\n",
       "      <td>0</td>\n",
       "      <td>1</td>\n",
       "      <td>35.63224</td>\n",
       "      <td>im061</td>\n",
       "      <td>-0.051502</td>\n",
       "    </tr>\n",
       "    <tr>\n",
       "      <th>2</th>\n",
       "      <td>0</td>\n",
       "      <td>2</td>\n",
       "      <td>36.38278</td>\n",
       "      <td>im061</td>\n",
       "      <td>-0.078567</td>\n",
       "    </tr>\n",
       "    <tr>\n",
       "      <th>3</th>\n",
       "      <td>0</td>\n",
       "      <td>3</td>\n",
       "      <td>37.13337</td>\n",
       "      <td>im061</td>\n",
       "      <td>-0.012613</td>\n",
       "    </tr>\n",
       "    <tr>\n",
       "      <th>4</th>\n",
       "      <td>0</td>\n",
       "      <td>4</td>\n",
       "      <td>37.88405</td>\n",
       "      <td>im061</td>\n",
       "      <td>-0.034343</td>\n",
       "    </tr>\n",
       "  </tbody>\n",
       "</table>\n",
       "</div>"
      ],
      "text/plain": [
       "   cell  flash_number  start_time image_name  mean_response\n",
       "0     0             0    34.88175      im061      -0.007589\n",
       "1     0             1    35.63224      im061      -0.051502\n",
       "2     0             2    36.38278      im061      -0.078567\n",
       "3     0             3    37.13337      im061      -0.012613\n",
       "4     0             4    37.88405      im061      -0.034343"
      ]
     },
     "execution_count": 128,
     "metadata": {},
     "output_type": "execute_result"
    }
   ],
   "source": [
    "fdf = analysis.flash_response_df\n",
    "fdf.head()"
   ]
  },
  {
   "cell_type": "code",
   "execution_count": 129,
   "metadata": {},
   "outputs": [
    {
     "data": {
      "text/html": [
       "<div>\n",
       "<style scoped>\n",
       "    .dataframe tbody tr th:only-of-type {\n",
       "        vertical-align: middle;\n",
       "    }\n",
       "\n",
       "    .dataframe tbody tr th {\n",
       "        vertical-align: top;\n",
       "    }\n",
       "\n",
       "    .dataframe thead th {\n",
       "        text-align: right;\n",
       "    }\n",
       "</style>\n",
       "<table border=\"1\" class=\"dataframe\">\n",
       "  <thead>\n",
       "    <tr style=\"text-align: right;\">\n",
       "      <th></th>\n",
       "      <th>cell</th>\n",
       "      <th>flash_number</th>\n",
       "      <th>start_time</th>\n",
       "      <th>image_name</th>\n",
       "      <th>mean_response</th>\n",
       "    </tr>\n",
       "  </thead>\n",
       "  <tbody>\n",
       "    <tr>\n",
       "      <th>174105</th>\n",
       "      <td>38</td>\n",
       "      <td>27</td>\n",
       "      <td>55.89871</td>\n",
       "      <td>im069</td>\n",
       "      <td>2.891007</td>\n",
       "    </tr>\n",
       "    <tr>\n",
       "      <th>174106</th>\n",
       "      <td>38</td>\n",
       "      <td>28</td>\n",
       "      <td>56.64932</td>\n",
       "      <td>im069</td>\n",
       "      <td>2.076797</td>\n",
       "    </tr>\n",
       "    <tr>\n",
       "      <th>174107</th>\n",
       "      <td>38</td>\n",
       "      <td>29</td>\n",
       "      <td>57.40004</td>\n",
       "      <td>im069</td>\n",
       "      <td>1.106579</td>\n",
       "    </tr>\n",
       "    <tr>\n",
       "      <th>174108</th>\n",
       "      <td>38</td>\n",
       "      <td>30</td>\n",
       "      <td>58.15057</td>\n",
       "      <td>im069</td>\n",
       "      <td>1.763680</td>\n",
       "    </tr>\n",
       "    <tr>\n",
       "      <th>174109</th>\n",
       "      <td>38</td>\n",
       "      <td>31</td>\n",
       "      <td>58.90120</td>\n",
       "      <td>im069</td>\n",
       "      <td>0.697463</td>\n",
       "    </tr>\n",
       "    <tr>\n",
       "      <th>174110</th>\n",
       "      <td>38</td>\n",
       "      <td>32</td>\n",
       "      <td>59.65180</td>\n",
       "      <td>im069</td>\n",
       "      <td>1.214717</td>\n",
       "    </tr>\n",
       "    <tr>\n",
       "      <th>174111</th>\n",
       "      <td>38</td>\n",
       "      <td>33</td>\n",
       "      <td>60.40250</td>\n",
       "      <td>im069</td>\n",
       "      <td>0.620415</td>\n",
       "    </tr>\n",
       "    <tr>\n",
       "      <th>174112</th>\n",
       "      <td>38</td>\n",
       "      <td>34</td>\n",
       "      <td>61.15307</td>\n",
       "      <td>im069</td>\n",
       "      <td>1.544159</td>\n",
       "    </tr>\n",
       "    <tr>\n",
       "      <th>174113</th>\n",
       "      <td>38</td>\n",
       "      <td>35</td>\n",
       "      <td>61.90360</td>\n",
       "      <td>im069</td>\n",
       "      <td>1.120792</td>\n",
       "    </tr>\n",
       "    <tr>\n",
       "      <th>174114</th>\n",
       "      <td>38</td>\n",
       "      <td>36</td>\n",
       "      <td>62.65428</td>\n",
       "      <td>im069</td>\n",
       "      <td>1.104937</td>\n",
       "    </tr>\n",
       "    <tr>\n",
       "      <th>174115</th>\n",
       "      <td>38</td>\n",
       "      <td>37</td>\n",
       "      <td>63.40487</td>\n",
       "      <td>im069</td>\n",
       "      <td>0.897996</td>\n",
       "    </tr>\n",
       "    <tr>\n",
       "      <th>174116</th>\n",
       "      <td>38</td>\n",
       "      <td>38</td>\n",
       "      <td>64.15548</td>\n",
       "      <td>im069</td>\n",
       "      <td>0.840468</td>\n",
       "    </tr>\n",
       "    <tr>\n",
       "      <th>174117</th>\n",
       "      <td>38</td>\n",
       "      <td>39</td>\n",
       "      <td>64.90612</td>\n",
       "      <td>im069</td>\n",
       "      <td>0.169590</td>\n",
       "    </tr>\n",
       "    <tr>\n",
       "      <th>174118</th>\n",
       "      <td>38</td>\n",
       "      <td>40</td>\n",
       "      <td>65.65672</td>\n",
       "      <td>im069</td>\n",
       "      <td>0.699886</td>\n",
       "    </tr>\n",
       "    <tr>\n",
       "      <th>174119</th>\n",
       "      <td>38</td>\n",
       "      <td>41</td>\n",
       "      <td>66.40730</td>\n",
       "      <td>im069</td>\n",
       "      <td>0.052634</td>\n",
       "    </tr>\n",
       "    <tr>\n",
       "      <th>174120</th>\n",
       "      <td>38</td>\n",
       "      <td>42</td>\n",
       "      <td>67.15798</td>\n",
       "      <td>im069</td>\n",
       "      <td>1.037419</td>\n",
       "    </tr>\n",
       "    <tr>\n",
       "      <th>174121</th>\n",
       "      <td>38</td>\n",
       "      <td>43</td>\n",
       "      <td>67.90859</td>\n",
       "      <td>im069</td>\n",
       "      <td>0.527534</td>\n",
       "    </tr>\n",
       "    <tr>\n",
       "      <th>174122</th>\n",
       "      <td>38</td>\n",
       "      <td>44</td>\n",
       "      <td>68.65915</td>\n",
       "      <td>im069</td>\n",
       "      <td>0.269201</td>\n",
       "    </tr>\n",
       "    <tr>\n",
       "      <th>174123</th>\n",
       "      <td>38</td>\n",
       "      <td>45</td>\n",
       "      <td>69.40975</td>\n",
       "      <td>im069</td>\n",
       "      <td>0.611552</td>\n",
       "    </tr>\n",
       "    <tr>\n",
       "      <th>174124</th>\n",
       "      <td>38</td>\n",
       "      <td>46</td>\n",
       "      <td>70.16041</td>\n",
       "      <td>im069</td>\n",
       "      <td>0.299370</td>\n",
       "    </tr>\n",
       "    <tr>\n",
       "      <th>174125</th>\n",
       "      <td>38</td>\n",
       "      <td>47</td>\n",
       "      <td>70.91099</td>\n",
       "      <td>im069</td>\n",
       "      <td>0.476705</td>\n",
       "    </tr>\n",
       "    <tr>\n",
       "      <th>174126</th>\n",
       "      <td>38</td>\n",
       "      <td>48</td>\n",
       "      <td>71.66161</td>\n",
       "      <td>im069</td>\n",
       "      <td>0.404819</td>\n",
       "    </tr>\n",
       "    <tr>\n",
       "      <th>174127</th>\n",
       "      <td>38</td>\n",
       "      <td>49</td>\n",
       "      <td>72.41221</td>\n",
       "      <td>im069</td>\n",
       "      <td>0.392562</td>\n",
       "    </tr>\n",
       "    <tr>\n",
       "      <th>174164</th>\n",
       "      <td>38</td>\n",
       "      <td>86</td>\n",
       "      <td>100.18486</td>\n",
       "      <td>im069</td>\n",
       "      <td>1.406012</td>\n",
       "    </tr>\n",
       "    <tr>\n",
       "      <th>174165</th>\n",
       "      <td>38</td>\n",
       "      <td>87</td>\n",
       "      <td>100.93547</td>\n",
       "      <td>im069</td>\n",
       "      <td>0.221079</td>\n",
       "    </tr>\n",
       "    <tr>\n",
       "      <th>174166</th>\n",
       "      <td>38</td>\n",
       "      <td>88</td>\n",
       "      <td>101.68613</td>\n",
       "      <td>im069</td>\n",
       "      <td>0.222217</td>\n",
       "    </tr>\n",
       "    <tr>\n",
       "      <th>174167</th>\n",
       "      <td>38</td>\n",
       "      <td>89</td>\n",
       "      <td>102.43674</td>\n",
       "      <td>im069</td>\n",
       "      <td>0.122005</td>\n",
       "    </tr>\n",
       "    <tr>\n",
       "      <th>174168</th>\n",
       "      <td>38</td>\n",
       "      <td>90</td>\n",
       "      <td>103.93792</td>\n",
       "      <td>im069</td>\n",
       "      <td>1.791876</td>\n",
       "    </tr>\n",
       "    <tr>\n",
       "      <th>174169</th>\n",
       "      <td>38</td>\n",
       "      <td>91</td>\n",
       "      <td>104.68855</td>\n",
       "      <td>im069</td>\n",
       "      <td>0.986981</td>\n",
       "    </tr>\n",
       "    <tr>\n",
       "      <th>174170</th>\n",
       "      <td>38</td>\n",
       "      <td>92</td>\n",
       "      <td>105.43919</td>\n",
       "      <td>im069</td>\n",
       "      <td>1.196280</td>\n",
       "    </tr>\n",
       "    <tr>\n",
       "      <th>...</th>\n",
       "      <td>...</td>\n",
       "      <td>...</td>\n",
       "      <td>...</td>\n",
       "      <td>...</td>\n",
       "      <td>...</td>\n",
       "    </tr>\n",
       "    <tr>\n",
       "      <th>178393</th>\n",
       "      <td>38</td>\n",
       "      <td>4315</td>\n",
       "      <td>3421.88390</td>\n",
       "      <td>im069</td>\n",
       "      <td>0.005056</td>\n",
       "    </tr>\n",
       "    <tr>\n",
       "      <th>178394</th>\n",
       "      <td>38</td>\n",
       "      <td>4316</td>\n",
       "      <td>3422.63454</td>\n",
       "      <td>im069</td>\n",
       "      <td>0.013643</td>\n",
       "    </tr>\n",
       "    <tr>\n",
       "      <th>178395</th>\n",
       "      <td>38</td>\n",
       "      <td>4317</td>\n",
       "      <td>3423.38517</td>\n",
       "      <td>im069</td>\n",
       "      <td>0.078393</td>\n",
       "    </tr>\n",
       "    <tr>\n",
       "      <th>178481</th>\n",
       "      <td>38</td>\n",
       "      <td>4403</td>\n",
       "      <td>3490.18973</td>\n",
       "      <td>im069</td>\n",
       "      <td>0.183007</td>\n",
       "    </tr>\n",
       "    <tr>\n",
       "      <th>178482</th>\n",
       "      <td>38</td>\n",
       "      <td>4404</td>\n",
       "      <td>3490.94039</td>\n",
       "      <td>im069</td>\n",
       "      <td>-0.036058</td>\n",
       "    </tr>\n",
       "    <tr>\n",
       "      <th>178483</th>\n",
       "      <td>38</td>\n",
       "      <td>4405</td>\n",
       "      <td>3491.69099</td>\n",
       "      <td>im069</td>\n",
       "      <td>0.003920</td>\n",
       "    </tr>\n",
       "    <tr>\n",
       "      <th>178484</th>\n",
       "      <td>38</td>\n",
       "      <td>4406</td>\n",
       "      <td>3492.44160</td>\n",
       "      <td>im069</td>\n",
       "      <td>0.674042</td>\n",
       "    </tr>\n",
       "    <tr>\n",
       "      <th>178485</th>\n",
       "      <td>38</td>\n",
       "      <td>4407</td>\n",
       "      <td>3493.19219</td>\n",
       "      <td>im069</td>\n",
       "      <td>0.741255</td>\n",
       "    </tr>\n",
       "    <tr>\n",
       "      <th>178486</th>\n",
       "      <td>38</td>\n",
       "      <td>4408</td>\n",
       "      <td>3493.94282</td>\n",
       "      <td>im069</td>\n",
       "      <td>0.923065</td>\n",
       "    </tr>\n",
       "    <tr>\n",
       "      <th>178487</th>\n",
       "      <td>38</td>\n",
       "      <td>4409</td>\n",
       "      <td>3494.69343</td>\n",
       "      <td>im069</td>\n",
       "      <td>0.894937</td>\n",
       "    </tr>\n",
       "    <tr>\n",
       "      <th>178488</th>\n",
       "      <td>38</td>\n",
       "      <td>4410</td>\n",
       "      <td>3495.44414</td>\n",
       "      <td>im069</td>\n",
       "      <td>0.846535</td>\n",
       "    </tr>\n",
       "    <tr>\n",
       "      <th>178489</th>\n",
       "      <td>38</td>\n",
       "      <td>4411</td>\n",
       "      <td>3496.19470</td>\n",
       "      <td>im069</td>\n",
       "      <td>0.611577</td>\n",
       "    </tr>\n",
       "    <tr>\n",
       "      <th>178490</th>\n",
       "      <td>38</td>\n",
       "      <td>4412</td>\n",
       "      <td>3496.94529</td>\n",
       "      <td>im069</td>\n",
       "      <td>0.611215</td>\n",
       "    </tr>\n",
       "    <tr>\n",
       "      <th>178491</th>\n",
       "      <td>38</td>\n",
       "      <td>4413</td>\n",
       "      <td>3497.69586</td>\n",
       "      <td>im069</td>\n",
       "      <td>0.419399</td>\n",
       "    </tr>\n",
       "    <tr>\n",
       "      <th>178492</th>\n",
       "      <td>38</td>\n",
       "      <td>4414</td>\n",
       "      <td>3498.44651</td>\n",
       "      <td>im069</td>\n",
       "      <td>0.274179</td>\n",
       "    </tr>\n",
       "    <tr>\n",
       "      <th>178493</th>\n",
       "      <td>38</td>\n",
       "      <td>4415</td>\n",
       "      <td>3499.19710</td>\n",
       "      <td>im069</td>\n",
       "      <td>0.480225</td>\n",
       "    </tr>\n",
       "    <tr>\n",
       "      <th>178638</th>\n",
       "      <td>38</td>\n",
       "      <td>4560</td>\n",
       "      <td>3611.78921</td>\n",
       "      <td>im069</td>\n",
       "      <td>2.026649</td>\n",
       "    </tr>\n",
       "    <tr>\n",
       "      <th>178639</th>\n",
       "      <td>38</td>\n",
       "      <td>4561</td>\n",
       "      <td>3612.53982</td>\n",
       "      <td>im069</td>\n",
       "      <td>0.844747</td>\n",
       "    </tr>\n",
       "    <tr>\n",
       "      <th>178640</th>\n",
       "      <td>38</td>\n",
       "      <td>4562</td>\n",
       "      <td>3613.29047</td>\n",
       "      <td>im069</td>\n",
       "      <td>0.144716</td>\n",
       "    </tr>\n",
       "    <tr>\n",
       "      <th>178641</th>\n",
       "      <td>38</td>\n",
       "      <td>4563</td>\n",
       "      <td>3614.04097</td>\n",
       "      <td>im069</td>\n",
       "      <td>0.564351</td>\n",
       "    </tr>\n",
       "    <tr>\n",
       "      <th>178642</th>\n",
       "      <td>38</td>\n",
       "      <td>4564</td>\n",
       "      <td>3614.79163</td>\n",
       "      <td>im069</td>\n",
       "      <td>0.068346</td>\n",
       "    </tr>\n",
       "    <tr>\n",
       "      <th>178643</th>\n",
       "      <td>38</td>\n",
       "      <td>4565</td>\n",
       "      <td>3615.54223</td>\n",
       "      <td>im069</td>\n",
       "      <td>0.019030</td>\n",
       "    </tr>\n",
       "    <tr>\n",
       "      <th>178644</th>\n",
       "      <td>38</td>\n",
       "      <td>4566</td>\n",
       "      <td>3616.29294</td>\n",
       "      <td>im069</td>\n",
       "      <td>0.015125</td>\n",
       "    </tr>\n",
       "    <tr>\n",
       "      <th>178645</th>\n",
       "      <td>38</td>\n",
       "      <td>4567</td>\n",
       "      <td>3617.04348</td>\n",
       "      <td>im069</td>\n",
       "      <td>-0.006159</td>\n",
       "    </tr>\n",
       "    <tr>\n",
       "      <th>178646</th>\n",
       "      <td>38</td>\n",
       "      <td>4568</td>\n",
       "      <td>3617.79408</td>\n",
       "      <td>im069</td>\n",
       "      <td>0.000410</td>\n",
       "    </tr>\n",
       "    <tr>\n",
       "      <th>178647</th>\n",
       "      <td>38</td>\n",
       "      <td>4569</td>\n",
       "      <td>3618.54479</td>\n",
       "      <td>im069</td>\n",
       "      <td>-0.034805</td>\n",
       "    </tr>\n",
       "    <tr>\n",
       "      <th>178648</th>\n",
       "      <td>38</td>\n",
       "      <td>4570</td>\n",
       "      <td>3619.29535</td>\n",
       "      <td>im069</td>\n",
       "      <td>0.062014</td>\n",
       "    </tr>\n",
       "    <tr>\n",
       "      <th>178649</th>\n",
       "      <td>38</td>\n",
       "      <td>4571</td>\n",
       "      <td>3620.04595</td>\n",
       "      <td>im069</td>\n",
       "      <td>0.424893</td>\n",
       "    </tr>\n",
       "    <tr>\n",
       "      <th>178650</th>\n",
       "      <td>38</td>\n",
       "      <td>4572</td>\n",
       "      <td>3620.79654</td>\n",
       "      <td>im069</td>\n",
       "      <td>0.086221</td>\n",
       "    </tr>\n",
       "    <tr>\n",
       "      <th>178651</th>\n",
       "      <td>38</td>\n",
       "      <td>4573</td>\n",
       "      <td>3621.54718</td>\n",
       "      <td>im069</td>\n",
       "      <td>-0.027117</td>\n",
       "    </tr>\n",
       "  </tbody>\n",
       "</table>\n",
       "<p>581 rows × 5 columns</p>\n",
       "</div>"
      ],
      "text/plain": [
       "        cell  flash_number  start_time image_name  mean_response\n",
       "174105    38            27    55.89871      im069       2.891007\n",
       "174106    38            28    56.64932      im069       2.076797\n",
       "174107    38            29    57.40004      im069       1.106579\n",
       "174108    38            30    58.15057      im069       1.763680\n",
       "174109    38            31    58.90120      im069       0.697463\n",
       "174110    38            32    59.65180      im069       1.214717\n",
       "174111    38            33    60.40250      im069       0.620415\n",
       "174112    38            34    61.15307      im069       1.544159\n",
       "174113    38            35    61.90360      im069       1.120792\n",
       "174114    38            36    62.65428      im069       1.104937\n",
       "174115    38            37    63.40487      im069       0.897996\n",
       "174116    38            38    64.15548      im069       0.840468\n",
       "174117    38            39    64.90612      im069       0.169590\n",
       "174118    38            40    65.65672      im069       0.699886\n",
       "174119    38            41    66.40730      im069       0.052634\n",
       "174120    38            42    67.15798      im069       1.037419\n",
       "174121    38            43    67.90859      im069       0.527534\n",
       "174122    38            44    68.65915      im069       0.269201\n",
       "174123    38            45    69.40975      im069       0.611552\n",
       "174124    38            46    70.16041      im069       0.299370\n",
       "174125    38            47    70.91099      im069       0.476705\n",
       "174126    38            48    71.66161      im069       0.404819\n",
       "174127    38            49    72.41221      im069       0.392562\n",
       "174164    38            86   100.18486      im069       1.406012\n",
       "174165    38            87   100.93547      im069       0.221079\n",
       "174166    38            88   101.68613      im069       0.222217\n",
       "174167    38            89   102.43674      im069       0.122005\n",
       "174168    38            90   103.93792      im069       1.791876\n",
       "174169    38            91   104.68855      im069       0.986981\n",
       "174170    38            92   105.43919      im069       1.196280\n",
       "...      ...           ...         ...        ...            ...\n",
       "178393    38          4315  3421.88390      im069       0.005056\n",
       "178394    38          4316  3422.63454      im069       0.013643\n",
       "178395    38          4317  3423.38517      im069       0.078393\n",
       "178481    38          4403  3490.18973      im069       0.183007\n",
       "178482    38          4404  3490.94039      im069      -0.036058\n",
       "178483    38          4405  3491.69099      im069       0.003920\n",
       "178484    38          4406  3492.44160      im069       0.674042\n",
       "178485    38          4407  3493.19219      im069       0.741255\n",
       "178486    38          4408  3493.94282      im069       0.923065\n",
       "178487    38          4409  3494.69343      im069       0.894937\n",
       "178488    38          4410  3495.44414      im069       0.846535\n",
       "178489    38          4411  3496.19470      im069       0.611577\n",
       "178490    38          4412  3496.94529      im069       0.611215\n",
       "178491    38          4413  3497.69586      im069       0.419399\n",
       "178492    38          4414  3498.44651      im069       0.274179\n",
       "178493    38          4415  3499.19710      im069       0.480225\n",
       "178638    38          4560  3611.78921      im069       2.026649\n",
       "178639    38          4561  3612.53982      im069       0.844747\n",
       "178640    38          4562  3613.29047      im069       0.144716\n",
       "178641    38          4563  3614.04097      im069       0.564351\n",
       "178642    38          4564  3614.79163      im069       0.068346\n",
       "178643    38          4565  3615.54223      im069       0.019030\n",
       "178644    38          4566  3616.29294      im069       0.015125\n",
       "178645    38          4567  3617.04348      im069      -0.006159\n",
       "178646    38          4568  3617.79408      im069       0.000410\n",
       "178647    38          4569  3618.54479      im069      -0.034805\n",
       "178648    38          4570  3619.29535      im069       0.062014\n",
       "178649    38          4571  3620.04595      im069       0.424893\n",
       "178650    38          4572  3620.79654      im069       0.086221\n",
       "178651    38          4573  3621.54718      im069      -0.027117\n",
       "\n",
       "[581 rows x 5 columns]"
      ]
     },
     "execution_count": 129,
     "metadata": {},
     "output_type": "execute_result"
    }
   ],
   "source": [
    "filtered = fdf[(fdf.cell==cell)&(fdf.image_name==image_name)]\n",
    "filtered"
   ]
  },
  {
   "cell_type": "code",
   "execution_count": 130,
   "metadata": {},
   "outputs": [
    {
     "name": "stdout",
     "output_type": "stream",
     "text": [
      "mean response = 0.434964862863\n"
     ]
    }
   ],
   "source": [
    "mean = filtered.mean_response.mean()\n",
    "print 'mean response =',mean"
   ]
  },
  {
   "cell_type": "code",
   "execution_count": 131,
   "metadata": {},
   "outputs": [
    {
     "name": "stdout",
     "output_type": "stream",
     "text": [
      "standard error of the mean = 0.0218523629577\n"
     ]
    }
   ],
   "source": [
    "from scipy.stats import sem\n",
    "std_err = sem(filtered.mean_response.values)\n",
    "print 'standard error of the mean =',std_err"
   ]
  },
  {
   "cell_type": "markdown",
   "metadata": {},
   "source": [
    "<div style=\"background: #DFF0D8; border-radius: 3px; padding: 10px;\">\n",
    "<p>**Exercise 5.5 (continued):** Plot an image tuning curve from stimulus flashes\n",
    "\n",
    "<p>Loop through all images and plot the mean and standard error for each image to make a tuning curve. Which image drove the strongest response on average? Is it the same image that gave the strongest single trial response?\n",
    "\n",
    "<p>Hint: Use plt.errorbar() in addition to plt.plot()\n",
    "</div>"
   ]
  },
  {
   "cell_type": "code",
   "execution_count": 132,
   "metadata": {},
   "outputs": [
    {
     "data": {
      "image/png": "[encoded data removed]",
      "text/plain": [
       "<matplotlib.figure.Figure at 0x3674f0f0>"
      ]
     },
     "metadata": {},
     "output_type": "display_data"
    }
   ],
   "source": [
    "images = np.sort(fdf.image_name.unique())\n",
    "for i,image_name in enumerate(images): \n",
    "    responses = fdf[(fdf.cell==cell)&(fdf.image_name==image_name)].mean_response.values\n",
    "    mean_response = np.mean(responses)\n",
    "    std_err = sem(responses)\n",
    "\n",
    "    plt.plot(i,mean_response,'o',color='k')\n",
    "    plt.errorbar(i,mean_response,yerr=std_err,color='k')\n",
    "plt.ylabel('mean dF/F')\n",
    "plt.xlabel('image')\n",
    "plt.xticks(np.arange(0,len(images),1),images,rotation=90);\n"
   ]
  },
  {
   "cell_type": "markdown",
   "metadata": {},
   "source": [
    "<div style=\"border-left: 3px solid #000; padding: 1px; padding-left: 10px; background: #F0FAFF; \">\n",
    "<h3> Computing image selectivity </h3>\n",
    "<p>'lifetime sparseness' is a metric for how selective and sparse a cell's activity is across conditions. A high value of this metric indicates high selectivity, a differential response to one or a few stimulus conditions over others. A low value of this metric indicates a similar response across all conditions. \n",
    "\n",
    "<p>We will compute this metric for single cells and take the mean across the population. Before taking the mean, we will filter out cells that do not have a signficant image response.\n",
    "</div>"
   ]
  },
  {
   "cell_type": "markdown",
   "metadata": {},
   "source": [
    "<div style=\"background: #DFF0D8; border-radius: 3px; padding: 10px;\">\n",
    "<p>**Exercise 6.1:** Compute lifetime sparseness for a single cell using responses after a stimulus change instead of all stimulus flashes \n",
    "\n",
    "<p>First, filter 'trial_response_df' to select only 'go' trials and assign to a variable called 'df'.\n",
    "\n",
    "<p>Loop through each 'change_image_name' in 'df.change_image_name.unique()' and take the average of the 'mean_response' values for all trials of that image, and save the average value to a list (length should equal the number of images). Then, convert the list to an array. \n",
    "\n",
    "<p>Use the function below to compute the lifetime sparsness metric for your cell using your array of image responses. \n",
    "</div>"
   ]
  },
  {
   "cell_type": "code",
   "execution_count": 133,
   "metadata": {
    "collapsed": true
   },
   "outputs": [],
   "source": [
    "def compute_lifetime_sparseness(image_responses):\n",
    "    # image responses should be an array of the trial averaged responses to each image\n",
    "    # sparseness = 1-(sum of trial averaged responses to images / N)squared / (sum of (squared mean responses / n)) / (1-(1/N))\n",
    "    # N = number of images\n",
    "    # after Vinje & Gallant, 2000; Froudarakis et al., 2014\n",
    "    N = float(len(image_responses))\n",
    "    ls = ((1-(1/N) * ((np.power(image_responses.sum(axis=0),2)) / (np.power(image_responses,2).sum(axis=0)))) / (1-(1/N)))\n",
    "    return ls"
   ]
  },
  {
   "cell_type": "code",
   "execution_count": 134,
   "metadata": {},
   "outputs": [],
   "source": [
    "df = analysis.trial_response_df[analysis.trial_response_df.trial_type=='go']"
   ]
  },
  {
   "cell_type": "code",
   "execution_count": 135,
   "metadata": {},
   "outputs": [],
   "source": [
    "images = df.change_image_name.unique()\n",
    "image_responses = []\n",
    "for i,change_image_name in enumerate(images): \n",
    "    responses = df[(df.cell==cell)&(df.change_image_name==change_image_name)].mean_response.values\n",
    "    mean_response = np.mean(responses)\n",
    "    image_responses.append(mean_response)\n",
    "image_responses = np.asarray(image_responses)"
   ]
  },
  {
   "cell_type": "code",
   "execution_count": 136,
   "metadata": {},
   "outputs": [
    {
     "name": "stdout",
     "output_type": "stream",
     "text": [
      "0.881433603565\n"
     ]
    }
   ],
   "source": [
    "ls = compute_lifetime_sparseness(image_responses)\n",
    "print ls"
   ]
  },
  {
   "cell_type": "markdown",
   "metadata": {},
   "source": [
    "<div style=\"background: #DFF0D8; border-radius: 3px; padding: 10px;\">\n",
    "<p>**Exercise 6.1 (continued):** Compute lifetime sparseness for a single cell using responses after a stimulus change\n",
    "\n",
    "<p>Plot the tuning curve for this cell again, now with the trial responses in 'df', instead of the stimulus flash response. Include the value of lifetime sparseness in the figure title.\n",
    "\n",
    "<p>How does the tuning curve compare with the one generated above using all stimulus presentations? \n",
    "\n",
    "<p> How selective is this cell? Try another cell for comparison. \n",
    "</div>"
   ]
  },
  {
   "cell_type": "code",
   "execution_count": 137,
   "metadata": {},
   "outputs": [
    {
     "data": {
      "text/plain": [
       "<matplotlib.text.Text at 0x12500d30>"
      ]
     },
     "execution_count": 137,
     "metadata": {},
     "output_type": "execute_result"
    },
    {
     "data": {
      "image/png": "[encoded data removed]",
      "text/plain": [
       "<matplotlib.figure.Figure at 0x130d4b00>"
      ]
     },
     "metadata": {},
     "output_type": "display_data"
    }
   ],
   "source": [
    "images = np.sort(df.change_image_name.unique())\n",
    "image_responses = []\n",
    "for i,change_image_name in enumerate(images): \n",
    "    responses = df[(df.cell==cell)&(df.change_image_name==change_image_name)].mean_response.values\n",
    "    mean_response = np.mean(responses)\n",
    "    std_err = sem(responses)\n",
    "    \n",
    "    image_responses.append(mean_response)\n",
    "    \n",
    "    plt.plot(i,mean_response,'o',color='k')\n",
    "    plt.errorbar(i,mean_response,yerr=std_err,color='k')\n",
    "plt.ylabel('mean dF/F')\n",
    "plt.xlabel('image')\n",
    "plt.xticks(np.arange(0,len(images),1),images,rotation=90);\n",
    "\n",
    "ls = compute_lifetime_sparseness(np.asarray(image_responses))\n",
    "plt.title(np.round(ls,4))"
   ]
  },
  {
   "cell_type": "markdown",
   "metadata": {},
   "source": [
    "<div style=\"background: #DFF0D8; border-radius: 3px; padding: 10px;\">\n",
    "<p>**Exercise 6.2:** Identify cells with a significant image response\n",
    "<p>The 'p_value' column of the 'trial_response_df' is computed as a one-way ANOVA comparing the dF/F trace in the 500ms before the change time with a 500ms window after the change time.  \n",
    "<p>Let's define responsive cells as having at least 10% of trials with a p_value < 0.005\n",
    "<p>Loop through all cells, evaluate the fraction of trials with p_value < 0.005 and make a list of the indicies of responsive cells. Assign the list to 'responsive_cells'\n",
    "<p>What fraction of cells in this experiment were responsive following a stimulus change? \n",
    "</div>"
   ]
  },
  {
   "cell_type": "code",
   "execution_count": 138,
   "metadata": {},
   "outputs": [],
   "source": [
    "responsive_cells = []\n",
    "for cell in df.cell.unique():\n",
    "    cell_data = df[(df.cell==cell)]\n",
    "    total_trials = len(cell_data)\n",
    "    responsive_trials = len(cell_data[cell_data.p_value<0.005])\n",
    "    fraction_responsive_trials = responsive_trials/float(total_trials)\n",
    "    if fraction_responsive_trials > 0.1: \n",
    "        responsive_cells.append(cell)"
   ]
  },
  {
   "cell_type": "code",
   "execution_count": 139,
   "metadata": {},
   "outputs": [
    {
     "name": "stdout",
     "output_type": "stream",
     "text": [
      "fraction responsive cells =  0.305084745763\n"
     ]
    }
   ],
   "source": [
    "print 'fraction responsive cells = ',len(responsive_cells)/float(len(df.cell.unique()))"
   ]
  },
  {
   "cell_type": "markdown",
   "metadata": {},
   "source": [
    "<div style=\"background: #DFF0D8; border-radius: 3px; padding: 10px;\">\n",
    "<p>**Exercise 6.3:** Compute lifetime sparseness for responsive cells and take the mean  \n",
    "<p>Loop through each cell in 'responsive_cells', compute lifetime sparseness as you did above, and add the value to a list. \n",
    "<p>Convert the list to an array and take the mean.\n",
    "<p>Add your mean value to the plot on the whiteboard in the appropriate column based on your experiment's metadata\n",
    "</div>"
   ]
  },
  {
   "cell_type": "code",
   "execution_count": 140,
   "metadata": {},
   "outputs": [],
   "source": [
    "images = np.sort(df.change_image_name.unique())\n",
    "lifetime_sparseness_values = []\n",
    "for cell in responsive_cells: \n",
    "    image_responses = []\n",
    "    for i,change_image_name in enumerate(images): \n",
    "        responses = df[(df.cell==cell)&(df.change_image_name==change_image_name)].mean_response.values\n",
    "        mean_response = np.mean(responses)\n",
    "        std_err = sem(responses)\n",
    "\n",
    "        image_responses.append(mean_response)\n",
    "    ls = compute_lifetime_sparseness(np.asarray(image_responses))\n",
    "    lifetime_sparseness_values.append(ls)\n",
    "lifetime_sparseness_values = np.asarray(lifetime_sparseness_values)\n",
    "mean_lifetime_sparseness = np.mean(lifetime_sparseness_values)"
   ]
  },
  {
   "cell_type": "code",
   "execution_count": 141,
   "metadata": {},
   "outputs": [
    {
     "data": {
      "text/plain": [
       "0.64402696098277235"
      ]
     },
     "execution_count": 141,
     "metadata": {},
     "output_type": "execute_result"
    }
   ],
   "source": [
    "mean_lifetime_sparseness"
   ]
  },
  {
   "cell_type": "markdown",
   "metadata": {},
   "source": [
    "<div style=\"background: #DFF0D8; border-radius: 3px; padding: 10px;\">\n",
    "<p>**Bonus exercise 6.4:** Compute lifetime sparseness for catch trials, or for all stimulus flashes \n",
    "    \n",
    "<p>Repeat the exercise above using 'trial_response_df', filtered to include only 'catch' trials where no change in stimulus identity occured, or using 'flash_response_df' to include all stimulus presentations.\n",
    "\n",
    "<p>How does the result compare to selectivity on 'go' trials only? Why would it be different? \n",
    "</div>"
   ]
  },
  {
   "cell_type": "code",
   "execution_count": null,
   "metadata": {
    "collapsed": true
   },
   "outputs": [],
   "source": []
  },
  {
   "cell_type": "markdown",
   "metadata": {
    "collapsed": true
   },
   "source": [
    "<div style=\"border-left: 3px solid #000; padding: 1px; padding-left: 10px; background: #F0FAFF; \">\n",
    "<h3> Project ideas </h3>\n",
    "<p>Below is a list of suggested project ideas for working with the Visual Behavior dataset\n",
    "\n",
    "</div>"
   ]
  },
  {
   "cell_type": "markdown",
   "metadata": {},
   "source": [
    "Projects: \n",
    "* other metrics across cre_lines, areas or stimulus types: time to peak, reliability, \n",
    "* characterize behavioral or neural states within a session \n",
    "* compare metrics between states\n",
    "* flash-wise analysis - adaptation, facilitation, expectation \n",
    "* functional clustering on response profiles \n",
    "* motor signals - modulation by running & licking \n",
    "* omitted flashes "
   ]
  },
  {
   "cell_type": "code",
   "execution_count": null,
   "metadata": {
    "collapsed": true
   },
   "outputs": [],
   "source": []
  },
  {
   "cell_type": "markdown",
   "metadata": {},
   "source": [
    "Figures you could make and add to visual_behavior.ophys.plotting.summary_figures: \n",
    "* make a heatmap of the mean response to each image across all cells for session_type = 'behavior_session_A', where rows are cells and columns are different images. Sort the cells first by the image that drove the max response for each cell, then by the max response. \n",
    "* make a heatmap of single trial responses for a given cell, separately for each image that was shown. Order by trial type (hit, miss, correct reject, false alarm). "
   ]
  },
  {
   "cell_type": "code",
   "execution_count": null,
   "metadata": {
    "collapsed": true
   },
   "outputs": [],
   "source": []
  },
  {
   "cell_type": "code",
   "execution_count": null,
   "metadata": {
    "collapsed": true
   },
   "outputs": [],
   "source": []
  },
  {
   "cell_type": "code",
   "execution_count": null,
   "metadata": {
    "collapsed": true
   },
   "outputs": [],
   "source": []
  },
  {
   "cell_type": "code",
   "execution_count": null,
   "metadata": {
    "collapsed": true
   },
   "outputs": [],
   "source": []
  },
  {
   "cell_type": "code",
   "execution_count": null,
   "metadata": {
    "collapsed": true
   },
   "outputs": [],
   "source": []
  },
  {
   "cell_type": "code",
   "execution_count": null,
   "metadata": {
    "collapsed": true
   },
   "outputs": [],
   "source": []
  }
 ],
 "metadata": {
  "anaconda-cloud": {},
  "kernelspec": {
   "display_name": "Python 2",
   "language": "python",
   "name": "python2"
  },
  "language_info": {
   "codemirror_mode": {
    "name": "ipython",
    "version": 2
   },
   "file_extension": ".py",
   "mimetype": "text/x-python",
   "name": "python",
   "nbconvert_exporter": "python",
   "pygments_lexer": "ipython2",
   "version": "2.7.14"
  }
 },
 "nbformat": 4,
 "nbformat_minor": 1
}
