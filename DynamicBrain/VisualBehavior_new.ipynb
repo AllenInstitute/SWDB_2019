{
 "cells": [
  {
   "cell_type": "markdown",
   "metadata": {},
   "source": [
    "<img src=\"../resources/cropped-SummerWorkshop_Header.png\">  \n",
    "\n",
    "<h1 align=\"center\">Visual Change Detection Behavior + Optical Physiology </h1> \n",
    "<h2 align=\"center\">Summer Workshop on the Dynamic Brain </h2> \n",
    "<h3 align=\"center\">Tuesday, August 21, 2018</h3> \n",
    "\n",
    "<img src=\"../resources/change_detection_schematic.png\" height=\"400\" width=\"400\">  \n"
   ]
  },
  {
   "cell_type": "markdown",
   "metadata": {},
   "source": [
    "This notebook will introduce you to the Visual Behavior pilot dataset. This pre-release dataset uses 2-photon calcium imaging (also called optical physiology or ophys) to measure neural activity in behaving mice, and was collected during piloting for the new Visual Behavior Brain Observatory. Production data collection for the Observatory will begin September 2018 and data will be publicly released in 2019. The insights obtained here at SWDB may help shape the collection of the production dataset. \n",
    "\n",
    "The change detection task consists of a series of image presentations. Each image flash is 250ms followed by 500ms of gray screen. The task for the mouse is to lick in a 750ms response window following a change in image identity. On each trial, a change time is scheduled. On go trials, a change in image identity occurs. On catch trials, no image change occurs (aka 'sham change'), and we measure false alarm rates in the same 750ms response window. Correct responses are rewarded and licks outside the response window result in a timeout.\n",
    "\n",
    "There are 8 natural scene images shown in each behavioral session, with 4 unique sets of 8 that can shown in different sessions. One of these image sets has been seen by the mouse many times during initial behavioral training, while the other 3 image sets are seen for the first time under the microscope. \n",
    "\n",
    "In this notebook, we will describe the dimensions of the dataset, the core components of each experimental session, and the tools for accessing and analyzing the data. \n",
    "\n",
    "You will be working with a single experimental session recorded in a specific cre line and visual area. Other students will have sessions with different areas, cre lines and stimulus sets. As you work through the exercises, compare results with your neighbors to see what the similarities and differences are.\n",
    "\n",
    "At the end of the notebook, you will compute a value for a metric called lifetime sparseness that measures each neuron's selectivity for stimulus identity, and take the mean across the population of neurons in your experiment session. We will collect the mean sparseness value from each student's unique experiment session to collectively make a plot that compares how sparseness varies across excitatory and inhibitory cell populations, and for stimulus sets that are novel or familiar to the mouse. "
   ]
  },
  {
   "cell_type": "markdown",
   "metadata": {},
   "source": [
    "** Outline:**\n",
    "1.\tExplore the dataset using the manifest file\n",
    "2.\tVisualBehaviorOphysDataset class – accessing data and metadata\n",
    "3.\tOptical physiology data – calcium traces and rois\n",
    "4.\tChange detection behavior data – running speed, licks, rewards, and visual stimuli\n",
    "5.\tTrials dataframe – structure for organizing behavior data by trials\n",
    "6.\tResponseAnalysis class – structures for analyzing cell responses by trials and stimulus flashes\n",
    "7.\tLifetime sparseness – computing a selectivity metric for responsive cells\n",
    "8.\tProject ideas\n"
   ]
  },
  {
   "cell_type": "markdown",
   "metadata": {},
   "source": [
    "<div style=\"background: #DFF0D8; border-radius: 3px; padding: 10px;\">\n",
    "\n",
    "<p>Let's get started\n",
    "\n",
    "</div>"
   ]
  },
  {
   "cell_type": "code",
   "execution_count": 1,
   "metadata": {},
   "outputs": [
    {
     "data": {
      "text/plain": [
       "<module 'allensdk.brain_observatory.behavior.behavior_ophys_session' from '/allen/programs/braintv/workgroups/nc-ophys/nick.ponvert/src/AllenSDK/allensdk/brain_observatory/behavior/behavior_ophys_session.py'>"
      ]
     },
     "execution_count": 1,
     "metadata": {},
     "output_type": "execute_result"
    }
   ],
   "source": [
    "# you will need these libraries for computation & data manipulation\n",
    "import os\n",
    "import numpy as np\n",
    "import pandas as pd\n",
    "\n",
    "# matplotlib is a standard python visualization package\n",
    "import matplotlib.pyplot as plt\n",
    "%matplotlib inline\n",
    "\n",
    "# seaborn is another library for statistical data visualization\n",
    "# seaborn style & context settings make plots pretty & legible\n",
    "import seaborn as sns\n",
    "sns.set_context('notebook', font_scale=1.5, rc={'lines.markeredgewidth': 2})\n",
    "sns.set_style('white')\n",
    "sns.set_palette('deep');\n",
    "\n",
    "# Import allensdk modules for loading and interacting with the data\n",
    "from allensdk.internal.api import behavior_ophys_api as boa #TODO: We probably won't use this, but instead use the NWB api\n",
    "from allensdk.brain_observatory.behavior import behavior_ophys_session as bos\n",
    "\n",
    "from importlib import reload\n",
    "reload(boa)\n",
    "reload(bos)"
   ]
  },
  {
   "cell_type": "markdown",
   "metadata": {},
   "source": [
    "<div style=\"border-left: 3px solid #000; padding: 1px; padding-left: 10px; background: #F0FAFF; \">\n",
    "<p>The first thing we will do is use the `allensdk` to load a cache for the visual behavior dataset, which contains a manifest describing the dimensions of the dataset and methods for loading the data from particular sessions. You can inspect the manifest contained in the cache to identify experiments of interest and their metadata. \n",
    "\n",
    "<p>Make sure you have access to the `visual_behavior_cache.json` file, which tells the cache object where to find the data. </div>"
   ]
  },
  {
   "cell_type": "code",
   "execution_count": 42,
   "metadata": {},
   "outputs": [],
   "source": [
    "from allensdk.brain_observatory.behavior.swdb import behavior_project_cache as bpc\n",
    "\n",
    "cache_json = {'manifest_path': '/allen/programs/braintv/workgroups/nc-ophys/visual_behavior/SWDB_2019/visual_behavior_data_manifest.csv',\n",
    "              'nwb_base_dir': '/allen/programs/braintv/workgroups/nc-ophys/visual_behavior/SWDB_2019/nwb_files',\n",
    "              'analysis_files_base_dir': '/allen/programs/braintv/workgroups/nc-ophys/visual_behavior/SWDB_2019/extra_files'\n",
    "              }\n",
    "cache = bpc.BehaviorProjectCache(cache_json)"
   ]
  },
  {
   "cell_type": "markdown",
   "metadata": {},
   "source": [
    "<div style=\"background: #DFF0D8; border-radius: 3px; padding: 10px;\">\n",
    "<p>**Task 1.1:**  Get information about what's in the dataset \n",
    "\n",
    "<p>Read in 'visual_behavior_data_manifest.csv' using pandas and explore the columns to see the available visual areas, cre lines, and session types. \n",
    "\n",
    "</div>"
   ]
  },
  {
   "cell_type": "code",
   "execution_count": 45,
   "metadata": {},
   "outputs": [
    {
     "data": {
      "text/html": [
       "<div>\n",
       "<style scoped>\n",
       "    .dataframe tbody tr th:only-of-type {\n",
       "        vertical-align: middle;\n",
       "    }\n",
       "\n",
       "    .dataframe tbody tr th {\n",
       "        vertical-align: top;\n",
       "    }\n",
       "\n",
       "    .dataframe thead th {\n",
       "        text-align: right;\n",
       "    }\n",
       "</style>\n",
       "<table border=\"1\" class=\"dataframe\">\n",
       "  <thead>\n",
       "    <tr style=\"text-align: right;\">\n",
       "      <th></th>\n",
       "      <th>container_id</th>\n",
       "      <th>container_workflow_state</th>\n",
       "      <th>donor_id</th>\n",
       "      <th>full_genotype</th>\n",
       "      <th>sex</th>\n",
       "      <th>created_at</th>\n",
       "      <th>behavior_session_id</th>\n",
       "      <th>equipment_name</th>\n",
       "      <th>ophys_session_name</th>\n",
       "      <th>ophys_experiment_id</th>\n",
       "      <th>ophys_workflow_state</th>\n",
       "      <th>imaging_depth</th>\n",
       "      <th>targeted_structure</th>\n",
       "      <th>stage_name</th>\n",
       "      <th>retake_number</th>\n",
       "    </tr>\n",
       "  </thead>\n",
       "  <tbody>\n",
       "    <tr>\n",
       "      <th>38</th>\n",
       "      <td>782536745</td>\n",
       "      <td>postprocessing</td>\n",
       "      <td>722884873</td>\n",
       "      <td>Slc17a7-IRES2-Cre/wt;Camk2a-tTA/wt;Ai93(TITL-G...</td>\n",
       "      <td>F</td>\n",
       "      <td>2018-11-08 20:45:52.011892</td>\n",
       "      <td>775378326</td>\n",
       "      <td>CAM2P.5</td>\n",
       "      <td>20181108_403491_1imagesA</td>\n",
       "      <td>775614751</td>\n",
       "      <td>passed</td>\n",
       "      <td>375</td>\n",
       "      <td>VISp</td>\n",
       "      <td>OPHYS_1_images_A</td>\n",
       "      <td>0.0</td>\n",
       "    </tr>\n",
       "    <tr>\n",
       "      <th>39</th>\n",
       "      <td>782536745</td>\n",
       "      <td>postprocessing</td>\n",
       "      <td>722884873</td>\n",
       "      <td>Slc17a7-IRES2-Cre/wt;Camk2a-tTA/wt;Ai93(TITL-G...</td>\n",
       "      <td>F</td>\n",
       "      <td>2018-11-13 19:45:53.130447</td>\n",
       "      <td>778166125</td>\n",
       "      <td>CAM2P.5</td>\n",
       "      <td>20181113_403491_2imagesA</td>\n",
       "      <td>778644591</td>\n",
       "      <td>passed</td>\n",
       "      <td>375</td>\n",
       "      <td>VISp</td>\n",
       "      <td>OPHYS_2_images_A_passive</td>\n",
       "      <td>0.0</td>\n",
       "    </tr>\n",
       "    <tr>\n",
       "      <th>46</th>\n",
       "      <td>782536745</td>\n",
       "      <td>postprocessing</td>\n",
       "      <td>722884873</td>\n",
       "      <td>Slc17a7-IRES2-Cre/wt;Camk2a-tTA/wt;Ai93(TITL-G...</td>\n",
       "      <td>F</td>\n",
       "      <td>2018-12-10 18:40:53.679184</td>\n",
       "      <td>792499741</td>\n",
       "      <td>CAM2P.5</td>\n",
       "      <td>20181210_403491_4imagesB</td>\n",
       "      <td>792812544</td>\n",
       "      <td>passed</td>\n",
       "      <td>375</td>\n",
       "      <td>VISp</td>\n",
       "      <td>OPHYS_4_images_B</td>\n",
       "      <td>2.0</td>\n",
       "    </tr>\n",
       "    <tr>\n",
       "      <th>35</th>\n",
       "      <td>782536745</td>\n",
       "      <td>postprocessing</td>\n",
       "      <td>722884873</td>\n",
       "      <td>Slc17a7-IRES2-Cre/wt;Camk2a-tTA/wt;Ai93(TITL-G...</td>\n",
       "      <td>F</td>\n",
       "      <td>2018-12-15 19:10:57.996849</td>\n",
       "      <td>796032489</td>\n",
       "      <td>CAM2P.5</td>\n",
       "      <td>20181215_403491_5imagesB</td>\n",
       "      <td>796106850</td>\n",
       "      <td>passed</td>\n",
       "      <td>375</td>\n",
       "      <td>VISp</td>\n",
       "      <td>OPHYS_5_images_B_passive</td>\n",
       "      <td>2.0</td>\n",
       "    </tr>\n",
       "    <tr>\n",
       "      <th>37</th>\n",
       "      <td>782536745</td>\n",
       "      <td>postprocessing</td>\n",
       "      <td>722884873</td>\n",
       "      <td>Slc17a7-IRES2-Cre/wt;Camk2a-tTA/wt;Ai93(TITL-G...</td>\n",
       "      <td>F</td>\n",
       "      <td>2018-11-29 18:55:48.200392</td>\n",
       "      <td>788017709</td>\n",
       "      <td>CAM2P.5</td>\n",
       "      <td>20181129_403491_6imagesB</td>\n",
       "      <td>788490510</td>\n",
       "      <td>passed</td>\n",
       "      <td>375</td>\n",
       "      <td>VISp</td>\n",
       "      <td>OPHYS_6_images_B</td>\n",
       "      <td>0.0</td>\n",
       "    </tr>\n",
       "    <tr>\n",
       "      <th>138</th>\n",
       "      <td>791352433</td>\n",
       "      <td>container_qc</td>\n",
       "      <td>744911447</td>\n",
       "      <td>Vip-IRES-Cre/wt;Ai148(TIT2L-GC6f-ICL-tTA2)/wt</td>\n",
       "      <td>F</td>\n",
       "      <td>2018-12-10 22:55:54.442359</td>\n",
       "      <td>792680306</td>\n",
       "      <td>CAM2P.4</td>\n",
       "      <td>20181210_412036_1imagesA</td>\n",
       "      <td>792815735</td>\n",
       "      <td>passed</td>\n",
       "      <td>175</td>\n",
       "      <td>VISp</td>\n",
       "      <td>OPHYS_1_images_A</td>\n",
       "      <td>0.0</td>\n",
       "    </tr>\n",
       "    <tr>\n",
       "      <th>144</th>\n",
       "      <td>791352433</td>\n",
       "      <td>container_qc</td>\n",
       "      <td>744911447</td>\n",
       "      <td>Vip-IRES-Cre/wt;Ai148(TIT2L-GC6f-ICL-tTA2)/wt</td>\n",
       "      <td>F</td>\n",
       "      <td>2018-12-19 01:00:55.101414</td>\n",
       "      <td>798126878</td>\n",
       "      <td>CAM2P.4</td>\n",
       "      <td>20181218_412036_2_images_passive</td>\n",
       "      <td>798404219</td>\n",
       "      <td>passed</td>\n",
       "      <td>175</td>\n",
       "      <td>VISp</td>\n",
       "      <td>OPHYS_2_images_A_passive</td>\n",
       "      <td>1.0</td>\n",
       "    </tr>\n",
       "    <tr>\n",
       "      <th>140</th>\n",
       "      <td>791352433</td>\n",
       "      <td>container_qc</td>\n",
       "      <td>744911447</td>\n",
       "      <td>Vip-IRES-Cre/wt;Ai148(TIT2L-GC6f-ICL-tTA2)/wt</td>\n",
       "      <td>F</td>\n",
       "      <td>2018-12-13 22:50:55.961023</td>\n",
       "      <td>794968300</td>\n",
       "      <td>CAM2P.4</td>\n",
       "      <td>20181213_412036_3imagesA</td>\n",
       "      <td>795073741</td>\n",
       "      <td>passed</td>\n",
       "      <td>175</td>\n",
       "      <td>VISp</td>\n",
       "      <td>OPHYS_3_images_A</td>\n",
       "      <td>0.0</td>\n",
       "    </tr>\n",
       "    <tr>\n",
       "      <th>141</th>\n",
       "      <td>791352433</td>\n",
       "      <td>container_qc</td>\n",
       "      <td>744911447</td>\n",
       "      <td>Vip-IRES-Cre/wt;Ai148(TIT2L-GC6f-ICL-tTA2)/wt</td>\n",
       "      <td>F</td>\n",
       "      <td>2018-12-14 21:55:54.143808</td>\n",
       "      <td>795742990</td>\n",
       "      <td>CAM2P.4</td>\n",
       "      <td>20181214_412036_4imagesB</td>\n",
       "      <td>795953296</td>\n",
       "      <td>passed</td>\n",
       "      <td>175</td>\n",
       "      <td>VISp</td>\n",
       "      <td>OPHYS_4_images_B</td>\n",
       "      <td>0.0</td>\n",
       "    </tr>\n",
       "    <tr>\n",
       "      <th>142</th>\n",
       "      <td>791352433</td>\n",
       "      <td>container_qc</td>\n",
       "      <td>744911447</td>\n",
       "      <td>Vip-IRES-Cre/wt;Ai148(TIT2L-GC6f-ICL-tTA2)/wt</td>\n",
       "      <td>F</td>\n",
       "      <td>2018-12-15 22:25:51.747219</td>\n",
       "      <td>796052844</td>\n",
       "      <td>CAM2P.4</td>\n",
       "      <td>20181215_412036_5imagesB</td>\n",
       "      <td>796108483</td>\n",
       "      <td>passed</td>\n",
       "      <td>175</td>\n",
       "      <td>VISp</td>\n",
       "      <td>OPHYS_5_images_B_passive</td>\n",
       "      <td>0.0</td>\n",
       "    </tr>\n",
       "  </tbody>\n",
       "</table>\n",
       "</div>"
      ],
      "text/plain": [
       "     container_id container_workflow_state   donor_id  \\\n",
       "38      782536745           postprocessing  722884873   \n",
       "39      782536745           postprocessing  722884873   \n",
       "46      782536745           postprocessing  722884873   \n",
       "35      782536745           postprocessing  722884873   \n",
       "37      782536745           postprocessing  722884873   \n",
       "138     791352433             container_qc  744911447   \n",
       "144     791352433             container_qc  744911447   \n",
       "140     791352433             container_qc  744911447   \n",
       "141     791352433             container_qc  744911447   \n",
       "142     791352433             container_qc  744911447   \n",
       "\n",
       "                                         full_genotype sex  \\\n",
       "38   Slc17a7-IRES2-Cre/wt;Camk2a-tTA/wt;Ai93(TITL-G...   F   \n",
       "39   Slc17a7-IRES2-Cre/wt;Camk2a-tTA/wt;Ai93(TITL-G...   F   \n",
       "46   Slc17a7-IRES2-Cre/wt;Camk2a-tTA/wt;Ai93(TITL-G...   F   \n",
       "35   Slc17a7-IRES2-Cre/wt;Camk2a-tTA/wt;Ai93(TITL-G...   F   \n",
       "37   Slc17a7-IRES2-Cre/wt;Camk2a-tTA/wt;Ai93(TITL-G...   F   \n",
       "138      Vip-IRES-Cre/wt;Ai148(TIT2L-GC6f-ICL-tTA2)/wt   F   \n",
       "144      Vip-IRES-Cre/wt;Ai148(TIT2L-GC6f-ICL-tTA2)/wt   F   \n",
       "140      Vip-IRES-Cre/wt;Ai148(TIT2L-GC6f-ICL-tTA2)/wt   F   \n",
       "141      Vip-IRES-Cre/wt;Ai148(TIT2L-GC6f-ICL-tTA2)/wt   F   \n",
       "142      Vip-IRES-Cre/wt;Ai148(TIT2L-GC6f-ICL-tTA2)/wt   F   \n",
       "\n",
       "                     created_at  behavior_session_id equipment_name  \\\n",
       "38   2018-11-08 20:45:52.011892            775378326        CAM2P.5   \n",
       "39   2018-11-13 19:45:53.130447            778166125        CAM2P.5   \n",
       "46   2018-12-10 18:40:53.679184            792499741        CAM2P.5   \n",
       "35   2018-12-15 19:10:57.996849            796032489        CAM2P.5   \n",
       "37   2018-11-29 18:55:48.200392            788017709        CAM2P.5   \n",
       "138  2018-12-10 22:55:54.442359            792680306        CAM2P.4   \n",
       "144  2018-12-19 01:00:55.101414            798126878        CAM2P.4   \n",
       "140  2018-12-13 22:50:55.961023            794968300        CAM2P.4   \n",
       "141  2018-12-14 21:55:54.143808            795742990        CAM2P.4   \n",
       "142  2018-12-15 22:25:51.747219            796052844        CAM2P.4   \n",
       "\n",
       "                   ophys_session_name  ophys_experiment_id  \\\n",
       "38           20181108_403491_1imagesA            775614751   \n",
       "39           20181113_403491_2imagesA            778644591   \n",
       "46           20181210_403491_4imagesB            792812544   \n",
       "35           20181215_403491_5imagesB            796106850   \n",
       "37           20181129_403491_6imagesB            788490510   \n",
       "138          20181210_412036_1imagesA            792815735   \n",
       "144  20181218_412036_2_images_passive            798404219   \n",
       "140          20181213_412036_3imagesA            795073741   \n",
       "141          20181214_412036_4imagesB            795953296   \n",
       "142          20181215_412036_5imagesB            796108483   \n",
       "\n",
       "    ophys_workflow_state  imaging_depth targeted_structure  \\\n",
       "38                passed            375               VISp   \n",
       "39                passed            375               VISp   \n",
       "46                passed            375               VISp   \n",
       "35                passed            375               VISp   \n",
       "37                passed            375               VISp   \n",
       "138               passed            175               VISp   \n",
       "144               passed            175               VISp   \n",
       "140               passed            175               VISp   \n",
       "141               passed            175               VISp   \n",
       "142               passed            175               VISp   \n",
       "\n",
       "                   stage_name  retake_number  \n",
       "38           OPHYS_1_images_A            0.0  \n",
       "39   OPHYS_2_images_A_passive            0.0  \n",
       "46           OPHYS_4_images_B            2.0  \n",
       "35   OPHYS_5_images_B_passive            2.0  \n",
       "37           OPHYS_6_images_B            0.0  \n",
       "138          OPHYS_1_images_A            0.0  \n",
       "144  OPHYS_2_images_A_passive            1.0  \n",
       "140          OPHYS_3_images_A            0.0  \n",
       "141          OPHYS_4_images_B            0.0  \n",
       "142  OPHYS_5_images_B_passive            0.0  "
      ]
     },
     "execution_count": 45,
     "metadata": {},
     "output_type": "execute_result"
    }
   ],
   "source": [
    "manifest = cache.manifest\n",
    "manifest.head(10)"
   ]
  },
  {
   "cell_type": "code",
   "execution_count": 23,
   "metadata": {},
   "outputs": [
    {
     "name": "stdout",
     "output_type": "stream",
     "text": [
      "targeted structures: ['VISp']\n",
      "\n",
      "cre_lines: ['Slc17a7-IRES2-Cre/wt;Camk2a-tTA/wt;Ai93(TITL-GCaMP6f)/wt'\n",
      " 'Vip-IRES-Cre/wt;Ai148(TIT2L-GC6f-ICL-tTA2)/wt']\n",
      "\n",
      "stage_types: ['OPHYS_1_images_A' 'OPHYS_2_images_A_passive' 'OPHYS_4_images_B'\n",
      " 'OPHYS_5_images_B_passive' 'OPHYS_6_images_B' 'OPHYS_3_images_A']\n"
     ]
    }
   ],
   "source": [
    "print('targeted structures:', manifest.targeted_structure.unique())\n",
    "print('\\ncre_lines:', manifest.full_genotype.unique())\n",
    "print('\\nstage_types:', manifest.stage_name.unique())"
   ]
  },
  {
   "cell_type": "markdown",
   "metadata": {},
   "source": [
    "<div style=\"background: #DFF0D8; border-radius: 3px; padding: 10px;\">\n",
    "<p>**Task 1.2:**  Everyone gets an experiment! \n",
    "\n",
    "<p>Get your experiment ID and assign it to a variable called `experiment_id`\n",
    "\n",
    "<p>What is the `targeted_structure`, `cre_line` and `session_type` for your `experiment_id`? \n",
    "\n",
    "</div>"
   ]
  },
  {
   "cell_type": "code",
   "execution_count": 6,
   "metadata": {},
   "outputs": [],
   "source": [
    "#experiment_id = 715887471\n",
    "experiment_id = 792812544"
   ]
  },
  {
   "cell_type": "markdown",
   "metadata": {},
   "source": [
    "<div style=\"background: #DFF0D8; border-radius: 3px; padding: 10px;\">\n",
    "<p>**Task 1.3:**  What is in an experiment container? \n",
    "\n",
    "<p>The experiment container describes a set of experiment sessions performed at the same location (targeted area and imaging depth) in the same mouse that targets the same set of cells. All the sessions in an experiment container have a common `experiment_container_id`.\n",
    "\n",
    "<p>Get a the `experiment_container_id` for your `experiment_id` and find out what other sessions were recorded at that same location.\n",
    "\n",
    "<p>Do all experiment containers have the same number of sessions associated with them? \n",
    "</div>"
   ]
  },
  {
   "cell_type": "code",
   "execution_count": 17,
   "metadata": {},
   "outputs": [],
   "source": [
    "#get the container ID for this experiment\n",
    "this_container_id = manifest.query(\"ophys_experiment_id==@experiment_id\")['container_id'].values[0]"
   ]
  },
  {
   "cell_type": "code",
   "execution_count": 18,
   "metadata": {},
   "outputs": [
    {
     "data": {
      "text/html": [
       "<div>\n",
       "<style scoped>\n",
       "    .dataframe tbody tr th:only-of-type {\n",
       "        vertical-align: middle;\n",
       "    }\n",
       "\n",
       "    .dataframe tbody tr th {\n",
       "        vertical-align: top;\n",
       "    }\n",
       "\n",
       "    .dataframe thead th {\n",
       "        text-align: right;\n",
       "    }\n",
       "</style>\n",
       "<table border=\"1\" class=\"dataframe\">\n",
       "  <thead>\n",
       "    <tr style=\"text-align: right;\">\n",
       "      <th></th>\n",
       "      <th>container_id</th>\n",
       "      <th>container_workflow_state</th>\n",
       "      <th>donor_id</th>\n",
       "      <th>full_genotype</th>\n",
       "      <th>sex</th>\n",
       "      <th>created_at</th>\n",
       "      <th>behavior_session_id</th>\n",
       "      <th>equipment_name</th>\n",
       "      <th>ophys_session_name</th>\n",
       "      <th>ophys_experiment_id</th>\n",
       "      <th>ophys_workflow_state</th>\n",
       "      <th>imaging_depth</th>\n",
       "      <th>targeted_structure</th>\n",
       "      <th>stage_name</th>\n",
       "      <th>retake_number</th>\n",
       "    </tr>\n",
       "  </thead>\n",
       "  <tbody>\n",
       "    <tr>\n",
       "      <th>0</th>\n",
       "      <td>782536745</td>\n",
       "      <td>postprocessing</td>\n",
       "      <td>722884873</td>\n",
       "      <td>Slc17a7-IRES2-Cre/wt;Camk2a-tTA/wt;Ai93(TITL-G...</td>\n",
       "      <td>F</td>\n",
       "      <td>2018-11-08 20:45:52.011892</td>\n",
       "      <td>775378326</td>\n",
       "      <td>CAM2P.5</td>\n",
       "      <td>20181108_403491_1imagesA</td>\n",
       "      <td>775614751</td>\n",
       "      <td>passed</td>\n",
       "      <td>375</td>\n",
       "      <td>VISp</td>\n",
       "      <td>OPHYS_1_images_A</td>\n",
       "      <td>0.0</td>\n",
       "    </tr>\n",
       "    <tr>\n",
       "      <th>1</th>\n",
       "      <td>782536745</td>\n",
       "      <td>postprocessing</td>\n",
       "      <td>722884873</td>\n",
       "      <td>Slc17a7-IRES2-Cre/wt;Camk2a-tTA/wt;Ai93(TITL-G...</td>\n",
       "      <td>F</td>\n",
       "      <td>2018-11-13 19:45:53.130447</td>\n",
       "      <td>778166125</td>\n",
       "      <td>CAM2P.5</td>\n",
       "      <td>20181113_403491_2imagesA</td>\n",
       "      <td>778644591</td>\n",
       "      <td>passed</td>\n",
       "      <td>375</td>\n",
       "      <td>VISp</td>\n",
       "      <td>OPHYS_2_images_A_passive</td>\n",
       "      <td>0.0</td>\n",
       "    </tr>\n",
       "    <tr>\n",
       "      <th>2</th>\n",
       "      <td>782536745</td>\n",
       "      <td>postprocessing</td>\n",
       "      <td>722884873</td>\n",
       "      <td>Slc17a7-IRES2-Cre/wt;Camk2a-tTA/wt;Ai93(TITL-G...</td>\n",
       "      <td>F</td>\n",
       "      <td>2018-12-10 18:40:53.679184</td>\n",
       "      <td>792499741</td>\n",
       "      <td>CAM2P.5</td>\n",
       "      <td>20181210_403491_4imagesB</td>\n",
       "      <td>792812544</td>\n",
       "      <td>passed</td>\n",
       "      <td>375</td>\n",
       "      <td>VISp</td>\n",
       "      <td>OPHYS_4_images_B</td>\n",
       "      <td>2.0</td>\n",
       "    </tr>\n",
       "    <tr>\n",
       "      <th>3</th>\n",
       "      <td>782536745</td>\n",
       "      <td>postprocessing</td>\n",
       "      <td>722884873</td>\n",
       "      <td>Slc17a7-IRES2-Cre/wt;Camk2a-tTA/wt;Ai93(TITL-G...</td>\n",
       "      <td>F</td>\n",
       "      <td>2018-12-15 19:10:57.996849</td>\n",
       "      <td>796032489</td>\n",
       "      <td>CAM2P.5</td>\n",
       "      <td>20181215_403491_5imagesB</td>\n",
       "      <td>796106850</td>\n",
       "      <td>passed</td>\n",
       "      <td>375</td>\n",
       "      <td>VISp</td>\n",
       "      <td>OPHYS_5_images_B_passive</td>\n",
       "      <td>2.0</td>\n",
       "    </tr>\n",
       "    <tr>\n",
       "      <th>4</th>\n",
       "      <td>782536745</td>\n",
       "      <td>postprocessing</td>\n",
       "      <td>722884873</td>\n",
       "      <td>Slc17a7-IRES2-Cre/wt;Camk2a-tTA/wt;Ai93(TITL-G...</td>\n",
       "      <td>F</td>\n",
       "      <td>2018-11-29 18:55:48.200392</td>\n",
       "      <td>788017709</td>\n",
       "      <td>CAM2P.5</td>\n",
       "      <td>20181129_403491_6imagesB</td>\n",
       "      <td>788490510</td>\n",
       "      <td>passed</td>\n",
       "      <td>375</td>\n",
       "      <td>VISp</td>\n",
       "      <td>OPHYS_6_images_B</td>\n",
       "      <td>0.0</td>\n",
       "    </tr>\n",
       "  </tbody>\n",
       "</table>\n",
       "</div>"
      ],
      "text/plain": [
       "   container_id container_workflow_state   donor_id  \\\n",
       "0     782536745           postprocessing  722884873   \n",
       "1     782536745           postprocessing  722884873   \n",
       "2     782536745           postprocessing  722884873   \n",
       "3     782536745           postprocessing  722884873   \n",
       "4     782536745           postprocessing  722884873   \n",
       "\n",
       "                                       full_genotype sex  \\\n",
       "0  Slc17a7-IRES2-Cre/wt;Camk2a-tTA/wt;Ai93(TITL-G...   F   \n",
       "1  Slc17a7-IRES2-Cre/wt;Camk2a-tTA/wt;Ai93(TITL-G...   F   \n",
       "2  Slc17a7-IRES2-Cre/wt;Camk2a-tTA/wt;Ai93(TITL-G...   F   \n",
       "3  Slc17a7-IRES2-Cre/wt;Camk2a-tTA/wt;Ai93(TITL-G...   F   \n",
       "4  Slc17a7-IRES2-Cre/wt;Camk2a-tTA/wt;Ai93(TITL-G...   F   \n",
       "\n",
       "                   created_at  behavior_session_id equipment_name  \\\n",
       "0  2018-11-08 20:45:52.011892            775378326        CAM2P.5   \n",
       "1  2018-11-13 19:45:53.130447            778166125        CAM2P.5   \n",
       "2  2018-12-10 18:40:53.679184            792499741        CAM2P.5   \n",
       "3  2018-12-15 19:10:57.996849            796032489        CAM2P.5   \n",
       "4  2018-11-29 18:55:48.200392            788017709        CAM2P.5   \n",
       "\n",
       "         ophys_session_name  ophys_experiment_id ophys_workflow_state  \\\n",
       "0  20181108_403491_1imagesA            775614751               passed   \n",
       "1  20181113_403491_2imagesA            778644591               passed   \n",
       "2  20181210_403491_4imagesB            792812544               passed   \n",
       "3  20181215_403491_5imagesB            796106850               passed   \n",
       "4  20181129_403491_6imagesB            788490510               passed   \n",
       "\n",
       "   imaging_depth targeted_structure                stage_name  retake_number  \n",
       "0            375               VISp          OPHYS_1_images_A            0.0  \n",
       "1            375               VISp  OPHYS_2_images_A_passive            0.0  \n",
       "2            375               VISp          OPHYS_4_images_B            2.0  \n",
       "3            375               VISp  OPHYS_5_images_B_passive            2.0  \n",
       "4            375               VISp          OPHYS_6_images_B            0.0  "
      ]
     },
     "execution_count": 18,
     "metadata": {},
     "output_type": "execute_result"
    }
   ],
   "source": [
    "manifest.groupby('container_id').get_group(this_container_id)"
   ]
  },
  {
   "cell_type": "code",
   "execution_count": 40,
   "metadata": {},
   "outputs": [
    {
     "data": {
      "text/plain": [
       "container_id\n",
       "782536745    5\n",
       "791352433    6\n",
       "803516615    6\n",
       "803517529    5\n",
       "803589437    6\n",
       "812858755    5\n",
       "814796558    6\n",
       "814796612    6\n",
       "814797528    5\n",
       "825183217    6\n",
       "829561794    6\n",
       "830457573    1\n",
       "843049827    5\n",
       "845588020    6\n",
       "846213087    6\n",
       "846215539    6\n",
       "848390542    7\n",
       "863992815    5\n",
       "876693136    7\n",
       "dtype: int64"
      ]
     },
     "execution_count": 40,
     "metadata": {},
     "output_type": "execute_result"
    }
   ],
   "source": [
    "manifest.groupby('container_id').size()"
   ]
  },
  {
   "cell_type": "markdown",
   "metadata": {},
   "source": [
    "<div style=\"border-left: 3px solid #000; padding: 1px; padding-left: 10px; background: #F0FAFF; \">\n",
    "<h2>The Behavior OPhys Session object</h2>\n",
    "<p>The BehaviorOphysSession class in allensdk.brain_observatory.behavior.behavior_ophys_session provides an interface to all of the data for a single experimental session from the Visual Behavior pipeline, aligned to a common clock.\n",
    "\n",
    "<p>We package each session's data into a Neurodata Without Borders 2.0 (NWB) file. The BehaviorOphysSession will load data from the NWB file on-demand and cache it in memory using the methods defined in the BehaviorOphysNwbApi class.\n",
    "\n",
    "<p>Use help to see what functions are contained in the session object. \n",
    "\n",
    "\n",
    "</div>"
   ]
  },
  {
   "cell_type": "code",
   "execution_count": 19,
   "metadata": {},
   "outputs": [],
   "source": [
    "#from allensdk.brain_observatory.behavior.behavior_ophys_api.behavior_ophys_nwb_api import BehaviorOphysNwbApi as NwbApi\n",
    "\n",
    "#from allensdk.internal.api.behavior_ophys_api import BehaviorOphysLimsApi"
   ]
  },
  {
   "cell_type": "code",
   "execution_count": 46,
   "metadata": {},
   "outputs": [],
   "source": [
    "#load data from the corresponding NWB file, retrieve session object\n",
    "#api = BehaviorOphysLimsApi(experiment_id)\n",
    "#filepath = api.get_nwb_filepath()\n",
    "#nwb_exp = NwbApi(filepath)\n",
    "\n",
    "session = cache.get_session(experiment_id)"
   ]
  },
  {
   "cell_type": "code",
   "execution_count": 21,
   "metadata": {},
   "outputs": [
    {
     "name": "stdout",
     "output_type": "stream",
     "text": [
      "Help on BehaviorOphysSession in module allensdk.brain_observatory.behavior.behavior_ophys_session object:\n",
      "\n",
      "class BehaviorOphysSession(allensdk.core.lazy_property.lazy_property_mixin.LazyPropertyMixin)\n",
      " |  BehaviorOphysSession(api=None)\n",
      " |  \n",
      " |  Represents data from a single Visual Behavior Ophys imaging session.  LazyProperty attributes access the data only on the first demand, and then memoize the result for reuse.\n",
      " |  \n",
      " |  Attributes:\n",
      " |      ophys_experiment_id : int (LazyProperty)\n",
      " |          Unique identifier for this experimental session\n",
      " |      max_projection : allensdk.brain_observatory.behavior.image_api.Image (LazyProperty)\n",
      " |          2D max projection image\n",
      " |      stimulus_timestamps : numpy.ndarray (LazyProperty)\n",
      " |          Timestamps associated the stimulus presentations on the monitor \n",
      " |      ophys_timestamps : numpy.ndarray (LazyProperty)\n",
      " |          Timestamps associated with frames captured by the microscope\n",
      " |      metadata : dict (LazyProperty)\n",
      " |          A dictionary of session-specific metadata\n",
      " |      dff_traces : pandas.DataFrame (LazyProperty)\n",
      " |          The traces of dff organized into a dataframe; index is the cell roi ids\n",
      " |      cell_specimen_table : pandas.DataFrame (LazyProperty)\n",
      " |          Cell roi information organized into a dataframe; index is the cell roi ids\n",
      " |      running_speed : allensdk.brain_observatory.running_speed.RunningSpeed (LazyProperty)\n",
      " |          NamedTuple with two fields\n",
      " |              timestamps : numpy.ndarray\n",
      " |                  Timestamps of running speed data samples\n",
      " |              values : np.ndarray\n",
      " |                  Running speed of the experimental subject (in cm / s).\n",
      " |      running_data_df : pandas.DataFrame (LazyProperty)\n",
      " |          Dataframe containing various signals used to compute running speed\n",
      " |      stimulus_presentations : pandas.DataFrame (LazyProperty)\n",
      " |          Table whose rows are stimulus presentations (i.e. a given image, for a given duration, typically 250 ms) and whose columns are presentation characteristics.\n",
      " |      stimulus_templates : dict (LazyProperty)\n",
      " |          A dictionary containing the stimulus images presented during the session keys are data set names, and values are 3D numpy arrays.\n",
      " |      licks : pandas.DataFrame (LazyProperty)\n",
      " |          A dataframe containing lick timestamps\n",
      " |      rewards : pandas.DataFrame (LazyProperty)\n",
      " |          A dataframe containing timestamps of delivered rewards\n",
      " |      task_parameters : dict (LazyProperty)\n",
      " |          A dictionary containing parameters used to define the task runtime behavior\n",
      " |      trials : pandas.DataFrame (LazyProperty)\n",
      " |          A dataframe containing behavioral trial start/stop times, and trial data\n",
      " |      corrected_fluorescence_traces : pandas.DataFrame (LazyProperty)\n",
      " |          The motion-corrected fluorescence traces organized into a dataframe; index is the cell roi ids\n",
      " |      average_projection : allensdk.brain_observatory.behavior.image_api.Image (LazyProperty)\n",
      " |          2D image of the microscope field of view, averaged across the experiment\n",
      " |      motion_correction : pandas.DataFrame LazyProperty\n",
      " |          A dataframe containing trace data used during motion correction computation\n",
      " |  \n",
      " |  Method resolution order:\n",
      " |      BehaviorOphysSession\n",
      " |      allensdk.core.lazy_property.lazy_property_mixin.LazyPropertyMixin\n",
      " |      builtins.object\n",
      " |  \n",
      " |  Methods defined here:\n",
      " |  \n",
      " |  __init__(self, api=None)\n",
      " |      Initialize self.  See help(type(self)) for accurate signature.\n",
      " |  \n",
      " |  deserialize_image(self, sitk_image)\n",
      " |      Convert SimpleITK image returned by the api to an Image class:\n",
      " |      \n",
      " |      Args:\n",
      " |          sitk_image (SimpleITK image): image object returned by the api\n",
      " |      \n",
      " |      Returns\n",
      " |          img (allensdk.brain_observatory.behavior.image_api.Image):\n",
      " |              Image class with the following attributes:\n",
      " |              data : np.ndarray\n",
      " |                  Image data points\n",
      " |              spacing : tuple\n",
      " |                  Spacing describes the physical size of each pixel\n",
      " |              unit : str\n",
      " |                  Physical unit of the spacing (currently constrained to be isotropic)\n",
      " |  \n",
      " |  get_average_projection(self)\n",
      " |  \n",
      " |  get_cell_specimen_ids(self)\n",
      " |  \n",
      " |  get_cell_specimen_indices(self, cell_specimen_ids)\n",
      " |  \n",
      " |  get_dff_traces(self, cell_specimen_ids=None)\n",
      " |  \n",
      " |  get_max_projection(self)\n",
      " |  \n",
      " |  get_performance_metrics(self, engaged_trial_reward_rate_threshold=2)\n",
      " |  \n",
      " |  get_reward_rate(self)\n",
      " |  \n",
      " |  get_rolling_performance_df(self)\n",
      " |  \n",
      " |  get_segmentation_mask_image(self)\n",
      " |  \n",
      " |  ----------------------------------------------------------------------\n",
      " |  Class methods defined here:\n",
      " |  \n",
      " |  from_lims(ophys_experiment_id) from builtins.type\n",
      " |  \n",
      " |  from_nwb_path(nwb_path, **api_kwargs) from builtins.type\n",
      " |  \n",
      " |  ----------------------------------------------------------------------\n",
      " |  Methods inherited from allensdk.core.lazy_property.lazy_property_mixin.LazyPropertyMixin:\n",
      " |  \n",
      " |  __getattribute__(self, name)\n",
      " |      Return getattr(self, name).\n",
      " |  \n",
      " |  __setattr__(self, name, value)\n",
      " |      Implement setattr(self, name, value).\n",
      " |  \n",
      " |  ----------------------------------------------------------------------\n",
      " |  Data descriptors inherited from allensdk.core.lazy_property.lazy_property_mixin.LazyPropertyMixin:\n",
      " |  \n",
      " |  LazyProperty\n",
      " |  \n",
      " |  __dict__\n",
      " |      dictionary for instance variables (if defined)\n",
      " |  \n",
      " |  __weakref__\n",
      " |      list of weak references to the object (if defined)\n",
      "\n"
     ]
    }
   ],
   "source": [
    "help(session)"
   ]
  },
  {
   "cell_type": "markdown",
   "metadata": {},
   "source": [
    "<div style=\"background: #DFF0D8; border-radius: 3px; padding: 10px;\">\n",
    "<p>**Task 2.1:**  What is an experiment dataset? \n",
    "\n",
    "<p>Use tab completion to see what is in the dataset object for an experiment session\n",
    "\n",
    "<p>What is in the `metadata` attribute? Make sure it matches what you found in the manifest for this `experiment_id`.\n",
    "\n",
    "</div>\n"
   ]
  },
  {
   "cell_type": "code",
   "execution_count": 22,
   "metadata": {},
   "outputs": [
    {
     "data": {
      "text/plain": [
       "{'full_genotype': 'Slc17a7-IRES2-Cre/wt;Camk2a-tTA/wt;Ai93(TITL-GCaMP6f)/wt',\n",
       " 'rig_name': 'CAM2P.5',\n",
       " 'stimulus_frame_rate': 60.0,\n",
       " 'driver_line': ['Slc17a7-IRES2-Cre', 'Camk2a-tTA'],\n",
       " 'imaging_depth': 375,\n",
       " 'field_of_view_height': 512,\n",
       " 'indicator': 'GCAMP6f',\n",
       " 'excitation_lambda': 910.0,\n",
       " 'LabTracks_ID': 403491,\n",
       " 'session_type': 'Unknown',\n",
       " 'ophys_experiment_id': 792812544,\n",
       " 'age': 'P206',\n",
       " 'reporter_line': ['Ai93(TITL-GCaMP6f)'],\n",
       " 'experiment_container_id': 782536745,\n",
       " 'ophys_frame_rate': 31.0,\n",
       " 'targeted_structure': 'VISp',\n",
       " 'field_of_view_width': 447,\n",
       " 'behavior_session_uuid': UUID('ce10f261-93bb-4adf-96ef-bb6e8280ad32'),\n",
       " 'sex': 'F',\n",
       " 'emission_lambda': 520.0,\n",
       " 'experiment_datetime': datetime.datetime(2018, 12, 10, 8, 46, 19, tzinfo=tzutc())}"
      ]
     },
     "execution_count": 22,
     "metadata": {},
     "output_type": "execute_result"
    }
   ],
   "source": [
    "session.metadata"
   ]
  },
  {
   "cell_type": "code",
   "execution_count": 23,
   "metadata": {},
   "outputs": [
    {
     "name": "stdout",
     "output_type": "stream",
     "text": [
      "targeted_structure: VISp\n",
      "driver line: ['Slc17a7-IRES2-Cre', 'Camk2a-tTA']\n",
      "imaging_depth: 375\n"
     ]
    }
   ],
   "source": [
    "# make sure this is the experiment you selected\n",
    "print('targeted_structure:', session.metadata['targeted_structure'])\n",
    "print('driver line:', session.metadata['driver_line'])\n",
    "print('imaging_depth:', session.metadata['imaging_depth'])"
   ]
  },
  {
   "cell_type": "markdown",
   "metadata": {},
   "source": [
    "<div style=\"border-left: 3px solid #000; padding: 1px; padding-left: 10px; background: #F0FAFF; \">\n",
    "<h2>Optical physiology data - max projection, fluorescence traces and roi masks</h2>\n",
    "\n",
    "<p>Let's use the dataset class to access neuron fluorescence timeseries, roi masks, and metadata\n",
    "\n",
    "</div>"
   ]
  },
  {
   "cell_type": "markdown",
   "metadata": {},
   "source": [
    "<div style=\"background: #DFF0D8; border-radius: 3px; padding: 10px;\">\n",
    "<p>**Exercise 2.2:** Get the maximum intensity projection image using the `max_projection` attribute for your dataset and display it. \n",
    "</div>"
   ]
  },
  {
   "cell_type": "code",
   "execution_count": null,
   "metadata": {},
   "outputs": [],
   "source": []
  },
  {
   "cell_type": "markdown",
   "metadata": {},
   "source": [
    "<div style=\"background: #DFF0D8; border-radius: 3px; padding: 10px;\">\n",
    "<p>**Task 2.3: Get dF/F traces and ophys timestamps**\n",
    "\n",
    "<p>Get the fluorescence traces and ophys timestamps. What are the dimensions?\n",
    "\n",
    "<p>`dff_traces` is an array where rows correspond to different cells that were imaged and columns correspond to frames of the 2P movie. `timestamps_ophys` is an array of timestamps for each 2P imaging frame. \n",
    "\n",
    "<p>**Note that there are two ways to access this information - by using functions, or directly as attributes of the dataset object. These two methods are shown below. \n",
    "\n",
    "</div>"
   ]
  },
  {
   "cell_type": "code",
   "execution_count": 68,
   "metadata": {},
   "outputs": [],
   "source": [
    "# function method of accessing data\n",
    "# timestamps_ophys, dff_traces = dataset.get_dff_traces()\n",
    "timestamps_ophys = session.ophys_timestamps\n",
    "dff_traces = session.dff_traces"
   ]
  },
  {
   "cell_type": "code",
   "execution_count": 69,
   "metadata": {},
   "outputs": [
    {
     "name": "stdout",
     "output_type": "stream",
     "text": [
      "shape of dff_traces: (294, 2)\n",
      "shape of timestamps_ophys: (141272,)\n"
     ]
    }
   ],
   "source": [
    "print('shape of dff_traces:',dff_traces.shape)\n",
    "print('shape of timestamps_ophys:',timestamps_ophys.shape)"
   ]
  },
  {
   "cell_type": "code",
   "execution_count": 70,
   "metadata": {},
   "outputs": [
    {
     "name": "stdout",
     "output_type": "stream",
     "text": [
      "shape of dff_traces: (294, 2)\n",
      "shape of timestamps_ophys: (141272,)\n"
     ]
    }
   ],
   "source": [
    "# you can also skip the step of assigning the attribute to a variable and use the datasest attribute directly\n",
    "print('shape of dff_traces:',session.dff_traces.shape)\n",
    "print('shape of timestamps_ophys:',session.ophys_timestamps.shape)"
   ]
  },
  {
   "cell_type": "markdown",
   "metadata": {},
   "source": [
    "<div style=\"background: #DFF0D8; border-radius: 3px; padding: 10px;\">\n",
    "<p>**Exercise 2.4: Plot the dF/F trace for a cell**\n",
    "\n",
    "<p>Plot the dF/F trace for one cell by indexing into the `dff_traces` array. Use `timestamps_ophys` to plot the y_axis in seconds. \n",
    "\n",
    "<p>Try plotting the trace for a different cell.\n",
    "\n",
    "</div>"
   ]
  },
  {
   "cell_type": "code",
   "execution_count": 71,
   "metadata": {},
   "outputs": [],
   "source": [
    "# pick a cell \n",
    "cell_index = 5"
   ]
  },
  {
   "cell_type": "markdown",
   "metadata": {},
   "source": [
    "<div style=\"background: #DFF0D8; border-radius: 3px; padding: 10px;\">\n",
    "<p>**Task 2.5: Going between `cell_index` and `cell_specimen_id`** \n",
    "<p>Get the `cell_specimen_id` for your `cell_index` using a function provided in the dataset class. \n",
    "\n",
    "<p>Is there a function to translate in the opposite direction?\n",
    "</div>"
   ]
  },
  {
   "cell_type": "code",
   "execution_count": null,
   "metadata": {},
   "outputs": [],
   "source": [
    "#cell_specimen_id = dataset.get_cell_specimen_id_for_cell_index(cell_index)\n",
    "#print(cell_specimen_id)"
   ]
  },
  {
   "cell_type": "code",
   "execution_count": 72,
   "metadata": {},
   "outputs": [
    {
     "data": {
      "text/html": [
       "<div>\n",
       "<style scoped>\n",
       "    .dataframe tbody tr th:only-of-type {\n",
       "        vertical-align: middle;\n",
       "    }\n",
       "\n",
       "    .dataframe tbody tr th {\n",
       "        vertical-align: top;\n",
       "    }\n",
       "\n",
       "    .dataframe thead th {\n",
       "        text-align: right;\n",
       "    }\n",
       "</style>\n",
       "<table border=\"1\" class=\"dataframe\">\n",
       "  <thead>\n",
       "    <tr style=\"text-align: right;\">\n",
       "      <th></th>\n",
       "      <th>cell_roi_id</th>\n",
       "      <th>dff</th>\n",
       "    </tr>\n",
       "    <tr>\n",
       "      <th>cell_specimen_id</th>\n",
       "      <th></th>\n",
       "      <th></th>\n",
       "    </tr>\n",
       "  </thead>\n",
       "  <tbody>\n",
       "    <tr>\n",
       "      <th>NaN</th>\n",
       "      <td>792864548</td>\n",
       "      <td>[-0.1222441828042272, 0.04866513226579845, -0....</td>\n",
       "    </tr>\n",
       "    <tr>\n",
       "      <th>NaN</th>\n",
       "      <td>792864550</td>\n",
       "      <td>[0.29146743375403944, 0.2152489083828939, 0.20...</td>\n",
       "    </tr>\n",
       "    <tr>\n",
       "      <th>NaN</th>\n",
       "      <td>792864552</td>\n",
       "      <td>[0.0736258556483489, 0.07953086002766394, 0.02...</td>\n",
       "    </tr>\n",
       "    <tr>\n",
       "      <th>NaN</th>\n",
       "      <td>792864554</td>\n",
       "      <td>[0.15608002425218787, 0.13467104068303862, 0.1...</td>\n",
       "    </tr>\n",
       "    <tr>\n",
       "      <th>NaN</th>\n",
       "      <td>792864557</td>\n",
       "      <td>[0.08954998939306433, 0.11045464957052792, 0.0...</td>\n",
       "    </tr>\n",
       "    <tr>\n",
       "      <th>NaN</th>\n",
       "      <td>792864559</td>\n",
       "      <td>[0.18075023547558325, 0.3640816183786775, 0.13...</td>\n",
       "    </tr>\n",
       "    <tr>\n",
       "      <th>NaN</th>\n",
       "      <td>792864561</td>\n",
       "      <td>[0.5051750317009984, -0.023469893053535192, 0....</td>\n",
       "    </tr>\n",
       "    <tr>\n",
       "      <th>NaN</th>\n",
       "      <td>792864563</td>\n",
       "      <td>[-0.18259644137207456, 0.1858981230856172, 0.2...</td>\n",
       "    </tr>\n",
       "    <tr>\n",
       "      <th>NaN</th>\n",
       "      <td>792864565</td>\n",
       "      <td>[nan, nan, nan, nan, nan, nan, nan, nan, nan, ...</td>\n",
       "    </tr>\n",
       "    <tr>\n",
       "      <th>NaN</th>\n",
       "      <td>792864568</td>\n",
       "      <td>[nan, nan, nan, nan, nan, nan, nan, nan, nan, ...</td>\n",
       "    </tr>\n",
       "    <tr>\n",
       "      <th>NaN</th>\n",
       "      <td>792864570</td>\n",
       "      <td>[0.15006638406087067, 0.07549456110244002, 0.0...</td>\n",
       "    </tr>\n",
       "    <tr>\n",
       "      <th>NaN</th>\n",
       "      <td>792864572</td>\n",
       "      <td>[0.05434406424860844, 0.11387550204070206, 0.0...</td>\n",
       "    </tr>\n",
       "    <tr>\n",
       "      <th>NaN</th>\n",
       "      <td>792864574</td>\n",
       "      <td>[0.3403533963625211, 0.34571909737293377, 0.22...</td>\n",
       "    </tr>\n",
       "    <tr>\n",
       "      <th>NaN</th>\n",
       "      <td>792864576</td>\n",
       "      <td>[0.08264348407312444, 0.1319413699034477, 0.02...</td>\n",
       "    </tr>\n",
       "    <tr>\n",
       "      <th>NaN</th>\n",
       "      <td>792864578</td>\n",
       "      <td>[nan, nan, nan, nan, nan, nan, nan, nan, nan, ...</td>\n",
       "    </tr>\n",
       "    <tr>\n",
       "      <th>NaN</th>\n",
       "      <td>792864580</td>\n",
       "      <td>[0.029368128593389706, 0.15381677591286294, -0...</td>\n",
       "    </tr>\n",
       "    <tr>\n",
       "      <th>NaN</th>\n",
       "      <td>792864582</td>\n",
       "      <td>[nan, nan, nan, nan, nan, nan, nan, nan, nan, ...</td>\n",
       "    </tr>\n",
       "    <tr>\n",
       "      <th>NaN</th>\n",
       "      <td>792864584</td>\n",
       "      <td>[0.08996237537061529, 0.0896678580742806, 0.07...</td>\n",
       "    </tr>\n",
       "    <tr>\n",
       "      <th>NaN</th>\n",
       "      <td>792864586</td>\n",
       "      <td>[0.1636899475572902, 0.0960198239444455, 0.064...</td>\n",
       "    </tr>\n",
       "    <tr>\n",
       "      <th>NaN</th>\n",
       "      <td>792864588</td>\n",
       "      <td>[0.0825068428037789, 0.07396122492102958, 0.07...</td>\n",
       "    </tr>\n",
       "    <tr>\n",
       "      <th>NaN</th>\n",
       "      <td>792864590</td>\n",
       "      <td>[0.08089988476288605, 0.053155466527409094, -0...</td>\n",
       "    </tr>\n",
       "    <tr>\n",
       "      <th>NaN</th>\n",
       "      <td>792864592</td>\n",
       "      <td>[0.07618763495464537, 0.11944180437727564, 0.1...</td>\n",
       "    </tr>\n",
       "    <tr>\n",
       "      <th>NaN</th>\n",
       "      <td>792864594</td>\n",
       "      <td>[0.10386894625206354, 0.15249402755046057, 0.0...</td>\n",
       "    </tr>\n",
       "    <tr>\n",
       "      <th>NaN</th>\n",
       "      <td>792864597</td>\n",
       "      <td>[0.1286769474056491, 0.055085917763815176, 0.0...</td>\n",
       "    </tr>\n",
       "    <tr>\n",
       "      <th>NaN</th>\n",
       "      <td>792864599</td>\n",
       "      <td>[0.00423572663092442, -0.011876903766935197, -...</td>\n",
       "    </tr>\n",
       "    <tr>\n",
       "      <th>NaN</th>\n",
       "      <td>792864601</td>\n",
       "      <td>[0.07214211461398906, 0.0892963751027849, 0.12...</td>\n",
       "    </tr>\n",
       "    <tr>\n",
       "      <th>NaN</th>\n",
       "      <td>792864603</td>\n",
       "      <td>[0.2042863302525934, 0.011887976863339676, 0.1...</td>\n",
       "    </tr>\n",
       "    <tr>\n",
       "      <th>NaN</th>\n",
       "      <td>792864605</td>\n",
       "      <td>[-0.016224199490908003, 0.07587875302510108, 0...</td>\n",
       "    </tr>\n",
       "    <tr>\n",
       "      <th>NaN</th>\n",
       "      <td>792864607</td>\n",
       "      <td>[0.1539649126135082, 0.14354013408264862, 0.12...</td>\n",
       "    </tr>\n",
       "    <tr>\n",
       "      <th>NaN</th>\n",
       "      <td>792864609</td>\n",
       "      <td>[0.13399496991054113, 0.22087910970000071, 0.0...</td>\n",
       "    </tr>\n",
       "    <tr>\n",
       "      <th>...</th>\n",
       "      <td>...</td>\n",
       "      <td>...</td>\n",
       "    </tr>\n",
       "    <tr>\n",
       "      <th>NaN</th>\n",
       "      <td>792865113</td>\n",
       "      <td>[0.09011128450691748, 0.1718967656844119, 0.04...</td>\n",
       "    </tr>\n",
       "    <tr>\n",
       "      <th>NaN</th>\n",
       "      <td>792865115</td>\n",
       "      <td>[nan, nan, nan, nan, nan, nan, nan, nan, nan, ...</td>\n",
       "    </tr>\n",
       "    <tr>\n",
       "      <th>NaN</th>\n",
       "      <td>792865117</td>\n",
       "      <td>[0.23712934792435755, 0.13885095722697566, 0.0...</td>\n",
       "    </tr>\n",
       "    <tr>\n",
       "      <th>NaN</th>\n",
       "      <td>792865119</td>\n",
       "      <td>[1.831463647225907, 1.7059864725595266, 1.6320...</td>\n",
       "    </tr>\n",
       "    <tr>\n",
       "      <th>NaN</th>\n",
       "      <td>792865122</td>\n",
       "      <td>[nan, nan, nan, nan, nan, nan, nan, nan, nan, ...</td>\n",
       "    </tr>\n",
       "    <tr>\n",
       "      <th>NaN</th>\n",
       "      <td>792865124</td>\n",
       "      <td>[-0.14926832567014175, 0.10051724777898496, 0....</td>\n",
       "    </tr>\n",
       "    <tr>\n",
       "      <th>NaN</th>\n",
       "      <td>792865126</td>\n",
       "      <td>[nan, nan, nan, nan, nan, nan, nan, nan, nan, ...</td>\n",
       "    </tr>\n",
       "    <tr>\n",
       "      <th>NaN</th>\n",
       "      <td>792865128</td>\n",
       "      <td>[-0.853826598159339, -0.11412747144841433, -0....</td>\n",
       "    </tr>\n",
       "    <tr>\n",
       "      <th>NaN</th>\n",
       "      <td>792865130</td>\n",
       "      <td>[-0.39297056207669834, 0.12743797528168752, 0....</td>\n",
       "    </tr>\n",
       "    <tr>\n",
       "      <th>NaN</th>\n",
       "      <td>792865132</td>\n",
       "      <td>[-0.23749410982350927, 0.1786056087990001, 0.1...</td>\n",
       "    </tr>\n",
       "    <tr>\n",
       "      <th>NaN</th>\n",
       "      <td>792865134</td>\n",
       "      <td>[-1.084890345417592, -0.23747643306428806, -0....</td>\n",
       "    </tr>\n",
       "    <tr>\n",
       "      <th>NaN</th>\n",
       "      <td>792865136</td>\n",
       "      <td>[nan, nan, nan, nan, nan, nan, nan, nan, nan, ...</td>\n",
       "    </tr>\n",
       "    <tr>\n",
       "      <th>NaN</th>\n",
       "      <td>792865138</td>\n",
       "      <td>[nan, nan, nan, nan, nan, nan, nan, nan, nan, ...</td>\n",
       "    </tr>\n",
       "    <tr>\n",
       "      <th>NaN</th>\n",
       "      <td>792865140</td>\n",
       "      <td>[0.9915233111931188, 0.7750994826539258, 0.734...</td>\n",
       "    </tr>\n",
       "    <tr>\n",
       "      <th>NaN</th>\n",
       "      <td>792865142</td>\n",
       "      <td>[-0.12293058141712192, 0.040341773441305295, 0...</td>\n",
       "    </tr>\n",
       "    <tr>\n",
       "      <th>NaN</th>\n",
       "      <td>792865144</td>\n",
       "      <td>[nan, nan, nan, nan, nan, nan, nan, nan, nan, ...</td>\n",
       "    </tr>\n",
       "    <tr>\n",
       "      <th>NaN</th>\n",
       "      <td>792865146</td>\n",
       "      <td>[0.1635090923996357, 0.0775683909832074, 0.115...</td>\n",
       "    </tr>\n",
       "    <tr>\n",
       "      <th>NaN</th>\n",
       "      <td>792865149</td>\n",
       "      <td>[0.05893705028517285, 0.06634156074181491, 0.0...</td>\n",
       "    </tr>\n",
       "    <tr>\n",
       "      <th>NaN</th>\n",
       "      <td>792865151</td>\n",
       "      <td>[0.1680460295556955, 0.19526830843583623, 0.39...</td>\n",
       "    </tr>\n",
       "    <tr>\n",
       "      <th>NaN</th>\n",
       "      <td>792865153</td>\n",
       "      <td>[0.04757594302367716, -0.0729052059936893, -0....</td>\n",
       "    </tr>\n",
       "    <tr>\n",
       "      <th>NaN</th>\n",
       "      <td>792865155</td>\n",
       "      <td>[0.13129837669846264, 0.08574544409828136, 0.0...</td>\n",
       "    </tr>\n",
       "    <tr>\n",
       "      <th>NaN</th>\n",
       "      <td>792865157</td>\n",
       "      <td>[0.18347733413651207, 0.25216160544361027, 0.2...</td>\n",
       "    </tr>\n",
       "    <tr>\n",
       "      <th>NaN</th>\n",
       "      <td>792865159</td>\n",
       "      <td>[-6.362925969815263, -1.4461719432385327, -2.1...</td>\n",
       "    </tr>\n",
       "    <tr>\n",
       "      <th>NaN</th>\n",
       "      <td>792865161</td>\n",
       "      <td>[0.15927612658993368, 0.055116154570609074, 0....</td>\n",
       "    </tr>\n",
       "    <tr>\n",
       "      <th>NaN</th>\n",
       "      <td>792865164</td>\n",
       "      <td>[-0.0757317040065788, 0.08557053072876408, 0.1...</td>\n",
       "    </tr>\n",
       "    <tr>\n",
       "      <th>NaN</th>\n",
       "      <td>792865166</td>\n",
       "      <td>[-4.894616901967837, -0.45851884640511587, -1....</td>\n",
       "    </tr>\n",
       "    <tr>\n",
       "      <th>NaN</th>\n",
       "      <td>792865168</td>\n",
       "      <td>[0.1283778788302451, 0.03550832361665266, 0.01...</td>\n",
       "    </tr>\n",
       "    <tr>\n",
       "      <th>NaN</th>\n",
       "      <td>792865170</td>\n",
       "      <td>[0.35620399799504554, 0.2510990117247168, 0.29...</td>\n",
       "    </tr>\n",
       "    <tr>\n",
       "      <th>NaN</th>\n",
       "      <td>792865172</td>\n",
       "      <td>[0.19121749561201465, 0.010183524926789941, 0....</td>\n",
       "    </tr>\n",
       "    <tr>\n",
       "      <th>NaN</th>\n",
       "      <td>792865174</td>\n",
       "      <td>[nan, nan, nan, nan, nan, nan, nan, nan, nan, ...</td>\n",
       "    </tr>\n",
       "  </tbody>\n",
       "</table>\n",
       "<p>294 rows × 2 columns</p>\n",
       "</div>"
      ],
      "text/plain": [
       "                  cell_roi_id  \\\n",
       "cell_specimen_id                \n",
       "NaN                 792864548   \n",
       "NaN                 792864550   \n",
       "NaN                 792864552   \n",
       "NaN                 792864554   \n",
       "NaN                 792864557   \n",
       "NaN                 792864559   \n",
       "NaN                 792864561   \n",
       "NaN                 792864563   \n",
       "NaN                 792864565   \n",
       "NaN                 792864568   \n",
       "NaN                 792864570   \n",
       "NaN                 792864572   \n",
       "NaN                 792864574   \n",
       "NaN                 792864576   \n",
       "NaN                 792864578   \n",
       "NaN                 792864580   \n",
       "NaN                 792864582   \n",
       "NaN                 792864584   \n",
       "NaN                 792864586   \n",
       "NaN                 792864588   \n",
       "NaN                 792864590   \n",
       "NaN                 792864592   \n",
       "NaN                 792864594   \n",
       "NaN                 792864597   \n",
       "NaN                 792864599   \n",
       "NaN                 792864601   \n",
       "NaN                 792864603   \n",
       "NaN                 792864605   \n",
       "NaN                 792864607   \n",
       "NaN                 792864609   \n",
       "...                       ...   \n",
       "NaN                 792865113   \n",
       "NaN                 792865115   \n",
       "NaN                 792865117   \n",
       "NaN                 792865119   \n",
       "NaN                 792865122   \n",
       "NaN                 792865124   \n",
       "NaN                 792865126   \n",
       "NaN                 792865128   \n",
       "NaN                 792865130   \n",
       "NaN                 792865132   \n",
       "NaN                 792865134   \n",
       "NaN                 792865136   \n",
       "NaN                 792865138   \n",
       "NaN                 792865140   \n",
       "NaN                 792865142   \n",
       "NaN                 792865144   \n",
       "NaN                 792865146   \n",
       "NaN                 792865149   \n",
       "NaN                 792865151   \n",
       "NaN                 792865153   \n",
       "NaN                 792865155   \n",
       "NaN                 792865157   \n",
       "NaN                 792865159   \n",
       "NaN                 792865161   \n",
       "NaN                 792865164   \n",
       "NaN                 792865166   \n",
       "NaN                 792865168   \n",
       "NaN                 792865170   \n",
       "NaN                 792865172   \n",
       "NaN                 792865174   \n",
       "\n",
       "                                                                dff  \n",
       "cell_specimen_id                                                     \n",
       "NaN               [-0.1222441828042272, 0.04866513226579845, -0....  \n",
       "NaN               [0.29146743375403944, 0.2152489083828939, 0.20...  \n",
       "NaN               [0.0736258556483489, 0.07953086002766394, 0.02...  \n",
       "NaN               [0.15608002425218787, 0.13467104068303862, 0.1...  \n",
       "NaN               [0.08954998939306433, 0.11045464957052792, 0.0...  \n",
       "NaN               [0.18075023547558325, 0.3640816183786775, 0.13...  \n",
       "NaN               [0.5051750317009984, -0.023469893053535192, 0....  \n",
       "NaN               [-0.18259644137207456, 0.1858981230856172, 0.2...  \n",
       "NaN               [nan, nan, nan, nan, nan, nan, nan, nan, nan, ...  \n",
       "NaN               [nan, nan, nan, nan, nan, nan, nan, nan, nan, ...  \n",
       "NaN               [0.15006638406087067, 0.07549456110244002, 0.0...  \n",
       "NaN               [0.05434406424860844, 0.11387550204070206, 0.0...  \n",
       "NaN               [0.3403533963625211, 0.34571909737293377, 0.22...  \n",
       "NaN               [0.08264348407312444, 0.1319413699034477, 0.02...  \n",
       "NaN               [nan, nan, nan, nan, nan, nan, nan, nan, nan, ...  \n",
       "NaN               [0.029368128593389706, 0.15381677591286294, -0...  \n",
       "NaN               [nan, nan, nan, nan, nan, nan, nan, nan, nan, ...  \n",
       "NaN               [0.08996237537061529, 0.0896678580742806, 0.07...  \n",
       "NaN               [0.1636899475572902, 0.0960198239444455, 0.064...  \n",
       "NaN               [0.0825068428037789, 0.07396122492102958, 0.07...  \n",
       "NaN               [0.08089988476288605, 0.053155466527409094, -0...  \n",
       "NaN               [0.07618763495464537, 0.11944180437727564, 0.1...  \n",
       "NaN               [0.10386894625206354, 0.15249402755046057, 0.0...  \n",
       "NaN               [0.1286769474056491, 0.055085917763815176, 0.0...  \n",
       "NaN               [0.00423572663092442, -0.011876903766935197, -...  \n",
       "NaN               [0.07214211461398906, 0.0892963751027849, 0.12...  \n",
       "NaN               [0.2042863302525934, 0.011887976863339676, 0.1...  \n",
       "NaN               [-0.016224199490908003, 0.07587875302510108, 0...  \n",
       "NaN               [0.1539649126135082, 0.14354013408264862, 0.12...  \n",
       "NaN               [0.13399496991054113, 0.22087910970000071, 0.0...  \n",
       "...                                                             ...  \n",
       "NaN               [0.09011128450691748, 0.1718967656844119, 0.04...  \n",
       "NaN               [nan, nan, nan, nan, nan, nan, nan, nan, nan, ...  \n",
       "NaN               [0.23712934792435755, 0.13885095722697566, 0.0...  \n",
       "NaN               [1.831463647225907, 1.7059864725595266, 1.6320...  \n",
       "NaN               [nan, nan, nan, nan, nan, nan, nan, nan, nan, ...  \n",
       "NaN               [-0.14926832567014175, 0.10051724777898496, 0....  \n",
       "NaN               [nan, nan, nan, nan, nan, nan, nan, nan, nan, ...  \n",
       "NaN               [-0.853826598159339, -0.11412747144841433, -0....  \n",
       "NaN               [-0.39297056207669834, 0.12743797528168752, 0....  \n",
       "NaN               [-0.23749410982350927, 0.1786056087990001, 0.1...  \n",
       "NaN               [-1.084890345417592, -0.23747643306428806, -0....  \n",
       "NaN               [nan, nan, nan, nan, nan, nan, nan, nan, nan, ...  \n",
       "NaN               [nan, nan, nan, nan, nan, nan, nan, nan, nan, ...  \n",
       "NaN               [0.9915233111931188, 0.7750994826539258, 0.734...  \n",
       "NaN               [-0.12293058141712192, 0.040341773441305295, 0...  \n",
       "NaN               [nan, nan, nan, nan, nan, nan, nan, nan, nan, ...  \n",
       "NaN               [0.1635090923996357, 0.0775683909832074, 0.115...  \n",
       "NaN               [0.05893705028517285, 0.06634156074181491, 0.0...  \n",
       "NaN               [0.1680460295556955, 0.19526830843583623, 0.39...  \n",
       "NaN               [0.04757594302367716, -0.0729052059936893, -0....  \n",
       "NaN               [0.13129837669846264, 0.08574544409828136, 0.0...  \n",
       "NaN               [0.18347733413651207, 0.25216160544361027, 0.2...  \n",
       "NaN               [-6.362925969815263, -1.4461719432385327, -2.1...  \n",
       "NaN               [0.15927612658993368, 0.055116154570609074, 0....  \n",
       "NaN               [-0.0757317040065788, 0.08557053072876408, 0.1...  \n",
       "NaN               [-4.894616901967837, -0.45851884640511587, -1....  \n",
       "NaN               [0.1283778788302451, 0.03550832361665266, 0.01...  \n",
       "NaN               [0.35620399799504554, 0.2510990117247168, 0.29...  \n",
       "NaN               [0.19121749561201465, 0.010183524926789941, 0....  \n",
       "NaN               [nan, nan, nan, nan, nan, nan, nan, nan, nan, ...  \n",
       "\n",
       "[294 rows x 2 columns]"
      ]
     },
     "execution_count": 72,
     "metadata": {},
     "output_type": "execute_result"
    }
   ],
   "source": [
    "# To get the cell specimen ID for an index\n",
    "# Use df.iloc[] to get rows with particular positions in the index (i.e. use ints starting from zero)\n",
    "cell_specimen_id = dff_traces.iloc[cell_index].name # The df is indexed by the specimen id. Use the row.name attr to get the index\n",
    "\n",
    "# df.loc[] gets rows with particular labels in the index. \n",
    "dff_traces.loc[cell_specimen_id]"
   ]
  },
  {
   "cell_type": "markdown",
   "metadata": {},
   "source": [
    "<div style=\"background: #DFF0D8; border-radius: 3px; padding: 10px;\">\n",
    "<p>**Exercise 2.6: Accessing roi masks two ways** \n",
    "\n",
    "<p>1) Plot the roi mask for that cell using `cell_specimen_id` and `roi_mask_dict`. \n",
    "\n",
    "<p>Hint: `cell_specimen_id` needs to be passed into `roi_mask_dict` as a string. \n",
    "\n",
    "<p>2) Alternatively, plot the roi mask for that cell using `roi_mask_array` and `cell_index`.\n",
    "</div>"
   ]
  },
  {
   "cell_type": "code",
   "execution_count": 34,
   "metadata": {},
   "outputs": [
    {
     "data": {
      "image/png": "[encoded data removed]",
      "text/plain": [
       "<Figure size 720x360 with 3 Axes>"
      ]
     },
     "metadata": {
      "needs_background": "light"
     },
     "output_type": "display_data"
    }
   ],
   "source": [
    "fig, ax = plt.subplots(1, 3)\n",
    "fig.set_size_inches(10, 5)\n",
    "ax[0].imshow(session.max_projection)\n",
    "ax[1].imshow(session.average_projection)\n",
    "ax[2].imshow(session.segmentation_mask_image)\n",
    "plt.tight_layout()"
   ]
  },
  {
   "cell_type": "code",
   "execution_count": 37,
   "metadata": {},
   "outputs": [
    {
     "data": {
      "text/plain": [
       "array([  0, 101, 102, 104, 105, 106, 108, 109, 112, 113, 114, 115, 116,\n",
       "       117, 118, 120, 123, 125, 126, 128, 131, 132, 134, 135, 136, 137,\n",
       "       139, 140, 143, 144, 146, 148, 151, 152, 153, 155, 160, 164, 165,\n",
       "       169, 170, 172, 178, 179, 180, 183, 184, 193, 194, 195, 196, 199,\n",
       "       202, 205, 207, 209, 211, 213, 214, 216, 220, 222, 226, 228, 229,\n",
       "       230, 232, 233, 239, 242, 243, 249, 250, 253, 255], dtype=uint8)"
      ]
     },
     "execution_count": 37,
     "metadata": {},
     "output_type": "execute_result"
    }
   ],
   "source": [
    "np.unique(session.segmentation_mask_image.data)"
   ]
  },
  {
   "cell_type": "code",
   "execution_count": 38,
   "metadata": {},
   "outputs": [
    {
     "data": {
      "text/plain": [
       "<matplotlib.image.AxesImage at 0x7f4198970c50>"
      ]
     },
     "execution_count": 38,
     "metadata": {},
     "output_type": "execute_result"
    },
    {
     "data": {
      "image/png": "[encoded data removed]",
      "text/plain": [
       "<Figure size 432x288 with 1 Axes>"
      ]
     },
     "metadata": {
      "needs_background": "light"
     },
     "output_type": "display_data"
    }
   ],
   "source": [
    "plt.imshow(session.segmentation_mask_image.data>0)"
   ]
  },
  {
   "cell_type": "code",
   "execution_count": 94,
   "metadata": {},
   "outputs": [
    {
     "data": {
      "text/plain": [
       "<matplotlib.image.AxesImage at 0x23a0455b898>"
      ]
     },
     "execution_count": 94,
     "metadata": {},
     "output_type": "execute_result"
    },
    {
     "data": {
      "image/png": "[encoded data removed]",
      "text/plain": [
       "<Figure size 432x288 with 1 Axes>"
      ]
     },
     "metadata": {},
     "output_type": "display_data"
    }
   ],
   "source": [
    "specimen_table=session.cell_specimen_table\n",
    "roi_id=792865164\n",
    "\n",
    "plt.imshow(specimen_table[specimen_table.cell_roi_id==roi_id].image_mask.values[0])"
   ]
  },
  {
   "cell_type": "markdown",
   "metadata": {},
   "source": [
    "<div style=\"border-left: 3px solid #000; padding: 1px; padding-left: 10px; background: #F0FAFF; \">\n",
    "<h2>Behavior timeseries and events - running, licks, rewards, and visual stimuli </h2>\n",
    "<p>As the mouse performs the behavioral task, it is free to run on a disk. The task is a go/no-go style task with licking as the behavioral response. When a mouse correctly licks the water spout, a reward is delivered. \n",
    "\n",
    "<p>Running, licks and rewards are measured at the stimulus frame display rate and share timestamps with the stimulus. </div>"
   ]
  },
  {
   "cell_type": "markdown",
   "metadata": {},
   "source": [
    "<div style=\"background: #DFF0D8; border-radius: 3px; padding: 10px;\">\n",
    "<p>**Task 3.1: Get running speed trace and timestamps** \n",
    "\n",
    "<p>Get the `running_speed` attribute of the dataset object. \n",
    "\n",
    "<p>Note that running speed is stored in a dataframe. What are the other columns of this dataframe? \n",
    "\n",
    "<p>Runnning speed shares timestamps with the visual stimulus. Compare the values of running timestamps from the `running_speed` dataframe with the values in the dataset attribute `timestamps_stimulus`. \n",
    "</div>"
   ]
  },
  {
   "cell_type": "code",
   "execution_count": 101,
   "metadata": {},
   "outputs": [
    {
     "data": {
      "text/plain": [
       "RunningSpeed(timestamps=array([  13.63604,   13.6601 ,   13.67009, ..., 4516.16886, 4516.1886 ,\n",
       "       4516.19923]), values=array([ 0.        ,  1.87921414,  1.42714319, ..., -0.12092068,\n",
       "        0.        ,  0.        ]))"
      ]
     },
     "execution_count": 101,
     "metadata": {},
     "output_type": "execute_result"
    }
   ],
   "source": [
    "session.running_speed"
   ]
  },
  {
   "cell_type": "code",
   "execution_count": 103,
   "metadata": {
    "scrolled": true
   },
   "outputs": [
    {
     "name": "stdout",
     "output_type": "stream",
     "text": [
      "running speed timestamps: [  13.63604   13.6601    13.67009 ... 4516.16886 4516.1886  4516.19923]\n"
     ]
    }
   ],
   "source": [
    "print('running speed timestamps:',session.running_speed.timestamps)"
   ]
  },
  {
   "cell_type": "code",
   "execution_count": 104,
   "metadata": {},
   "outputs": [
    {
     "name": "stdout",
     "output_type": "stream",
     "text": [
      "stimulus timestamps: <HDF5 dataset \"timestamps\": shape (269930,), type \"<f8\">\n"
     ]
    }
   ],
   "source": [
    "print('stimulus timestamps:',session.stimulus_timestamps)"
   ]
  },
  {
   "cell_type": "markdown",
   "metadata": {},
   "source": [
    "<div style=\"background: #DFF0D8; border-radius: 3px; padding: 10px;\">\n",
    "<p>**Exercise 3.2: Plot running speed**\n",
    "\n",
    "<p>1) Plot the values for running speed from the `running_speed` column of the dataframe. \n",
    "\n",
    "<p>2) Plot the x-axis in seconds, using `timestamps_stimulus` or using the `time` column of the `running_speed` dataframe. \n",
    "\n",
    "<p>Running speed is measured in cm/s. Label the axes appropriately.\n",
    "</div>"
   ]
  },
  {
   "cell_type": "code",
   "execution_count": 95,
   "metadata": {},
   "outputs": [
    {
     "data": {
      "text/plain": [
       "[<matplotlib.lines.Line2D at 0x23a05a929b0>]"
      ]
     },
     "execution_count": 95,
     "metadata": {},
     "output_type": "execute_result"
    },
    {
     "data": {
      "image/png": "[encoded data removed]",
      "text/plain": [
       "<Figure size 432x288 with 1 Axes>"
      ]
     },
     "metadata": {},
     "output_type": "display_data"
    }
   ],
   "source": [
    "plt.plot(session.running_speed.timestamps, session.running_speed.values)"
   ]
  },
  {
   "cell_type": "code",
   "execution_count": null,
   "metadata": {},
   "outputs": [],
   "source": []
  },
  {
   "cell_type": "markdown",
   "metadata": {},
   "source": [
    "<div style=\"background: #DFF0D8; border-radius: 3px; padding: 10px;\">\n",
    "<p>**Exercise 3.3: Plot licking, reward times, and running trace on the same figure**\n",
    "    \n",
    "<p>1) Plot `running_speed` as above, but set xlims to focus on a 1 minute portion of the behavior session, from x=600 to x=660. \n",
    "\n",
    "<p>2) Plot `rewards` as points (not a line), at y = -10. Set marker='o' and linestyle='None'. Note that `rewards` is a dataframe. Use the values of the `time` column to get x-axis values to plot.\n",
    "\n",
    "<p>Hint: You will need to create an array of len(dataset.rewards.time.values) filled with -10 to use as y-axis values to plot. np.repeat() is a convenient function for this.\n",
    "\n",
    "<p>3) Plot `licking` times using plt.vlines() with ymin=-10 and ymax=-5. \n",
    "\n",
    "<p>4) Create a legend. Bonus: place the legend outside of the main figure.\n",
    "\n",
    "<p>What is the relationship between running, licking and rewards? \n",
    "</div>"
   ]
  },
  {
   "cell_type": "code",
   "execution_count": 105,
   "metadata": {},
   "outputs": [
    {
     "data": {
      "text/html": [
       "<div>\n",
       "<style scoped>\n",
       "    .dataframe tbody tr th:only-of-type {\n",
       "        vertical-align: middle;\n",
       "    }\n",
       "\n",
       "    .dataframe tbody tr th {\n",
       "        vertical-align: top;\n",
       "    }\n",
       "\n",
       "    .dataframe thead th {\n",
       "        text-align: right;\n",
       "    }\n",
       "</style>\n",
       "<table border=\"1\" class=\"dataframe\">\n",
       "  <thead>\n",
       "    <tr style=\"text-align: right;\">\n",
       "      <th></th>\n",
       "      <th>volume</th>\n",
       "      <th>autorewarded</th>\n",
       "    </tr>\n",
       "    <tr>\n",
       "      <th>timestamps</th>\n",
       "      <th></th>\n",
       "      <th></th>\n",
       "    </tr>\n",
       "  </thead>\n",
       "  <tbody>\n",
       "    <tr>\n",
       "      <th>344.031673</th>\n",
       "      <td>0.007</td>\n",
       "      <td>False</td>\n",
       "    </tr>\n",
       "    <tr>\n",
       "      <th>361.261361</th>\n",
       "      <td>0.007</td>\n",
       "      <td>False</td>\n",
       "    </tr>\n",
       "    <tr>\n",
       "      <th>449.929279</th>\n",
       "      <td>0.007</td>\n",
       "      <td>False</td>\n",
       "    </tr>\n",
       "    <tr>\n",
       "      <th>469.398525</th>\n",
       "      <td>0.007</td>\n",
       "      <td>False</td>\n",
       "    </tr>\n",
       "    <tr>\n",
       "      <th>520.437516</th>\n",
       "      <td>0.007</td>\n",
       "      <td>False</td>\n",
       "    </tr>\n",
       "  </tbody>\n",
       "</table>\n",
       "</div>"
      ],
      "text/plain": [
       "            volume  autorewarded\n",
       "timestamps                      \n",
       "344.031673   0.007         False\n",
       "361.261361   0.007         False\n",
       "449.929279   0.007         False\n",
       "469.398525   0.007         False\n",
       "520.437516   0.007         False"
      ]
     },
     "execution_count": 105,
     "metadata": {},
     "output_type": "execute_result"
    }
   ],
   "source": [
    "session.rewards.head()"
   ]
  },
  {
   "cell_type": "code",
   "execution_count": 106,
   "metadata": {},
   "outputs": [
    {
     "data": {
      "text/html": [
       "<div>\n",
       "<style scoped>\n",
       "    .dataframe tbody tr th:only-of-type {\n",
       "        vertical-align: middle;\n",
       "    }\n",
       "\n",
       "    .dataframe tbody tr th {\n",
       "        vertical-align: top;\n",
       "    }\n",
       "\n",
       "    .dataframe thead th {\n",
       "        text-align: right;\n",
       "    }\n",
       "</style>\n",
       "<table border=\"1\" class=\"dataframe\">\n",
       "  <thead>\n",
       "    <tr style=\"text-align: right;\">\n",
       "      <th></th>\n",
       "      <th>time</th>\n",
       "    </tr>\n",
       "  </thead>\n",
       "  <tbody>\n",
       "    <tr>\n",
       "      <th>0</th>\n",
       "      <td>6.69973</td>\n",
       "    </tr>\n",
       "    <tr>\n",
       "      <th>1</th>\n",
       "      <td>6.84449</td>\n",
       "    </tr>\n",
       "    <tr>\n",
       "      <th>2</th>\n",
       "      <td>12.75827</td>\n",
       "    </tr>\n",
       "    <tr>\n",
       "      <th>3</th>\n",
       "      <td>12.91332</td>\n",
       "    </tr>\n",
       "    <tr>\n",
       "      <th>4</th>\n",
       "      <td>18.83490</td>\n",
       "    </tr>\n",
       "  </tbody>\n",
       "</table>\n",
       "</div>"
      ],
      "text/plain": [
       "       time\n",
       "0   6.69973\n",
       "1   6.84449\n",
       "2  12.75827\n",
       "3  12.91332\n",
       "4  18.83490"
      ]
     },
     "execution_count": 106,
     "metadata": {},
     "output_type": "execute_result"
    }
   ],
   "source": [
    "session.licks.head()"
   ]
  },
  {
   "cell_type": "markdown",
   "metadata": {},
   "source": [
    "<div style=\"background: #DFF0D8; border-radius: 3px; padding: 10px;\">\n",
    "<p>**Task 3.4: Get the stimulus table**\n",
    "\n",
    "<p>Get the `stimulus_table` attribute from the `dataset` object to identify the times of stimulus presentations. How many stimulus flashes were there? \n",
    "</div>"
   ]
  },
  {
   "cell_type": "code",
   "execution_count": 107,
   "metadata": {},
   "outputs": [
    {
     "data": {
      "text/html": [
       "<div>\n",
       "<style scoped>\n",
       "    .dataframe tbody tr th:only-of-type {\n",
       "        vertical-align: middle;\n",
       "    }\n",
       "\n",
       "    .dataframe tbody tr th {\n",
       "        vertical-align: top;\n",
       "    }\n",
       "\n",
       "    .dataframe thead th {\n",
       "        text-align: right;\n",
       "    }\n",
       "</style>\n",
       "<table border=\"1\" class=\"dataframe\">\n",
       "  <thead>\n",
       "    <tr style=\"text-align: right;\">\n",
       "      <th></th>\n",
       "      <th>duration</th>\n",
       "      <th>end_frame</th>\n",
       "      <th>image_index</th>\n",
       "      <th>image_name</th>\n",
       "      <th>image_set</th>\n",
       "      <th>index</th>\n",
       "      <th>omitted</th>\n",
       "      <th>orientation</th>\n",
       "      <th>start_frame</th>\n",
       "      <th>start_time</th>\n",
       "      <th>stop_time</th>\n",
       "    </tr>\n",
       "    <tr>\n",
       "      <th>stimulus_presentations_id</th>\n",
       "      <th></th>\n",
       "      <th></th>\n",
       "      <th></th>\n",
       "      <th></th>\n",
       "      <th></th>\n",
       "      <th></th>\n",
       "      <th></th>\n",
       "      <th></th>\n",
       "      <th></th>\n",
       "      <th></th>\n",
       "      <th></th>\n",
       "    </tr>\n",
       "  </thead>\n",
       "  <tbody>\n",
       "    <tr>\n",
       "      <th>0</th>\n",
       "      <td>0.24970</td>\n",
       "      <td>18001.0</td>\n",
       "      <td>0</td>\n",
       "      <td>im000</td>\n",
       "      <td>Natural_Images_Lum_Matched_set_ophys_6_2017.07.14</td>\n",
       "      <td>0</td>\n",
       "      <td>False</td>\n",
       "      <td>NaN</td>\n",
       "      <td>17986</td>\n",
       "      <td>313.65234</td>\n",
       "      <td>313.90204</td>\n",
       "    </tr>\n",
       "    <tr>\n",
       "      <th>1</th>\n",
       "      <td>0.24969</td>\n",
       "      <td>18046.0</td>\n",
       "      <td>0</td>\n",
       "      <td>im000</td>\n",
       "      <td>Natural_Images_Lum_Matched_set_ophys_6_2017.07.14</td>\n",
       "      <td>1</td>\n",
       "      <td>False</td>\n",
       "      <td>NaN</td>\n",
       "      <td>18031</td>\n",
       "      <td>314.40248</td>\n",
       "      <td>314.65217</td>\n",
       "    </tr>\n",
       "    <tr>\n",
       "      <th>2</th>\n",
       "      <td>0.25006</td>\n",
       "      <td>18091.0</td>\n",
       "      <td>0</td>\n",
       "      <td>im000</td>\n",
       "      <td>Natural_Images_Lum_Matched_set_ophys_6_2017.07.14</td>\n",
       "      <td>2</td>\n",
       "      <td>False</td>\n",
       "      <td>NaN</td>\n",
       "      <td>18076</td>\n",
       "      <td>315.15205</td>\n",
       "      <td>315.40211</td>\n",
       "    </tr>\n",
       "    <tr>\n",
       "      <th>3</th>\n",
       "      <td>0.24995</td>\n",
       "      <td>18136.0</td>\n",
       "      <td>0</td>\n",
       "      <td>im000</td>\n",
       "      <td>Natural_Images_Lum_Matched_set_ophys_6_2017.07.14</td>\n",
       "      <td>3</td>\n",
       "      <td>False</td>\n",
       "      <td>NaN</td>\n",
       "      <td>18121</td>\n",
       "      <td>315.90203</td>\n",
       "      <td>316.15198</td>\n",
       "    </tr>\n",
       "    <tr>\n",
       "      <th>4</th>\n",
       "      <td>0.24994</td>\n",
       "      <td>18181.0</td>\n",
       "      <td>0</td>\n",
       "      <td>im000</td>\n",
       "      <td>Natural_Images_Lum_Matched_set_ophys_6_2017.07.14</td>\n",
       "      <td>4</td>\n",
       "      <td>False</td>\n",
       "      <td>NaN</td>\n",
       "      <td>18166</td>\n",
       "      <td>316.65215</td>\n",
       "      <td>316.90209</td>\n",
       "    </tr>\n",
       "  </tbody>\n",
       "</table>\n",
       "</div>"
      ],
      "text/plain": [
       "                           duration  end_frame  image_index image_name  \\\n",
       "stimulus_presentations_id                                                \n",
       "0                           0.24970    18001.0            0      im000   \n",
       "1                           0.24969    18046.0            0      im000   \n",
       "2                           0.25006    18091.0            0      im000   \n",
       "3                           0.24995    18136.0            0      im000   \n",
       "4                           0.24994    18181.0            0      im000   \n",
       "\n",
       "                                                                   image_set  \\\n",
       "stimulus_presentations_id                                                      \n",
       "0                          Natural_Images_Lum_Matched_set_ophys_6_2017.07.14   \n",
       "1                          Natural_Images_Lum_Matched_set_ophys_6_2017.07.14   \n",
       "2                          Natural_Images_Lum_Matched_set_ophys_6_2017.07.14   \n",
       "3                          Natural_Images_Lum_Matched_set_ophys_6_2017.07.14   \n",
       "4                          Natural_Images_Lum_Matched_set_ophys_6_2017.07.14   \n",
       "\n",
       "                           index  omitted  orientation  start_frame  \\\n",
       "stimulus_presentations_id                                             \n",
       "0                              0    False          NaN        17986   \n",
       "1                              1    False          NaN        18031   \n",
       "2                              2    False          NaN        18076   \n",
       "3                              3    False          NaN        18121   \n",
       "4                              4    False          NaN        18166   \n",
       "\n",
       "                           start_time  stop_time  \n",
       "stimulus_presentations_id                         \n",
       "0                           313.65234  313.90204  \n",
       "1                           314.40248  314.65217  \n",
       "2                           315.15205  315.40211  \n",
       "3                           315.90203  316.15198  \n",
       "4                           316.65215  316.90209  "
      ]
     },
     "execution_count": 107,
     "metadata": {},
     "output_type": "execute_result"
    }
   ],
   "source": [
    "session.stimulus_presentations.head()"
   ]
  },
  {
   "cell_type": "code",
   "execution_count": null,
   "metadata": {},
   "outputs": [],
   "source": [
    "print('number of stimulus presentations =',len(dataset.stimulus_table))"
   ]
  },
  {
   "cell_type": "markdown",
   "metadata": {},
   "source": [
    "<div style=\"background: #DFF0D8; border-radius: 3px; padding: 10px;\">\n",
    "<p>**Exercise 3.5: Plot visual stimulus presentations with behavior events**\n",
    "\n",
    "<p>1) Copy and paste your code from Exercise 3.3, but now set xlims to zoom in on a 20 second window from t=600 to t=620. \n",
    "\n",
    "<p>2) Plot stimulus presentations using the `start_time` and `end_time` columns of the `stimulus_table` with plt.axvspan(). Set alpha=0.3 & facecolor='gray'.\n",
    "\n",
    "<p>Hint: Loop through each row of the stimulus table to plot all stimulus flashes\n",
    "\n",
    "</div>"
   ]
  },
  {
   "cell_type": "code",
   "execution_count": null,
   "metadata": {},
   "outputs": [],
   "source": []
  },
  {
   "cell_type": "markdown",
   "metadata": {},
   "source": [
    "<div style=\"background: #DFF0D8; border-radius: 3px; padding: 10px;\">\n",
    "<p>**Task 3.6: Get visual stimulus template and metadata**\n",
    "\n",
    "<p>Get `stimulus_metadata` and `stimulus_template` from the dataset object. How do they relate to each other? \n",
    "\n",
    "<p>The first dimension of `stimulus_template` corresponds to the `image_index` in `stimulus_metadata`.\n",
    "</div>"
   ]
  },
  {
   "cell_type": "code",
   "execution_count": null,
   "metadata": {},
   "outputs": [],
   "source": [
    "stimulus_metadata = dataset.stimulus_metadata\n",
    "stimulus_metadata"
   ]
  },
  {
   "cell_type": "code",
   "execution_count": null,
   "metadata": {},
   "outputs": [],
   "source": [
    "# session.stimulus_templates"
   ]
  },
  {
   "cell_type": "code",
   "execution_count": null,
   "metadata": {},
   "outputs": [],
   "source": [
    "stimulus_template = dataset.stimulus_template\n",
    "stimulus_template.shape"
   ]
  },
  {
   "cell_type": "markdown",
   "metadata": {},
   "source": [
    "<div style=\"background: #DFF0D8; border-radius: 3px; padding: 10px;\">\n",
    "<p>**Exercise 3.7: Plot a visual stimulus**\n",
    "\n",
    "<p>1) Plot an image from the `stimulus_template` using plt.imshow. \n",
    "\n",
    "<p>2) Show the `image_name` in the title.\n",
    "\n",
    "<p>Hint: Use `image_index` to translate between `stimulus_template` and `stimulus_metadata`.\n",
    "\n",
    "</div>"
   ]
  },
  {
   "cell_type": "code",
   "execution_count": null,
   "metadata": {},
   "outputs": [],
   "source": [
    "plt.imshow(session.stimulus_templates['Natural_Images_Lum_Matched_set_ophys_6_2017.07.14_2'][0, :, :])"
   ]
  },
  {
   "cell_type": "markdown",
   "metadata": {},
   "source": [
    "<div style=\"border-left: 3px solid #000; padding: 1px; padding-left: 10px; background: #F0FAFF; \">\n",
    "<h2>Behavior trials DataFrame</h2>\n",
    "<p>The `trials` dataframe organizes behavior events (including licking and rewards), stimulus information (what stimulus was shown before and after the scheduled change time) and metadata (such as whether the trial was a 'go' trial or a 'catch' trial) for each behavioral trial. \n",
    "\n",
    "<p>This structure is convenient for data exploration and analysis.\n",
    "</div>"
   ]
  },
  {
   "cell_type": "markdown",
   "metadata": {},
   "source": [
    "<div style=\"background: #DFF0D8; border-radius: 3px; padding: 10px;\">\n",
    "<p>**Task 4.1: Explore the trial records**\n",
    "\n",
    "<p>1) Get the `trials` attribute of the `dataset` object. What are the columns of this dataframe? What are the rows?\n",
    "\n",
    "<p>How many trials were there? \n",
    "\n",
    "<p>How many of those trials had stimulus changes, aka 'go' trials? How many 'catch' trials?\n",
    "\n",
    "<p>What images were shown in this behavior session? \n",
    "</div>"
   ]
  },
  {
   "cell_type": "code",
   "execution_count": null,
   "metadata": {},
   "outputs": [],
   "source": [
    "trials = dataset.trials\n",
    "trials.head()"
   ]
  },
  {
   "cell_type": "code",
   "execution_count": null,
   "metadata": {},
   "outputs": [],
   "source": [
    "session.trials.head()"
   ]
  },
  {
   "cell_type": "code",
   "execution_count": null,
   "metadata": {},
   "outputs": [],
   "source": [
    "#session.api.get_extended_trials()"
   ]
  },
  {
   "cell_type": "code",
   "execution_count": null,
   "metadata": {},
   "outputs": [],
   "source": [
    "trials.keys()"
   ]
  },
  {
   "cell_type": "code",
   "execution_count": null,
   "metadata": {},
   "outputs": [],
   "source": [
    "print('number of trials =',len(trials))"
   ]
  },
  {
   "cell_type": "code",
   "execution_count": null,
   "metadata": {},
   "outputs": [],
   "source": [
    "print('number of go trials =',len(trials[trials.trial_type=='go']))"
   ]
  },
  {
   "cell_type": "code",
   "execution_count": null,
   "metadata": {},
   "outputs": [],
   "source": [
    "print('number of catch trials =',len(trials[trials.trial_type=='catch']))"
   ]
  },
  {
   "cell_type": "code",
   "execution_count": null,
   "metadata": {},
   "outputs": [],
   "source": [
    "images = trials.change_image_name.unique()\n",
    "print(images)"
   ]
  },
  {
   "cell_type": "markdown",
   "metadata": {},
   "source": [
    "<div style=\"background: #DFF0D8; border-radius: 3px; padding: 10px;\">\n",
    "<p>**Exercise 4.2: Get the behavioral response probability for go and catch trials**\n",
    "\n",
    "<p>Response probability is the fraction of trials where the mouse emitted a lick during the response window. \n",
    "\n",
    "<p>The value of the `response` column is a boolean indicating whether or not the mouse emitted a lick on that trial.\n",
    "\n",
    "<p>1) Select all the 'go' trials by filtering the dataframe by `trial_type`.\n",
    "\n",
    "<p>2) Take the mean of the `response` column values for the selected trials to quantify the fraction of 'go' trials where the mouse emitted a behavioral response. \n",
    "\n",
    "<p>3) Repeat for 'catch' trials.\n",
    "\n",
    "<p>***Add your values for response probability on go and catch trials to the plot on the board and draw a line between them***\n",
    "</div>"
   ]
  },
  {
   "cell_type": "code",
   "execution_count": null,
   "metadata": {},
   "outputs": [],
   "source": []
  },
  {
   "cell_type": "code",
   "execution_count": null,
   "metadata": {},
   "outputs": [],
   "source": []
  },
  {
   "cell_type": "markdown",
   "metadata": {},
   "source": [
    "<div style=\"background: #DFF0D8; border-radius: 3px; padding: 10px;\">\n",
    "<p>**Bonus exercise 4.3: Plot response probability across images for go trials**\n",
    "\n",
    "<p>1) Loop through the image names in `trials.change_image_name.unique()`\n",
    "\n",
    "<p>2) Filter the `trials` dataframe by `change_image_name` and `trial_type` to get 'go' trials for each image.\n",
    "\n",
    "<p>3) Quantify the fraction of 'go' trials with a `response` for each image. \n",
    "\n",
    "<p>3) Plot the mean response probability for each image. \n",
    "</div>"
   ]
  },
  {
   "cell_type": "code",
   "execution_count": null,
   "metadata": {},
   "outputs": [],
   "source": []
  },
  {
   "cell_type": "markdown",
   "metadata": {},
   "source": [
    "<div style=\"background: #DFF0D8; border-radius: 3px; padding: 10px;\">\n",
    "<p>**Task 4.4: Plot a lick raster**\n",
    "\n",
    "<p>Provide the `trials` dataframe to the function below to plot a lick raster.\n",
    "\n",
    "<p>Is the mouse performing the task consistently across the whole session?\n",
    "</div>"
   ]
  },
  {
   "cell_type": "code",
   "execution_count": null,
   "metadata": {},
   "outputs": [],
   "source": [
    "def make_lick_raster(trials):\n",
    "    fig,ax = plt.subplots(figsize=(5,10))\n",
    "    for trial in trials.trial.values: \n",
    "        trial_data = trials.iloc[trial]\n",
    "        # get times relative to change time\n",
    "        trial_start = trial_data.start_time - trial_data.change_time\n",
    "        lick_times = [(t - trial_data.change_time) for t in trial_data.lick_times]\n",
    "        reward_time = [(t - trial_data.change_time) for t in trial_data.reward_times]\n",
    "        # plot trials as colored rows\n",
    "        ax.axhspan(trial, trial + 1, -200, 200, color=trial_data.trial_type_color, alpha=.5)\n",
    "        # plot reward times\n",
    "        if len(reward_time) > 0:\n",
    "            ax.plot(reward_time[0], trial + 0.5, '.', color='b', label='reward', markersize=6)\n",
    "        ax.vlines(trial_start, trial, trial + 1, color='black', linewidth=1)\n",
    "        # plot lick times\n",
    "        ax.vlines(lick_times, trial, trial + 1, color='k', linewidth=1)\n",
    "        # annotate change time\n",
    "        ax.vlines(0, trial, trial + 1, color=[.5, .5, .5], linewidth=1)\n",
    "    # gray bar for response window\n",
    "    ax.axvspan(trial_data.response_window[0], trial_data.response_window[1], facecolor='gray', alpha=.4,\n",
    "               edgecolor='none')\n",
    "    ax.grid(False)\n",
    "    ax.set_ylim(0, len(trials))\n",
    "    ax.set_xlim([-1, 4])\n",
    "    ax.set_ylabel('trials')\n",
    "    ax.set_xlabel('time (sec)')\n",
    "    ax.set_title('lick raster')\n",
    "    plt.gca().invert_yaxis()"
   ]
  },
  {
   "cell_type": "code",
   "execution_count": null,
   "metadata": {},
   "outputs": [],
   "source": [
    "make_lick_raster(dataset.trials)"
   ]
  },
  {
   "cell_type": "markdown",
   "metadata": {},
   "source": [
    "<div style=\"border-left: 3px solid #000; padding: 1px; padding-left: 10px; background: #F0FAFF; \">\n",
    "<h2>The ResponseAnalysis class organizes cell responses by behavior trials and stimulus flashes </h2>\n",
    "<p>The `ResponseAnalysis` class takes a `VisualBehaviorDataset` object and extracts cell responses for the stimulus flashes in `stimulus_table` and for the trials in `trials`. \n",
    "<p>This does the work of temporal alignment for you, and translates between `timestamps_stimulus` and `timestamps_ophys` to get the times in the dF/F trace that correspond to stimulus presentations in `stimulus_table` and behavioral trial change times in `trials`.\n",
    "<p>\n",
    "</div>"
   ]
  },
  {
   "cell_type": "markdown",
   "metadata": {},
   "source": [
    "<div style=\"background: #DFF0D8; border-radius: 3px; padding: 10px;\">\n",
    "<p>**Task 5.1:** Generate the ResponseAnalysis object by passing in your dataset. \n",
    "\n",
    "<p>Generate the `ResponseAnalysis` object by passing in your `dataset`. Assign the object to a variable called `analysis`.\n",
    "\n",
    "<p> What is available to you in the `ResponseAnalysis` class? Use help to check the documentation, or look directly at the code to see what operations are performed. \n",
    "</div>"
   ]
  },
  {
   "cell_type": "code",
   "execution_count": null,
   "metadata": {},
   "outputs": [],
   "source": [
    "from visual_behavior.ophys.response_analysis.response_analysis import ResponseAnalysis "
   ]
  },
  {
   "cell_type": "code",
   "execution_count": null,
   "metadata": {},
   "outputs": [],
   "source": [
    "analysis = ResponseAnalysis(dataset)"
   ]
  },
  {
   "cell_type": "code",
   "execution_count": null,
   "metadata": {
    "scrolled": false
   },
   "outputs": [],
   "source": [
    "help(ResponseAnalysis)"
   ]
  },
  {
   "cell_type": "markdown",
   "metadata": {},
   "source": [
    "<div style=\"background: #DFF0D8; border-radius: 3px; padding: 10px;\">\n",
    "<p>**Task 5.2: Explore the flash response dataframe of the ResponseAnalysis object**\n",
    "\n",
    "<p>What is in the `flash_response_df` attribute of the analysis object? What are the columns? What are the rows?  How is it different from the `stimulus_table` attribute of the dataset object?\n",
    "\n",
    "<p>The`flash_response_df` contains the cell responses for individual stimulus presentations, aka flashes. It contains the `mean_response` of every cell in a 500ms window after every stimulus onset, for all stimulus presentations during the behavior session.  \n",
    "\n",
    "<p>The `p_value` column is computed as a one-way ANOVA comparing the values of the dF/F trace in the 500ms before the stimulus onset with the 500ms after the stimulus onset. \n",
    "</div>"
   ]
  },
  {
   "cell_type": "code",
   "execution_count": null,
   "metadata": {},
   "outputs": [],
   "source": [
    "analysis.flash_response_df.head()"
   ]
  },
  {
   "cell_type": "markdown",
   "metadata": {},
   "source": [
    "<div style=\"background: #DFF0D8; border-radius: 3px; padding: 10px;\">\n",
    "<p>**Task 5.3: Explore the trial response dataframe of the ResponseAnalysis object**\n",
    "\n",
    "<p>1) Get the `trial_response_df` attribute of the analysis object. What are the columns? What are the rows? What is different than the `trials` records in the `dataset` object? What is different from the `flash_response_df`?\n",
    "\n",
    "<p>The `trace` column contains a portion of each cell's dF/F trace for +/-4 seconds around the `change_time` for each trial. There are also `timestamps` for the same window of time. \n",
    "\n",
    "<p> For each trial, the `mean_response` of each cell is computed for a 500ms window after the `change_time`.\n",
    "\n",
    "<p>The `p_value` is computed as a one-way ANOVA comparing the values of the dF/F trace in the 500ms before the `change_time` (the baseline window) with the 500ms after the `change_time` (the response window). \n",
    "\n",
    "<p>2) Assign `trial_response_df` to a variable named `tdf` for convenient use in later exercises.\n",
    "</div>"
   ]
  },
  {
   "cell_type": "code",
   "execution_count": null,
   "metadata": {},
   "outputs": [],
   "source": [
    "analysis.trial_response_df.head(3)"
   ]
  },
  {
   "cell_type": "code",
   "execution_count": null,
   "metadata": {},
   "outputs": [],
   "source": [
    "analysis.trial_response_df.keys()"
   ]
  },
  {
   "cell_type": "code",
   "execution_count": null,
   "metadata": {},
   "outputs": [],
   "source": [
    "tdf = analysis.trial_response_df"
   ]
  },
  {
   "cell_type": "markdown",
   "metadata": {},
   "source": [
    "<div style=\"background: #DFF0D8; border-radius: 3px; padding: 10px;\">\n",
    "<p>**Exercise 5.4: Find the largest single trial response in the trial response dataframe**\n",
    "\n",
    "<p>Each row of `trial_response_df` corresponds to a single trial for a single cell from the experiment. \n",
    "\n",
    "<p>1) Find the row of `tdf` that has the largest value of the `mean_response` column. Assign the trial number to a variable called `trial`.\n",
    "\n",
    "<p>2) What cell had the largest response? Assign the cell index to the variable `cell`. You will use this cell throughout the rest of the notebook.\n",
    "\n",
    "<p>3) What image evoked the largest response? Assign the image name to a variable called `change_image_name`\n",
    "\n",
    "<p>4) Was it a 'go' or 'catch' trial? Assign the trial type to a variable called `trial_type`\n",
    "</div>"
   ]
  },
  {
   "cell_type": "code",
   "execution_count": null,
   "metadata": {},
   "outputs": [],
   "source": []
  },
  {
   "cell_type": "code",
   "execution_count": null,
   "metadata": {},
   "outputs": [],
   "source": []
  },
  {
   "cell_type": "code",
   "execution_count": null,
   "metadata": {},
   "outputs": [],
   "source": []
  },
  {
   "cell_type": "code",
   "execution_count": null,
   "metadata": {},
   "outputs": [],
   "source": []
  },
  {
   "cell_type": "markdown",
   "metadata": {},
   "source": [
    "<div style=\"background: #DFF0D8; border-radius: 3px; padding: 10px;\">\n",
    "<p>**Exercise 5.5: Plot the largest single trial response in the trial_response_df**\n",
    "\n",
    "<p>1) Plot the dF/F trace for the `trial` identified in the exercise above.\n",
    "\n",
    "<p>Bonus: Plot the x_axis as time relative to the trial change time, using the `timestamps` column and knowledge of the range of the `trial_window` (+/- 4 seconds around the change time, accessed as an attribute of the `analysis` object)\n",
    "\n",
    "<p>Extra bonus: Use the function `plot_single_trial_trace` from `visual_behavior.ophys.plotting.summary_figures` \n",
    "</div>"
   ]
  },
  {
   "cell_type": "code",
   "execution_count": null,
   "metadata": {},
   "outputs": [],
   "source": []
  },
  {
   "cell_type": "code",
   "execution_count": null,
   "metadata": {},
   "outputs": [],
   "source": []
  },
  {
   "cell_type": "code",
   "execution_count": null,
   "metadata": {},
   "outputs": [],
   "source": []
  },
  {
   "cell_type": "markdown",
   "metadata": {},
   "source": [
    "<div style=\"background: #DFF0D8; border-radius: 3px; padding: 10px;\">\n",
    "<p>**Exercise 5.6: Get the cell traces for all trials that meet the set of conditions that evoked the maximum single trial response**\n",
    "\n",
    "<p>1) For your `cell`, get the dF/F traces in the `trace` column for all trials that meet the conditions that evoked the max response (combination of `trial_type` and `image_name` identified above) and assign to a variable called `traces`\n",
    "\n",
    "<p>Hint 1: Use `cell`, `image_name`, and `trial_type` to index into `trial_response_df`\n",
    "\n",
    "<p>Hint 2: Make sure to extract the an array of the values of response, not as a series\n",
    "</div>"
   ]
  },
  {
   "cell_type": "code",
   "execution_count": null,
   "metadata": {
    "scrolled": false
   },
   "outputs": [],
   "source": []
  },
  {
   "cell_type": "code",
   "execution_count": null,
   "metadata": {},
   "outputs": [],
   "source": []
  },
  {
   "cell_type": "markdown",
   "metadata": {},
   "source": [
    "<div style=\"background: #DFF0D8; border-radius: 3px; padding: 10px;\">\n",
    "<p>**Exercise 5.8: Plot the cell's' trial averaged trace for a set of conditions**\n",
    "\n",
    "<p>1) Take the mean of the array of traces from exercise 5.5 and plot it. \n",
    "\n",
    "<p>What are the x and y axes? \n",
    "\n",
    "<p>Note the dynamics of the cell's response. What could be causing the changes in response magnitude over time? \n",
    "</div>"
   ]
  },
  {
   "cell_type": "code",
   "execution_count": null,
   "metadata": {},
   "outputs": [],
   "source": []
  },
  {
   "cell_type": "markdown",
   "metadata": {},
   "source": [
    "<div style=\"background: #DFF0D8; border-radius: 3px; padding: 10px;\">\n",
    "<p>**Exercise 5.8: Plot the cell's' trial averaged response for go and catch trials using visual_behavior library plotting functions**\n",
    "\n",
    "<p>1) For your cell, get the dF/F traces for all trials for the same `image_name` as above, for 'go' trials. \n",
    "\n",
    "<p>2) Use the function `plot_mean_trace` in visual_behavior.ophys.plotting.summary_figures to plot the mean trace. \n",
    "\n",
    "<p>Check the required inputs for this function using help or by entering shift+tab while the function is selected. You will need to use the `ophys_frame_rate` attribute of the `analysis` class.\n",
    "\n",
    "<p>3) Use the function `plot_flashes_on_trace` to display stimulus presentation times. When is the cell active relative to stimulus display times? \n",
    "\n",
    "<p>Provide a string for the `trial_type` input of `plot_flashes_on_trace`. What is the effect of adding this input on the resulting figure?\n",
    "\n",
    "<p>4) Repeat for 'catch' trials. How is the response different than on 'go' trials? \n",
    "</div>"
   ]
  },
  {
   "cell_type": "code",
   "execution_count": null,
   "metadata": {},
   "outputs": [],
   "source": [
    "import visual_behavior.ophys.plotting.summary_figures as sf "
   ]
  },
  {
   "cell_type": "code",
   "execution_count": null,
   "metadata": {},
   "outputs": [],
   "source": []
  },
  {
   "cell_type": "code",
   "execution_count": null,
   "metadata": {},
   "outputs": [],
   "source": []
  },
  {
   "cell_type": "code",
   "execution_count": null,
   "metadata": {},
   "outputs": [],
   "source": []
  },
  {
   "cell_type": "markdown",
   "metadata": {},
   "source": [
    "<div style=\"background: #DFF0D8; border-radius: 3px; padding: 10px;\">\n",
    "<p>**Exercise 5.9: Plot an image tuning curve for responses to the first flash after a change on 'go' trials**\n",
    "\n",
    "<p>1) Filter `trial_response_df` to select only 'go' trials and assign to a variable called `df`.\n",
    "\n",
    "<p>The `mean_response` column of the `trial_response_df` is the mean of the dF/F trace in a 500ms window after the change time for that trial.\n",
    "\n",
    "<p>2) Loop through each `change_image_name` in `df.change_image_name.unique()` and get the values of the `mean_response` column for your `cell`.\n",
    "\n",
    "<p>3) Take the average and SEM of the `mean_response` values for each `change_image_name` and plot a tuning curve. \n",
    "\n",
    "<p>Hint: use `from scipy.stats import sem` to get a function to compute the standard error. \n",
    "\n",
    "<p>How does the tuning curve compare with the one generated in exercise 5.9 using all stimulus presentations? Why would it be different?\n",
    "\n",
    "<p>4) Save the averaged response to each image as an array called 'image_responses'.\n",
    "</div>"
   ]
  },
  {
   "cell_type": "code",
   "execution_count": null,
   "metadata": {},
   "outputs": [],
   "source": []
  },
  {
   "cell_type": "code",
   "execution_count": null,
   "metadata": {},
   "outputs": [],
   "source": []
  },
  {
   "cell_type": "code",
   "execution_count": null,
   "metadata": {},
   "outputs": [],
   "source": []
  },
  {
   "cell_type": "code",
   "execution_count": null,
   "metadata": {},
   "outputs": [],
   "source": []
  },
  {
   "cell_type": "markdown",
   "metadata": {},
   "source": [
    "<div style=\"border-left: 3px solid #000; padding: 1px; padding-left: 10px; background: #F0FAFF; \">\n",
    "<h2> Computing cell response metrics - lifetime sparseness </h2>\n",
    "<p>'lifetime sparseness' is a metric for how selective and sparse a cell's activity is across conditions. A high value of this metric indicates high selectivity - a differential response to one or a few stimulus conditions over others. A low value of this metric indicates a similar response across all conditions. \n",
    "\n",
    "<p>We will compute this metric for single cells and take the mean across the population. Before taking the mean, we will filter out cells that do not have a signficant image response.\n",
    "</div>"
   ]
  },
  {
   "cell_type": "markdown",
   "metadata": {},
   "source": [
    "<div style=\"background: #DFF0D8; border-radius: 3px; padding: 10px;\">\n",
    "<p>**Task 6.1: Compute lifetime sparseness using the mean image response on 'go' trials for your cell**\n",
    "<p>Provide the array of `image_responses` created in Exercize 5.9 to the function below to compute the lifetime sparseness metric for your cell. \n",
    "\n",
    "<p>How selective is this cell? \n",
    "</div>"
   ]
  },
  {
   "cell_type": "code",
   "execution_count": null,
   "metadata": {},
   "outputs": [],
   "source": [
    "def compute_lifetime_sparseness(image_responses):\n",
    "    # image responses should be an array of the trial averaged responses to each image\n",
    "    # sparseness = 1-(sum of trial averaged responses to images / N)squared / (sum of (squared mean responses / n)) / (1-(1/N))\n",
    "    # N = number of images\n",
    "    # after Vinje & Gallant, 2000; Froudarakis et al., 2014\n",
    "    N = float(len(image_responses))\n",
    "    ls = ((1-(1/N) * ((np.power(image_responses.sum(axis=0),2)) / (np.power(image_responses,2).sum(axis=0)))) / (1-(1/N)))\n",
    "    return ls"
   ]
  },
  {
   "cell_type": "code",
   "execution_count": null,
   "metadata": {},
   "outputs": [],
   "source": [
    "ls = compute_lifetime_sparseness(image_responses)\n",
    "print(ls)"
   ]
  },
  {
   "cell_type": "markdown",
   "metadata": {},
   "source": [
    "<div style=\"background: #DFF0D8; border-radius: 3px; padding: 10px;\">\n",
    "<p>**Exercise 6.2: Identify cells with a significant image response**\n",
    "<p>The `p_value` column of the `trial_response_df` is computed as a one-way ANOVA comparing the values of the dF/F trace in the 500ms before the change time with the 500ms after the change time. This window is specified in the `response_window_duration` attribute of the `analysis` object. \n",
    "\n",
    "<p>Let's define responsive cells as having at least 10% of trials with a p_value < 0.005\n",
    "\n",
    "<p>1) Loop through all cells, evaluate the fraction of trials with p_value < 0.005 and make a list of the indicies of responsive cells. Assign the list to a variable called `responsive_cells`.\n",
    "\n",
    "<p>What fraction of cells in this experiment were responsive following a stimulus change? \n",
    "\n",
    "<p>***Add your value for fraction responsive cells to the plot on the board in the appropriate column based on your experiment's metadata***\n",
    "</div>"
   ]
  },
  {
   "cell_type": "code",
   "execution_count": null,
   "metadata": {},
   "outputs": [],
   "source": []
  },
  {
   "cell_type": "code",
   "execution_count": null,
   "metadata": {},
   "outputs": [],
   "source": []
  },
  {
   "cell_type": "markdown",
   "metadata": {},
   "source": [
    "<div style=\"background: #DFF0D8; border-radius: 3px; padding: 10px;\">\n",
    "<p>**Exercise 6.3: Get the mean lifetime sparseness across  responsive cells** \n",
    "\n",
    "<p>1) Loop through each cell in `responsive_cells`, compute lifetime sparseness as you did above, and add the value to a list. \n",
    "\n",
    "<p>2) Convert the list to an array and take the mean.\n",
    "\n",
    "<p>***Add your mean value to the plot on the board in the appropriate column based on your experiment's metadata***\n",
    "</div>"
   ]
  },
  {
   "cell_type": "code",
   "execution_count": null,
   "metadata": {},
   "outputs": [],
   "source": []
  },
  {
   "cell_type": "code",
   "execution_count": null,
   "metadata": {},
   "outputs": [],
   "source": []
  },
  {
   "cell_type": "markdown",
   "metadata": {},
   "source": [
    "<div style=\"background: #DFF0D8; border-radius: 3px; padding: 10px;\">\n",
    "<p>**Bonus exercise 6.4: Compute lifetime sparseness for catch trials** \n",
    "    \n",
    "<p>Repeat the exercise above using 'trial_response_df', filtered to include only 'catch' trials where no change in stimulus identity occured.\n",
    "\n",
    "<p>How does the result compare to selectivity on 'go' trials only? Why would it be different? \n",
    "</div>"
   ]
  },
  {
   "cell_type": "code",
   "execution_count": null,
   "metadata": {},
   "outputs": [],
   "source": []
  },
  {
   "cell_type": "code",
   "execution_count": null,
   "metadata": {},
   "outputs": [],
   "source": []
  },
  {
   "cell_type": "markdown",
   "metadata": {},
   "source": [
    "<div style=\"border-left: 3px solid #000; padding: 1px; padding-left: 10px; background: #F0FAFF; \">\n",
    "<h2> Project ideas </h2>\n",
    "<p>Below is a list of suggested project ideas for working with the Visual Behavior dataset\n",
    "\n",
    "</div>"
   ]
  },
  {
   "cell_type": "markdown",
   "metadata": {},
   "source": [
    "* How do single cell or population response metrics vary between cre lines, areas or stimulus types? (ex: time-to-peak, reliability, fano factor, noise correlations, signal correlations, representational similarity, etc.)\n",
    "* Are there distinct or continuous behavioral or neural states within a single behavioral session? (ex: task engagement, expectation, vigilance)\n",
    "* How do response metrics vary across different states?\n",
    "* Can different cell response profiles be classified using supervised or unsupervised clustering methods? \n",
    "* Do motor signals such as running and licking modulate neural respones in different cre lines or areas?\n",
    "* Does reward expectation and trial history influence neural or behavioral responses? (ex: time since last reward, outcome of previous trial(s))\n",
    "* Is there evidence of within session learning for untrained image sets? (behavior_session_B, C, D)\n",
    "* How do cells respond when a stimulus flash is omitted? \n",
    "* Use dimensionality reduction or other methods to visualize the activity of many neurons at once. "
   ]
  },
  {
   "cell_type": "code",
   "execution_count": null,
   "metadata": {},
   "outputs": [],
   "source": []
  },
  {
   "cell_type": "code",
   "execution_count": null,
   "metadata": {},
   "outputs": [],
   "source": []
  }
 ],
 "metadata": {
  "anaconda-cloud": {},
  "kernelspec": {
   "display_name": "Allen",
   "language": "python",
   "name": "allen"
  },
  "language_info": {
   "codemirror_mode": {
    "name": "ipython",
    "version": 3
   },
   "file_extension": ".py",
   "mimetype": "text/x-python",
   "name": "python",
   "nbconvert_exporter": "python",
   "pygments_lexer": "ipython3",
   "version": "3.7.3"
  }
 },
 "nbformat": 4,
 "nbformat_minor": 2
}
