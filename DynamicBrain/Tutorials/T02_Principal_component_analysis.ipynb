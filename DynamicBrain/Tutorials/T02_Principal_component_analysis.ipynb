{
 "cells": [
  {
   "cell_type": "markdown",
   "metadata": {},
   "source": [
    "<img src=\"../../resources/cropped-SummerWorkshop_Header.png\">  \n",
    "\n",
    "<h1 align=\"center\">Dimensionality Reduction SWDB 2019 </h1> \n",
    "<h3 align=\"center\">Tuesday, August 27, 2019</h3> "
   ]
  },
  {
   "cell_type": "code",
   "execution_count": 1,
   "metadata": {},
   "outputs": [],
   "source": [
    "import os\n",
    "import numpy as np\n",
    "import pandas as pd\n",
    "\n",
    "import matplotlib.pyplot as plt\n",
    "%matplotlib inline\n",
    "\n",
    "import seaborn as sns"
   ]
  },
  {
   "cell_type": "code",
   "execution_count": 2,
   "metadata": {},
   "outputs": [],
   "source": [
    "from sklearn.decomposition import PCA"
   ]
  },
  {
   "cell_type": "markdown",
   "metadata": {},
   "source": [
    "<div style=\"border-left: 3px solid #000; padding: 1px; padding-left: 10px; background: #F0FAFF; \">\n",
    "<p>In this tutorial we look at Unsupervised Learning.  In contrast to supervised learning, unsupervised learning operates on a set of data points $\\vec{x}_i$.  Instead of trying to construct a function that maps that data onto another set of given points, we seek to find a transformation that discovers structure in the data.  \n",
    "</p>\n",
    "<p>\n",
    "A simple and important form of unsupervised learning is called Principal Components Analysis, or PCA.  Assume the data $\\vec{x}_i$ exists in $N$ dimensions.  Given an integer $n < N$, PCA attemps to find a linear subspace of dimension $n$ that minimizes the variance of the data outside of that subspace.  Put another way, PCA defines a subspace of dimension $n < N$ such that, when the data is approximated by projecting onto that subspace, the reconstruction error is minimized.  \n",
    "</p>\n",
    "<p>\n",
    "Let us denote the subspace with the orthogonal matrix ${\\bf W}$, of dimensions $(n, N)$.  The data can be represented with the matrix ${\\bf X}$, of dimensions $(T, N)$, where $T$ is the number of samples.  Let the coordinates of the data in the subspace be labelled ${\\bf Z}$, which is of dimensions $(T, n)$.  The cost function for PCA is then\n",
    "</p>\n",
    "<p>\n",
    "$E = \\frac{1}{2}  \\left | {\\bf X} - {\\bf Z} \\cdot {\\bf W} \\right |^2$\n",
    "</p>\n",
    "<p>\n",
    "Note that we have to optimize over *both* ${\\bf Z}$ and ${\\bf W}$, subject to the constraint that ${\\bf W}$ is orthogonal.\n",
    "</p>\n",
    "<p>\n",
    "We can equivalently define PCA by specifying the principal components as the eigenvectors of the covariance matrix with the $n$ largest eigenvalues.  Intuitively one can see that this choice will produce the smallest amount of variability away from the subspace, and thus solve the problem as we originally defined it.  This allows us to compute the PCAs very simply with diagonalization or SVD.\n",
    "</p>\n",
    "<p>\n",
    "    There are many other unsupervised learning methods.  They are helpful when trying to either reduce the complexity of the dataset in order to facilitate another computation (such as regression or classification) or for exploratory data analysis in which one is trying to discover structure that may be obscured by noise.\n",
    " </p>\n",
    "</div>"
   ]
  },
  {
   "cell_type": "markdown",
   "metadata": {},
   "source": [
    "<div style=\"border-left: 3px solid #000; padding: 1px; padding-left: 10px; background: #F0FAFF; \">\n",
    "<p>\n",
    "As before, we will use `sckit-learn` to perform `Principal Components Analysis`, first on some toy data, and then on some data from the Behavior recordings.  The interface will be the same for other algorithms in `scikit-learn`.\n",
    "</p>\n",
    "</div>"
   ]
  },
  {
   "cell_type": "markdown",
   "metadata": {},
   "source": [
    "Let's start with some toy data"
   ]
  },
  {
   "cell_type": "code",
   "execution_count": 3,
   "metadata": {},
   "outputs": [
    {
     "data": {
      "text/plain": [
       "[<matplotlib.lines.Line2D at 0x7ff8072d4da0>]"
      ]
     },
     "execution_count": 3,
     "metadata": {},
     "output_type": "execute_result"
    },
    {
     "data": {
      "image/png": "[encoded data removed]",
      "text/plain": [
       "<Figure size 432x288 with 1 Axes>"
      ]
     },
     "metadata": {
      "needs_background": "light"
     },
     "output_type": "display_data"
    }
   ],
   "source": [
    "# generate some random 2 dimensional data\n",
    "# Note that this dataset has a mean of 0 in both dimensions. This will be important later. \n",
    "\n",
    "np.random.seed(1)\n",
    "X = np.dot(np.random.random(size=(2, 2)), np.random.normal(size=(2, 200))).T\n",
    "\n",
    "#plot random data\n",
    "plt.plot(X[:, 0], X[:, 1], 'o')\n"
   ]
  },
  {
   "cell_type": "code",
   "execution_count": 4,
   "metadata": {},
   "outputs": [
    {
     "data": {
      "text/plain": [
       "(200, 2)"
      ]
     },
     "execution_count": 4,
     "metadata": {},
     "output_type": "execute_result"
    }
   ],
   "source": [
    "X.shape"
   ]
  },
  {
   "cell_type": "code",
   "execution_count": 5,
   "metadata": {},
   "outputs": [],
   "source": [
    "# Construct Covariance Matrix\n",
    "A = (1.0/X.shape[0])*np.dot(X.T, X)"
   ]
  },
  {
   "cell_type": "code",
   "execution_count": 6,
   "metadata": {},
   "outputs": [
    {
     "data": {
      "text/plain": [
       "array([[0.67988975, 0.22964332],\n",
       "       [0.22964332, 0.09835428]])"
      ]
     },
     "execution_count": 6,
     "metadata": {},
     "output_type": "execute_result"
    }
   ],
   "source": [
    "A"
   ]
  },
  {
   "cell_type": "code",
   "execution_count": 7,
   "metadata": {},
   "outputs": [],
   "source": [
    "# Compute Eigenvalue decomposition of covariance matrix\n",
    "evalues, evectors = np.linalg.eig(A)"
   ]
  },
  {
   "cell_type": "code",
   "execution_count": 8,
   "metadata": {},
   "outputs": [
    {
     "data": {
      "text/plain": [
       "array([0.75963778, 0.01860626])"
      ]
     },
     "execution_count": 8,
     "metadata": {},
     "output_type": "execute_result"
    }
   ],
   "source": [
    "evalues"
   ]
  },
  {
   "cell_type": "code",
   "execution_count": 9,
   "metadata": {},
   "outputs": [
    {
     "data": {
      "text/plain": [
       "array([[ 0.94465994, -0.3280512 ],\n",
       "       [ 0.3280512 ,  0.94465994]])"
      ]
     },
     "execution_count": 9,
     "metadata": {},
     "output_type": "execute_result"
    }
   ],
   "source": [
    "evectors"
   ]
  },
  {
   "cell_type": "code",
   "execution_count": 10,
   "metadata": {},
   "outputs": [
    {
     "data": {
      "text/plain": [
       "(-3, 3)"
      ]
     },
     "execution_count": 10,
     "metadata": {},
     "output_type": "execute_result"
    },
    {
     "data": {
      "image/png": "[encoded data removed]",
      "text/plain": [
       "<Figure size 360x360 with 1 Axes>"
      ]
     },
     "metadata": {
      "needs_background": "light"
     },
     "output_type": "display_data"
    }
   ],
   "source": [
    "fig, ax = plt.subplots(figsize=(5,5))\n",
    "\n",
    "ax.plot(X[:, 0], X[:, 1], 'o')\n",
    "for a,v in zip(evalues, evectors.T):\n",
    "    ax.plot([0, 3.*np.sqrt(a)*v[0]], [0, 3.*np.sqrt(a)*v[1]], '-k', lw=3)\n",
    "\n",
    "ax.set_ylim(-3,3)\n",
    "ax.set_xlim(-3,3)"
   ]
  },
  {
   "cell_type": "markdown",
   "metadata": {},
   "source": [
    "<div style=\"border-left: 3px solid #000; padding: 1px; padding-left: 10px; background: #F0FAFF; \">\n",
    "<p>\n",
    "PCA is an orthogonal coordinate system transformation that prioritizes maximum variance."
   ]
  },
  {
   "cell_type": "markdown",
   "metadata": {},
   "source": [
    "Project the values onto the first principal component"
   ]
  },
  {
   "cell_type": "code",
   "execution_count": 11,
   "metadata": {},
   "outputs": [],
   "source": [
    "X_proj_1 = np.dot(X, evectors.T[0])\n",
    "X_proj_2 = np.dot(X, evectors.T[1])"
   ]
  },
  {
   "cell_type": "code",
   "execution_count": 12,
   "metadata": {},
   "outputs": [
    {
     "data": {
      "text/plain": [
       "Text(0, 0.5, 'Second principal component')"
      ]
     },
     "execution_count": 12,
     "metadata": {},
     "output_type": "execute_result"
    },
    {
     "data": {
      "image/png": "[encoded data removed]",
      "text/plain": [
       "<Figure size 432x288 with 1 Axes>"
      ]
     },
     "metadata": {
      "needs_background": "light"
     },
     "output_type": "display_data"
    }
   ],
   "source": [
    "plt.plot(X_proj_1, X_proj_2, 'o')\n",
    "plt.xlabel(\"First principal component\", fontsize=14)\n",
    "plt.ylabel(\"Second principal component\", fontsize=14)\n",
    "# plt.axis('equal')"
   ]
  },
  {
   "cell_type": "markdown",
   "metadata": {},
   "source": [
    "<div style=\"border-left: 3px solid #000; padding: 1px; padding-left: 10px; background: #F0FAFF; \">\n",
    "<p>\n",
    "\n",
    "### Now let's use sklearn."
   ]
  },
  {
   "cell_type": "code",
   "execution_count": 13,
   "metadata": {},
   "outputs": [],
   "source": [
    "from sklearn.decomposition import PCA"
   ]
  },
  {
   "cell_type": "code",
   "execution_count": 14,
   "metadata": {},
   "outputs": [
    {
     "data": {
      "text/plain": [
       "PCA(copy=True, iterated_power='auto', n_components=2, random_state=None,\n",
       "    svd_solver='auto', tol=0.0, whiten=False)"
      ]
     },
     "execution_count": 14,
     "metadata": {},
     "output_type": "execute_result"
    }
   ],
   "source": [
    "pca = PCA(n_components=2)\n",
    "pca.fit(X)"
   ]
  },
  {
   "cell_type": "code",
   "execution_count": 15,
   "metadata": {},
   "outputs": [
    {
     "data": {
      "text/plain": [
       "array([0.7625315, 0.0184779])"
      ]
     },
     "execution_count": 15,
     "metadata": {},
     "output_type": "execute_result"
    }
   ],
   "source": [
    "pca.explained_variance_"
   ]
  },
  {
   "cell_type": "code",
   "execution_count": 16,
   "metadata": {},
   "outputs": [
    {
     "data": {
      "text/plain": [
       "array([0.97634101, 0.02365899])"
      ]
     },
     "execution_count": 16,
     "metadata": {},
     "output_type": "execute_result"
    }
   ],
   "source": [
    "pca.explained_variance_ratio_"
   ]
  },
  {
   "cell_type": "code",
   "execution_count": 17,
   "metadata": {},
   "outputs": [
    {
     "data": {
      "text/plain": [
       "array([[-0.94446029, -0.32862557],\n",
       "       [-0.32862557,  0.94446029]])"
      ]
     },
     "execution_count": 17,
     "metadata": {},
     "output_type": "execute_result"
    }
   ],
   "source": [
    "pca.components_"
   ]
  },
  {
   "cell_type": "markdown",
   "metadata": {},
   "source": [
    "These components are the same as the eigenvectors we computed above:"
   ]
  },
  {
   "cell_type": "code",
   "execution_count": 18,
   "metadata": {},
   "outputs": [
    {
     "data": {
      "text/plain": [
       "array([[ 0.94465994, -0.3280512 ],\n",
       "       [ 0.3280512 ,  0.94465994]])"
      ]
     },
     "execution_count": 18,
     "metadata": {},
     "output_type": "execute_result"
    }
   ],
   "source": [
    "evectors"
   ]
  },
  {
   "cell_type": "code",
   "execution_count": 19,
   "metadata": {},
   "outputs": [
    {
     "data": {
      "text/plain": [
       "(-3, 3)"
      ]
     },
     "execution_count": 19,
     "metadata": {},
     "output_type": "execute_result"
    },
    {
     "data": {
      "image/png": "[encoded data removed]",
      "text/plain": [
       "<Figure size 360x360 with 1 Axes>"
      ]
     },
     "metadata": {
      "needs_background": "light"
     },
     "output_type": "display_data"
    }
   ],
   "source": [
    "fig, ax = plt.subplots(figsize=(5,5))\n",
    "\n",
    "ax.plot(X[:, 0], X[:, 1], 'o')\n",
    "for length, vector in zip(pca.explained_variance_, pca.components_):\n",
    "    v = vector * 3 * np.sqrt(length)\n",
    "    ax.plot([0, v[0]], [0, v[1]], '-k', lw=3)\n",
    "\n",
    "ax.set_ylim(-3,3)\n",
    "ax.set_xlim(-3,3)"
   ]
  },
  {
   "cell_type": "markdown",
   "metadata": {},
   "source": [
    "### Now let's look at the data projected onto the transforms"
   ]
  },
  {
   "cell_type": "code",
   "execution_count": 20,
   "metadata": {},
   "outputs": [],
   "source": [
    "X_project = pca.fit_transform(X)"
   ]
  },
  {
   "cell_type": "code",
   "execution_count": 21,
   "metadata": {},
   "outputs": [],
   "source": [
    "X_project = pca.transform(X)"
   ]
  },
  {
   "cell_type": "code",
   "execution_count": 22,
   "metadata": {},
   "outputs": [
    {
     "data": {
      "text/plain": [
       "Text(0, 0.5, 'Second principal component')"
      ]
     },
     "execution_count": 22,
     "metadata": {},
     "output_type": "execute_result"
    },
    {
     "data": {
      "image/png": "[encoded data removed]",
      "text/plain": [
       "<Figure size 432x288 with 1 Axes>"
      ]
     },
     "metadata": {
      "needs_background": "light"
     },
     "output_type": "display_data"
    }
   ],
   "source": [
    "plt.plot(X_project[:,0], X_project[:,1], 'o')\n",
    "plt.xlabel(\"First principal component\", fontsize=14)\n",
    "plt.ylabel(\"Second principal component\", fontsize=14)\n",
    "# plt.axis('equal')"
   ]
  },
  {
   "cell_type": "markdown",
   "metadata": {},
   "source": [
    "<div style=\"border-left: 3px solid #000; padding: 1px; padding-left: 10px; background: #F0FAFF; \">\n",
    "<p>\n",
    "\n",
    "## Let's try this with some real data from the Visual Behavior dataset."
   ]
  },
  {
   "cell_type": "code",
   "execution_count": 23,
   "metadata": {},
   "outputs": [],
   "source": [
    "#make sure your drive path is correct! \n",
    "# macOS/OS X\n",
    "# drive_path = '/Volumes/Brain2018/visual_behavior/'\n",
    "\n",
    "# Windows (a good guess)\n",
    "# drive_path = 'e:/visual_behavior'\n",
    "\n",
    "# Linux (will vary; the following is possibly what Ubuntu will do)\n",
    "# drive_path = '/media/Brain2018/visual_behavior'\n",
    "\n",
    "# AWS\n",
    "drive_path = r'/'"
   ]
  },
  {
   "cell_type": "code",
   "execution_count": 24,
   "metadata": {},
   "outputs": [],
   "source": [
    "manifest_file = '/allen/programs/braintv/workgroups/nc-ophys/visual_behavior/SWDB_2019/visual_behavior_data_manifest.csv'\n",
    "manifest=pd.read_csv(manifest_file, index_col=0)\n",
    "manifest = manifest.reset_index(drop=True)"
   ]
  },
  {
   "cell_type": "code",
   "execution_count": 25,
   "metadata": {},
   "outputs": [
    {
     "data": {
      "text/html": [
       "<div>\n",
       "<style scoped>\n",
       "    .dataframe tbody tr th:only-of-type {\n",
       "        vertical-align: middle;\n",
       "    }\n",
       "\n",
       "    .dataframe tbody tr th {\n",
       "        vertical-align: top;\n",
       "    }\n",
       "\n",
       "    .dataframe thead th {\n",
       "        text-align: right;\n",
       "    }\n",
       "</style>\n",
       "<table border=\"1\" class=\"dataframe\">\n",
       "  <thead>\n",
       "    <tr style=\"text-align: right;\">\n",
       "      <th></th>\n",
       "      <th>container_id</th>\n",
       "      <th>ophys_experiment_id</th>\n",
       "      <th>ophys_workflow_state</th>\n",
       "      <th>date_of_acquisition</th>\n",
       "      <th>full_genotype</th>\n",
       "      <th>animal_name</th>\n",
       "      <th>sex</th>\n",
       "      <th>imaging_depth</th>\n",
       "      <th>targeted_structure</th>\n",
       "      <th>session_name</th>\n",
       "      <th>equipment_name</th>\n",
       "      <th>stage_name</th>\n",
       "      <th>retake_number</th>\n",
       "    </tr>\n",
       "  </thead>\n",
       "  <tbody>\n",
       "    <tr>\n",
       "      <th>0</th>\n",
       "      <td>782536745</td>\n",
       "      <td>775614751</td>\n",
       "      <td>passed</td>\n",
       "      <td>2018-11-08 18:38:05</td>\n",
       "      <td>Slc17a7-IRES2-Cre/wt;Camk2a-tTA/wt;Ai93(TITL-G...</td>\n",
       "      <td>722884873</td>\n",
       "      <td>F</td>\n",
       "      <td>375</td>\n",
       "      <td>VISp</td>\n",
       "      <td>20181108_403491_1imagesA</td>\n",
       "      <td>CAM2P.5</td>\n",
       "      <td>OPHYS_2_images_A_passive</td>\n",
       "      <td>0.0</td>\n",
       "    </tr>\n",
       "    <tr>\n",
       "      <th>1</th>\n",
       "      <td>782536745</td>\n",
       "      <td>778644591</td>\n",
       "      <td>passed</td>\n",
       "      <td>2018-11-13 17:52:17</td>\n",
       "      <td>Slc17a7-IRES2-Cre/wt;Camk2a-tTA/wt;Ai93(TITL-G...</td>\n",
       "      <td>722884873</td>\n",
       "      <td>F</td>\n",
       "      <td>375</td>\n",
       "      <td>VISp</td>\n",
       "      <td>20181113_403491_2imagesA</td>\n",
       "      <td>CAM2P.5</td>\n",
       "      <td>OPHYS_2_images_A_passive</td>\n",
       "      <td>3.0</td>\n",
       "    </tr>\n",
       "    <tr>\n",
       "      <th>2</th>\n",
       "      <td>782536745</td>\n",
       "      <td>788490510</td>\n",
       "      <td>passed</td>\n",
       "      <td>2018-11-29 16:20:30</td>\n",
       "      <td>Slc17a7-IRES2-Cre/wt;Camk2a-tTA/wt;Ai93(TITL-G...</td>\n",
       "      <td>722884873</td>\n",
       "      <td>F</td>\n",
       "      <td>375</td>\n",
       "      <td>VISp</td>\n",
       "      <td>20181129_403491_6imagesB</td>\n",
       "      <td>CAM2P.5</td>\n",
       "      <td>OPHYS_2_images_A_passive</td>\n",
       "      <td>4.0</td>\n",
       "    </tr>\n",
       "    <tr>\n",
       "      <th>3</th>\n",
       "      <td>782536745</td>\n",
       "      <td>792812544</td>\n",
       "      <td>passed</td>\n",
       "      <td>2018-12-10 16:46:19</td>\n",
       "      <td>Slc17a7-IRES2-Cre/wt;Camk2a-tTA/wt;Ai93(TITL-G...</td>\n",
       "      <td>722884873</td>\n",
       "      <td>F</td>\n",
       "      <td>375</td>\n",
       "      <td>VISp</td>\n",
       "      <td>20181210_403491_4imagesB</td>\n",
       "      <td>CAM2P.5</td>\n",
       "      <td>OPHYS_4_images_B</td>\n",
       "      <td>2.0</td>\n",
       "    </tr>\n",
       "    <tr>\n",
       "      <th>4</th>\n",
       "      <td>782536745</td>\n",
       "      <td>796106850</td>\n",
       "      <td>passed</td>\n",
       "      <td>2018-12-15 16:48:09</td>\n",
       "      <td>Slc17a7-IRES2-Cre/wt;Camk2a-tTA/wt;Ai93(TITL-G...</td>\n",
       "      <td>722884873</td>\n",
       "      <td>F</td>\n",
       "      <td>375</td>\n",
       "      <td>VISp</td>\n",
       "      <td>20181215_403491_5imagesB</td>\n",
       "      <td>CAM2P.5</td>\n",
       "      <td>OPHYS_5_images_B_passive</td>\n",
       "      <td>2.0</td>\n",
       "    </tr>\n",
       "  </tbody>\n",
       "</table>\n",
       "</div>"
      ],
      "text/plain": [
       "   container_id  ophys_experiment_id ophys_workflow_state  \\\n",
       "0     782536745            775614751               passed   \n",
       "1     782536745            778644591               passed   \n",
       "2     782536745            788490510               passed   \n",
       "3     782536745            792812544               passed   \n",
       "4     782536745            796106850               passed   \n",
       "\n",
       "   date_of_acquisition                                      full_genotype  \\\n",
       "0  2018-11-08 18:38:05  Slc17a7-IRES2-Cre/wt;Camk2a-tTA/wt;Ai93(TITL-G...   \n",
       "1  2018-11-13 17:52:17  Slc17a7-IRES2-Cre/wt;Camk2a-tTA/wt;Ai93(TITL-G...   \n",
       "2  2018-11-29 16:20:30  Slc17a7-IRES2-Cre/wt;Camk2a-tTA/wt;Ai93(TITL-G...   \n",
       "3  2018-12-10 16:46:19  Slc17a7-IRES2-Cre/wt;Camk2a-tTA/wt;Ai93(TITL-G...   \n",
       "4  2018-12-15 16:48:09  Slc17a7-IRES2-Cre/wt;Camk2a-tTA/wt;Ai93(TITL-G...   \n",
       "\n",
       "   animal_name sex  imaging_depth targeted_structure  \\\n",
       "0    722884873   F            375               VISp   \n",
       "1    722884873   F            375               VISp   \n",
       "2    722884873   F            375               VISp   \n",
       "3    722884873   F            375               VISp   \n",
       "4    722884873   F            375               VISp   \n",
       "\n",
       "               session_name equipment_name                stage_name  \\\n",
       "0  20181108_403491_1imagesA        CAM2P.5  OPHYS_2_images_A_passive   \n",
       "1  20181113_403491_2imagesA        CAM2P.5  OPHYS_2_images_A_passive   \n",
       "2  20181129_403491_6imagesB        CAM2P.5  OPHYS_2_images_A_passive   \n",
       "3  20181210_403491_4imagesB        CAM2P.5          OPHYS_4_images_B   \n",
       "4  20181215_403491_5imagesB        CAM2P.5  OPHYS_5_images_B_passive   \n",
       "\n",
       "   retake_number  \n",
       "0            0.0  \n",
       "1            3.0  \n",
       "2            4.0  \n",
       "3            2.0  \n",
       "4            2.0  "
      ]
     },
     "execution_count": 25,
     "metadata": {},
     "output_type": "execute_result"
    }
   ],
   "source": [
    "manifest.head()"
   ]
  },
  {
   "cell_type": "code",
   "execution_count": 26,
   "metadata": {},
   "outputs": [],
   "source": [
    "from allensdk.brain_observatory.behavior.swdb import behavior_project_cache as bpc\n",
    "\n",
    "cache_json = {'manifest_path': '/allen/programs/braintv/workgroups/nc-ophys/visual_behavior/SWDB_2019/visual_behavior_data_manifest.csv',\n",
    "              'nwb_base_dir': '/allen/programs/braintv/workgroups/nc-ophys/visual_behavior/SWDB_2019/nwb_files',\n",
    "              'analysis_files_base_dir': '/allen/programs/braintv/workgroups/nc-ophys/visual_behavior/SWDB_2019/extra_files'\n",
    "              }\n",
    "cache = bpc.BehaviorProjectCache(cache_json)"
   ]
  },
  {
   "cell_type": "code",
   "execution_count": 27,
   "metadata": {},
   "outputs": [],
   "source": [
    "experiment_id = 792812544\n",
    "session = cache.get_session(experiment_id)"
   ]
  },
  {
   "cell_type": "code",
   "execution_count": 28,
   "metadata": {},
   "outputs": [
    {
     "name": "stdout",
     "output_type": "stream",
     "text": [
      "Help on ExtendedBehaviorSession in module allensdk.brain_observatory.behavior.swdb.behavior_project_cache object:\n",
      "\n",
      "class ExtendedBehaviorSession(allensdk.brain_observatory.behavior.behavior_ophys_session.BehaviorOphysSession)\n",
      " |  Represents data from a single Visual Behavior Ophys imaging session.  LazyProperty attributes access the data only on the first demand, and then memoize the result for reuse.\n",
      " |  \n",
      " |  Attributes:\n",
      " |      ophys_experiment_id : int (LazyProperty)\n",
      " |          Unique identifier for this experimental session\n",
      " |      max_projection : allensdk.brain_observatory.behavior.image_api.Image (LazyProperty)\n",
      " |          2D max projection image\n",
      " |      stimulus_timestamps : numpy.ndarray (LazyProperty)\n",
      " |          Timestamps associated the stimulus presentations on the monitor \n",
      " |      ophys_timestamps : numpy.ndarray (LazyProperty)\n",
      " |          Timestamps associated with frames captured by the microscope\n",
      " |      metadata : dict (LazyProperty)\n",
      " |          A dictionary of session-specific metadata\n",
      " |      dff_traces : pandas.DataFrame (LazyProperty)\n",
      " |          The traces of dff organized into a dataframe; index is the cell roi ids\n",
      " |      cell_specimen_table : pandas.DataFrame (LazyProperty)\n",
      " |          Cell roi information organized into a dataframe; index is the cell roi ids\n",
      " |      running_speed : allensdk.brain_observatory.running_speed.RunningSpeed (LazyProperty)\n",
      " |          NamedTuple with two fields\n",
      " |              timestamps : numpy.ndarray\n",
      " |                  Timestamps of running speed data samples\n",
      " |              values : np.ndarray\n",
      " |                  Running speed of the experimental subject (in cm / s).\n",
      " |      running_data_df : pandas.DataFrame (LazyProperty)\n",
      " |          Dataframe containing various signals used to compute running speed\n",
      " |      stimulus_presentations : pandas.DataFrame (LazyProperty)\n",
      " |          Table whose rows are stimulus presentations (i.e. a given image, for a given duration, typically 250 ms) and whose columns are presentation characteristics.\n",
      " |      stimulus_templates : dict (LazyProperty)\n",
      " |          A dictionary containing the stimulus images presented during the session keys are data set names, and values are 3D numpy arrays.\n",
      " |      licks : pandas.DataFrame (LazyProperty)\n",
      " |          A dataframe containing lick timestamps\n",
      " |      rewards : pandas.DataFrame (LazyProperty)\n",
      " |          A dataframe containing timestamps of delivered rewards\n",
      " |      task_parameters : dict (LazyProperty)\n",
      " |          A dictionary containing parameters used to define the task runtime behavior\n",
      " |      trials : pandas.DataFrame (LazyProperty)\n",
      " |          A dataframe containing behavioral trial start/stop times, and trial data\n",
      " |      corrected_fluorescence_traces : pandas.DataFrame (LazyProperty)\n",
      " |          The motion-corrected fluorescence traces organized into a dataframe; index is the cell roi ids\n",
      " |      average_projection : allensdk.brain_observatory.behavior.image_api.Image (LazyProperty)\n",
      " |          2D image of the microscope field of view, averaged across the experiment\n",
      " |      motion_correction : pandas.DataFrame LazyProperty\n",
      " |          A dataframe containing trace data used during motion correction computation\n",
      " |  \n",
      " |  Method resolution order:\n",
      " |      ExtendedBehaviorSession\n",
      " |      allensdk.brain_observatory.behavior.behavior_ophys_session.BehaviorOphysSession\n",
      " |      allensdk.core.lazy_property.lazy_property_mixin.LazyPropertyMixin\n",
      " |      builtins.object\n",
      " |  \n",
      " |  Methods defined here:\n",
      " |  \n",
      " |  __init__(self, api)\n",
      " |      Initialize self.  See help(type(self)) for accurate signature.\n",
      " |  \n",
      " |  get_stimulus_index(self)\n",
      " |  \n",
      " |  get_trial_response_df(self)\n",
      " |  \n",
      " |  ----------------------------------------------------------------------\n",
      " |  Methods inherited from allensdk.brain_observatory.behavior.behavior_ophys_session.BehaviorOphysSession:\n",
      " |  \n",
      " |  deserialize_image(self, sitk_image)\n",
      " |      Convert SimpleITK image returned by the api to an Image class:\n",
      " |      \n",
      " |      Args:\n",
      " |          sitk_image (SimpleITK image): image object returned by the api\n",
      " |      \n",
      " |      Returns\n",
      " |          img (allensdk.brain_observatory.behavior.image_api.Image)\n",
      " |  \n",
      " |  get_average_projection(self)\n",
      " |      Returns an image whose values are the average obtained values at each pixel of the ophys movie over time.\n",
      " |      \n",
      " |      Returns\n",
      " |      ----------\n",
      " |      allensdk.brain_observatory.behavior.image_api.Image:\n",
      " |          array-like interface to max projection image data and metadata\n",
      " |  \n",
      " |  get_cell_specimen_ids(self)\n",
      " |  \n",
      " |  get_cell_specimen_indices(self, cell_specimen_ids)\n",
      " |  \n",
      " |  get_dff_traces(self, cell_specimen_ids=None)\n",
      " |  \n",
      " |  get_max_projection(self)\n",
      " |      Returns an image whose values are the maximum obtained values at each pixel of the ophys movie over time.\n",
      " |      \n",
      " |      Returns\n",
      " |      ----------\n",
      " |      allensdk.brain_observatory.behavior.image_api.Image:\n",
      " |          array-like interface to max projection image data and metadata\n",
      " |  \n",
      " |  get_performance_metrics(self, engaged_trial_reward_rate_threshold=2)\n",
      " |  \n",
      " |  get_reward_rate(self)\n",
      " |  \n",
      " |  get_rolling_performance_df(self)\n",
      " |  \n",
      " |  get_segmentation_mask_image(self)\n",
      " |      Returns an image with a pixel value of zero if the pixel is not included in any ROI, and nonzero if included in a segmented ROI.\n",
      " |      \n",
      " |      Returns\n",
      " |      ----------\n",
      " |      allensdk.brain_observatory.behavior.image_api.Image:\n",
      " |          array-like interface to max projection image data and metadata\n",
      " |  \n",
      " |  ----------------------------------------------------------------------\n",
      " |  Class methods inherited from allensdk.brain_observatory.behavior.behavior_ophys_session.BehaviorOphysSession:\n",
      " |  \n",
      " |  from_lims(ophys_experiment_id) from builtins.type\n",
      " |  \n",
      " |  from_nwb_path(nwb_path, **api_kwargs) from builtins.type\n",
      " |  \n",
      " |  ----------------------------------------------------------------------\n",
      " |  Methods inherited from allensdk.core.lazy_property.lazy_property_mixin.LazyPropertyMixin:\n",
      " |  \n",
      " |  __getattribute__(self, name)\n",
      " |      Return getattr(self, name).\n",
      " |  \n",
      " |  __setattr__(self, name, value)\n",
      " |      Implement setattr(self, name, value).\n",
      " |  \n",
      " |  ----------------------------------------------------------------------\n",
      " |  Data descriptors inherited from allensdk.core.lazy_property.lazy_property_mixin.LazyPropertyMixin:\n",
      " |  \n",
      " |  LazyProperty\n",
      " |  \n",
      " |  __dict__\n",
      " |      dictionary for instance variables (if defined)\n",
      " |  \n",
      " |  __weakref__\n",
      " |      list of weak references to the object (if defined)\n",
      "\n"
     ]
    }
   ],
   "source": [
    "help(session)"
   ]
  },
  {
   "cell_type": "code",
   "execution_count": 29,
   "metadata": {},
   "outputs": [],
   "source": [
    "# Load the Trial Response Dataframe\n",
    "#slow on wifi\n",
    "tr = session.trial_response_df"
   ]
  },
  {
   "cell_type": "code",
   "execution_count": 30,
   "metadata": {},
   "outputs": [
    {
     "name": "stdout",
     "output_type": "stream",
     "text": [
      "(81144, 23)\n"
     ]
    },
    {
     "data": {
      "text/plain": [
       "cell_roi_id             float64\n",
       "dff_trace                object\n",
       "dff_trace_timestamps     object\n",
       "mean_response           float64\n",
       "baseline_response       float64\n",
       "initial_image_name       object\n",
       "change_image_name        object\n",
       "change_time             float64\n",
       "lick_times               object\n",
       "response_latency        float64\n",
       "reward_time             float64\n",
       "go                         bool\n",
       "catch                      bool\n",
       "hit                        bool\n",
       "miss                       bool\n",
       "false_alarm                bool\n",
       "correct_reject             bool\n",
       "aborted                    bool\n",
       "auto_rewarded              bool\n",
       "reward_volume           float64\n",
       "start_time              float64\n",
       "stop_time               float64\n",
       "trial_length            float64\n",
       "dtype: object"
      ]
     },
     "execution_count": 30,
     "metadata": {},
     "output_type": "execute_result"
    }
   ],
   "source": [
    "# This dataframe is Cell x Trials \n",
    "print(np.shape(tr))\n",
    "tr.dtypes"
   ]
  },
  {
   "cell_type": "code",
   "execution_count": 31,
   "metadata": {},
   "outputs": [
    {
     "data": {
      "text/html": [
       "<div>\n",
       "<style scoped>\n",
       "    .dataframe tbody tr th:only-of-type {\n",
       "        vertical-align: middle;\n",
       "    }\n",
       "\n",
       "    .dataframe tbody tr th {\n",
       "        vertical-align: top;\n",
       "    }\n",
       "\n",
       "    .dataframe thead th {\n",
       "        text-align: right;\n",
       "    }\n",
       "</style>\n",
       "<table border=\"1\" class=\"dataframe\">\n",
       "  <thead>\n",
       "    <tr style=\"text-align: right;\">\n",
       "      <th></th>\n",
       "      <th></th>\n",
       "      <th>cell_roi_id</th>\n",
       "      <th>dff_trace</th>\n",
       "      <th>dff_trace_timestamps</th>\n",
       "      <th>mean_response</th>\n",
       "      <th>baseline_response</th>\n",
       "      <th>initial_image_name</th>\n",
       "      <th>change_image_name</th>\n",
       "      <th>change_time</th>\n",
       "      <th>lick_times</th>\n",
       "      <th>response_latency</th>\n",
       "      <th>...</th>\n",
       "      <th>hit</th>\n",
       "      <th>miss</th>\n",
       "      <th>false_alarm</th>\n",
       "      <th>correct_reject</th>\n",
       "      <th>aborted</th>\n",
       "      <th>auto_rewarded</th>\n",
       "      <th>reward_volume</th>\n",
       "      <th>start_time</th>\n",
       "      <th>stop_time</th>\n",
       "      <th>trial_length</th>\n",
       "    </tr>\n",
       "    <tr>\n",
       "      <th>cell_specimen_id</th>\n",
       "      <th>trial_id</th>\n",
       "      <th></th>\n",
       "      <th></th>\n",
       "      <th></th>\n",
       "      <th></th>\n",
       "      <th></th>\n",
       "      <th></th>\n",
       "      <th></th>\n",
       "      <th></th>\n",
       "      <th></th>\n",
       "      <th></th>\n",
       "      <th></th>\n",
       "      <th></th>\n",
       "      <th></th>\n",
       "      <th></th>\n",
       "      <th></th>\n",
       "      <th></th>\n",
       "      <th></th>\n",
       "      <th></th>\n",
       "      <th></th>\n",
       "      <th></th>\n",
       "      <th></th>\n",
       "    </tr>\n",
       "  </thead>\n",
       "  <tbody>\n",
       "    <tr>\n",
       "      <th rowspan=\"5\" valign=\"top\">792864548</th>\n",
       "      <th>3</th>\n",
       "      <td>792864548.0</td>\n",
       "      <td>[0.2041154228184267, 0.057783784940272455, -0....</td>\n",
       "      <td>[320.84901, 320.88134, 320.91367, 320.94599, 3...</td>\n",
       "      <td>0.067986</td>\n",
       "      <td>0.044634</td>\n",
       "      <td>im000</td>\n",
       "      <td>im106</td>\n",
       "      <td>324.855897</td>\n",
       "      <td>[]</td>\n",
       "      <td>inf</td>\n",
       "      <td>...</td>\n",
       "      <td>False</td>\n",
       "      <td>True</td>\n",
       "      <td>False</td>\n",
       "      <td>False</td>\n",
       "      <td>False</td>\n",
       "      <td>False</td>\n",
       "      <td>0.000</td>\n",
       "      <td>321.853063</td>\n",
       "      <td>329.109443</td>\n",
       "      <td>7.256379</td>\n",
       "    </tr>\n",
       "    <tr>\n",
       "      <th>5</th>\n",
       "      <td>792864548.0</td>\n",
       "      <td>[-0.018108306249248994, 0.011634581671102644, ...</td>\n",
       "      <td>[331.38789, 331.42022, 331.45255, 331.48488, 3...</td>\n",
       "      <td>0.018537</td>\n",
       "      <td>0.049663</td>\n",
       "      <td>im106</td>\n",
       "      <td>im073</td>\n",
       "      <td>335.364422</td>\n",
       "      <td>[337.49652, 337.68663]</td>\n",
       "      <td>inf</td>\n",
       "      <td>...</td>\n",
       "      <td>False</td>\n",
       "      <td>True</td>\n",
       "      <td>False</td>\n",
       "      <td>False</td>\n",
       "      <td>False</td>\n",
       "      <td>False</td>\n",
       "      <td>0.000</td>\n",
       "      <td>330.860472</td>\n",
       "      <td>339.617563</td>\n",
       "      <td>8.757091</td>\n",
       "    </tr>\n",
       "    <tr>\n",
       "      <th>6</th>\n",
       "      <td>792864548.0</td>\n",
       "      <td>[-0.11090177731092421, 0.13107220601559724, 0....</td>\n",
       "      <td>[339.63151, 339.66384, 339.69617, 339.7285, 33...</td>\n",
       "      <td>0.087933</td>\n",
       "      <td>0.010911</td>\n",
       "      <td>im073</td>\n",
       "      <td>im035</td>\n",
       "      <td>343.621433</td>\n",
       "      <td>[344.02785, 344.27632, 344.4771, 344.60648, 34...</td>\n",
       "      <td>0.410226</td>\n",
       "      <td>...</td>\n",
       "      <td>True</td>\n",
       "      <td>False</td>\n",
       "      <td>False</td>\n",
       "      <td>False</td>\n",
       "      <td>False</td>\n",
       "      <td>False</td>\n",
       "      <td>0.007</td>\n",
       "      <td>339.867727</td>\n",
       "      <td>347.874276</td>\n",
       "      <td>8.006549</td>\n",
       "    </tr>\n",
       "    <tr>\n",
       "      <th>11</th>\n",
       "      <td>792864548.0</td>\n",
       "      <td>[-0.054107541679430986, -0.17928746954617172, ...</td>\n",
       "      <td>[356.89468, 356.92701, 356.95934, 356.99167, 3...</td>\n",
       "      <td>0.027679</td>\n",
       "      <td>0.071604</td>\n",
       "      <td>im035</td>\n",
       "      <td>im054</td>\n",
       "      <td>360.886111</td>\n",
       "      <td>[361.25719, 361.50576, 361.71592, 361.85604, 3...</td>\n",
       "      <td>0.375236</td>\n",
       "      <td>...</td>\n",
       "      <td>True</td>\n",
       "      <td>False</td>\n",
       "      <td>False</td>\n",
       "      <td>False</td>\n",
       "      <td>False</td>\n",
       "      <td>False</td>\n",
       "      <td>0.007</td>\n",
       "      <td>356.381713</td>\n",
       "      <td>365.155022</td>\n",
       "      <td>8.773309</td>\n",
       "    </tr>\n",
       "    <tr>\n",
       "      <th>24</th>\n",
       "      <td>792864548.0</td>\n",
       "      <td>[0.06370023751793168, -0.008091906813715502, -...</td>\n",
       "      <td>[407.19746, 407.22979, 407.26212, 407.29445, 4...</td>\n",
       "      <td>0.031796</td>\n",
       "      <td>0.001191</td>\n",
       "      <td>im054</td>\n",
       "      <td>im054</td>\n",
       "      <td>411.192289</td>\n",
       "      <td>[412.34447, 412.46459]</td>\n",
       "      <td>inf</td>\n",
       "      <td>...</td>\n",
       "      <td>False</td>\n",
       "      <td>False</td>\n",
       "      <td>False</td>\n",
       "      <td>True</td>\n",
       "      <td>False</td>\n",
       "      <td>False</td>\n",
       "      <td>0.000</td>\n",
       "      <td>408.189966</td>\n",
       "      <td>415.462657</td>\n",
       "      <td>7.272690</td>\n",
       "    </tr>\n",
       "  </tbody>\n",
       "</table>\n",
       "<p>5 rows × 23 columns</p>\n",
       "</div>"
      ],
      "text/plain": [
       "                           cell_roi_id  \\\n",
       "cell_specimen_id trial_id                \n",
       "792864548        3         792864548.0   \n",
       "                 5         792864548.0   \n",
       "                 6         792864548.0   \n",
       "                 11        792864548.0   \n",
       "                 24        792864548.0   \n",
       "\n",
       "                                                                   dff_trace  \\\n",
       "cell_specimen_id trial_id                                                      \n",
       "792864548        3         [0.2041154228184267, 0.057783784940272455, -0....   \n",
       "                 5         [-0.018108306249248994, 0.011634581671102644, ...   \n",
       "                 6         [-0.11090177731092421, 0.13107220601559724, 0....   \n",
       "                 11        [-0.054107541679430986, -0.17928746954617172, ...   \n",
       "                 24        [0.06370023751793168, -0.008091906813715502, -...   \n",
       "\n",
       "                                                        dff_trace_timestamps  \\\n",
       "cell_specimen_id trial_id                                                      \n",
       "792864548        3         [320.84901, 320.88134, 320.91367, 320.94599, 3...   \n",
       "                 5         [331.38789, 331.42022, 331.45255, 331.48488, 3...   \n",
       "                 6         [339.63151, 339.66384, 339.69617, 339.7285, 33...   \n",
       "                 11        [356.89468, 356.92701, 356.95934, 356.99167, 3...   \n",
       "                 24        [407.19746, 407.22979, 407.26212, 407.29445, 4...   \n",
       "\n",
       "                           mean_response  baseline_response  \\\n",
       "cell_specimen_id trial_id                                     \n",
       "792864548        3              0.067986           0.044634   \n",
       "                 5              0.018537           0.049663   \n",
       "                 6              0.087933           0.010911   \n",
       "                 11             0.027679           0.071604   \n",
       "                 24             0.031796           0.001191   \n",
       "\n",
       "                          initial_image_name change_image_name  change_time  \\\n",
       "cell_specimen_id trial_id                                                     \n",
       "792864548        3                     im000             im106   324.855897   \n",
       "                 5                     im106             im073   335.364422   \n",
       "                 6                     im073             im035   343.621433   \n",
       "                 11                    im035             im054   360.886111   \n",
       "                 24                    im054             im054   411.192289   \n",
       "\n",
       "                                                                  lick_times  \\\n",
       "cell_specimen_id trial_id                                                      \n",
       "792864548        3                                                        []   \n",
       "                 5                                    [337.49652, 337.68663]   \n",
       "                 6         [344.02785, 344.27632, 344.4771, 344.60648, 34...   \n",
       "                 11        [361.25719, 361.50576, 361.71592, 361.85604, 3...   \n",
       "                 24                                   [412.34447, 412.46459]   \n",
       "\n",
       "                           response_latency  ...    hit   miss  false_alarm  \\\n",
       "cell_specimen_id trial_id                    ...                              \n",
       "792864548        3                      inf  ...  False   True        False   \n",
       "                 5                      inf  ...  False   True        False   \n",
       "                 6                 0.410226  ...   True  False        False   \n",
       "                 11                0.375236  ...   True  False        False   \n",
       "                 24                     inf  ...  False  False        False   \n",
       "\n",
       "                           correct_reject  aborted  auto_rewarded  \\\n",
       "cell_specimen_id trial_id                                           \n",
       "792864548        3                  False    False          False   \n",
       "                 5                  False    False          False   \n",
       "                 6                  False    False          False   \n",
       "                 11                 False    False          False   \n",
       "                 24                  True    False          False   \n",
       "\n",
       "                           reward_volume  start_time   stop_time  trial_length  \n",
       "cell_specimen_id trial_id                                                       \n",
       "792864548        3                 0.000  321.853063  329.109443      7.256379  \n",
       "                 5                 0.000  330.860472  339.617563      8.757091  \n",
       "                 6                 0.007  339.867727  347.874276      8.006549  \n",
       "                 11                0.007  356.381713  365.155022      8.773309  \n",
       "                 24                0.000  408.189966  415.462657      7.272690  \n",
       "\n",
       "[5 rows x 23 columns]"
      ]
     },
     "execution_count": 31,
     "metadata": {},
     "output_type": "execute_result"
    }
   ],
   "source": [
    "tr.head()"
   ]
  },
  {
   "cell_type": "code",
   "execution_count": 32,
   "metadata": {},
   "outputs": [
    {
     "data": {
      "text/plain": [
       "FrozenList(['cell_specimen_id', 'trial_id'])"
      ]
     },
     "execution_count": 32,
     "metadata": {},
     "output_type": "execute_result"
    }
   ],
   "source": [
    "# This dataframe is indexed by cell id and trial id\n",
    "tr.index.names"
   ]
  },
  {
   "cell_type": "code",
   "execution_count": 33,
   "metadata": {},
   "outputs": [
    {
     "name": "stdout",
     "output_type": "stream",
     "text": [
      "276\n"
     ]
    }
   ],
   "source": [
    "# Get the list of unique trial IDs\n",
    "trial_ids = tr.index.unique(level='trial_id')\n",
    "print(len(trial_ids))"
   ]
  },
  {
   "cell_type": "code",
   "execution_count": 34,
   "metadata": {},
   "outputs": [
    {
     "name": "stdout",
     "output_type": "stream",
     "text": [
      "294\n"
     ]
    }
   ],
   "source": [
    "cell_ids = tr.index.unique(level='cell_specimen_id')\n",
    "num_cells = len(cell_ids)\n",
    "print(num_cells)"
   ]
  },
  {
   "cell_type": "markdown",
   "metadata": {},
   "source": [
    "<div style=\"border-left: 3px solid #000; padding: 1px; padding-left: 10px; background: #F0FAFF; \">\n",
    "<p>\n",
    "\n",
    "A key step in using PCA is the getting data into the right shape. We want to create an array of the population's responses to each trial, with dimensions of trials X cells.  The trial_response dataframe has a row for each cell for each trial, so there's going to be a little repackaging of the data to do before we can throw this into sklearn."
   ]
  },
  {
   "cell_type": "code",
   "execution_count": 35,
   "metadata": {},
   "outputs": [],
   "source": [
    "response_array = tr.mean_response.unstack().values[:,:].T\n"
   ]
  },
  {
   "cell_type": "code",
   "execution_count": 36,
   "metadata": {},
   "outputs": [],
   "source": [
    "# Cleaning step, shouldnt need\n",
    "response_array = response_array[:,~np.any(np.isnan(response_array),axis=0)]\n"
   ]
  },
  {
   "cell_type": "code",
   "execution_count": 37,
   "metadata": {},
   "outputs": [],
   "source": [
    "# Cleaning step, shouldnt need\n",
    "response_array= response_array[:,~np.any(response_array > 5,axis=0)]\n",
    "response_array= response_array[:,~np.any(response_array < -5,axis=0)]\n"
   ]
  },
  {
   "cell_type": "code",
   "execution_count": 38,
   "metadata": {},
   "outputs": [
    {
     "data": {
      "text/plain": [
       "Text(0, 0.5, 'Trials')"
      ]
     },
     "execution_count": 38,
     "metadata": {},
     "output_type": "execute_result"
    },
    {
     "data": {
      "image/png": "[encoded data removed]",
      "text/plain": [
       "<Figure size 432x288 with 1 Axes>"
      ]
     },
     "metadata": {
      "needs_background": "light"
     },
     "output_type": "display_data"
    }
   ],
   "source": [
    "plt.imshow(response_array)\n",
    "plt.xlabel(\"Cells\", fontsize=14)\n",
    "plt.ylabel(\"Trials\", fontsize=14)"
   ]
  },
  {
   "cell_type": "markdown",
   "metadata": {},
   "source": [
    "Before running PCA, we must zero-mean the data"
   ]
  },
  {
   "cell_type": "code",
   "execution_count": 39,
   "metadata": {},
   "outputs": [],
   "source": [
    "response_array -= response_array.mean()"
   ]
  },
  {
   "cell_type": "markdown",
   "metadata": {},
   "source": [
    "<div style=\"border-left: 3px solid #000; padding: 1px; padding-left: 10px; background: #F0FAFF; \">\n",
    "<p>\n",
    "## How many components do we need?\n",
    "Let's start getting a lot and then see which was are most informative"
   ]
  },
  {
   "cell_type": "code",
   "execution_count": 40,
   "metadata": {},
   "outputs": [],
   "source": [
    "pca = PCA(n_components=20)"
   ]
  },
  {
   "cell_type": "code",
   "execution_count": 41,
   "metadata": {},
   "outputs": [
    {
     "data": {
      "text/plain": [
       "PCA(copy=True, iterated_power='auto', n_components=20, random_state=None,\n",
       "    svd_solver='auto', tol=0.0, whiten=False)"
      ]
     },
     "execution_count": 41,
     "metadata": {},
     "output_type": "execute_result"
    }
   ],
   "source": [
    "pca.fit(response_array)"
   ]
  },
  {
   "cell_type": "code",
   "execution_count": 42,
   "metadata": {},
   "outputs": [
    {
     "data": {
      "text/plain": [
       "(20, 242)"
      ]
     },
     "execution_count": 42,
     "metadata": {},
     "output_type": "execute_result"
    }
   ],
   "source": [
    "pca.components_.shape"
   ]
  },
  {
   "cell_type": "code",
   "execution_count": 43,
   "metadata": {},
   "outputs": [
    {
     "data": {
      "text/plain": [
       "Text(0, 0.5, 'Explained variance ratio')"
      ]
     },
     "execution_count": 43,
     "metadata": {},
     "output_type": "execute_result"
    },
    {
     "data": {
      "image/png": "[encoded data removed]",
      "text/plain": [
       "<Figure size 432x288 with 1 Axes>"
      ]
     },
     "metadata": {
      "needs_background": "light"
     },
     "output_type": "display_data"
    }
   ],
   "source": [
    "plt.plot(pca.explained_variance_ratio_, '.')\n",
    "plt.xlabel(\"Component #\", fontsize=14)\n",
    "plt.ylabel(\"Explained variance ratio\", fontsize=14)"
   ]
  },
  {
   "cell_type": "markdown",
   "metadata": {},
   "source": [
    "<div style=\"border-left: 3px solid #000; padding: 1px; padding-left: 10px; background: #F0FAFF; \">\n",
    "<p>\n",
    "Let's visualize these data projected onto the first two components"
   ]
  },
  {
   "cell_type": "code",
   "execution_count": 44,
   "metadata": {},
   "outputs": [],
   "source": [
    "response_reduced = pca.fit_transform(response_array)"
   ]
  },
  {
   "cell_type": "code",
   "execution_count": 45,
   "metadata": {},
   "outputs": [
    {
     "data": {
      "text/plain": [
       "(276, 20)"
      ]
     },
     "execution_count": 45,
     "metadata": {},
     "output_type": "execute_result"
    }
   ],
   "source": [
    "response_reduced.shape"
   ]
  },
  {
   "cell_type": "code",
   "execution_count": 46,
   "metadata": {},
   "outputs": [
    {
     "data": {
      "text/plain": [
       "Text(0, 0.5, 'Second principal component')"
      ]
     },
     "execution_count": 46,
     "metadata": {},
     "output_type": "execute_result"
    },
    {
     "data": {
      "image/png": "[encoded data removed]",
      "text/plain": [
       "<Figure size 432x288 with 1 Axes>"
      ]
     },
     "metadata": {
      "needs_background": "light"
     },
     "output_type": "display_data"
    }
   ],
   "source": [
    "plt.plot(response_reduced[:,0], response_reduced[:,1], '.')\n",
    "plt.xlabel(\"First principal component\", fontsize=14)\n",
    "plt.ylabel(\"Second principal component\", fontsize=14)"
   ]
  },
  {
   "cell_type": "markdown",
   "metadata": {},
   "source": [
    "<div style=\"border-left: 3px solid #000; padding: 1px; padding-left: 10px; background: #F0FAFF; \">\n",
    "<p>\n",
    "### What are the two components that explain most of the variance?"
   ]
  },
  {
   "cell_type": "code",
   "execution_count": 47,
   "metadata": {},
   "outputs": [
    {
     "data": {
      "text/plain": [
       "Text(0.5, 0, 'Cell #')"
      ]
     },
     "execution_count": 47,
     "metadata": {},
     "output_type": "execute_result"
    },
    {
     "data": {
      "image/png": "[encoded data removed]",
      "text/plain": [
       "<Figure size 432x288 with 1 Axes>"
      ]
     },
     "metadata": {
      "needs_background": "light"
     },
     "output_type": "display_data"
    }
   ],
   "source": [
    "plt.plot(pca.components_[0])\n",
    "plt.xlabel(\"Cell #\", fontsize=14)"
   ]
  },
  {
   "cell_type": "code",
   "execution_count": 48,
   "metadata": {},
   "outputs": [
    {
     "data": {
      "text/plain": [
       "Text(0.5, 0, 'Cell #')"
      ]
     },
     "execution_count": 48,
     "metadata": {},
     "output_type": "execute_result"
    },
    {
     "data": {
      "image/png": "[encoded data removed]",
      "text/plain": [
       "<Figure size 432x288 with 1 Axes>"
      ]
     },
     "metadata": {
      "needs_background": "light"
     },
     "output_type": "display_data"
    }
   ],
   "source": [
    "plt.plot(pca.components_[1])\n",
    "plt.xlabel(\"Cell #\", fontsize=14)"
   ]
  },
  {
   "cell_type": "markdown",
   "metadata": {},
   "source": [
    "This suggests that there are a small number of cells that are more informative than the rest."
   ]
  },
  {
   "cell_type": "markdown",
   "metadata": {},
   "source": [
    "<div style=\"border-left: 3px solid #000; padding: 1px; padding-left: 10px; background: #F0FAFF; \">\n",
    "<p>\n",
    "Plot the projected data, and label each trial according to the image that was presented."
   ]
  },
  {
   "cell_type": "code",
   "execution_count": 53,
   "metadata": {},
   "outputs": [
    {
     "data": {
      "text/plain": [
       "Text(0, 0.5, 'Second principal component')"
      ]
     },
     "execution_count": 53,
     "metadata": {},
     "output_type": "execute_result"
    },
    {
     "data": {
      "image/png": "[encoded data removed]",
      "text/plain": [
       "<Figure size 432x288 with 1 Axes>"
      ]
     },
     "metadata": {
      "needs_background": "light"
     },
     "output_type": "display_data"
    }
   ],
   "source": [
    "colors=['r','b','c','m','k','g','y','r']\n",
    "trial_list = tr.change_image_name.unstack().values[:,:].T[:,0]\n",
    "images = np.unique(images)\n",
    "for count, a in enumerate(images):\n",
    "    inds = trial_list == a\n",
    "    plt.plot(response_reduced[inds,0],response_reduced[inds,1],'.',color=colors[count],markersize=8)\n",
    "plt.xlabel(\"First principal component\", fontsize=14)\n",
    "plt.ylabel(\"Second principal component\", fontsize=14)"
   ]
  },
  {
   "cell_type": "code",
   "execution_count": null,
   "metadata": {},
   "outputs": [],
   "source": []
  },
  {
   "cell_type": "code",
   "execution_count": null,
   "metadata": {},
   "outputs": [],
   "source": []
  }
 ],
 "metadata": {
  "kernelspec": {
   "display_name": "Python 3",
   "language": "python",
   "name": "python3"
  },
  "language_info": {
   "codemirror_mode": {
    "name": "ipython",
    "version": 3
   },
   "file_extension": ".py",
   "mimetype": "text/x-python",
   "name": "python",
   "nbconvert_exporter": "python",
   "pygments_lexer": "ipython3",
   "version": "3.6.8"
  }
 },
 "nbformat": 4,
 "nbformat_minor": 2
}
