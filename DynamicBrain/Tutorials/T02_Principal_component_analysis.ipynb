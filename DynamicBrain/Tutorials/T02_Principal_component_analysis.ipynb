{
 "cells": [
  {
   "cell_type": "markdown",
   "metadata": {},
   "source": [
    "<img src=\"../../resources/cropped-SummerWorkshop_Header.png\">  \n",
    "\n",
    "<h1 align=\"center\">Dimensionality Reduction SWDB 2018 </h1> \n",
    "<h3 align=\"center\">Monday, August 27, 2018</h3> "
   ]
  },
  {
   "cell_type": "code",
   "execution_count": 2,
   "metadata": {},
   "outputs": [],
   "source": [
    "import os\n",
    "import numpy as np\n",
    "import pandas as pd\n",
    "\n",
    "import matplotlib.pyplot as plt\n",
    "%matplotlib inline\n",
    "\n",
    "import seaborn as sns"
   ]
  },
  {
   "cell_type": "code",
   "execution_count": 3,
   "metadata": {},
   "outputs": [],
   "source": [
    "from sklearn.decomposition import PCA"
   ]
  },
  {
   "cell_type": "markdown",
   "metadata": {},
   "source": [
    "<div style=\"border-left: 3px solid #000; padding: 1px; padding-left: 10px; background: #F0FAFF; \">\n",
    "<p>In this tutorial we look at Unsupervised Learning.  In contrast to supervised learning, unsupervised learning operates on a set of data points $\\vec{x}_i$.  Instead of trying to construct a function that maps that data onto another set of given points, we seek to find a transformation that discovers structure in the data.  \n",
    "</p>\n",
    "<p>\n",
    "A simple and important form of unsupervised learning is called Principal Components Analysis, or PCA.  Assume the data $\\vec{x}_i$ exists in $N$ dimensions.  Given an integer $n < N$, PCA attemps to find a linear subspace of dimension $n$ that minimizes the variance of the data outside of that subspace.  Put another way, PCA defines a subspace of dimension $n < N$ such that, when the data is approximated by projecting onto that subspace, the reconstruction error is minimized.  \n",
    "</p>\n",
    "<p>\n",
    "Let us denote the subspace with the orthogonal matrix ${\\bf W}$, of dimensions $(n, N)$.  The data can be represented with the matrix ${\\bf X}$, of dimensions $(T, N)$, where $T$ is the number of samples.  Let the coordinates of the data in the subspace be labelled ${\\bf Z}$, which is of dimensions $(T, n)$.  The cost function for PCA is then\n",
    "</p>\n",
    "<p>\n",
    "$E = \\frac{1}{2}  \\left | {\\bf X} - {\\bf Z} \\cdot {\\bf W} \\right |^2$\n",
    "</p>\n",
    "<p>\n",
    "Note that we have to optimize over *both* ${\\bf Z}$ and ${\\bf W}$, subject to the constraint that ${\\bf W}$ is orthogonal.\n",
    "</p>\n",
    "<p>\n",
    "We can equivalently define PCA by specifying the principal components as the eigenvectors of the covariance matrix with the $n$ largest eigenvalues.  Intuitively one can see that this choice will produce the smallest amount of variability away from the subspace, and thus solve the problem as we originally defined it.  This allows us to compute the PCAs very simply with diagonalization or SVD.\n",
    "</p>\n",
    "<p>\n",
    "    There are many other unsupervised learning methods.  They are helpful when trying to either reduce the complexity of the dataset in order to facilitate another computation (such as regression or classification) or for exploratory data analysis in which one is trying to discover structure that may be obscured by noise.\n",
    " </p>\n",
    "</div>"
   ]
  },
  {
   "cell_type": "markdown",
   "metadata": {},
   "source": [
    "<div style=\"border-left: 3px solid #000; padding: 1px; padding-left: 10px; background: #F0FAFF; \">\n",
    "<p>\n",
    "As before, we will use `sckit-learn` to perform `Principal Components Analysis`, first on some toy data, and then on some data from the Behavior recordings.  The interface will be the same for other algorithms in `scikit-learn`.\n",
    "</p>\n",
    "</div>"
   ]
  },
  {
   "cell_type": "markdown",
   "metadata": {},
   "source": [
    "Let's start with some toy data"
   ]
  },
  {
   "cell_type": "code",
   "execution_count": 40,
   "metadata": {},
   "outputs": [
    {
     "data": {
      "text/plain": [
       "[<matplotlib.lines.Line2D at 0x7fb37b3a38d0>]"
      ]
     },
     "execution_count": 40,
     "metadata": {},
     "output_type": "execute_result"
    },
    {
     "data": {
      "image/png": "[encoded data removed]",
      "text/plain": [
       "<Figure size 432x288 with 1 Axes>"
      ]
     },
     "metadata": {},
     "output_type": "display_data"
    }
   ],
   "source": [
    "#generate some random 2 dimnesional data\n",
    "np.random.seed(1)\n",
    "X = np.dot(np.random.random(size=(2, 2)), np.random.normal(size=(2, 200))).T\n",
    "\n",
    "#plot random data\n",
    "plt.plot(X[:, 0], X[:, 1], 'o')\n"
   ]
  },
  {
   "cell_type": "code",
   "execution_count": 41,
   "metadata": {},
   "outputs": [
    {
     "data": {
      "text/plain": [
       "(200, 2)"
      ]
     },
     "execution_count": 41,
     "metadata": {},
     "output_type": "execute_result"
    }
   ],
   "source": [
    "X.shape"
   ]
  },
  {
   "cell_type": "code",
   "execution_count": 42,
   "metadata": {},
   "outputs": [],
   "source": [
    "A = (1.0/X.shape[0])*np.dot(X.T, X)"
   ]
  },
  {
   "cell_type": "code",
   "execution_count": 43,
   "metadata": {},
   "outputs": [
    {
     "data": {
      "text/plain": [
       "array([[ 0.67988975,  0.22964332],\n",
       "       [ 0.22964332,  0.09835428]])"
      ]
     },
     "execution_count": 43,
     "metadata": {},
     "output_type": "execute_result"
    }
   ],
   "source": [
    "A"
   ]
  },
  {
   "cell_type": "code",
   "execution_count": 44,
   "metadata": {},
   "outputs": [],
   "source": [
    "evalues, evectors = np.linalg.eig(A)"
   ]
  },
  {
   "cell_type": "code",
   "execution_count": 45,
   "metadata": {},
   "outputs": [
    {
     "data": {
      "text/plain": [
       "array([ 0.75963778,  0.01860626])"
      ]
     },
     "execution_count": 45,
     "metadata": {},
     "output_type": "execute_result"
    }
   ],
   "source": [
    "evalues"
   ]
  },
  {
   "cell_type": "code",
   "execution_count": 46,
   "metadata": {},
   "outputs": [
    {
     "data": {
      "text/plain": [
       "array([[ 0.94465994, -0.3280512 ],\n",
       "       [ 0.3280512 ,  0.94465994]])"
      ]
     },
     "execution_count": 46,
     "metadata": {},
     "output_type": "execute_result"
    }
   ],
   "source": [
    "evectors"
   ]
  },
  {
   "cell_type": "code",
   "execution_count": 49,
   "metadata": {},
   "outputs": [
    {
     "data": {
      "text/plain": [
       "(-3, 3)"
      ]
     },
     "execution_count": 49,
     "metadata": {},
     "output_type": "execute_result"
    },
    {
     "data": {
      "image/png": "[encoded data removed]",
      "text/plain": [
       "<Figure size 360x360 with 1 Axes>"
      ]
     },
     "metadata": {},
     "output_type": "display_data"
    }
   ],
   "source": [
    "fig, ax = plt.subplots(figsize=(5,5))\n",
    "\n",
    "ax.plot(X[:, 0], X[:, 1], 'o')\n",
    "for a,v in zip(evalues, evectors.T):\n",
    "    ax.plot([0, 3.*np.sqrt(a)*v[0]], [0, 3.*np.sqrt(a)*v[1]], '-k', lw=3)\n",
    "\n",
    "ax.set_ylim(-3,3)\n",
    "ax.set_xlim(-3,3)"
   ]
  },
  {
   "cell_type": "markdown",
   "metadata": {},
   "source": [
    "<div style=\"border-left: 3px solid #000; padding: 1px; padding-left: 10px; background: #F0FAFF; \">\n",
    "<p>\n",
    "PCA is an orthogonal coordinate system transformation that prioritizes maximum variance."
   ]
  },
  {
   "cell_type": "markdown",
   "metadata": {},
   "source": [
    "Project the values onto the first principal component"
   ]
  },
  {
   "cell_type": "code",
   "execution_count": 62,
   "metadata": {},
   "outputs": [],
   "source": [
    "X_proj_1 = np.dot(X, evectors.T[0])\n",
    "X_proj_2 = np.dot(X, evectors.T[1])"
   ]
  },
  {
   "cell_type": "code",
   "execution_count": 124,
   "metadata": {},
   "outputs": [
    {
     "data": {
      "text/plain": [
       "Text(0,0.5,'Second principal component')"
      ]
     },
     "execution_count": 124,
     "metadata": {},
     "output_type": "execute_result"
    },
    {
     "data": {
      "image/png": "[encoded data removed]",
      "text/plain": [
       "<Figure size 432x288 with 1 Axes>"
      ]
     },
     "metadata": {},
     "output_type": "display_data"
    }
   ],
   "source": [
    "plt.plot(X_proj_1, X_proj_2, 'o')\n",
    "plt.xlabel(\"First principal component\", fontsize=14)\n",
    "plt.ylabel(\"Second principal component\", fontsize=14)\n",
    "# plt.axis('equal')"
   ]
  },
  {
   "cell_type": "markdown",
   "metadata": {},
   "source": [
    "<div style=\"border-left: 3px solid #000; padding: 1px; padding-left: 10px; background: #F0FAFF; \">\n",
    "<p>\n",
    "\n",
    "### Now let's use sklearn."
   ]
  },
  {
   "cell_type": "code",
   "execution_count": 24,
   "metadata": {},
   "outputs": [],
   "source": [
    "from sklearn.decomposition import PCA"
   ]
  },
  {
   "cell_type": "code",
   "execution_count": 25,
   "metadata": {},
   "outputs": [
    {
     "data": {
      "text/plain": [
       "PCA(copy=True, iterated_power='auto', n_components=2, random_state=None,\n",
       "  svd_solver='auto', tol=0.0, whiten=False)"
      ]
     },
     "execution_count": 25,
     "metadata": {},
     "output_type": "execute_result"
    }
   ],
   "source": [
    "pca = PCA(n_components=2)\n",
    "pca.fit(X)"
   ]
  },
  {
   "cell_type": "code",
   "execution_count": 26,
   "metadata": {},
   "outputs": [
    {
     "data": {
      "text/plain": [
       "array([ 0.7625315,  0.0184779])"
      ]
     },
     "execution_count": 26,
     "metadata": {},
     "output_type": "execute_result"
    }
   ],
   "source": [
    "pca.explained_variance_"
   ]
  },
  {
   "cell_type": "code",
   "execution_count": 27,
   "metadata": {},
   "outputs": [
    {
     "data": {
      "text/plain": [
       "array([ 0.97634101,  0.02365899])"
      ]
     },
     "execution_count": 27,
     "metadata": {},
     "output_type": "execute_result"
    }
   ],
   "source": [
    "pca.explained_variance_ratio_"
   ]
  },
  {
   "cell_type": "code",
   "execution_count": 28,
   "metadata": {},
   "outputs": [
    {
     "data": {
      "text/plain": [
       "array([[-0.94446029, -0.32862557],\n",
       "       [-0.32862557,  0.94446029]])"
      ]
     },
     "execution_count": 28,
     "metadata": {},
     "output_type": "execute_result"
    }
   ],
   "source": [
    "pca.components_"
   ]
  },
  {
   "cell_type": "markdown",
   "metadata": {},
   "source": [
    "These components are the same as the eigenvectors we computed above:"
   ]
  },
  {
   "cell_type": "code",
   "execution_count": 29,
   "metadata": {},
   "outputs": [
    {
     "data": {
      "text/plain": [
       "array([[ 0.94465994, -0.3280512 ],\n",
       "       [ 0.3280512 ,  0.94465994]])"
      ]
     },
     "execution_count": 29,
     "metadata": {},
     "output_type": "execute_result"
    }
   ],
   "source": [
    "evectors"
   ]
  },
  {
   "cell_type": "code",
   "execution_count": 66,
   "metadata": {},
   "outputs": [
    {
     "data": {
      "text/plain": [
       "(-3, 3)"
      ]
     },
     "execution_count": 66,
     "metadata": {},
     "output_type": "execute_result"
    },
    {
     "data": {
      "image/png": "[encoded data removed]",
      "text/plain": [
       "<Figure size 360x360 with 1 Axes>"
      ]
     },
     "metadata": {},
     "output_type": "display_data"
    }
   ],
   "source": [
    "fig, ax = plt.subplots(figsize=(5,5))\n",
    "\n",
    "ax.plot(X[:, 0], X[:, 1], 'o')\n",
    "for length, vector in zip(pca.explained_variance_, pca.components_):\n",
    "    v = vector * 3 * np.sqrt(length)\n",
    "    ax.plot([0, v[0]], [0, v[1]], '-k', lw=3)\n",
    "\n",
    "ax.set_ylim(-3,3)\n",
    "ax.set_xlim(-3,3)"
   ]
  },
  {
   "cell_type": "markdown",
   "metadata": {},
   "source": [
    "### Now let's look at the data projected onto the transforms"
   ]
  },
  {
   "cell_type": "code",
   "execution_count": 31,
   "metadata": {},
   "outputs": [],
   "source": [
    "X_project = pca.fit_transform(X)"
   ]
  },
  {
   "cell_type": "code",
   "execution_count": 32,
   "metadata": {},
   "outputs": [],
   "source": [
    "X_project = pca.transform(X)"
   ]
  },
  {
   "cell_type": "code",
   "execution_count": 125,
   "metadata": {},
   "outputs": [
    {
     "data": {
      "text/plain": [
       "Text(0,0.5,'Second principal component')"
      ]
     },
     "execution_count": 125,
     "metadata": {},
     "output_type": "execute_result"
    },
    {
     "data": {
      "image/png": "[encoded data removed]",
      "text/plain": [
       "<Figure size 432x288 with 1 Axes>"
      ]
     },
     "metadata": {},
     "output_type": "display_data"
    }
   ],
   "source": [
    "plt.plot(X_project[:,0], X_project[:,1], 'o')\n",
    "plt.xlabel(\"First principal component\", fontsize=14)\n",
    "plt.ylabel(\"Second principal component\", fontsize=14)\n",
    "# plt.axis('equal')"
   ]
  },
  {
   "cell_type": "markdown",
   "metadata": {},
   "source": [
    "<div style=\"border-left: 3px solid #000; padding: 1px; padding-left: 10px; background: #F0FAFF; \">\n",
    "<p>\n",
    "\n",
    "## Let's try this with some real data form the Visual Behavior dataset."
   ]
  },
  {
   "cell_type": "code",
   "execution_count": 76,
   "metadata": {},
   "outputs": [],
   "source": [
    "#make sure your drive path is correct! \n",
    "# macOS/OS X\n",
    "# drive_path = '/Volumes/Brain2018/visual_behavior/'\n",
    "\n",
    "# Windows (a good guess)\n",
    "# drive_path = 'e:/visual_behavior'\n",
    "\n",
    "# Linux (will vary; the following is possibly what Ubuntu will do)\n",
    "# drive_path = '/media/Brain2018/visual_behavior'\n",
    "\n",
    "# AWS\n",
    "drive_path = '/data/dynamic-brain-workshop/visual_behavior'"
   ]
  },
  {
   "cell_type": "code",
   "execution_count": 77,
   "metadata": {},
   "outputs": [],
   "source": [
    "manifest_file = 'visual_behavior_data_manifest.csv'\n",
    "manifest = pd.read_csv(os.path.join(drive_path,manifest_file))"
   ]
  },
  {
   "cell_type": "code",
   "execution_count": 78,
   "metadata": {},
   "outputs": [],
   "source": [
    "# import visual behavior dataset class from the visual_behavior package\n",
    "from visual_behavior.ophys.dataset.visual_behavior_ophys_dataset import VisualBehaviorOphysDataset\n",
    "from visual_behavior.ophys.response_analysis.response_analysis import ResponseAnalysis "
   ]
  },
  {
   "cell_type": "code",
   "execution_count": 79,
   "metadata": {},
   "outputs": [],
   "source": [
    "experiment_id = 716337289"
   ]
  },
  {
   "cell_type": "code",
   "execution_count": 80,
   "metadata": {},
   "outputs": [
    {
     "name": "stdout",
     "output_type": "stream",
     "text": [
      "loading trial response dataframe\n",
      "loading flash response dataframe\n",
      "loading trial response dataframe\n"
     ]
    }
   ],
   "source": [
    "dataset= VisualBehaviorOphysDataset(experiment_id, cache_dir=drive_path)\n",
    "analysis = ResponseAnalysis(dataset)\n",
    "trial_response_df = analysis.get_trial_response_df()"
   ]
  },
  {
   "cell_type": "code",
   "execution_count": 81,
   "metadata": {},
   "outputs": [
    {
     "data": {
      "text/html": [
       "<div>\n",
       "<style scoped>\n",
       "    .dataframe tbody tr th:only-of-type {\n",
       "        vertical-align: middle;\n",
       "    }\n",
       "\n",
       "    .dataframe tbody tr th {\n",
       "        vertical-align: top;\n",
       "    }\n",
       "\n",
       "    .dataframe thead th {\n",
       "        text-align: right;\n",
       "    }\n",
       "</style>\n",
       "<table border=\"1\" class=\"dataframe\">\n",
       "  <thead>\n",
       "    <tr style=\"text-align: right;\">\n",
       "      <th></th>\n",
       "      <th>trial</th>\n",
       "      <th>cell</th>\n",
       "      <th>cell_specimen_id</th>\n",
       "      <th>trace</th>\n",
       "      <th>timestamps</th>\n",
       "      <th>mean_response</th>\n",
       "      <th>baseline_response</th>\n",
       "      <th>p_value</th>\n",
       "      <th>sd_over_baseline</th>\n",
       "      <th>running_speed_trace</th>\n",
       "      <th>...</th>\n",
       "      <th>behavioral_response_latency</th>\n",
       "      <th>rewarded</th>\n",
       "      <th>reward_times</th>\n",
       "      <th>reward_volume</th>\n",
       "      <th>reward_rate</th>\n",
       "      <th>start_time</th>\n",
       "      <th>end_time</th>\n",
       "      <th>trial_length</th>\n",
       "      <th>mouse_id</th>\n",
       "      <th>start_date_time</th>\n",
       "    </tr>\n",
       "  </thead>\n",
       "  <tbody>\n",
       "    <tr>\n",
       "      <th>0</th>\n",
       "      <td>0</td>\n",
       "      <td>0</td>\n",
       "      <td>716381561</td>\n",
       "      <td>[0.0454833687078, 0.000236799725301, 0.0632461...</td>\n",
       "      <td>[242.37208, 242.40438, 242.43667, 242.46897, 2...</td>\n",
       "      <td>0.018197</td>\n",
       "      <td>0.032951</td>\n",
       "      <td>0.488493</td>\n",
       "      <td>0.286458</td>\n",
       "      <td>[27.9601107765, 28.1828341376, 28.3216493407, ...</td>\n",
       "      <td>...</td>\n",
       "      <td>0.41699</td>\n",
       "      <td>True</td>\n",
       "      <td>[246.79134]</td>\n",
       "      <td>0.007</td>\n",
       "      <td>2.578538</td>\n",
       "      <td>243.35525</td>\n",
       "      <td>251.61192</td>\n",
       "      <td>8.256983</td>\n",
       "      <td>M384942</td>\n",
       "      <td>2018-06-29 14:48:27.249000-07:00</td>\n",
       "    </tr>\n",
       "    <tr>\n",
       "      <th>1</th>\n",
       "      <td>0</td>\n",
       "      <td>1</td>\n",
       "      <td>716381565</td>\n",
       "      <td>[0.0979568465676, -0.0433544193646, 0.07921420...</td>\n",
       "      <td>[242.37208, 242.40438, 242.43667, 242.46897, 2...</td>\n",
       "      <td>-0.002507</td>\n",
       "      <td>0.015504</td>\n",
       "      <td>0.168091</td>\n",
       "      <td>-0.069637</td>\n",
       "      <td>[27.9601107765, 28.1828341376, 28.3216493407, ...</td>\n",
       "      <td>...</td>\n",
       "      <td>0.41699</td>\n",
       "      <td>True</td>\n",
       "      <td>[246.79134]</td>\n",
       "      <td>0.007</td>\n",
       "      <td>2.578538</td>\n",
       "      <td>243.35525</td>\n",
       "      <td>251.61192</td>\n",
       "      <td>8.256983</td>\n",
       "      <td>M384942</td>\n",
       "      <td>2018-06-29 14:48:27.249000-07:00</td>\n",
       "    </tr>\n",
       "    <tr>\n",
       "      <th>2</th>\n",
       "      <td>0</td>\n",
       "      <td>2</td>\n",
       "      <td>716381567</td>\n",
       "      <td>[0.0999287912418, -0.00476247723306, -0.011382...</td>\n",
       "      <td>[242.37208, 242.40438, 242.43667, 242.46897, 2...</td>\n",
       "      <td>0.003900</td>\n",
       "      <td>0.020132</td>\n",
       "      <td>0.279329</td>\n",
       "      <td>0.079650</td>\n",
       "      <td>[27.9601107765, 28.1828341376, 28.3216493407, ...</td>\n",
       "      <td>...</td>\n",
       "      <td>0.41699</td>\n",
       "      <td>True</td>\n",
       "      <td>[246.79134]</td>\n",
       "      <td>0.007</td>\n",
       "      <td>2.578538</td>\n",
       "      <td>243.35525</td>\n",
       "      <td>251.61192</td>\n",
       "      <td>8.256983</td>\n",
       "      <td>M384942</td>\n",
       "      <td>2018-06-29 14:48:27.249000-07:00</td>\n",
       "    </tr>\n",
       "    <tr>\n",
       "      <th>3</th>\n",
       "      <td>0</td>\n",
       "      <td>3</td>\n",
       "      <td>716381569</td>\n",
       "      <td>[0.0655943992386, 0.0200021434153, -0.04071441...</td>\n",
       "      <td>[242.37208, 242.40438, 242.43667, 242.46897, 2...</td>\n",
       "      <td>-0.011228</td>\n",
       "      <td>-0.036653</td>\n",
       "      <td>0.153940</td>\n",
       "      <td>-0.240420</td>\n",
       "      <td>[27.9601107765, 28.1828341376, 28.3216493407, ...</td>\n",
       "      <td>...</td>\n",
       "      <td>0.41699</td>\n",
       "      <td>True</td>\n",
       "      <td>[246.79134]</td>\n",
       "      <td>0.007</td>\n",
       "      <td>2.578538</td>\n",
       "      <td>243.35525</td>\n",
       "      <td>251.61192</td>\n",
       "      <td>8.256983</td>\n",
       "      <td>M384942</td>\n",
       "      <td>2018-06-29 14:48:27.249000-07:00</td>\n",
       "    </tr>\n",
       "    <tr>\n",
       "      <th>4</th>\n",
       "      <td>0</td>\n",
       "      <td>4</td>\n",
       "      <td>716381571</td>\n",
       "      <td>[-0.0343720772858, 0.0181534799909, -0.0043600...</td>\n",
       "      <td>[242.37208, 242.40438, 242.43667, 242.46897, 2...</td>\n",
       "      <td>0.062532</td>\n",
       "      <td>-0.003773</td>\n",
       "      <td>0.003509</td>\n",
       "      <td>1.898987</td>\n",
       "      <td>[27.9601107765, 28.1828341376, 28.3216493407, ...</td>\n",
       "      <td>...</td>\n",
       "      <td>0.41699</td>\n",
       "      <td>True</td>\n",
       "      <td>[246.79134]</td>\n",
       "      <td>0.007</td>\n",
       "      <td>2.578538</td>\n",
       "      <td>243.35525</td>\n",
       "      <td>251.61192</td>\n",
       "      <td>8.256983</td>\n",
       "      <td>M384942</td>\n",
       "      <td>2018-06-29 14:48:27.249000-07:00</td>\n",
       "    </tr>\n",
       "  </tbody>\n",
       "</table>\n",
       "<p>5 rows × 31 columns</p>\n",
       "</div>"
      ],
      "text/plain": [
       "   trial  cell  cell_specimen_id  \\\n",
       "0      0     0         716381561   \n",
       "1      0     1         716381565   \n",
       "2      0     2         716381567   \n",
       "3      0     3         716381569   \n",
       "4      0     4         716381571   \n",
       "\n",
       "                                               trace  \\\n",
       "0  [0.0454833687078, 0.000236799725301, 0.0632461...   \n",
       "1  [0.0979568465676, -0.0433544193646, 0.07921420...   \n",
       "2  [0.0999287912418, -0.00476247723306, -0.011382...   \n",
       "3  [0.0655943992386, 0.0200021434153, -0.04071441...   \n",
       "4  [-0.0343720772858, 0.0181534799909, -0.0043600...   \n",
       "\n",
       "                                          timestamps  mean_response  \\\n",
       "0  [242.37208, 242.40438, 242.43667, 242.46897, 2...       0.018197   \n",
       "1  [242.37208, 242.40438, 242.43667, 242.46897, 2...      -0.002507   \n",
       "2  [242.37208, 242.40438, 242.43667, 242.46897, 2...       0.003900   \n",
       "3  [242.37208, 242.40438, 242.43667, 242.46897, 2...      -0.011228   \n",
       "4  [242.37208, 242.40438, 242.43667, 242.46897, 2...       0.062532   \n",
       "\n",
       "   baseline_response   p_value  sd_over_baseline  \\\n",
       "0           0.032951  0.488493          0.286458   \n",
       "1           0.015504  0.168091         -0.069637   \n",
       "2           0.020132  0.279329          0.079650   \n",
       "3          -0.036653  0.153940         -0.240420   \n",
       "4          -0.003773  0.003509          1.898987   \n",
       "\n",
       "                                 running_speed_trace  \\\n",
       "0  [27.9601107765, 28.1828341376, 28.3216493407, ...   \n",
       "1  [27.9601107765, 28.1828341376, 28.3216493407, ...   \n",
       "2  [27.9601107765, 28.1828341376, 28.3216493407, ...   \n",
       "3  [27.9601107765, 28.1828341376, 28.3216493407, ...   \n",
       "4  [27.9601107765, 28.1828341376, 28.3216493407, ...   \n",
       "\n",
       "                 ...                behavioral_response_latency  rewarded  \\\n",
       "0                ...                                    0.41699      True   \n",
       "1                ...                                    0.41699      True   \n",
       "2                ...                                    0.41699      True   \n",
       "3                ...                                    0.41699      True   \n",
       "4                ...                                    0.41699      True   \n",
       "\n",
       "   reward_times reward_volume reward_rate start_time   end_time  trial_length  \\\n",
       "0   [246.79134]         0.007    2.578538  243.35525  251.61192      8.256983   \n",
       "1   [246.79134]         0.007    2.578538  243.35525  251.61192      8.256983   \n",
       "2   [246.79134]         0.007    2.578538  243.35525  251.61192      8.256983   \n",
       "3   [246.79134]         0.007    2.578538  243.35525  251.61192      8.256983   \n",
       "4   [246.79134]         0.007    2.578538  243.35525  251.61192      8.256983   \n",
       "\n",
       "  mouse_id                   start_date_time  \n",
       "0  M384942  2018-06-29 14:48:27.249000-07:00  \n",
       "1  M384942  2018-06-29 14:48:27.249000-07:00  \n",
       "2  M384942  2018-06-29 14:48:27.249000-07:00  \n",
       "3  M384942  2018-06-29 14:48:27.249000-07:00  \n",
       "4  M384942  2018-06-29 14:48:27.249000-07:00  \n",
       "\n",
       "[5 rows x 31 columns]"
      ]
     },
     "execution_count": 81,
     "metadata": {},
     "output_type": "execute_result"
    }
   ],
   "source": [
    "trial_response_df.head()"
   ]
  },
  {
   "cell_type": "markdown",
   "metadata": {},
   "source": [
    "<div style=\"border-left: 3px solid #000; padding: 1px; padding-left: 10px; background: #F0FAFF; \">\n",
    "<p>\n",
    "\n",
    "A key step in using PCA is the getting data into the right shape. We want to create an array of the population's responses to each trial, with dimensions of trials X cells.  The trial_response dataframe has a row for each cell for each trial, so there's going to be a little repackaging of the data to do before we can throw this into sklearn."
   ]
  },
  {
   "cell_type": "code",
   "execution_count": 82,
   "metadata": {},
   "outputs": [
    {
     "name": "stdout",
     "output_type": "stream",
     "text": [
      "209\n"
     ]
    }
   ],
   "source": [
    "num_trials = len(trial_response_df.trial.unique())\n",
    "print num_trials"
   ]
  },
  {
   "cell_type": "code",
   "execution_count": 83,
   "metadata": {},
   "outputs": [
    {
     "name": "stdout",
     "output_type": "stream",
     "text": [
      "125\n"
     ]
    }
   ],
   "source": [
    "num_cells = len(trial_response_df.cell.unique())\n",
    "print num_cells"
   ]
  },
  {
   "cell_type": "code",
   "execution_count": 84,
   "metadata": {},
   "outputs": [],
   "source": [
    "response_array = np.empty((num_trials,num_cells))\n",
    "for i in range(num_trials):\n",
    "    response_array[i,:] = trial_response_df[trial_response_df.trial==i].mean_response.values"
   ]
  },
  {
   "cell_type": "code",
   "execution_count": 92,
   "metadata": {},
   "outputs": [
    {
     "data": {
      "text/plain": [
       "(209, 125)"
      ]
     },
     "execution_count": 92,
     "metadata": {},
     "output_type": "execute_result"
    }
   ],
   "source": [
    "response_array.shape"
   ]
  },
  {
   "cell_type": "code",
   "execution_count": 114,
   "metadata": {},
   "outputs": [
    {
     "data": {
      "text/plain": [
       "Text(0,0.5,'Trials')"
      ]
     },
     "execution_count": 114,
     "metadata": {},
     "output_type": "execute_result"
    },
    {
     "data": {
      "image/png": "[encoded data removed]",
      "text/plain": [
       "<Figure size 432x288 with 1 Axes>"
      ]
     },
     "metadata": {},
     "output_type": "display_data"
    }
   ],
   "source": [
    "plt.imshow(response_array)\n",
    "plt.xlabel(\"Cells\", fontsize=14)\n",
    "plt.ylabel(\"Trials\", fontsize=14)"
   ]
  },
  {
   "cell_type": "markdown",
   "metadata": {},
   "source": [
    "Before running PCA, we must zero-mean the data"
   ]
  },
  {
   "cell_type": "code",
   "execution_count": 126,
   "metadata": {},
   "outputs": [],
   "source": [
    "response_array -= response_array.mean()"
   ]
  },
  {
   "cell_type": "markdown",
   "metadata": {},
   "source": [
    "<div style=\"border-left: 3px solid #000; padding: 1px; padding-left: 10px; background: #F0FAFF; \">\n",
    "<p>\n",
    "## How many components do we need?\n",
    "Let's start getting a lot and then see which was are most informative"
   ]
  },
  {
   "cell_type": "code",
   "execution_count": 94,
   "metadata": {},
   "outputs": [],
   "source": [
    "pca = PCA(n_components=20)"
   ]
  },
  {
   "cell_type": "code",
   "execution_count": 127,
   "metadata": {},
   "outputs": [
    {
     "data": {
      "text/plain": [
       "PCA(copy=True, iterated_power='auto', n_components=20, random_state=None,\n",
       "  svd_solver='auto', tol=0.0, whiten=False)"
      ]
     },
     "execution_count": 127,
     "metadata": {},
     "output_type": "execute_result"
    }
   ],
   "source": [
    "pca.fit(response_array)"
   ]
  },
  {
   "cell_type": "code",
   "execution_count": 128,
   "metadata": {},
   "outputs": [
    {
     "data": {
      "text/plain": [
       "(20, 125)"
      ]
     },
     "execution_count": 128,
     "metadata": {},
     "output_type": "execute_result"
    }
   ],
   "source": [
    "pca.components_.shape"
   ]
  },
  {
   "cell_type": "code",
   "execution_count": 129,
   "metadata": {},
   "outputs": [
    {
     "data": {
      "text/plain": [
       "Text(0,0.5,'Explained variance ratio')"
      ]
     },
     "execution_count": 129,
     "metadata": {},
     "output_type": "execute_result"
    },
    {
     "data": {
      "image/png": "[encoded data removed]",
      "text/plain": [
       "<Figure size 432x288 with 1 Axes>"
      ]
     },
     "metadata": {},
     "output_type": "display_data"
    }
   ],
   "source": [
    "plt.plot(pca.explained_variance_ratio_, '.')\n",
    "plt.xlabel(\"Component #\", fontsize=14)\n",
    "plt.ylabel(\"Explained variance ratio\", fontsize=14)"
   ]
  },
  {
   "cell_type": "markdown",
   "metadata": {},
   "source": [
    "<div style=\"border-left: 3px solid #000; padding: 1px; padding-left: 10px; background: #F0FAFF; \">\n",
    "<p>\n",
    "Let's visualize these data projected onto the first two components"
   ]
  },
  {
   "cell_type": "code",
   "execution_count": 130,
   "metadata": {},
   "outputs": [],
   "source": [
    "response_reduced = pca.fit_transform(response_array)"
   ]
  },
  {
   "cell_type": "code",
   "execution_count": 131,
   "metadata": {},
   "outputs": [
    {
     "data": {
      "text/plain": [
       "(209, 20)"
      ]
     },
     "execution_count": 131,
     "metadata": {},
     "output_type": "execute_result"
    }
   ],
   "source": [
    "response_reduced.shape"
   ]
  },
  {
   "cell_type": "code",
   "execution_count": 132,
   "metadata": {},
   "outputs": [
    {
     "data": {
      "text/plain": [
       "Text(0,0.5,'Second principal component')"
      ]
     },
     "execution_count": 132,
     "metadata": {},
     "output_type": "execute_result"
    },
    {
     "data": {
      "image/png": "[encoded data removed]",
      "text/plain": [
       "<Figure size 432x288 with 1 Axes>"
      ]
     },
     "metadata": {},
     "output_type": "display_data"
    }
   ],
   "source": [
    "plt.plot(response_reduced[:,0], response_reduced[:,1], '.')\n",
    "plt.xlabel(\"First principal component\", fontsize=14)\n",
    "plt.ylabel(\"Second principal component\", fontsize=14)"
   ]
  },
  {
   "cell_type": "markdown",
   "metadata": {},
   "source": [
    "<div style=\"border-left: 3px solid #000; padding: 1px; padding-left: 10px; background: #F0FAFF; \">\n",
    "<p>\n",
    "### What are the two components that explain most of the variance?"
   ]
  },
  {
   "cell_type": "code",
   "execution_count": 133,
   "metadata": {},
   "outputs": [
    {
     "data": {
      "text/plain": [
       "Text(0.5,0,'Cell #')"
      ]
     },
     "execution_count": 133,
     "metadata": {},
     "output_type": "execute_result"
    },
    {
     "data": {
      "image/png": "[encoded data removed]",
      "text/plain": [
       "<Figure size 432x288 with 1 Axes>"
      ]
     },
     "metadata": {},
     "output_type": "display_data"
    }
   ],
   "source": [
    "plt.plot(pca.components_[0])\n",
    "plt.xlabel(\"Cell #\", fontsize=14)"
   ]
  },
  {
   "cell_type": "code",
   "execution_count": 134,
   "metadata": {},
   "outputs": [
    {
     "data": {
      "text/plain": [
       "Text(0.5,0,'Cell #')"
      ]
     },
     "execution_count": 134,
     "metadata": {},
     "output_type": "execute_result"
    },
    {
     "data": {
      "image/png": "[encoded data removed]",
      "text/plain": [
       "<Figure size 432x288 with 1 Axes>"
      ]
     },
     "metadata": {},
     "output_type": "display_data"
    }
   ],
   "source": [
    "plt.plot(pca.components_[1])\n",
    "plt.xlabel(\"Cell #\", fontsize=14)"
   ]
  },
  {
   "cell_type": "markdown",
   "metadata": {},
   "source": [
    "This suggests that there are a small number of cells that are more informative than the rest."
   ]
  },
  {
   "cell_type": "markdown",
   "metadata": {},
   "source": [
    "<div style=\"border-left: 3px solid #000; padding: 1px; padding-left: 10px; background: #F0FAFF; \">\n",
    "<p>\n",
    "What do these two \"wings\" correspond to? Plot the projected data, and label each trial according to the image that was presented."
   ]
  },
  {
   "cell_type": "code",
   "execution_count": 135,
   "metadata": {},
   "outputs": [
    {
     "data": {
      "text/plain": [
       "Text(0,0.5,'Second principal component')"
      ]
     },
     "execution_count": 135,
     "metadata": {},
     "output_type": "execute_result"
    },
    {
     "data": {
      "image/png": "[encoded data removed]",
      "text/plain": [
       "<Figure size 432x288 with 1 Axes>"
      ]
     },
     "metadata": {},
     "output_type": "display_data"
    }
   ],
   "source": [
    "images = trial_response_df.change_image_name.unique()\n",
    "for a in images:\n",
    "    inds = trial_response_df[trial_response_df.change_image_name==a].trial.unique()\n",
    "    plt.plot(response_reduced[inds,0], response_reduced[inds,1], '.', markersize=8)\n",
    "plt.xlabel(\"First principal component\", fontsize=14)\n",
    "plt.ylabel(\"Second principal component\", fontsize=14)"
   ]
  },
  {
   "cell_type": "code",
   "execution_count": null,
   "metadata": {},
   "outputs": [],
   "source": []
  }
 ],
 "metadata": {
  "kernelspec": {
   "display_name": "Python 3",
   "language": "python",
   "name": "python3"
  },
  "language_info": {
   "codemirror_mode": {
    "name": "ipython",
    "version": 3
   },
   "file_extension": ".py",
   "mimetype": "text/x-python",
   "name": "python",
   "nbconvert_exporter": "python",
   "pygments_lexer": "ipython3",
   "version": "3.7.1"
  }
 },
 "nbformat": 4,
 "nbformat_minor": 2
}
