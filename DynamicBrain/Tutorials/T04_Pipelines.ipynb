{
 "cells": [
  {
   "cell_type": "markdown",
   "metadata": {},
   "source": [
    "<img src=\"../../resources/cropped-SummerWorkshop_Header.png\">  \n",
    "\n",
    "<h1 align=\"center\">Pipeline Tutorial SWDB 2018 </h1> \n",
    "<h3 align=\"center\">Wednesday, August 29, 2018</h3> "
   ]
  },
  {
   "cell_type": "markdown",
   "metadata": {},
   "source": [
    "# Feature engineering & model selection with Scikit-Learn pipelines\n",
    "\n",
    "In this tutorial, you will learn\n",
    "\n",
    "- How to use the AllenSDK to extract population response vectors from Natural Scenes\n",
    "- How to use scikit-learn \"Pipeline\" to chain together multiple steps in a decoding analysis\n",
    "- How to cross-validate your pipeline\n",
    "- How to search hyperparameters to optimize your model\n",
    "\n",
    "This tutorial is going to work through building a model to decode the identity of natural scenes from the population activty of neurons in an experiment from the Allen Brain Observatory.\n",
    "\n",
    "Let's get started.\n",
    "\n",
    "First, we are going to import the `BrainObservatoryCache` from the allensdk."
   ]
  },
  {
   "cell_type": "code",
   "execution_count": 1,
   "metadata": {},
   "outputs": [],
   "source": [
    "from __future__ import print_function\n",
    "from allensdk.core.brain_observatory_cache import BrainObservatoryCache\n",
    "\n",
    "boc = BrainObservatoryCache()"
   ]
  },
  {
   "cell_type": "markdown",
   "metadata": {},
   "source": [
    "Next, we will load up a single experiment with Natural Scenes"
   ]
  },
  {
   "cell_type": "code",
   "execution_count": 2,
   "metadata": {},
   "outputs": [
    {
     "name": "stdout",
     "output_type": "stream",
     "text": [
      "VISp\n",
      "350\n",
      "Scnn1a-Tg3-Cre/wt\n"
     ]
    }
   ],
   "source": [
    "experiment_id = 541206592\n",
    "dataset = boc.get_ophys_experiment_data(experiment_id)\n",
    "metadata = dataset.get_metadata()\n",
    "print(metadata['targeted_structure'])\n",
    "print(metadata['imaging_depth_um'])\n",
    "print(metadata['cre_line'])"
   ]
  },
  {
   "cell_type": "markdown",
   "metadata": {},
   "source": [
    "To decode the identity of individual image presentations from the population activity, we need the following\n",
    "\n",
    "- `y` - vector of integers, where each integer corresponds to a natural scene\n",
    "- `X` - array of floats, where each column is the activity of a single neuron in response to a given natural scene presentation. Each row of this array is often called a \"population vector\"\n",
    "\n",
    "The process of getting to `X` from raw data (in this case, the continuous activity of a population of neurons) is known as \"feature engineering\". This involves multiple decisions, including whether to use dF/F or inferred spike events, whether to take the mean or peak of the response (or other metrics), and over what window relative to events to compute these metrics.\n",
    "\n",
    "For this tutorial, we will take advantage of the `NaturalScenes` object in the AllenSDK to make these decisions for us."
   ]
  },
  {
   "cell_type": "code",
   "execution_count": 3,
   "metadata": {},
   "outputs": [],
   "source": [
    "from allensdk.brain_observatory.natural_scenes import NaturalScenes\n",
    "ns = NaturalScenes(dataset)"
   ]
  },
  {
   "cell_type": "markdown",
   "metadata": {},
   "source": [
    "### Getting \"y\" from the natural scenes stim_table\n",
    "\n",
    "Each image presentation occupies a row in the `.stim_table` attribute of the `NaturalScenes` object"
   ]
  },
  {
   "cell_type": "code",
   "execution_count": 4,
   "metadata": {},
   "outputs": [
    {
     "data": {
      "text/html": [
       "<div>\n",
       "<style scoped>\n",
       "    .dataframe tbody tr th:only-of-type {\n",
       "        vertical-align: middle;\n",
       "    }\n",
       "\n",
       "    .dataframe tbody tr th {\n",
       "        vertical-align: top;\n",
       "    }\n",
       "\n",
       "    .dataframe thead th {\n",
       "        text-align: right;\n",
       "    }\n",
       "</style>\n",
       "<table border=\"1\" class=\"dataframe\">\n",
       "  <thead>\n",
       "    <tr style=\"text-align: right;\">\n",
       "      <th></th>\n",
       "      <th>frame</th>\n",
       "      <th>start</th>\n",
       "      <th>end</th>\n",
       "    </tr>\n",
       "  </thead>\n",
       "  <tbody>\n",
       "    <tr>\n",
       "      <th>0</th>\n",
       "      <td>92</td>\n",
       "      <td>16125</td>\n",
       "      <td>16132</td>\n",
       "    </tr>\n",
       "    <tr>\n",
       "      <th>1</th>\n",
       "      <td>27</td>\n",
       "      <td>16133</td>\n",
       "      <td>16140</td>\n",
       "    </tr>\n",
       "    <tr>\n",
       "      <th>2</th>\n",
       "      <td>52</td>\n",
       "      <td>16140</td>\n",
       "      <td>16147</td>\n",
       "    </tr>\n",
       "    <tr>\n",
       "      <th>3</th>\n",
       "      <td>37</td>\n",
       "      <td>16148</td>\n",
       "      <td>16155</td>\n",
       "    </tr>\n",
       "    <tr>\n",
       "      <th>4</th>\n",
       "      <td>103</td>\n",
       "      <td>16155</td>\n",
       "      <td>16162</td>\n",
       "    </tr>\n",
       "  </tbody>\n",
       "</table>\n",
       "</div>"
      ],
      "text/plain": [
       "   frame  start    end\n",
       "0     92  16125  16132\n",
       "1     27  16133  16140\n",
       "2     52  16140  16147\n",
       "3     37  16148  16155\n",
       "4    103  16155  16162"
      ]
     },
     "execution_count": 4,
     "metadata": {},
     "output_type": "execute_result"
    }
   ],
   "source": [
    "images = ns.stim_table.copy()\n",
    "images.head()"
   ]
  },
  {
   "cell_type": "markdown",
   "metadata": {},
   "source": [
    "Conveniently, the 'frame' column has integer labels of each natural scene. We define `y` from this column."
   ]
  },
  {
   "cell_type": "code",
   "execution_count": 5,
   "metadata": {},
   "outputs": [],
   "source": [
    "y = images['frame']"
   ]
  },
  {
   "cell_type": "markdown",
   "metadata": {},
   "source": [
    "### Getting \"X\" from the natural scenes mean_sweep_response\n",
    "\n",
    "Each row in the `.mean_sweep_response` attribute corresponds to the mean activity of each neuron in the recorded population in response to each image presentation in the stim table."
   ]
  },
  {
   "cell_type": "code",
   "execution_count": 6,
   "metadata": {},
   "outputs": [
    {
     "data": {
      "text/html": [
       "<div>\n",
       "<style scoped>\n",
       "    .dataframe tbody tr th:only-of-type {\n",
       "        vertical-align: middle;\n",
       "    }\n",
       "\n",
       "    .dataframe tbody tr th {\n",
       "        vertical-align: top;\n",
       "    }\n",
       "\n",
       "    .dataframe thead th {\n",
       "        text-align: right;\n",
       "    }\n",
       "</style>\n",
       "<table border=\"1\" class=\"dataframe\">\n",
       "  <thead>\n",
       "    <tr style=\"text-align: right;\">\n",
       "      <th></th>\n",
       "      <th>0</th>\n",
       "      <th>1</th>\n",
       "      <th>2</th>\n",
       "      <th>3</th>\n",
       "      <th>4</th>\n",
       "      <th>5</th>\n",
       "      <th>6</th>\n",
       "      <th>7</th>\n",
       "      <th>8</th>\n",
       "      <th>9</th>\n",
       "      <th>...</th>\n",
       "      <th>144</th>\n",
       "      <th>145</th>\n",
       "      <th>146</th>\n",
       "      <th>147</th>\n",
       "      <th>148</th>\n",
       "      <th>149</th>\n",
       "      <th>150</th>\n",
       "      <th>151</th>\n",
       "      <th>152</th>\n",
       "      <th>153</th>\n",
       "    </tr>\n",
       "  </thead>\n",
       "  <tbody>\n",
       "    <tr>\n",
       "      <th>0</th>\n",
       "      <td>2.750398</td>\n",
       "      <td>3.113332</td>\n",
       "      <td>3.283231</td>\n",
       "      <td>1.035660</td>\n",
       "      <td>2.312769</td>\n",
       "      <td>1.005320</td>\n",
       "      <td>1.795959</td>\n",
       "      <td>1.302906</td>\n",
       "      <td>1.109441</td>\n",
       "      <td>2.644591</td>\n",
       "      <td>...</td>\n",
       "      <td>3.245388</td>\n",
       "      <td>1.204343</td>\n",
       "      <td>3.223873</td>\n",
       "      <td>-0.614828</td>\n",
       "      <td>1.594057</td>\n",
       "      <td>2.538169</td>\n",
       "      <td>9.322724</td>\n",
       "      <td>3.246232</td>\n",
       "      <td>17.838305</td>\n",
       "      <td>44.883263</td>\n",
       "    </tr>\n",
       "    <tr>\n",
       "      <th>1</th>\n",
       "      <td>5.472741</td>\n",
       "      <td>4.520462</td>\n",
       "      <td>1.848134</td>\n",
       "      <td>1.509070</td>\n",
       "      <td>3.900594</td>\n",
       "      <td>2.375818</td>\n",
       "      <td>0.627758</td>\n",
       "      <td>0.452645</td>\n",
       "      <td>-1.946570</td>\n",
       "      <td>-0.088816</td>\n",
       "      <td>...</td>\n",
       "      <td>5.051270</td>\n",
       "      <td>3.157544</td>\n",
       "      <td>2.147983</td>\n",
       "      <td>3.462305</td>\n",
       "      <td>1.155841</td>\n",
       "      <td>3.599893</td>\n",
       "      <td>10.790494</td>\n",
       "      <td>3.700325</td>\n",
       "      <td>41.864319</td>\n",
       "      <td>55.052734</td>\n",
       "    </tr>\n",
       "    <tr>\n",
       "      <th>2</th>\n",
       "      <td>4.938696</td>\n",
       "      <td>1.872071</td>\n",
       "      <td>0.822514</td>\n",
       "      <td>-0.366550</td>\n",
       "      <td>0.590227</td>\n",
       "      <td>0.577107</td>\n",
       "      <td>-0.431362</td>\n",
       "      <td>3.239566</td>\n",
       "      <td>-2.953792</td>\n",
       "      <td>0.519713</td>\n",
       "      <td>...</td>\n",
       "      <td>0.117338</td>\n",
       "      <td>2.204452</td>\n",
       "      <td>0.433436</td>\n",
       "      <td>1.692538</td>\n",
       "      <td>4.946897</td>\n",
       "      <td>-2.181524</td>\n",
       "      <td>1.229501</td>\n",
       "      <td>1.446858</td>\n",
       "      <td>19.081219</td>\n",
       "      <td>-0.731454</td>\n",
       "    </tr>\n",
       "    <tr>\n",
       "      <th>3</th>\n",
       "      <td>0.686303</td>\n",
       "      <td>-1.502568</td>\n",
       "      <td>-2.128904</td>\n",
       "      <td>-0.779033</td>\n",
       "      <td>-3.098761</td>\n",
       "      <td>0.632175</td>\n",
       "      <td>2.272473</td>\n",
       "      <td>4.147108</td>\n",
       "      <td>-4.235024</td>\n",
       "      <td>-0.116484</td>\n",
       "      <td>...</td>\n",
       "      <td>-3.436971</td>\n",
       "      <td>1.661621</td>\n",
       "      <td>-1.256703</td>\n",
       "      <td>0.234285</td>\n",
       "      <td>5.248888</td>\n",
       "      <td>-1.481765</td>\n",
       "      <td>-3.012385</td>\n",
       "      <td>0.283391</td>\n",
       "      <td>-6.771274</td>\n",
       "      <td>-18.988461</td>\n",
       "    </tr>\n",
       "    <tr>\n",
       "      <th>4</th>\n",
       "      <td>-2.763241</td>\n",
       "      <td>-2.317277</td>\n",
       "      <td>-1.518564</td>\n",
       "      <td>-1.131271</td>\n",
       "      <td>-3.716857</td>\n",
       "      <td>0.189942</td>\n",
       "      <td>1.049816</td>\n",
       "      <td>0.004382</td>\n",
       "      <td>-3.942320</td>\n",
       "      <td>-2.070535</td>\n",
       "      <td>...</td>\n",
       "      <td>-3.320092</td>\n",
       "      <td>0.768980</td>\n",
       "      <td>0.713630</td>\n",
       "      <td>4.319497</td>\n",
       "      <td>1.107409</td>\n",
       "      <td>0.044746</td>\n",
       "      <td>-4.763652</td>\n",
       "      <td>-0.807627</td>\n",
       "      <td>-15.687251</td>\n",
       "      <td>-24.453199</td>\n",
       "    </tr>\n",
       "  </tbody>\n",
       "</table>\n",
       "<p>5 rows × 154 columns</p>\n",
       "</div>"
      ],
      "text/plain": [
       "          0         1         2         3         4         5         6  \\\n",
       "0  2.750398  3.113332  3.283231  1.035660  2.312769  1.005320  1.795959   \n",
       "1  5.472741  4.520462  1.848134  1.509070  3.900594  2.375818  0.627758   \n",
       "2  4.938696  1.872071  0.822514 -0.366550  0.590227  0.577107 -0.431362   \n",
       "3  0.686303 -1.502568 -2.128904 -0.779033 -3.098761  0.632175  2.272473   \n",
       "4 -2.763241 -2.317277 -1.518564 -1.131271 -3.716857  0.189942  1.049816   \n",
       "\n",
       "          7         8         9    ...           144       145       146  \\\n",
       "0  1.302906  1.109441  2.644591    ...      3.245388  1.204343  3.223873   \n",
       "1  0.452645 -1.946570 -0.088816    ...      5.051270  3.157544  2.147983   \n",
       "2  3.239566 -2.953792  0.519713    ...      0.117338  2.204452  0.433436   \n",
       "3  4.147108 -4.235024 -0.116484    ...     -3.436971  1.661621 -1.256703   \n",
       "4  0.004382 -3.942320 -2.070535    ...     -3.320092  0.768980  0.713630   \n",
       "\n",
       "        147       148       149        150       151        152        153  \n",
       "0 -0.614828  1.594057  2.538169   9.322724  3.246232  17.838305  44.883263  \n",
       "1  3.462305  1.155841  3.599893  10.790494  3.700325  41.864319  55.052734  \n",
       "2  1.692538  4.946897 -2.181524   1.229501  1.446858  19.081219  -0.731454  \n",
       "3  0.234285  5.248888 -1.481765  -3.012385  0.283391  -6.771274 -18.988461  \n",
       "4  4.319497  1.107409  0.044746  -4.763652 -0.807627 -15.687251 -24.453199  \n",
       "\n",
       "[5 rows x 154 columns]"
      ]
     },
     "execution_count": 6,
     "metadata": {},
     "output_type": "execute_result"
    }
   ],
   "source": [
    "X = ns.mean_sweep_response.copy()\n",
    "X.drop('dx',axis=1,inplace=True)\n",
    "X.head()"
   ]
  },
  {
   "cell_type": "markdown",
   "metadata": {},
   "source": [
    "## Splitting into train & test sets\n",
    "\n",
    "Now that we have `X` and `y`, we're going to split the data into a training set, which we will explore and use to develop a decoding pipeline, and a test set, which we will hold out until we are happy with our pipeline, to do a final evaluation of it's performance."
   ]
  },
  {
   "cell_type": "code",
   "execution_count": 7,
   "metadata": {},
   "outputs": [],
   "source": [
    "# split training & testing\n",
    "from sklearn.model_selection import train_test_split\n",
    "X_train, X_test, y_train, y_test = train_test_split(\n",
    "    X, y,\n",
    "    test_size=0.2, \n",
    "    stratify=y, # this makes sure that our training and testing sets both have all classes in y\n",
    ")"
   ]
  },
  {
   "cell_type": "markdown",
   "metadata": {},
   "source": [
    "## Train a classifier\n",
    "\n",
    "First, we are going to train a classifier and use cross validation to evaluate it's performance on our training data."
   ]
  },
  {
   "cell_type": "code",
   "execution_count": 8,
   "metadata": {},
   "outputs": [],
   "source": [
    "# do the classification\n",
    "from sklearn.discriminant_analysis import LinearDiscriminantAnalysis\n",
    "classifier = LinearDiscriminantAnalysis()"
   ]
  },
  {
   "cell_type": "code",
   "execution_count": 9,
   "metadata": {},
   "outputs": [],
   "source": [
    "from sklearn.model_selection import cross_val_score"
   ]
  },
  {
   "cell_type": "code",
   "execution_count": 10,
   "metadata": {},
   "outputs": [
    {
     "name": "stderr",
     "output_type": "stream",
     "text": [
      "/home/justink/anaconda3/envs/allensdk/lib/python2.7/site-packages/sklearn/discriminant_analysis.py:442: UserWarning: The priors do not sum to 1. Renormalizing\n",
      "  UserWarning)\n",
      "/home/justink/anaconda3/envs/allensdk/lib/python2.7/site-packages/sklearn/discriminant_analysis.py:442: UserWarning: The priors do not sum to 1. Renormalizing\n",
      "  UserWarning)\n",
      "/home/justink/anaconda3/envs/allensdk/lib/python2.7/site-packages/sklearn/discriminant_analysis.py:442: UserWarning: The priors do not sum to 1. Renormalizing\n",
      "  UserWarning)\n",
      "/home/justink/anaconda3/envs/allensdk/lib/python2.7/site-packages/sklearn/discriminant_analysis.py:442: UserWarning: The priors do not sum to 1. Renormalizing\n",
      "  UserWarning)\n",
      "/home/justink/anaconda3/envs/allensdk/lib/python2.7/site-packages/sklearn/discriminant_analysis.py:442: UserWarning: The priors do not sum to 1. Renormalizing\n",
      "  UserWarning)\n"
     ]
    }
   ],
   "source": [
    "scores = cross_val_score(classifier, X_train, y_train, cv=5)"
   ]
  },
  {
   "cell_type": "code",
   "execution_count": 11,
   "metadata": {},
   "outputs": [
    {
     "data": {
      "text/plain": [
       "17.249999999999996"
      ]
     },
     "execution_count": 11,
     "metadata": {},
     "output_type": "execute_result"
    }
   ],
   "source": [
    "import numpy as np\n",
    "scores.mean() * len(np.unique(y_train))"
   ]
  },
  {
   "cell_type": "markdown",
   "metadata": {},
   "source": [
    "## Reduce the dimensionality of the data\n",
    "Next, we are going to reduct the dimensionality of the data, then train our classifier on the reduced data."
   ]
  },
  {
   "cell_type": "code",
   "execution_count": 12,
   "metadata": {},
   "outputs": [],
   "source": [
    "from sklearn.decomposition import PCA\n",
    "reducer = PCA(n_components=20)"
   ]
  },
  {
   "cell_type": "code",
   "execution_count": 13,
   "metadata": {},
   "outputs": [
    {
     "name": "stdout",
     "output_type": "stream",
     "text": [
      "(5950, 154) (4760, 20)\n"
     ]
    }
   ],
   "source": [
    "X_reduced = reducer.fit_transform(X_train)\n",
    "print(X.shape, X_reduced.shape)"
   ]
  },
  {
   "cell_type": "code",
   "execution_count": 14,
   "metadata": {},
   "outputs": [
    {
     "data": {
      "text/plain": [
       "<matplotlib.collections.PathCollection at 0x7f9eacf01350>"
      ]
     },
     "execution_count": 14,
     "metadata": {},
     "output_type": "execute_result"
    },
    {
     "data": {
      "image/png": "[encoded data removed]",
      "text/plain": [
       "<Figure size 432x288 with 1 Axes>"
      ]
     },
     "metadata": {},
     "output_type": "display_data"
    }
   ],
   "source": [
    "%matplotlib inline\n",
    "import matplotlib.pyplot as plt\n",
    "plt.scatter(X_reduced[:,0],X_reduced[:,1],c=y_train)"
   ]
  },
  {
   "cell_type": "code",
   "execution_count": 15,
   "metadata": {},
   "outputs": [
    {
     "name": "stderr",
     "output_type": "stream",
     "text": [
      "/home/justink/anaconda3/envs/allensdk/lib/python2.7/site-packages/sklearn/discriminant_analysis.py:442: UserWarning: The priors do not sum to 1. Renormalizing\n",
      "  UserWarning)\n",
      "/home/justink/anaconda3/envs/allensdk/lib/python2.7/site-packages/sklearn/discriminant_analysis.py:442: UserWarning: The priors do not sum to 1. Renormalizing\n",
      "  UserWarning)\n",
      "/home/justink/anaconda3/envs/allensdk/lib/python2.7/site-packages/sklearn/discriminant_analysis.py:442: UserWarning: The priors do not sum to 1. Renormalizing\n",
      "  UserWarning)\n",
      "/home/justink/anaconda3/envs/allensdk/lib/python2.7/site-packages/sklearn/discriminant_analysis.py:442: UserWarning: The priors do not sum to 1. Renormalizing\n",
      "  UserWarning)\n",
      "/home/justink/anaconda3/envs/allensdk/lib/python2.7/site-packages/sklearn/discriminant_analysis.py:442: UserWarning: The priors do not sum to 1. Renormalizing\n",
      "  UserWarning)\n"
     ]
    },
    {
     "data": {
      "text/plain": [
       "10.1"
      ]
     },
     "execution_count": 15,
     "metadata": {},
     "output_type": "execute_result"
    }
   ],
   "source": [
    "scores = cross_val_score(classifier, X_reduced, y_train, cv=5)\n",
    "scores.mean() * len(np.unique(y))"
   ]
  },
  {
   "cell_type": "markdown",
   "metadata": {},
   "source": [
    "## Rescale the data to zero mean and unit variance first\n",
    "\n",
    "Our dimensionality reduction and classification is likely dominated by neurons with very large responses. Let's rescale the data first."
   ]
  },
  {
   "cell_type": "code",
   "execution_count": 16,
   "metadata": {},
   "outputs": [],
   "source": [
    "from sklearn.preprocessing import StandardScaler\n",
    "rescaler = StandardScaler()"
   ]
  },
  {
   "cell_type": "code",
   "execution_count": 17,
   "metadata": {},
   "outputs": [
    {
     "data": {
      "text/plain": [
       "<matplotlib.collections.PathCollection at 0x7f9eace318d0>"
      ]
     },
     "execution_count": 17,
     "metadata": {},
     "output_type": "execute_result"
    },
    {
     "data": {
      "image/png": "[encoded data removed]",
      "text/plain": [
       "<Figure size 432x288 with 1 Axes>"
      ]
     },
     "metadata": {},
     "output_type": "display_data"
    }
   ],
   "source": [
    "X_rescaled = rescaler.fit_transform(X_train)\n",
    "X_reduced = reducer.fit_transform(X_rescaled)\n",
    "plt.scatter(X_reduced[:,0],X_reduced[:,1],c=y_train)"
   ]
  },
  {
   "cell_type": "code",
   "execution_count": 18,
   "metadata": {},
   "outputs": [
    {
     "name": "stderr",
     "output_type": "stream",
     "text": [
      "/home/justink/anaconda3/envs/allensdk/lib/python2.7/site-packages/sklearn/discriminant_analysis.py:442: UserWarning: The priors do not sum to 1. Renormalizing\n",
      "  UserWarning)\n",
      "/home/justink/anaconda3/envs/allensdk/lib/python2.7/site-packages/sklearn/discriminant_analysis.py:442: UserWarning: The priors do not sum to 1. Renormalizing\n",
      "  UserWarning)\n",
      "/home/justink/anaconda3/envs/allensdk/lib/python2.7/site-packages/sklearn/discriminant_analysis.py:442: UserWarning: The priors do not sum to 1. Renormalizing\n",
      "  UserWarning)\n",
      "/home/justink/anaconda3/envs/allensdk/lib/python2.7/site-packages/sklearn/discriminant_analysis.py:442: UserWarning: The priors do not sum to 1. Renormalizing\n",
      "  UserWarning)\n",
      "/home/justink/anaconda3/envs/allensdk/lib/python2.7/site-packages/sklearn/discriminant_analysis.py:442: UserWarning: The priors do not sum to 1. Renormalizing\n",
      "  UserWarning)\n"
     ]
    },
    {
     "data": {
      "text/plain": [
       "13.325000000000001"
      ]
     },
     "execution_count": 18,
     "metadata": {},
     "output_type": "execute_result"
    }
   ],
   "source": [
    "scores = cross_val_score(classifier, X_reduced, y_train, cv=5)\n",
    "scores.mean() * len(np.unique(y_train))"
   ]
  },
  {
   "cell_type": "markdown",
   "metadata": {},
   "source": [
    "## Assemble these steps into a Pipeline\n",
    "\n",
    "We now have 3 steps in our processing pipeline... rescaling, reducing, and classifying. Keeping track of these steps and their intermediate variables can get confusing.\n",
    "\n",
    "Luckily, since each of these steps use objects that conform to the scikit-learn fit/transform/predict standard, we can use the scikit learn pipeline module to assemble them into a pipeline, which itself has fit & predict methods, so it can drop into functions like `cross_val_score`.\n"
   ]
  },
  {
   "cell_type": "code",
   "execution_count": 19,
   "metadata": {},
   "outputs": [],
   "source": [
    "from sklearn.pipeline import Pipeline"
   ]
  },
  {
   "cell_type": "code",
   "execution_count": 20,
   "metadata": {},
   "outputs": [],
   "source": [
    "pipeline = Pipeline((\n",
    "    ('rescaler', StandardScaler()),\n",
    "    ('reducer', PCA(n_components=20)),\n",
    "    ('classifier', LinearDiscriminantAnalysis()),\n",
    "))"
   ]
  },
  {
   "cell_type": "code",
   "execution_count": 21,
   "metadata": {},
   "outputs": [
    {
     "name": "stderr",
     "output_type": "stream",
     "text": [
      "/home/justink/anaconda3/envs/allensdk/lib/python2.7/site-packages/sklearn/discriminant_analysis.py:442: UserWarning: The priors do not sum to 1. Renormalizing\n",
      "  UserWarning)\n",
      "/home/justink/anaconda3/envs/allensdk/lib/python2.7/site-packages/sklearn/discriminant_analysis.py:442: UserWarning: The priors do not sum to 1. Renormalizing\n",
      "  UserWarning)\n",
      "/home/justink/anaconda3/envs/allensdk/lib/python2.7/site-packages/sklearn/discriminant_analysis.py:442: UserWarning: The priors do not sum to 1. Renormalizing\n",
      "  UserWarning)\n",
      "/home/justink/anaconda3/envs/allensdk/lib/python2.7/site-packages/sklearn/discriminant_analysis.py:442: UserWarning: The priors do not sum to 1. Renormalizing\n",
      "  UserWarning)\n",
      "/home/justink/anaconda3/envs/allensdk/lib/python2.7/site-packages/sklearn/discriminant_analysis.py:442: UserWarning: The priors do not sum to 1. Renormalizing\n",
      "  UserWarning)\n"
     ]
    },
    {
     "data": {
      "text/plain": [
       "12.674999999999999"
      ]
     },
     "execution_count": 21,
     "metadata": {},
     "output_type": "execute_result"
    }
   ],
   "source": [
    "scores = cross_val_score(pipeline, X_train, y_train, cv=5)\n",
    "scores.mean() * len(np.unique(y))"
   ]
  },
  {
   "cell_type": "markdown",
   "metadata": {},
   "source": [
    "## Optimizing the pipeline\n",
    "\n",
    "Now that we've defined a pipeline, we can more readily adjust parts of the pipeline to improve it... adjust the parameters for each step, remove steps, replace one classifier with another. These pieces of an ML pipeline are aften referred to as \"hyperparameters\".\n",
    "\n",
    "If we want to do this exploration strategically, we can search over this space to select the best hyperparameters. One way to do this is with scikit-learn's `GridSearchCV`. This lets us do the following....\n",
    "\n",
    "- specify a set of parameters we want to search over\n",
    "- for each combination of parameters, do an n-fold cross validation\n",
    "- rank the parameter combinations based on their average cross validation performance"
   ]
  },
  {
   "cell_type": "code",
   "execution_count": 22,
   "metadata": {},
   "outputs": [],
   "source": [
    "from sklearn.model_selection import GridSearchCV\n",
    "from sklearn.neighbors import KNeighborsClassifier\n",
    "from sklearn.tree import DecisionTreeClassifier\n",
    "\n",
    "\n",
    "N_FEATURES_OPTIONS = [20, 40, 80,]\n",
    "\n",
    "param_grid = [\n",
    "    {\n",
    "        'rescaler': [None, StandardScaler()],\n",
    "        'reducer__n_components': N_FEATURES_OPTIONS,\n",
    "        'classifier': [\n",
    "            LinearDiscriminantAnalysis(),\n",
    "            KNeighborsClassifier(n_neighbors=50),\n",
    "            DecisionTreeClassifier(),\n",
    "        ]\n",
    "    },\n",
    "]"
   ]
  },
  {
   "cell_type": "code",
   "execution_count": 23,
   "metadata": {},
   "outputs": [],
   "source": [
    "grid = GridSearchCV(pipeline, param_grid)"
   ]
  },
  {
   "cell_type": "code",
   "execution_count": 24,
   "metadata": {},
   "outputs": [
    {
     "name": "stderr",
     "output_type": "stream",
     "text": [
      "/home/justink/anaconda3/envs/allensdk/lib/python2.7/site-packages/sklearn/discriminant_analysis.py:442: UserWarning: The priors do not sum to 1. Renormalizing\n",
      "  UserWarning)\n",
      "/home/justink/anaconda3/envs/allensdk/lib/python2.7/site-packages/sklearn/discriminant_analysis.py:442: UserWarning: The priors do not sum to 1. Renormalizing\n",
      "  UserWarning)\n",
      "/home/justink/anaconda3/envs/allensdk/lib/python2.7/site-packages/sklearn/discriminant_analysis.py:442: UserWarning: The priors do not sum to 1. Renormalizing\n",
      "  UserWarning)\n",
      "/home/justink/anaconda3/envs/allensdk/lib/python2.7/site-packages/sklearn/discriminant_analysis.py:442: UserWarning: The priors do not sum to 1. Renormalizing\n",
      "  UserWarning)\n",
      "/home/justink/anaconda3/envs/allensdk/lib/python2.7/site-packages/sklearn/discriminant_analysis.py:442: UserWarning: The priors do not sum to 1. Renormalizing\n",
      "  UserWarning)\n",
      "/home/justink/anaconda3/envs/allensdk/lib/python2.7/site-packages/sklearn/discriminant_analysis.py:442: UserWarning: The priors do not sum to 1. Renormalizing\n",
      "  UserWarning)\n",
      "/home/justink/anaconda3/envs/allensdk/lib/python2.7/site-packages/sklearn/discriminant_analysis.py:442: UserWarning: The priors do not sum to 1. Renormalizing\n",
      "  UserWarning)\n",
      "/home/justink/anaconda3/envs/allensdk/lib/python2.7/site-packages/sklearn/discriminant_analysis.py:442: UserWarning: The priors do not sum to 1. Renormalizing\n",
      "  UserWarning)\n",
      "/home/justink/anaconda3/envs/allensdk/lib/python2.7/site-packages/sklearn/discriminant_analysis.py:442: UserWarning: The priors do not sum to 1. Renormalizing\n",
      "  UserWarning)\n",
      "/home/justink/anaconda3/envs/allensdk/lib/python2.7/site-packages/sklearn/discriminant_analysis.py:442: UserWarning: The priors do not sum to 1. Renormalizing\n",
      "  UserWarning)\n",
      "/home/justink/anaconda3/envs/allensdk/lib/python2.7/site-packages/sklearn/discriminant_analysis.py:442: UserWarning: The priors do not sum to 1. Renormalizing\n",
      "  UserWarning)\n",
      "/home/justink/anaconda3/envs/allensdk/lib/python2.7/site-packages/sklearn/discriminant_analysis.py:442: UserWarning: The priors do not sum to 1. Renormalizing\n",
      "  UserWarning)\n",
      "/home/justink/anaconda3/envs/allensdk/lib/python2.7/site-packages/sklearn/discriminant_analysis.py:442: UserWarning: The priors do not sum to 1. Renormalizing\n",
      "  UserWarning)\n",
      "/home/justink/anaconda3/envs/allensdk/lib/python2.7/site-packages/sklearn/discriminant_analysis.py:442: UserWarning: The priors do not sum to 1. Renormalizing\n",
      "  UserWarning)\n",
      "/home/justink/anaconda3/envs/allensdk/lib/python2.7/site-packages/sklearn/discriminant_analysis.py:442: UserWarning: The priors do not sum to 1. Renormalizing\n",
      "  UserWarning)\n",
      "/home/justink/anaconda3/envs/allensdk/lib/python2.7/site-packages/sklearn/discriminant_analysis.py:442: UserWarning: The priors do not sum to 1. Renormalizing\n",
      "  UserWarning)\n",
      "/home/justink/anaconda3/envs/allensdk/lib/python2.7/site-packages/sklearn/discriminant_analysis.py:442: UserWarning: The priors do not sum to 1. Renormalizing\n",
      "  UserWarning)\n",
      "/home/justink/anaconda3/envs/allensdk/lib/python2.7/site-packages/sklearn/discriminant_analysis.py:442: UserWarning: The priors do not sum to 1. Renormalizing\n",
      "  UserWarning)\n",
      "/home/justink/anaconda3/envs/allensdk/lib/python2.7/site-packages/sklearn/discriminant_analysis.py:442: UserWarning: The priors do not sum to 1. Renormalizing\n",
      "  UserWarning)\n"
     ]
    },
    {
     "data": {
      "text/plain": [
       "Pipeline(memory=None,\n",
       "     steps=[('rescaler', StandardScaler(copy=True, with_mean=True, with_std=True)), ('reducer', PCA(copy=True, iterated_power='auto', n_components=80, random_state=None,\n",
       "  svd_solver='auto', tol=0.0, whiten=False)), ('classifier', LinearDiscriminantAnalysis(n_components=None, priors=None, shrinkage=None,\n",
       "              solver='svd', store_covariance=False, tol=0.0001))])"
      ]
     },
     "execution_count": 24,
     "metadata": {},
     "output_type": "execute_result"
    }
   ],
   "source": [
    "grid.fit(X_train, y_train)\n",
    "grid.best_estimator_"
   ]
  },
  {
   "cell_type": "markdown",
   "metadata": {},
   "source": [
    "## Let's visualize the cross validation results"
   ]
  },
  {
   "cell_type": "code",
   "execution_count": 25,
   "metadata": {},
   "outputs": [
    {
     "name": "stderr",
     "output_type": "stream",
     "text": [
      "/home/justink/anaconda3/envs/allensdk/lib/python2.7/site-packages/sklearn/utils/deprecation.py:122: FutureWarning: You are accessing a training score ('mean_train_score'), which will not be available by default any more in 0.21. If you need training scores, please set return_train_score=True\n",
      "  warnings.warn(*warn_args, **warn_kwargs)\n",
      "/home/justink/anaconda3/envs/allensdk/lib/python2.7/site-packages/sklearn/utils/deprecation.py:122: FutureWarning: You are accessing a training score ('split0_train_score'), which will not be available by default any more in 0.21. If you need training scores, please set return_train_score=True\n",
      "  warnings.warn(*warn_args, **warn_kwargs)\n",
      "/home/justink/anaconda3/envs/allensdk/lib/python2.7/site-packages/sklearn/utils/deprecation.py:122: FutureWarning: You are accessing a training score ('split1_train_score'), which will not be available by default any more in 0.21. If you need training scores, please set return_train_score=True\n",
      "  warnings.warn(*warn_args, **warn_kwargs)\n",
      "/home/justink/anaconda3/envs/allensdk/lib/python2.7/site-packages/sklearn/utils/deprecation.py:122: FutureWarning: You are accessing a training score ('split2_train_score'), which will not be available by default any more in 0.21. If you need training scores, please set return_train_score=True\n",
      "  warnings.warn(*warn_args, **warn_kwargs)\n",
      "/home/justink/anaconda3/envs/allensdk/lib/python2.7/site-packages/sklearn/utils/deprecation.py:122: FutureWarning: You are accessing a training score ('std_train_score'), which will not be available by default any more in 0.21. If you need training scores, please set return_train_score=True\n",
      "  warnings.warn(*warn_args, **warn_kwargs)\n"
     ]
    }
   ],
   "source": [
    "import pandas as pd\n",
    "cv_results = pd.DataFrame(grid.cv_results_)"
   ]
  },
  {
   "cell_type": "code",
   "execution_count": 26,
   "metadata": {},
   "outputs": [],
   "source": [
    "cv_results['param_rescaler'] = ~pd.isnull(cv_results['param_rescaler'])"
   ]
  },
  {
   "cell_type": "code",
   "execution_count": 27,
   "metadata": {},
   "outputs": [],
   "source": [
    "cv_results['param_classifier'] = cv_results['param_classifier'].map(lambda x: str(x).split('(')[0])"
   ]
  },
  {
   "cell_type": "code",
   "execution_count": 28,
   "metadata": {},
   "outputs": [
    {
     "data": {
      "text/plain": [
       "<seaborn.axisgrid.FacetGrid at 0x7f9eab722dd0>"
      ]
     },
     "execution_count": 28,
     "metadata": {},
     "output_type": "execute_result"
    },
    {
     "data": {
      "image/png": "[encoded data removed]",
      "text/plain": [
       "<Figure size 748.25x288 with 2 Axes>"
      ]
     },
     "metadata": {},
     "output_type": "display_data"
    }
   ],
   "source": [
    "import seaborn as sns\n",
    "sns.factorplot('param_reducer__n_components','mean_test_score',data=cv_results,\n",
    "               hue='param_classifier',\n",
    "               col='param_rescaler',\n",
    "              )"
   ]
  },
  {
   "cell_type": "markdown",
   "metadata": {},
   "source": [
    "## Evaluate the selected model on the held out test data\n",
    "\n",
    "The `GridSearchCV` instance itself has the scikit-learn predict & score methods. When called, they use the \"best estimator\" that was identified during the fitting step.\n",
    "\n",
    "So now we can use the score method to evaluate the model on the held out test data."
   ]
  },
  {
   "cell_type": "code",
   "execution_count": 29,
   "metadata": {},
   "outputs": [
    {
     "data": {
      "text/plain": [
       "17.8"
      ]
     },
     "execution_count": 29,
     "metadata": {},
     "output_type": "execute_result"
    }
   ],
   "source": [
    "grid.score(X_test, y_test) * len(np.unique(y))"
   ]
  }
 ],
 "metadata": {
  "kernelspec": {
   "display_name": "Python 3",
   "language": "python",
   "name": "python3"
  },
  "language_info": {
   "codemirror_mode": {
    "name": "ipython",
    "version": 3
   },
   "file_extension": ".py",
   "mimetype": "text/x-python",
   "name": "python",
   "nbconvert_exporter": "python",
   "pygments_lexer": "ipython3",
   "version": "3.6.5"
  }
 },
 "nbformat": 4,
 "nbformat_minor": 2
}
