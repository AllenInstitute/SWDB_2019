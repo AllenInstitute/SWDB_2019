{
 "cells": [
  {
   "cell_type": "markdown",
   "metadata": {},
   "source": [
    "### Question 3\n",
    "\n",
    "This notebook examines the connectivity of inhibitory cells in an EM volume. We will create a connectivity matrix for inhibitory to inhibitory and inhibitory to excitatory synapses, visualize inhibitory neurons' meshes, and examine different anatomical ways of measuring synaptic strengths.\n",
    "\n",
    "Many of the tasks will ask you to do things that are demonstrated in the EM_Connectome_intro notebook - it should serve as a reference for this one."
   ]
  },
  {
   "cell_type": "markdown",
   "metadata": {},
   "source": [
    "#### 1. Import the key modules and set parameters"
   ]
  },
  {
   "cell_type": "code",
   "execution_count": null,
   "metadata": {},
   "outputs": [],
   "source": []
  },
  {
   "cell_type": "markdown",
   "metadata": {},
   "source": [
    "#### 2. In order to get information about inhibitory synapses, we need to know about excitatory/inhibitory identity. What tables are available in this dataset?\n",
    "\n",
    "You can access tables from the analysis data link extension as adle.sqlalchemy_engine.table_names()"
   ]
  },
  {
   "cell_type": "code",
   "execution_count": null,
   "metadata": {},
   "outputs": [],
   "source": []
  },
  {
   "cell_type": "markdown",
   "metadata": {},
   "source": [
    "#### 3. Get the cell types dataframe from the \"soma valence_v2\" table. What information does it include?"
   ]
  },
  {
   "cell_type": "code",
   "execution_count": null,
   "metadata": {},
   "outputs": [],
   "source": []
  },
  {
   "cell_type": "markdown",
   "metadata": {},
   "source": [
    "#### 4. What cell types are labelled there?"
   ]
  },
  {
   "cell_type": "code",
   "execution_count": null,
   "metadata": {},
   "outputs": [],
   "source": []
  },
  {
   "cell_type": "markdown",
   "metadata": {},
   "source": [
    "#### 5. How many inhibitory cells are labelled, and how many excitatory? Each cell has a pt_root_id."
   ]
  },
  {
   "cell_type": "code",
   "execution_count": null,
   "metadata": {},
   "outputs": [],
   "source": []
  },
  {
   "cell_type": "markdown",
   "metadata": {},
   "source": [
    "#### 6. Get the synapse dataframe from the \"pni_synapses_i3\" table. What information does it have for each synapse?"
   ]
  },
  {
   "cell_type": "code",
   "execution_count": null,
   "metadata": {},
   "outputs": [],
   "source": []
  },
  {
   "cell_type": "markdown",
   "metadata": {},
   "source": [
    "#### 7. Make an inhibitory to all connectivity matrix using the total synapse size between two neurons as their connection strength."
   ]
  },
  {
   "cell_type": "code",
   "execution_count": null,
   "metadata": {},
   "outputs": [],
   "source": []
  },
  {
   "cell_type": "markdown",
   "metadata": {},
   "source": [
    "#### 8. View this matrix in a figure"
   ]
  },
  {
   "cell_type": "code",
   "execution_count": null,
   "metadata": {},
   "outputs": [],
   "source": []
  },
  {
   "cell_type": "markdown",
   "metadata": {},
   "source": [
    "#### 9. Compare the in-degree distribution for excitatory to inhibitory connections and inhibitory to inhibitory connections. \n",
    "\n",
    "a) Compute the frequency distributions of the number of connections from excitatory neurons to all inihibitory post-synaptic neurons (e-i connections). "
   ]
  },
  {
   "cell_type": "code",
   "execution_count": null,
   "metadata": {},
   "outputs": [],
   "source": []
  },
  {
   "cell_type": "markdown",
   "metadata": {},
   "source": [
    "b) Compute the frequency distributions of the number of connections from inhibitory neurons to all inhibitory post-synaptic neurons (i-i connections).\n",
    "\n"
   ]
  },
  {
   "cell_type": "code",
   "execution_count": null,
   "metadata": {},
   "outputs": [],
   "source": []
  },
  {
   "cell_type": "markdown",
   "metadata": {},
   "source": [
    "c) Plot both distributions (histograms)."
   ]
  },
  {
   "cell_type": "code",
   "execution_count": null,
   "metadata": {},
   "outputs": [],
   "source": []
  },
  {
   "cell_type": "markdown",
   "metadata": {},
   "source": [
    "#### 10. Compare the out-degree distribution for inhibitory to inhibitory and inhibitory to excitatory connections.\n",
    "\n",
    "Compute the frequency distributions of the number of connections from all inihibitory pre-synaptic neurons to excitatory neurons (i-e connections). \n",
    "\n",
    "Compute the frequency distributions of the number of connections from all inhibitory pre-synaptic neurons to inhibitory  neurons (i-i connections).\n",
    "\n",
    "Plot both distributions (histograms)."
   ]
  },
  {
   "cell_type": "code",
   "execution_count": null,
   "metadata": {},
   "outputs": [],
   "source": []
  },
  {
   "cell_type": "markdown",
   "metadata": {},
   "source": [
    "#### 11. Let's look at the mesh for an inhibitory neuron. Pick a random neuron that projects to three neurons. \n",
    "\n",
    "We're choosing three synapses as a compromise between having multiple projections and not having a gigantic mesh. Feel free to choose a different number of projections. Meshes with more projections will probably be slower to visualize."
   ]
  },
  {
   "cell_type": "code",
   "execution_count": null,
   "metadata": {},
   "outputs": [],
   "source": []
  },
  {
   "cell_type": "markdown",
   "metadata": {},
   "source": [
    "#### 12. Now let's load its mesh and visualize it. \n",
    "\n",
    "a) First load the mesh"
   ]
  },
  {
   "cell_type": "code",
   "execution_count": null,
   "metadata": {},
   "outputs": [],
   "source": []
  },
  {
   "cell_type": "markdown",
   "metadata": {},
   "source": [
    "b) The mesh is composed of vertices and faces. We will extract these and use them to make an \"Actor\" for vtkplotter."
   ]
  },
  {
   "cell_type": "code",
   "execution_count": null,
   "metadata": {},
   "outputs": [],
   "source": []
  },
  {
   "cell_type": "markdown",
   "metadata": {},
   "source": [
    "c) Now let's create a window a show the mesh. You can hold down shift-click to rotate the window, control-click to pan, and scroll to zoom."
   ]
  },
  {
   "cell_type": "code",
   "execution_count": null,
   "metadata": {},
   "outputs": [],
   "source": []
  },
  {
   "cell_type": "markdown",
   "metadata": {},
   "source": [
    "#### 13. Visualize the mesh for an inhibitory neuron connecting to an least 10 excitatory neurons"
   ]
  },
  {
   "cell_type": "code",
   "execution_count": null,
   "metadata": {},
   "outputs": [],
   "source": []
  },
  {
   "cell_type": "markdown",
   "metadata": {},
   "source": [
    "#### EXTRA CREDIT"
   ]
  },
  {
   "cell_type": "markdown",
   "metadata": {},
   "source": [
    "#### 14. Compute the area of presynaptic axons of this neuron within one micron of each synapse as an approximation of the bouton size.\n",
    "\n",
    "First retrieve all synapse locations for this neuron.\n",
    "For each synapse position, find the part of the mesh that is within one micron of the synapse location. (Hint: use mesh_filters.filter_two_point distance to create a masked mesh and find the area of the masked mesh)"
   ]
  },
  {
   "cell_type": "code",
   "execution_count": null,
   "metadata": {},
   "outputs": [],
   "source": []
  },
  {
   "cell_type": "markdown",
   "metadata": {},
   "source": [
    "#### 15. What is the distribution of these presynaptic mesh areas? How correlated are they with the synapse voxel size in the synapse dataframe? \n",
    "\n",
    "#### Question: Are the distributions of this neuron's presynaptic synapse size different for synapses onto excitatory or inhibitory neurons?"
   ]
  },
  {
   "cell_type": "code",
   "execution_count": null,
   "metadata": {},
   "outputs": [],
   "source": []
  },
  {
   "cell_type": "markdown",
   "metadata": {},
   "source": [
    "#### 16. Compute the distance of each synapse from the postsynaptic soma. \n",
    "\n"
   ]
  },
  {
   "cell_type": "code",
   "execution_count": null,
   "metadata": {},
   "outputs": [],
   "source": []
  },
  {
   "cell_type": "markdown",
   "metadata": {},
   "source": [
    "#### 17. Plot the relationship between presynaptic synapse size and Euclidean distance from the postsynaptic soma? Use the pt_position from the soma valence table as a proxy for the soma center. \n",
    "\n",
    "(Remember, these positions are also in voxels, not nanometers.)"
   ]
  },
  {
   "cell_type": "code",
   "execution_count": null,
   "metadata": {},
   "outputs": [],
   "source": []
  }
 ],
 "metadata": {
  "kernelspec": {
   "display_name": "conda_python3",
   "language": "python",
   "name": "conda_python3"
  },
  "language_info": {
   "codemirror_mode": {
    "name": "ipython",
    "version": 3
   },
   "file_extension": ".py",
   "mimetype": "text/x-python",
   "name": "python",
   "nbconvert_exporter": "python",
   "pygments_lexer": "ipython3",
   "version": "3.6.5"
  }
 },
 "nbformat": 4,
 "nbformat_minor": 2
}
