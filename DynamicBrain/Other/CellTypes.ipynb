{
 "cells": [
  {
   "cell_type": "markdown",
   "metadata": {},
   "source": [
    "<img src=\"../resources/cropped-SummerWorkshop_Header.png\">  \n",
    "\n",
    "<h1 align=\"center\">Cell Types Workshop SWDB 2017 </h1> \n",
    "<h3 align=\"center\">Thursday, August 24, 2017</h3> "
   ]
  },
  {
   "cell_type": "markdown",
   "metadata": {},
   "source": [
    "<div style=\"border-left: 3px solid #000; padding: 1px; padding-left: 10px; background: #F0FAFF; \">\n",
    "<h2>Drive path</h2>\n",
    "\n",
    "<p>First things first - let's make sure your drive path is set up appropriately. You will want to un-comment only one of these options depending on which operating system you are running. You also may have to tweak the option for your specific set-up (e.g. change the drive letter for Windows).\n",
    "</p>\n",
    "</div>"
   ]
  },
  {
   "cell_type": "code",
   "execution_count": null,
   "metadata": {
    "collapsed": true
   },
   "outputs": [],
   "source": [
    "# please make sure your drive_path is set, so that the notebook can find the data files on the hard drive\n",
    "\n",
    "# OS X\n",
    "# drive_path = '/Volumes/Brain2017/data/dynamic-brain-workshop/cell_types_cache/'\n",
    "\n",
    "# Windows (a good guess)\n",
    "# drive_path = 'e:/data/dynamic-brain-workshop/cell_types_cache/'\n",
    "\n",
    "# Linux (will vary; the following is possibly what Ubuntu will do)\n",
    "# drive_path = '/media/Brain2017/data/dynamic-brain-workshop/cell_types_cache/'\n",
    "\n",
    "# AWS\n",
    "drive_path = '/data/dynamic-brain-workshop/cell_types_cache/'"
   ]
  },
  {
   "cell_type": "markdown",
   "metadata": {},
   "source": [
    "<div style=\"border-left: 3px solid #000; padding: 1px; padding-left: 10px; background: #F0FAFF; \">\n",
    "<h2>Cell Types Database</h2>\n",
    "\n",
    "<p>\n",
    "The Cell Types database contains data derived from single-cell experiments including in vitro electrophysiological recordings from cortical slices and morphological reconstructions based on single-neuron fills.</p>\n",
    "\n",
    "<p>\n",
    "The database can be accessed [on the web](http://celltypes.brain-map.org/). This is useful for browsing and familiarizing yourself with the data, but for more in-depth analyses, it is often better to access data programmatically. The [AllenSDK](https://alleninstitute.github.io/AllenSDK/) provides Python-based tools to support that approach, and this notebook will introduce you to them.<p>\n",
    "\n",
    "</div>"
   ]
  },
  {
   "cell_type": "code",
   "execution_count": null,
   "metadata": {
    "collapsed": true
   },
   "outputs": [],
   "source": [
    "import os\n",
    "import numpy as np\n",
    "import matplotlib.pyplot as plt\n",
    "%matplotlib inline\n",
    "\n",
    "from allensdk.core.cell_types_cache import CellTypesCache"
   ]
  },
  {
   "cell_type": "markdown",
   "metadata": {},
   "source": [
    "<div style=\"border-left: 3px solid #000; padding: 1px; padding-left: 10px; background: #F0FAFF; \">\n",
    "<h2>Create a CellTypesCache instance</h2>\n",
    "\n",
    "<p>A CellTypesCache is used to copy and cache data from the cell types database. If you create the CellTypesCache instance with no arguments, then data is downloaded from the online repository:\n",
    "</p>\n",
    "</div>"
   ]
  },
  {
   "cell_type": "code",
   "execution_count": null,
   "metadata": {
    "collapsed": true
   },
   "outputs": [],
   "source": [
    "# ctc = CellTypesCache()"
   ]
  },
  {
   "cell_type": "markdown",
   "metadata": {},
   "source": [
    "<div style=\"border-left: 3px solid #000; padding: 1px; padding-left: 10px; background: #F0FAFF; \">\n",
    "<p>Because we have limited internet bandwidth, the data you need is already provided on your external hard drive. To ensure this local data is used instead of the online repository, create the CellTypesCache instance using the `manifest_file` argument:\n",
    "</p>\n",
    "</div>"
   ]
  },
  {
   "cell_type": "code",
   "execution_count": null,
   "metadata": {
    "collapsed": true
   },
   "outputs": [],
   "source": [
    "ctc = CellTypesCache(manifest_file=os.path.join(drive_path,'cell_types_manifest.json'))"
   ]
  },
  {
   "cell_type": "markdown",
   "metadata": {},
   "source": [
    "**Documentation:**\n",
    "[CellTypesCache](http://alleninstitute.github.io/AllenSDK/allensdk.core.html#allensdk.core.cell_types_cache.CellTypesCache),\n",
    "[CellTypesCache.get_ephys_features()](http://alleninstitute.github.io/AllenSDK/allensdk.core.html#allensdk.core.cell_types_cache.CellTypesCache.get_ephys_features)\n",
    "[CellTypesCache.get_cells()](http://alleninstitute.github.io/AllenSDK/allensdk.core.html#allensdk.core.cell_types_cache.CellTypesCache.get_cells)\n",
    "\n",
    "                            \n",
    "*Note: you can find these by using the search tool on the main [AllenSDK page](http://alleninstitute.github.io/AllenSDK/)*\n"
   ]
  },
  {
   "cell_type": "markdown",
   "metadata": {},
   "source": [
    "<div style=\"border-left: 3px solid #000; padding: 1px; padding-left: 10px; background: #F0FAFF; \">\n",
    "<h2>1. Using pre-computed features: Htr3a-expressing interneurons</h2>\n",
    "\n",
    "<p>\n",
    "Let's say we're interested in looking at interneuron diversity in the mouse visual cortex. We know that interneurons can be divided into three major types based on the expression of specific molecular markers - some interneurons express parvalbumin (Pvalb), others express somatostatin (Sst), and most of the rest express the ionotropic serotonin receptor 5HT3a (Htr3a).\n",
    "</p>\n",
    "</div>"
   ]
  },
  {
   "cell_type": "markdown",
   "metadata": {},
   "source": [
    "<img src=\"../resources/Neocortical Interneurons.png\">  "
   ]
  },
  {
   "cell_type": "markdown",
   "metadata": {},
   "source": [
    "<div style=\"border-left: 3px solid #000; padding: 1px; padding-left: 10px; background: #F0FAFF; \">\n",
    "<p>\n",
    "We'll start by looking at the Htr3a-expressing interneurons, which have two major subpopulations - those that express vasointestinal peptide (Vip), and those that don't. Many of the non-Vip cells express neuron derived neurotrophic factor (Ndnf). In the Cell Types Database, we have cells that are labeled by transgenic lines driven by Htr3a-Cre, as well as cells with reporter expression driven by Vip-Cre and Ndnf-Cre. We can look at the properties of those cells to see if there are characteristic differences among these populations. \n",
    "</p>\n",
    "<p>\n",
    "Let's look at pre-computed features of these cells. To access them, we'll use SDK components that interact with the database via its API.</p>\n",
    "</div>"
   ]
  },
  {
   "cell_type": "markdown",
   "metadata": {},
   "source": [
    "<div style=\"background: #DFF0D8; border-radius: 3px; padding: 10px;\">\n",
    "<p><strong>Exercise 1.1:</strong></p>\n",
    "\n",
    "<p>Use the function `ctc.get_cells()` and specify the reporter_status to get all the cre reporter positive cells (we only want the cells actually labeled by the transgenic lines we're investigating). Store them in a variable named `cells`. How many cells are in the database? Does this match the number reported on the website? </p>\n",
    "\n",
    "</div>"
   ]
  },
  {
   "cell_type": "code",
   "execution_count": null,
   "metadata": {
    "collapsed": true
   },
   "outputs": [],
   "source": []
  },
  {
   "cell_type": "markdown",
   "metadata": {},
   "source": [
    "<div style=\"border-left: 3px solid #000; padding: 1px; padding-left: 10px; background: #F0FAFF; \">\n",
    "\n",
    "<h2> Selecting specific cell populations </h2>\n",
    "\n",
    "Now we'd like to just select the cells for particular transgenic lines (i.e., Htr3a, Vip, and Ndnf). The full names of those driver lines are:\n",
    "<ul>\n",
    "<li> Htr3a-Cre_NO152 </li>\n",
    "<li> Vip-IRES-Cre </li>\n",
    "<li> Ndnf-IRES2-dgCre </li>\n",
    "</ul>\n",
    "\n",
    "<p>\n",
    "If we look at an entry in our `cells` list, we can see that there are several fields that are of use to us for this task: e.g. the 'transgenic_line' key allows us to select for Cre line, 'id' is the specimen_id for this cell that allows us to connect between datasets and with metadata, and 'dendrite_type' gives us information about the presence of spines which strongly covaries with excitatory/inhibitory neuron type.\n",
    "</p></div>"
   ]
  },
  {
   "cell_type": "code",
   "execution_count": null,
   "metadata": {
    "collapsed": true,
    "scrolled": false
   },
   "outputs": [],
   "source": [
    "example_cell = cells[100] # cells is a list of dictionaries\n",
    "print(example_cell.keys())"
   ]
  },
  {
   "cell_type": "code",
   "execution_count": null,
   "metadata": {
    "collapsed": true
   },
   "outputs": [],
   "source": [
    "# The specimen ID - this is a handle to refer to a specific cell in the database\n",
    "print(\"Specimen ID:\", example_cell[\"id\"])\n",
    "\n",
    "# The transgenic line - the driver of the mouse from which the cell was recorded\n",
    "print(\"Transgenic line:\", example_cell[\"transgenic_line\"])\n",
    "\n",
    "# The dendrite type - this is whether or not a given cell has dendritic spines (generally a \n",
    "# feature of excitatory neurons)\n",
    "print(\"Dendrite type:\", example_cell[\"dendrite_type\"])"
   ]
  },
  {
   "cell_type": "markdown",
   "metadata": {},
   "source": [
    "<div style=\"background: #DFF0D8; border-radius: 3px; padding: 10px;\">\n",
    "<p><strong>Exercise 1.2:</strong></p>\n",
    "\n",
    "<p>From the `cells` list, select only the cells that are from the Htr3a-Cre_NO152 line and are not spiny. Store their specimen IDs in a new list called `htr3a_ids`. How many of these cells are there?</p>\n",
    "\n",
    "</div>"
   ]
  },
  {
   "cell_type": "code",
   "execution_count": null,
   "metadata": {
    "collapsed": true
   },
   "outputs": [],
   "source": []
  },
  {
   "cell_type": "markdown",
   "metadata": {},
   "source": [
    "<div style=\"border-left: 3px solid #000; padding: 1px; padding-left: 10px; background: #F0FAFF; \">\n",
    "<h3> Pandas DataFrame is useful for selecting and filtering data </h3>\n",
    "</div>"
   ]
  },
  {
   "cell_type": "markdown",
   "metadata": {},
   "source": [
    "**Documentation:**\n",
    "[pandas.DataFrame()](https://pandas.pydata.org/pandas-docs/stable/generated/pandas.DataFrame.html),\n",
    "[Intro to pandas data structures](https://pandas.pydata.org/pandas-docs/stable/dsintro.html)\n"
   ]
  },
  {
   "cell_type": "code",
   "execution_count": null,
   "metadata": {
    "collapsed": true
   },
   "outputs": [],
   "source": [
    "import pandas as pd"
   ]
  },
  {
   "cell_type": "markdown",
   "metadata": {},
   "source": [
    "<div style=\"background: #DFF0D8; border-radius: 3px; padding: 10px;\">\n",
    "<p><strong>Exercise 1.3:</strong></p>\n",
    "\n",
    "<p>Make a DataFrame (`df_cells`) from the `cells` list of dictionaries. How many rows and columns does this dataframe contain?</p>\n",
    "\n",
    "</div>"
   ]
  },
  {
   "cell_type": "code",
   "execution_count": null,
   "metadata": {
    "collapsed": true
   },
   "outputs": [],
   "source": []
  },
  {
   "cell_type": "markdown",
   "metadata": {},
   "source": [
    "<div style=\"background: #DFF0D8; border-radius: 3px; padding: 10px;\">\n",
    "<p>**Exercise 1.4:**</p>\n",
    "\n",
    "<p>Make a new dataframe `df_vip` by selecting from the dataframe `df_cells` only the cells that are Vip-IRES-Cre+ and are not spiny. Print id values for these cells. </p>\n",
    "\n",
    "</div>"
   ]
  },
  {
   "cell_type": "code",
   "execution_count": null,
   "metadata": {
    "collapsed": true
   },
   "outputs": [],
   "source": []
  },
  {
   "cell_type": "markdown",
   "metadata": {},
   "source": [
    "<div style=\"background: #DFF0D8; border-radius: 3px; padding: 10px;\">\n",
    "<p>**Exercise 1.5:**</p>\n",
    "\n",
    "<p>Make a new dataframe `df_tg_cells` from `df_cells` which includes all cells from the three transgenic lines of interest here: Htr3a-Cre_NO152, Vip-IRES-Cre, Ndnf-IRES2-dgCre. Hint: use the `isin` method. Additionally, only select cells that are not 'spiny'.</p>\n",
    "\n",
    "</div>"
   ]
  },
  {
   "cell_type": "code",
   "execution_count": null,
   "metadata": {
    "collapsed": true
   },
   "outputs": [],
   "source": []
  },
  {
   "cell_type": "markdown",
   "metadata": {},
   "source": [
    "<div style=\"border-left: 3px solid #000; padding: 1px; padding-left: 10px; background: #F0FAFF; \">\n",
    "<p>\n",
    "Now we have a table (`df_tg_cells`) with all cells labeled by our three Cre lines. Next, we'll get ephys features for the cells in the Cell Types database and extract the properties for the cells in `df_tg_cells`.\n",
    "</p>\n",
    "</div>"
   ]
  },
  {
   "cell_type": "markdown",
   "metadata": {},
   "source": [
    "<div style=\"border-left: 3px solid #000; padding: 1px; padding-left: 10px; background: #F0FAFF; \">\n",
    "\n",
    "<h3> Get Ephys Features from CellTypesCache object</h3>\n",
    "<p>\n",
    "We can get ephys features as a list of dictionaries. The returned data provides a record of feature values for each cell in the database, and additionally includes essential metadata about the cell (specimen_id) and experiment (id).\n",
    "</p>\n",
    "</div>"
   ]
  },
  {
   "cell_type": "code",
   "execution_count": null,
   "metadata": {
    "collapsed": true
   },
   "outputs": [],
   "source": [
    "ephys_features_dict = ctc.get_ephys_features()\n",
    "ephys_features_dict[0]"
   ]
  },
  {
   "cell_type": "markdown",
   "metadata": {},
   "source": [
    "<div style=\"border-left: 3px solid #000; padding: 1px; padding-left: 10px; background: #F0FAFF; \">\n",
    "<p>\n",
    "Now we have a table (`df_tg_cells`) with all cells labeled by our three Cre lines. Next, we'll get ephys features for the cells in the Cell Types database and extract the properties for the cells in `df_tg_cells`.\n",
    "</p>\n",
    "</div>"
   ]
  },
  {
   "cell_type": "code",
   "execution_count": null,
   "metadata": {
    "collapsed": true
   },
   "outputs": [],
   "source": [
    "ephys_features_df = pd.DataFrame.from_records(ephys_features_dict)\n",
    "ephys_features_df.head(1)"
   ]
  },
  {
   "cell_type": "markdown",
   "metadata": {},
   "source": [
    "<div style=\"border-left: 3px solid #000; padding: 1px; padding-left: 10px; background: #F0FAFF; \">\n",
    "\n",
    "<h2> Merge `df_tg_cells` with `ephys_features_df` </h2>\n",
    "\n",
    "<p>Critical information: \n",
    "<ul> \n",
    "<li>The merge operation will generate an expanded table (new columns) keyed to the specimen_id </li>\n",
    "<li> The 'id' column of `df_tg_cells` corresponds to 'specimen_id' column of `ephys_features_df` </li>\n",
    "<li> how = 'left' will include only cells in left dataframe </li>\n",
    "<li> Following merge, each row (i.e. cell) now includes ephys features as additional columns</li> </p>\n",
    "</div>"
   ]
  },
  {
   "cell_type": "markdown",
   "metadata": {},
   "source": [
    "**Documentation:**\n",
    "[pandas.DataFrame.merge()](https://pandas.pydata.org/pandas-docs/stable/generated/pandas.DataFrame.merge.html)"
   ]
  },
  {
   "cell_type": "code",
   "execution_count": null,
   "metadata": {
    "collapsed": true
   },
   "outputs": [],
   "source": [
    "df = pd.merge(df_tg_cells,ephys_features_df,left_on='id',right_on='specimen_id',how='left')\n",
    "len(df_tg_cells), len(df)"
   ]
  },
  {
   "cell_type": "markdown",
   "metadata": {},
   "source": [
    "<div style=\"border-left: 3px solid #000; padding: 1px; padding-left: 10px; background: #F0FAFF; \">\n",
    "<p>\n",
    "The dataframe `df` now includes metadata and ephys features for each cell\n",
    "</p>\n",
    "</div>"
   ]
  },
  {
   "cell_type": "code",
   "execution_count": null,
   "metadata": {
    "collapsed": true
   },
   "outputs": [],
   "source": [
    "df.head(2)"
   ]
  },
  {
   "cell_type": "markdown",
   "metadata": {},
   "source": [
    "<div style=\"border-left: 3px solid #000; padding: 1px; padding-left: 10px; background: #F0FAFF; \">\n",
    "<p>Add column to `df` to store shorthand label for trangenic_line\n",
    "</p>\n",
    "</div>"
   ]
  },
  {
   "cell_type": "code",
   "execution_count": null,
   "metadata": {
    "collapsed": true
   },
   "outputs": [],
   "source": [
    "df['tg_label'] = [x.split('-')[0] for x in df.transgenic_line.values]"
   ]
  },
  {
   "cell_type": "code",
   "execution_count": null,
   "metadata": {
    "collapsed": true
   },
   "outputs": [],
   "source": [
    "df.tg_label.head()"
   ]
  },
  {
   "cell_type": "markdown",
   "metadata": {},
   "source": [
    "<div style=\"border-left: 3px solid #000; padding: 1px; padding-left: 10px; background: #F0FAFF; \">\n",
    "\n",
    "<h3> Examining an electrophysiological feature </h3>\n",
    "\n",
    "<p>\n",
    "Let's start by looking at something simple, like the input resistance (found in column `ri`). This reflects how much a cell will change its membrane potential for a given amount of current of current coming into the cell - cells with higher input resistances will experience a greater change in the membrane potential.\n",
    "\n",
    "Since we have the features in a `DataFrame`, we can use the pandas plotting function to visualize the data in a histogram. </p>\n",
    "</div>"
   ]
  },
  {
   "cell_type": "code",
   "execution_count": null,
   "metadata": {
    "collapsed": true
   },
   "outputs": [],
   "source": [
    "df[df.tg_label=='Htr3a']['ri'].plot(kind=\"hist\", bins=np.linspace(0, 500, 25))"
   ]
  },
  {
   "cell_type": "markdown",
   "metadata": {},
   "source": [
    "**Documentation:**\n",
    "[pandas.Series.plot()](https://pandas.pydata.org/pandas-docs/stable/generated/pandas.Series.plot.html)\n"
   ]
  },
  {
   "cell_type": "markdown",
   "metadata": {},
   "source": [
    "<div style=\"border-left: 3px solid #000; padding: 1px; padding-left: 10px; background: #F0FAFF; \">\n",
    "\n",
    "<h3> Viewing individual cells </h3>\n",
    "\n",
    "<p>\n",
    "The distribution looks multimodal - there is a peak around 100 MOhms and another around 250 MOhms. </p>\n",
    "\n",
    "<p> Let's split up those two peaks and look at views of some individual cells. On the website, we can summarize some of the electrophysiological and morphological properties of the cells with small thumbnail representations. These thumbnails are accessible via the website, as long as you have the cell's specimen ID. </p>\n",
    "\n",
    "<p>Not all cells have a morphological reconstruction; those that don't can't have a thumbnail. So we will need to only look at cells that have a reconstruction for this task. </p>\n",
    "\n",
    "</div>"
   ]
  },
  {
   "cell_type": "code",
   "execution_count": null,
   "metadata": {
    "collapsed": true
   },
   "outputs": [],
   "source": [
    "# These are the URLs for getting the thumbnails - we need to provide a specimen ID\n",
    "url_morph = \"http://celltypes.brain-map.org/mouse/thumbnail/morphology?id=\"\n",
    "url_ephys = \"http://celltypes.brain-map.org/mouse/thumbnail/ephys_trace?id=\"\n",
    "\n",
    "# We need these objects to view PNG files from the web inside the notebook\n",
    "from IPython.display import Image, display"
   ]
  },
  {
   "cell_type": "code",
   "execution_count": null,
   "metadata": {
    "collapsed": true
   },
   "outputs": [],
   "source": [
    "# Let's get the specimen_id of the first cell in the dataframe.\n",
    "unit_id = 50\n",
    "specimen_id = df.specimen_id[unit_id]\n",
    "\n",
    "# ...and plot its ephys thumbnail\n",
    "url = url_ephys + str(specimen_id)\n",
    "display(Image(url=url))\n",
    "\n",
    "# We also can check whether it has a reconstruction...\n",
    "print(\"Has reconstruction?\", df.has_reconstruction[unit_id])\n",
    "\n",
    "# ..and if so, show its morphology thumbnail\n",
    "\n",
    "if df.has_reconstruction[unit_id]:\n",
    "    url = url_morph + str(specimen_id)\n",
    "    display(Image(url=url))"
   ]
  },
  {
   "cell_type": "markdown",
   "metadata": {},
   "source": [
    "<div style=\"border-left: 3px solid #000; padding: 1px; padding-left: 10px; background: #F0FAFF; \">\n",
    "\n",
    "The reconstruction thumbnails show the reconstructed axons in blue and the dendrites in red. Not all neurons have their axons reconstructed, so a lack of blue doesn't usually mean the axon is actually small - it just means the data were not available. The morphology is shown to fill the thumbnail, and the histogram on the right shows where those processes fall in the full cortical depth (top is near the pia).\n",
    "</div>"
   ]
  },
  {
   "cell_type": "markdown",
   "metadata": {},
   "source": [
    "<div style=\"background: #DFF0D8; border-radius: 3px; padding: 10px;\">\n",
    "<p>**Exercise 1.6:**</p>\n",
    "\n",
    "<p>Get the IDs of the Htr3a cells that both (1) have an input resistance below 150 MOhm and (2) have a morphological reconstruction. How many cells meet these criteria? Show the ephys and morphology thumbnails of those cells.\n",
    "</p>\n",
    "\n",
    "<p>When you get the results, look at the cells - which traces look similar to each other? Which are different from others? Is there any correspondence between the morphology and physiology? Can you imagine other features that may separate these cells?\n",
    "</div>"
   ]
  },
  {
   "cell_type": "code",
   "execution_count": null,
   "metadata": {
    "collapsed": true
   },
   "outputs": [],
   "source": []
  },
  {
   "cell_type": "markdown",
   "metadata": {},
   "source": [
    "<div style=\"border-left: 3px solid #000; padding: 1px; padding-left: 10px; background: #F0FAFF; \">\n",
    "\n",
    "<h3> Comparing cell populations </h3>\n",
    "\n",
    "<p>Let's see if the two peaks in the Htr3a input resistance distribution are consistent with the Vip+ and Ndnf+ subpopulations of Htr3a+ interneurons.</p>\n",
    "\n",
    "</div>"
   ]
  },
  {
   "cell_type": "markdown",
   "metadata": {},
   "source": [
    "<div style=\"background: #DFF0D8; border-radius: 3px; padding: 10px;\">\n",
    "<p>**Exercise 1.7:**</p>\n",
    "\n",
    "<p>Compare the input resistance histograms of the Htr3a, Vip, and Ndnf cells. What relationship do you see? Can you think of ways of further investigating or refining this (very preliminary) analysis?\n",
    "</p>\n",
    "</div>"
   ]
  },
  {
   "cell_type": "code",
   "execution_count": null,
   "metadata": {
    "collapsed": true
   },
   "outputs": [],
   "source": []
  },
  {
   "cell_type": "markdown",
   "metadata": {},
   "source": [
    "<div style=\"border-left: 3px solid #000; padding: 1px; padding-left: 10px; background: #F0FAFF; \">\n",
    "\n",
    "<h3> Exploring additional precomputed features </h3>\n",
    "\n",
    "<p>The Cell Types database includes ~50 precomuted electrophysiological features for each cell. Some of these features are correlated with one another and this can be seen by making pairwise scatter plots.</p>\n",
    "</div>"
   ]
  },
  {
   "cell_type": "code",
   "execution_count": null,
   "metadata": {
    "collapsed": true
   },
   "outputs": [],
   "source": [
    "ephys_features_df.columns"
   ]
  },
  {
   "cell_type": "markdown",
   "metadata": {},
   "source": [
    "<div style=\"border-left: 3px solid #000; padding: 1px; padding-left: 10px; background: #F0FAFF; \">\n",
    "\n",
    "Plot two features againts one another\n",
    "</div>"
   ]
  },
  {
   "cell_type": "code",
   "execution_count": null,
   "metadata": {
    "collapsed": true
   },
   "outputs": [],
   "source": [
    "plt.plot(df['threshold_i_ramp'],df['ri'],'o')\n",
    "plt.xlabel('threshold_i_ramp')\n",
    "plt.ylabel('ri')"
   ]
  },
  {
   "cell_type": "markdown",
   "metadata": {},
   "source": [
    "<div style=\"border-left: 3px solid #000; padding: 1px; padding-left: 10px; background: #F0FAFF; \">\n",
    "\n",
    "Use <strong>seaborn</strong> package to easily make a grid of pairwise feature plots\n",
    "\n",
    "</div>"
   ]
  },
  {
   "cell_type": "code",
   "execution_count": null,
   "metadata": {
    "collapsed": true
   },
   "outputs": [],
   "source": [
    "import seaborn as sns"
   ]
  },
  {
   "cell_type": "code",
   "execution_count": null,
   "metadata": {
    "collapsed": false,
    "scrolled": false
   },
   "outputs": [],
   "source": [
    "# List of features to include in pairwise grid\n",
    "features = ['adaptation',\n",
    "            'avg_isi',\n",
    "            'ri',\n",
    "            'vrest',\n",
    "            'threshold_i_ramp',\n",
    "            'slow_trough_t_long_square',\n",
    "            'tg_label']\n",
    "\n",
    "df_tmp = df[features]\n",
    "df_tmp = df_tmp.dropna() # Drop rows that include NaN value in any column\n",
    "sns.pairplot(df_tmp,hue='tg_label')"
   ]
  },
  {
   "cell_type": "markdown",
   "metadata": {},
   "source": [
    "<div style=\"background: #DFF0D8; border-radius: 3px; padding: 10px;\">\n",
    "<p><strong>Exercise 1.8:</strong></p>\n",
    "\n",
    "<p>Make a new dataframe that contains cell data for the entire database (hint: merge `df_cells` with `ephys_features_df`). Make a scatter plot of features with 'spiny' and 'aspiny' cells shown in different colors. There are ~50 precomputed features to choose from--as starting point plot pairwise combinations of these features:\n",
    "<ul>\n",
    "<li>upstroke_downstroke_ratio_ramp</li>\n",
    "<li>ri</li>\n",
    "<li>threshold_i_ramp</li>\n",
    "<li>slow_trough_t_long_square</li>\n",
    "<li>log_avg_isi (Derive this new feature by adding a column to the dataframe and storing the computation log(avg_isi))</li></ul>\n",
    "</p>\n",
    "</div>"
   ]
  },
  {
   "cell_type": "code",
   "execution_count": null,
   "metadata": {
    "collapsed": true
   },
   "outputs": [],
   "source": []
  },
  {
   "cell_type": "markdown",
   "metadata": {},
   "source": [
    "<div style=\"border-left: 3px solid #000; padding: 1px; padding-left: 10px; background: #F0FAFF; \">\n",
    "<h2>2. Analyzing electrophysiology sweeps</h2>\n",
    "\n",
    "<p>\n",
    "Now we'll look at a different class of interneurons - the somatostatin-positive (Sst) cells. As we've seen, there are many features pre-calculated in the Allen Cell Types Database, but it may not have everything we're interested in looking at from the original data. For example, let's look at two Sst cells where we think we see a difference in the shape of the membrane potential response in between action potentials.\n",
    "</p>\n",
    "</div>"
   ]
  },
  {
   "cell_type": "code",
   "execution_count": null,
   "metadata": {
    "collapsed": true
   },
   "outputs": [],
   "source": [
    "example_sst_ids = [475049291, 313862274]\n",
    "for specimen_id in example_sst_ids:\n",
    "    print(specimen_id)\n",
    "    url = url_ephys + str(specimen_id)\n",
    "    display(Image(url=url))"
   ]
  },
  {
   "cell_type": "markdown",
   "metadata": {},
   "source": [
    "<div style=\"border-left: 3px solid #000; padding: 1px; padding-left: 10px; background: #F0FAFF; \">\n",
    "\n",
    "<p>\n",
    "We may not have a feature that illustrates this difference in the \"sharpness\" of the interspike interval shape. If we want to calculate other electrophysiology features, we'll need to look at where the data are stored - the NWB (Neurodata Without Borders) files. Each recorded cell has its own NWB file.\n",
    "</p>\n",
    "</div>"
   ]
  },
  {
   "cell_type": "code",
   "execution_count": null,
   "metadata": {
    "collapsed": true
   },
   "outputs": [],
   "source": [
    "cells = ctc.get_cells(reporter_status=[\"cre reporter positive\"])"
   ]
  },
  {
   "cell_type": "code",
   "execution_count": null,
   "metadata": {
    "collapsed": true
   },
   "outputs": [],
   "source": [
    "## this saves the NWB file to 'specimen_464212183/ephys.nwb' (or just gives a handle if you already saved it)\n",
    "specimen_id = 464212183\n",
    "data_set = ctc.get_ephys_data(specimen_id)"
   ]
  },
  {
   "cell_type": "markdown",
   "metadata": {},
   "source": [
    "**Documentation:**\n",
    "[CellTypesCache](http://alleninstitute.github.io/AllenSDK/allensdk.core.html#allensdk.core.cell_types_cache.CellTypesCache),\n",
    "[CellTypesCache.get_ephys_data()](http://alleninstitute.github.io/AllenSDK/allensdk.core.html#allensdk.core.cell_types_cache.CellTypesCache.get_ephys_data)"
   ]
  },
  {
   "cell_type": "markdown",
   "metadata": {},
   "source": [
    "<div style=\"border-left: 3px solid #000; padding: 1px; padding-left: 10px; background: #F0FAFF; \">\n",
    "\n",
    "<p>\n",
    "The electrophysiological data in a Cell Types NWB file is organized by \"sweeps.\" These sweeps represent specific periods during which a single stimulus is applied to the cell and the response is recorded. Different types of stimuli can be applied to the cell, and similar stimuli are grouped by type on the web app. For example, one-second long step current injections are grouped together under the name \"Long Squares.\" We refer to sweeps by their number, which are integers indicating the order in which the sweeps were collected.</p>\n",
    "\n",
    "<p>\n",
    "There are typically periods of time during an experiment between sweeps; this may be due to the experimentalist making some on-line adjustments, or may be intentional to allow the cell to return to some baseline after an intense stimulus. </p>\n",
    "\n",
    "<p>\n",
    "Returning to the example, we now have an object called `data_set` that provides access to the data in the NWB file through built-in methods. We can access sweep-level data like this:</p>\n",
    "</div>"
   ]
  },
  {
   "cell_type": "code",
   "execution_count": null,
   "metadata": {
    "collapsed": true
   },
   "outputs": [],
   "source": [
    "sweep_number = 30\n",
    "sweep_data = data_set.get_sweep(sweep_number)"
   ]
  },
  {
   "cell_type": "markdown",
   "metadata": {},
   "source": [
    "**Documentation:**\n",
    "[NwbDataSet](http://alleninstitute.github.io/AllenSDK/allensdk.core.html#allensdk.core.nwb_data_set.NwbDataSet), [NwbDataSet.get_sweep()](http://alleninstitute.github.io/AllenSDK/allensdk.core.html#allensdk.core.nwb_data_set.NwbDataSet.get_sweep)"
   ]
  },
  {
   "cell_type": "markdown",
   "metadata": {},
   "source": [
    "<div style=\"background: #DFF0D8; border-radius: 3px; padding: 10px;\">\n",
    "<p>**Exercise 2.1:**</p>\n",
    "\n",
    "<p>`data_set.get_sweep()` returns a dict with several key/value pairs. What are the data types of these values?</p>\n",
    "\n",
    "</div>"
   ]
  },
  {
   "cell_type": "code",
   "execution_count": null,
   "metadata": {
    "collapsed": true
   },
   "outputs": [],
   "source": []
  },
  {
   "cell_type": "markdown",
   "metadata": {},
   "source": [
    "<div style=\"border-left: 3px solid #000; padding: 1px; padding-left: 10px; background: #F0FAFF; \">\n",
    "\n",
    "<h3>Getting sweeps from an NWB file</h3>\n",
    "\n",
    "<p>Most of the sweeps in the Cell Types Database are recorded in current-clamp mode, meaning that a current stimulus is injected into the recorded cell, and a voltage response is recorded. The current data is stored in the NWB file in amperes, and the voltage data is in volts. However, it is usually more convenient to work with the data in picoamps and millivolts.</p>\n",
    "</div>"
   ]
  },
  {
   "cell_type": "markdown",
   "metadata": {},
   "source": [
    "<div style=\"background: #DFF0D8; border-radius: 3px; padding: 10px;\">\n",
    "<p>**Exercise 2.2:**</p>\n",
    "\n",
    "<p>Write code to put the stimulus (current) and response (voltage) from the sweep into variables `i` and `v`, respectively. Convert their units to pA and mV (the raw data are expressed in unscaled units).</p>\n",
    "</div>"
   ]
  },
  {
   "cell_type": "code",
   "execution_count": null,
   "metadata": {
    "collapsed": true
   },
   "outputs": [],
   "source": []
  },
  {
   "cell_type": "markdown",
   "metadata": {},
   "source": [
    "<div style=\"border-left: 3px solid #000; padding: 1px; padding-left: 10px; background: #F0FAFF; \">\n",
    "\n",
    "The time points are not included in the NWB file as a waveform, but we can generate one based on the sampling rate:\n",
    "</div>"
   ]
  },
  {
   "cell_type": "code",
   "execution_count": null,
   "metadata": {
    "collapsed": true
   },
   "outputs": [],
   "source": [
    "sampling_rate = sweep_data[\"sampling_rate\"] # in Hz"
   ]
  },
  {
   "cell_type": "markdown",
   "metadata": {},
   "source": [
    "<div style=\"background: #DFF0D8; border-radius: 3px; padding: 10px;\">\n",
    "<p>**Exercise 2.3:**</p>\n",
    "\n",
    "<p>Create a new array `t` that is the same length as `v` and `i` and contains the correct time points (in seconds) according to the sampling rate.</p>\n",
    "\n",
    "<p>See: [numpy.arange()](http://docs.scipy.org/doc/numpy/reference/generated/numpy.arange.html)</p>\n",
    "</div>"
   ]
  },
  {
   "cell_type": "code",
   "execution_count": null,
   "metadata": {
    "collapsed": true
   },
   "outputs": [],
   "source": []
  },
  {
   "cell_type": "markdown",
   "metadata": {
    "collapsed": true
   },
   "source": [
    "<div style=\"border-left: 3px solid #000; padding: 1px; padding-left: 10px; background: #F0FAFF; \">\n",
    "\n",
    "Finally, we can plot the data to see what it looks like.\n",
    "</div>"
   ]
  },
  {
   "cell_type": "code",
   "execution_count": null,
   "metadata": {
    "collapsed": true
   },
   "outputs": [],
   "source": [
    "fig, axes = plt.subplots(2, 1, sharex=True)\n",
    "axes[0].plot(t, v, color='black')\n",
    "axes[1].plot(t, i, color='gray')\n",
    "axes[0].set(ylabel=\"mV\")\n",
    "axes[1].set(ylabel=\"pA\", xlabel=\"seconds\")"
   ]
  },
  {
   "cell_type": "markdown",
   "metadata": {},
   "source": [
    "<div style=\"border-left: 3px solid #000; padding: 1px; padding-left: 10px; background: #F0FAFF; \">\n",
    "\n",
    "<h3>Calculating features of the ephys data</h3>\n",
    "\n",
    "<p>\n",
    "Plotting the data is great, but if we want to do some analysis on things like spike times, spike shapes, etc., we want to go through and extract these features from our raw data. This can be accomplished by using the feature extraction tools in the SDK.</p>\n",
    "</div>"
   ]
  },
  {
   "cell_type": "code",
   "execution_count": null,
   "metadata": {
    "collapsed": true
   },
   "outputs": [],
   "source": [
    "from allensdk.ephys.ephys_extractor import EphysSweepFeatureExtractor\n",
    "\n",
    "# This finds and analyzes features of spikes\n",
    "sweep_ext = EphysSweepFeatureExtractor(t=t, v=v, i=i, start=1.02, end=2.02)\n",
    "sweep_ext.process_spikes()\n",
    "\n",
    "# We can pull out some information from the sweep_ext object once that processing is done\n",
    "print(\"Avg spike threshold: {:.1f} mV\".format(sweep_ext.spike_feature(\"threshold_v\").mean()))\n",
    "print(\"Avg spike width: {:.2f} ms\".format(1e3 * np.nanmean(sweep_ext.spike_feature(\"width\"))))"
   ]
  },
  {
   "cell_type": "markdown",
   "metadata": {},
   "source": [
    "**Documentation:**\n",
    "[EphysSweepFeatureExtractor](http://alleninstitute.github.io/AllenSDK/allensdk.ephys.html#allensdk.ephys.ephys_extractor.EphysSweepFeatureExtractor)"
   ]
  },
  {
   "cell_type": "markdown",
   "metadata": {},
   "source": [
    "<div style=\"border-left: 3px solid #000; padding: 1px; padding-left: 10px; background: #F0FAFF; \">\n",
    "\n",
    "The method `spike_feature()` returns a NumPy array of features for each spike. You pass it the name of the feature that you want. Features that can't be calculated for a given spike are set to `NaN`.\n",
    "\n",
    "We can take a look at all the properties calculated for each spike by the extractor:</div>"
   ]
  },
  {
   "cell_type": "code",
   "execution_count": null,
   "metadata": {
    "collapsed": true
   },
   "outputs": [],
   "source": [
    "sweep_ext.spike_feature_keys()"
   ]
  },
  {
   "cell_type": "markdown",
   "metadata": {},
   "source": [
    "<div style=\"border-left: 3px solid #000; padding: 1px; padding-left: 10px; background: #F0FAFF; \">\n",
    "\n",
    "We can look at when the spikes occur by looking at the `threshold_t` property (i.e., time of spike threshold).</div>"
   ]
  },
  {
   "cell_type": "code",
   "execution_count": null,
   "metadata": {
    "collapsed": true
   },
   "outputs": [],
   "source": [
    "spike_times = sweep_ext.spike_feature(\"threshold_t\")\n",
    "\n",
    "print(spike_times[:5])  # print just the first 5 spike times"
   ]
  },
  {
   "cell_type": "markdown",
   "metadata": {},
   "source": [
    "<div style=\"border-left: 3px solid #000; padding: 1px; padding-left: 10px; background: #F0FAFF; \">\n",
    "\n",
    "Spike times and numbers of spikes are actually something that have already been calculated and stored elsewhere - if you're looking to get numbers of spikes for a big set of cells and/or sweeps, it's probably faster to get them via the database rather than re-calculating them all.</div>"
   ]
  },
  {
   "cell_type": "code",
   "execution_count": null,
   "metadata": {
    "collapsed": true
   },
   "outputs": [],
   "source": [
    "# Get a dictionary of data about each sweep\n",
    "sweep_info = ctc.get_ephys_sweeps(specimen_id)\n",
    "sweep_info[0]"
   ]
  },
  {
   "cell_type": "code",
   "execution_count": null,
   "metadata": {
    "collapsed": true
   },
   "outputs": [],
   "source": [
    "# Find the sweeps that use the \"Long Square\" protocol\n",
    "ls_sweeps = [s for s in sweep_info\n",
    "             if s[\"stimulus_name\"] == \"Long Square\"]"
   ]
  },
  {
   "cell_type": "code",
   "execution_count": null,
   "metadata": {
    "collapsed": true
   },
   "outputs": [],
   "source": [
    "# Print the number of spikes and stimulus amplitude\n",
    "for sweep in ls_sweeps:\n",
    "    print(np.round(sweep[\"stimulus_absolute_amplitude\"]), sweep[\"num_spikes\"])"
   ]
  },
  {
   "cell_type": "markdown",
   "metadata": {},
   "source": [
    "**Documentation:**\n",
    "[CellTypesCache.get_ephys_sweeps()](http://alleninstitute.github.io/AllenSDK/allensdk.core.html#allensdk.core.cell_types_cache.CellTypesCache.get_ephys_sweeps)"
   ]
  },
  {
   "cell_type": "markdown",
   "metadata": {},
   "source": [
    "<div style=\"border-left: 3px solid #000; padding: 1px; padding-left: 10px; background: #F0FAFF; \">\n",
    "\n",
    "<h3>Getting the interspike interval (ISI) membrane potential shape for Sst cells</h3>\n",
    "\n",
    "<p>Now we have the tools we need to derive ISI membrane potential information from our Sst (Cre line name: Sst-IRES-Cre) cells.</p>\n",
    "\n",
    "<p>Let's start by getting the cell IDs for Sst cells from the complete list of `cells`.</p>\n",
    "\n",
    "</div>"
   ]
  },
  {
   "cell_type": "markdown",
   "metadata": {},
   "source": [
    "<div style=\"background: #DFF0D8; border-radius: 3px; padding: 10px;\">\n",
    "<p>**Exercise 2.4:**</p>\n",
    "\n",
    "<p>Store the IDs of the non-spiny, Sst+ cells in a list called `sst_ids`. How many Sst cells are there?</p>\n",
    "\n",
    "</div>"
   ]
  },
  {
   "cell_type": "code",
   "execution_count": null,
   "metadata": {
    "collapsed": true
   },
   "outputs": [],
   "source": []
  },
  {
   "cell_type": "markdown",
   "metadata": {},
   "source": [
    "<div style=\"border-left: 3px solid #000; padding: 1px; padding-left: 10px; background: #F0FAFF; \">\n",
    "\n",
    "\n",
    "<p>The shape of the ISI can change depending on how fast the cell is firing, so if we want to be consistent across cells, we should look for sweeps of a similar firing rate. But what level should that be?</p>\n",
    "\n",
    "<p>We can look to the data to give us some idea.</p>\n",
    "\n",
    "</div>"
   ]
  },
  {
   "cell_type": "markdown",
   "metadata": {},
   "source": [
    "<div style=\"border-left: 3px solid #000; padding: 1px; padding-left: 10px; background: #F0FAFF; \">\n",
    "\n",
    "\n",
    "<p>For the first cell in the `sst_ids` list, plot the number of spikes against the stimulus amplitude for the sweeps that:</p>\n",
    "\n",
    "<ul>\n",
    "<li>Are \"Long Square\" type\n",
    "<li>Have a positive stimulus amplitude\n",
    "<li>Have at least one spike\n",
    "</ul>\n",
    "</div>"
   ]
  },
  {
   "cell_type": "code",
   "execution_count": null,
   "metadata": {
    "collapsed": true
   },
   "outputs": [],
   "source": [
    "example_id = sst_ids[20]\n",
    "dataset = ctc.get_ephys_data(example_id)\n",
    "\n",
    "sweep_info = ctc.get_ephys_sweeps(example_id)\n",
    "\n",
    "ls_sweeps = [s for s in sweep_info\n",
    "             if s[\"stimulus_name\"] == \"Long Square\"\n",
    "             and s[\"num_spikes\"] > 0\n",
    "             and s[\"stimulus_absolute_amplitude\"] > 0]\n",
    "\n",
    "amps = [np.round(s[\"stimulus_absolute_amplitude\"]) for s in ls_sweeps]\n",
    "amps -= np.min(amps) # Align data to minimum stimulus that evokes a response\n",
    "n_spikes = [s[\"num_spikes\"] for s in ls_sweeps]\n",
    "\n",
    "plt.plot(amps, n_spikes, 'o')"
   ]
  },
  {
   "cell_type": "markdown",
   "metadata": {},
   "source": [
    "<div style=\"background: #DFF0D8; border-radius: 3px; padding: 10px;\">\n",
    "<p>**Exercise 2.5:**</p>\n",
    "\n",
    "<p>Now, do the same thing for every Sst cell, and plot them all on the same plot. Use transparency (`alpha`) to help with overlaying so much data.\n",
    "</div>"
   ]
  },
  {
   "cell_type": "code",
   "execution_count": null,
   "metadata": {
    "collapsed": true
   },
   "outputs": [],
   "source": []
  },
  {
   "cell_type": "markdown",
   "metadata": {},
   "source": [
    "<div style=\"background: #DFF0D8; border-radius: 3px; padding: 10px;\">\n",
    "<p>**Exercise 2.6:**</p>\n",
    "\n",
    "<p>Create a `dict` called `sweep_matches` and populate it with the sweep_number of the long square sweep that has a firing rate closest to 10 spikes/sec (use the specimen ID as the key).</p>\n",
    "<p>However, don't include any sweeps that have less than 3 spikes (so for each sweep have at least 2 ISI events to average).</p></div>"
   ]
  },
  {
   "cell_type": "code",
   "execution_count": null,
   "metadata": {
    "collapsed": true
   },
   "outputs": [],
   "source": []
  },
  {
   "cell_type": "markdown",
   "metadata": {},
   "source": [
    "**Documentation:**\n",
    "[numpy.abs()](https://docs.scipy.org/doc/numpy/reference/generated/numpy.absolute.html), [numpy.argmin()](https://docs.scipy.org/doc/numpy/reference/generated/numpy.argmin.html)"
   ]
  },
  {
   "cell_type": "markdown",
   "metadata": {},
   "source": [
    "<div style=\"border-left: 3px solid #000; padding: 1px; padding-left: 10px; background: #F0FAFF; \">\n",
    "\n",
    "\n",
    "<p>We can now use the feature extractor to find the features of the spikes that will let us identify the interspike intervals. We'll define it as extending from the end of a spike (found in the feature called \"`fast_trough_index`\")  and the beginning of the next spike (found in the feature called \"`threshold_index`\".</p>\n",
    "\n",
    "<p>\n",
    "Here's a function that will calculate the average ISI. Look it over carefully and try to figure out what is happening at each step.</p>\n",
    "</div>"
   ]
  },
  {
   "cell_type": "code",
   "execution_count": null,
   "metadata": {
    "collapsed": true
   },
   "outputs": [],
   "source": [
    "from scipy import stats\n",
    "\n",
    "def average_isi_trajectory(dataset, sweep_num, n_points=100):\n",
    "    \"\"\"Average the membrane potential trajectory between spikes\n",
    "    \n",
    "    Parameters\n",
    "    ----------\n",
    "    dataset: NwbDataSet\n",
    "        Data set with the ephys sweeps\n",
    "    sweep: int\n",
    "        Sweep number\n",
    "    n_points: int\n",
    "        Number of points for the resampled trace (default 100)\n",
    "        \n",
    "    Returns\n",
    "    -------\n",
    "    avg_isi: ndarray\n",
    "        Averaged interspike interval membrane potential\n",
    "    \"\"\"\n",
    "    sweep = dataset.get_sweep(sweep_num)\n",
    "    \n",
    "    # Extract the data from the sweep\n",
    "    v = sweep[\"response\"] * 1e3 # to mV\n",
    "    t = np.arange(len(v)) / sweep[\"sampling_rate\"] # in seconds\n",
    "    \n",
    "    # For Long Squares, the stimulus begins at 1.02 s and ends at 2.02 s\n",
    "    ext = EphysSweepFeatureExtractor(v=v, t=t, start=1.02, end=2.02)\n",
    "    \n",
    "    # TODO: there's a bug in the SDK extractor we need to track down\n",
    "    try:\n",
    "        ext.process_spikes()\n",
    "    except:\n",
    "        return None\n",
    "    \n",
    "    # Get the starts and ends of the spikes\n",
    "    threshold_indexes = ext.spike_feature(\"threshold_index\").astype(int)\n",
    "    fast_trough_indexes = ext.spike_feature(\"fast_trough_index\").astype(int)\n",
    "\n",
    "    # We'll store the arrays in a list so we can average them afterwards\n",
    "    isis = [] \n",
    "    \n",
    "    # Get the end of a spike and the start of the next one spike\n",
    "    # Note the offsets in indexing of the fast_trough_indexes and threshold_indexes\n",
    "    # We're using zip() to pair up the appropriate values\n",
    "    for start, end in zip(fast_trough_indexes[:-1], threshold_indexes[1:]):\n",
    "        v_slice = v[start:end]\n",
    "        t_slice = t[start:end]\n",
    "        \n",
    "        # We use scipy.stats.binned_statistic() to resample to n_points\n",
    "        binned, _, _ = stats.binned_statistic(t_slice, v_slice, bins=n_points)\n",
    "        isis.append(binned)\n",
    "    \n",
    "    # We put the different ISIs on top of each other with np.vstack()\n",
    "    # then average down the column with mean(axis=0)\n",
    "    avg_isi = np.vstack(isis).mean(axis=0)\n",
    "    return avg_isi\n"
   ]
  },
  {
   "cell_type": "markdown",
   "metadata": {},
   "source": [
    "**Documentation:**\n",
    "[zip()](https://docs.python.org/2/library/functions.html#zip), [scipy.stats.binned_statistic()](https://docs.scipy.org/doc/scipy-0.19.0/reference/generated/scipy.stats.binned_statistic.html),\n",
    "[numpy.vstack()](https://docs.scipy.org/doc/numpy/reference/generated/numpy.vstack.html)"
   ]
  },
  {
   "cell_type": "markdown",
   "metadata": {},
   "source": [
    "<div style=\"background: #DFF0D8; border-radius: 3px; padding: 10px;\">\n",
    "<p>**Exercise 2.7:**</p>\n",
    "\n",
    "<p>Use the above function to populate a `dict` called `isi_traces` (keyed on specimen IDs) with the average ISI from the sweeps in `sweep_matches`. Plot them on top of each other (use transparency to help with overplotting).</p></div>"
   ]
  },
  {
   "cell_type": "code",
   "execution_count": null,
   "metadata": {
    "collapsed": true
   },
   "outputs": [],
   "source": []
  },
  {
   "cell_type": "markdown",
   "metadata": {},
   "source": [
    "<div style=\"background: #DFF0D8; border-radius: 3px; padding: 10px;\">\n",
    "<p>**Exercise 2.8:**</p>\n",
    "\n",
    "<p>You may be able to see some differences in the ISI shape, but, again, aligning the data may improve your ability to see patterns. Plot these traces again, but normalize the voltage so that they all start at 0 and end at 1.</p></div>"
   ]
  },
  {
   "cell_type": "code",
   "execution_count": null,
   "metadata": {
    "collapsed": true
   },
   "outputs": [],
   "source": []
  },
  {
   "cell_type": "markdown",
   "metadata": {},
   "source": [
    "<div style=\"background: #DFF0D8; border-radius: 3px; padding: 10px;\">\n",
    "<p>**Exercise 2.9:**</p>\n",
    "\n",
    "<p>This is the last exercise, and it is intentionally open-ended.</p>\n",
    "\n",
    "<p>Try to think of a feature (i.e. a number or maybe a set of numbers) that would capture the differences you see in the ISI shape. You may need to do something like average a particular interval or take the derivative of the trace.</p>\n",
    "\n",
    "<p>Implement your feature calculation in a function and apply it to the traces. See if it separates the cells as you think it should - you can plot the ephys thumbnails as we did above as one way of checking for that.</p>\n",
    "\n",
    "<p>Future directions you can go could be things like:</p>\n",
    "\n",
    "<ul>\n",
    "<li>Does this ISI shape difference correlate with other things I know about the cell (its depth in cortex? its morphology? other electrophysiological features?)?\n",
    "<li>How much does the feature you created change within a given cell as the stimulus amplitude changes?\n",
    "<li>Are differences more pronounced at lower spike rates? Higher spike rates?\n",
    "</ul>\n",
    "\n",
    "</div>"
   ]
  },
  {
   "cell_type": "code",
   "execution_count": null,
   "metadata": {
    "collapsed": true
   },
   "outputs": [],
   "source": []
  },
  {
   "cell_type": "code",
   "execution_count": null,
   "metadata": {
    "collapsed": true
   },
   "outputs": [],
   "source": []
  },
  {
   "cell_type": "markdown",
   "metadata": {},
   "source": [
    "<div style=\"border-left: 3px solid #000; padding: 1px; padding-left: 10px; background: #F0FAFF; \">\n",
    "\n",
    "<h2>Project Ideas</h2>\n",
    "\n",
    "<p>Here are some ideas to get you started in thinking about your projects.\n",
    "<li> Examine how ephys / morph features vary across Cre-line and/or cortical layer\n",
    "<li> Attempt to classify cells using ephys data/features (e.g., use machine learning to predict Cre line)\n",
    "<li> Perform classification of cells based on ephys features extracted from the experimental data and then from biophysical models; compare the two taxonomies.\n",
    "<li> Engineer new features or feature combinations from the raw data and see how they affect classification results. (For example, additional quantitative measures of evoked firing with sustained depolarization).\n",
    "<li> Investigate correlations between ephys features and morphological features (for the latter, create your own as necessary).\n",
    "<li> Look at whether truncation of apical dendrites is linked to differences in any ephys features\n",
    "<li> Investigate whether electrophysiological cell features systematically vary across the anterior-posterior or medial-lateral dimensions of the primary visual cortex. \n",
    "<li> Characterize the temporal precision and reliability of spiking responses to repeated sweeps of the noise stimulus. How consistent are evoked spike trains within vs between cells? Determine whether different cell populations (e.g. different Cre lines) vary consistently in their reliability/precision.  Do any electrophysiological or morphological features correlate with the temporal reliability of spiking.\n",
    "<li> Our electrophysiology recordings are 30 minutes long. We apply stringent versions of the most common cited quality control parameters in the neuroscience literature (based on access resistance, bias current, etc). But these are largely used for historical reasons, and there still could be measurable changes in the cell’s extracted features within the 30 minutes of recording (drift or perhaps variability). Determine whether features extracted from the beginning vs later in the recording are, and whether certain Cre lines are more sensitive to this problem than others.\n",
    "<li> Calculate “dendrite density clouds” after orienting and averaging morphologies\n",
    "<li> Look for correlations between ephys data and Gene Expression and Taxonomy in V1\n",
    "<li> Connect Brain Observatory functional properties to ephys intrinsic properties\n",
    "\n",
    "</div>"
   ]
  },
  {
   "cell_type": "markdown",
   "metadata": {},
   "source": [
    "<div style=\"border-left: 3px solid #000; padding: 1px; padding-left: 10px; background: #F0FAFF; \">\n",
    "\n",
    "<h2>Functions Ideas</h2>\n",
    "\n",
    "<li> cells for a given cre line\n",
    "<li> plot a set of cell thumbnails in a notebook via the web\n",
    "<li> v, i, and t for a given sweep & data set\n",
    "\n",
    "</div>"
   ]
  }
 ],
 "metadata": {
  "kernelspec": {
   "display_name": "Python 2",
   "language": "python",
   "name": "python2"
  },
  "language_info": {
   "codemirror_mode": {
    "name": "ipython",
    "version": 2
   },
   "file_extension": ".py",
   "mimetype": "text/x-python",
   "name": "python",
   "nbconvert_exporter": "python",
   "pygments_lexer": "ipython2",
   "version": "2.7.13"
  }
 },
 "nbformat": 4,
 "nbformat_minor": 2
}
