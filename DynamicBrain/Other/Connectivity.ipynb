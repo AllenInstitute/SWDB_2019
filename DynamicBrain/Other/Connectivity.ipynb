{
 "cells": [
  {
   "cell_type": "markdown",
   "metadata": {},
   "source": [
    "<img src=\"../resources/cropped-SummerWorkshop_Header.png\">  \n",
    "\n",
    "<h1 align=\"center\">Connectivity Workshop SWDB 2017 </h1> \n",
    "<h3 align=\"center\">Monday, August 21, 2017</h3>\n",
    "\n",
    "\n",
    "<p>This notebook will introduce you to the Allen Mouse Brain Connectivity Atlas and its associated SDK.  As an example use case we will consider the question \"Where do primary visual cortical neurons project?\"."
   ]
  },
  {
   "cell_type": "code",
   "execution_count": 4,
   "metadata": {
    "collapsed": false
   },
   "outputs": [],
   "source": [
    "# please make sure your drive_path is set, so that the notebook can find the data files on the hard drive\n",
    "\n",
    "# OS X\n",
    "# drive_path = '/Volumes/Brain2017/data/dynamic-brain-workshop/mouse_connectivity_cache'\n",
    "\n",
    "# Windows (a good guess)\n",
    "# drive_path = 'e:/data/dynamic-brain-workshop/mouse_connectivity_cache'\n",
    "\n",
    "# Linux (will vary; the following is possibly what Ubuntu will do)\n",
    "# drive_path = '/media/Brain2017/data/dynamic-brain-workshop/mouse_connectivity_cache'\n",
    "\n",
    "# AWS\n",
    "drive_path = '/data/dynamic-brain-workshop/mouse_connectivity_cache/'"
   ]
  },
  {
   "cell_type": "markdown",
   "metadata": {},
   "source": [
    "<div style=\"border-left: 3px solid #000; padding: 1px; padding-left: 10px; background: #F0FAFF; \">\n",
    "<h2>Mouse Connectivity SDK</h2>\n",
    "\n",
    "<p>\n",
    "Connectivity data can be accessed <a href=\"http://connectivity.brain-map.org/\">on the web</a>. This is useful for browsing and familiarizing yourself with the data, but for more in-depth analyses, it is often better to access data programmatically. The <a href=\"https://alleninstitute.github.io/AllenSDK/\">AllenSDK</a> provides Python-based tools to support that approach, and this notebook will introduce you to them.<p>\n",
    "\n",
    "<p>\n",
    "If you have not installed the `allensdk` python module yet, do so from a command prompt:</p>\n",
    "\n",
    "<p>\n",
    "   `> pip install allensdk` </p>\n",
    "    \n",
    "</div>"
   ]
  },
  {
   "cell_type": "code",
   "execution_count": null,
   "metadata": {
    "collapsed": true
   },
   "outputs": [],
   "source": [
    "# imports!\n",
    "\n",
    "# pandas for manipulating / viewing tables\n",
    "import pandas as pd\n",
    "\n",
    "# numpy, which needs no introduction\n",
    "import numpy as np\n",
    "\n",
    "# os for dealing with the file system\n",
    "import os\n",
    "\n",
    "# easy plotting\n",
    "import matplotlib.pyplot as plt\n",
    "\n",
    "# MouseConnectivityCache for downloading and storing mouse connectivity data\n",
    "from allensdk.core.mouse_connectivity_cache import MouseConnectivityCache\n",
    "\n",
    "# OntologiesApi\n",
    "from allensdk.api.queries.ontologies_api import OntologiesApi"
   ]
  },
  {
   "cell_type": "code",
   "execution_count": null,
   "metadata": {
    "collapsed": true
   },
   "outputs": [],
   "source": [
    "# settings!\n",
    "\n",
    "%matplotlib inline"
   ]
  },
  {
   "cell_type": "markdown",
   "metadata": {},
   "source": [
    "<div style=\"border-left: 3px solid #000; padding: 1px; padding-left: 10px; background: #F0FAFF; \">\n",
    "<center><h3>Where is the primary visual area in the mouse?</h3></center>\n",
    "\n",
    "We'll answer this question in two ways:\n",
    "<ul>\n",
    "<li>relatively: We want to know which structure(s) contain the primary visual.</li>\n",
    "<li>absolutely: We want to know where the primary visual area is located in physical space.</li>\n",
    "</ul>\n",
    "\n",
    "</div>"
   ]
  },
  {
   "cell_type": "markdown",
   "metadata": {},
   "source": [
    "<div style=\"border-left: 3px solid #000; padding: 1px; padding-left: 10px; background: #F0FAFF; \"><h4>The caching pattern:</h4>\n",
    "<p>We will be using the MouseConnectivityCache class to download and store data. This class requires from us:\n",
    "\n",
    "<ul>\n",
    "<li>a manifest file path. This path determines where data will be stored. Once you have instantiated your cache once, you can access downloaded data again by instantiating a new cache with the same manifest path.  We will be using pre-populated data directories.</li>\n",
    "<ul>\n",
    "<li><i>A MouseConnectivityCache is used to copy and cache data from the cell types database. If you create the MouseConnectivityCache instance with no arguments, then data is downloaded from the online repository:\n",
    "mcc = MouseConnectivityCache()</i></li>\n",
    "<p><li><i>Because we have limited internet bandwidth, the data you need is already provided on your external hard drive and AWS. To ensure this local data is used instead of the online repository, create the MouseConnectivityCache instance using the manifest_file argument:</i></li></p></ul>\n",
    "\n",
    "<li>a resolution for the data volumes that we will be downloading. The possible (isometric) resolutions are 10, 25, 50, and 100-microns, with 25 the default.</li>\n",
    "</ul>\n",
    "\n",
    "<p>As usual, you can use the built in help function to see the complete documentation.</p></div>"
   ]
  },
  {
   "cell_type": "code",
   "execution_count": null,
   "metadata": {
    "collapsed": true
   },
   "outputs": [],
   "source": [
    "# specify your path and isometric resolution\n",
    "manifest_file = os.path.join(drive_path, 'mouse_connectivity_manifest.json')\n",
    "resolution = 25\n",
    "\n",
    "# instantiate the cache object\n",
    "# after this step, the manifest file you specified should exist on your filesystem\n",
    "mcc = MouseConnectivityCache(manifest_file=manifest_file, resolution=resolution)"
   ]
  },
  {
   "cell_type": "markdown",
   "metadata": {},
   "source": [
    "<div style=\"border-left: 3px solid #000; padding: 1px; padding-left: 10px; background: #F0FAFF; \"><h3><center>The structure tree</center></h3>\n",
    "Anatomists at the Allen Institute have divided the adult mouse brain into ~1300 distinct structures. These are arranged in a tree, where coarsely specified structures (e.g. 'Isocortex') are near the root and finely specified structures (e.g \"Primary visual area, layer 4\") make up the leaves.\n",
    "\n",
    "<a href=\"http://atlas.brain-map.org/atlas?atlas=1\">Here</a> is a handy visualization of the tree (and atlas!).\n",
    "\n",
    "<p>You can download and access the structure tree by calling get_structure_tree on your MouseConnectivityCache instance.</div>"
   ]
  },
  {
   "cell_type": "code",
   "execution_count": null,
   "metadata": {
    "collapsed": true
   },
   "outputs": [],
   "source": [
    "# get the structure tree\n",
    "# this step should produce a file called 'structures.json' in the same directory as your manifest file\n",
    "structure_tree = mcc.get_structure_tree()"
   ]
  },
  {
   "cell_type": "code",
   "execution_count": null,
   "metadata": {
    "collapsed": false
   },
   "outputs": [],
   "source": [
    "# view the structure record for primary visual cortex\n",
    "visp = structure_tree.get_structures_by_name(['Primary visual area'])\n",
    "\n",
    "# the data structure returned by this method is a list of dictionaries:\n",
    "visp"
   ]
  },
  {
   "cell_type": "code",
   "execution_count": null,
   "metadata": {
    "collapsed": false
   },
   "outputs": [],
   "source": [
    "# we can make a nicer table view using pandas:\n",
    "pd.DataFrame(visp)"
   ]
  },
  {
   "cell_type": "markdown",
   "metadata": {},
   "source": [
    "<div style=\"border-left: 3px solid #000; padding: 1px; padding-left: 10px; background: #F0FAFF; \">\n",
    "See <a href='http://alleninstitute.github.io/AllenSDK/_static/examples/nb/reference_space.html'>here</a> for definitions of these fields. The most relevant ones for us right now are:\n",
    "\n",
    "<ul>\n",
    "<li>id: A unique integer identifier for this structure</li>\n",
    "<li>name: The structure's full name</li>\n",
    "<li>acronym: A shortened version of the structure's name</li>\n",
    "<li>structure_id_path: a list of structures from the root of the tree (left) to the selected structure record.</li>\n",
    "</ul>\n",
    "</div>"
   ]
  },
  {
   "cell_type": "markdown",
   "metadata": {},
   "source": [
    "<div style=\"border-left: 3px solid #000; padding: 1px; padding-left: 10px; background: #F0FAFF; \">\n",
    "<h4>Mapping ids to names</h4>\n",
    "\n",
    "<p>We can identify a structure by:\n",
    "<ul>\n",
    "<li>Its id</li>\n",
    "<li>Its name</li>\n",
    "<li>Its acronym</li>\n",
    "</ul>\n",
    "\n",
    "<p>Frequently, we want to switch between these. For instance, we might want to know the name of VISp's parent (structure 669 from the structure_id_path). The structure tree can be used to generate a map from ids to names:\n",
    "</div>"
   ]
  },
  {
   "cell_type": "code",
   "execution_count": null,
   "metadata": {
    "collapsed": false
   },
   "outputs": [],
   "source": [
    "name_map = structure_tree.get_name_map()\n",
    "parent_id = structure_tree.parent_id([385])[0] # structure tree methods accept and return lists\n",
    "name_map[parent_id]"
   ]
  },
  {
   "cell_type": "code",
   "execution_count": null,
   "metadata": {
    "collapsed": false
   },
   "outputs": [],
   "source": [
    "# The structure tree also has a built-in map for going from acronyms to ids:\n",
    "acronym_to_id_map = structure_tree.get_id_acronym_map()\n",
    "acronym_to_id_map['VISp']"
   ]
  },
  {
   "cell_type": "markdown",
   "metadata": {},
   "source": [
    "<div style=\"border-left: 3px solid #000; padding: 1px; padding-left: 10px; background: #F0FFF0; \">\n",
    "<h4> Excercise: mapping acronyms to names</h4>\n",
    "\n",
    "<p>Write a function with the following signature:</p>\n",
    "</div>"
   ]
  },
  {
   "cell_type": "markdown",
   "metadata": {},
   "source": [
    "```python\n",
    "def get_acronym_name_map(structure_tree):\n",
    "    '''Builds a dictionary mapping structure acronyms to names.\n",
    "    \n",
    "    Parameters\n",
    "    ----------\n",
    "    structure_tree : StructureTree\n",
    "        The complete structure tree.\n",
    "        \n",
    "    Returns\n",
    "    -------\n",
    "    acronym_name_map : dict\n",
    "        Keys are acronyms (str); values are names (str).\n",
    "    \n",
    "    '''\n",
    "    \n",
    "    # your code here\n",
    "    \n",
    "    return acronym_name_map\n",
    "```"
   ]
  },
  {
   "cell_type": "code",
   "execution_count": null,
   "metadata": {
    "collapsed": true
   },
   "outputs": [],
   "source": []
  },
  {
   "cell_type": "code",
   "execution_count": null,
   "metadata": {
    "collapsed": false
   },
   "outputs": [],
   "source": [
    "acronym_name_map = get_acronym_name_map(structure_tree)\n",
    "acronym_name_map['VISp']"
   ]
  },
  {
   "cell_type": "markdown",
   "metadata": {},
   "source": [
    "<div style=\"border-left: 3px solid #000; padding: 1px; padding-left: 10px; background: #F0FFF0; \">\n",
    "<h4> Excercise: where is VISp in the structure tree?</h4>\n",
    "\n",
    "Where is the primary visual area? One way to answer this question would be to name structures containing VISp. These are:\n",
    "<ol>\n",
    "<li>Visual Areas</li>\n",
    "<li>Isocortex</li>\n",
    "<li>...</li>\n",
    "<li>root</li>\n",
    "</ol>\n",
    "\n",
    "In this excercise we will write a function that determines the nth ancestor of a given structure. Use the following signature:\n",
    "</div>"
   ]
  },
  {
   "cell_type": "markdown",
   "metadata": {},
   "source": [
    "```python\n",
    "def where_in_the_tree(structure_tree, structure_name, steps=1):\n",
    "    '''Names a structure which contains the supplied structure\n",
    "    \n",
    "    Parameters\n",
    "    ----------\n",
    "    structure_tree : StructureTree\n",
    "        The tree in which structures will be looked up.\n",
    "    structure_name : str\n",
    "        The name of the structure whose ancestor we wish to find\n",
    "    steps : int, optional\n",
    "        How far rootward to walk. 1 gives the direct parent.\n",
    "        \n",
    "    Returns\n",
    "    -------\n",
    "    ancestor_name : str\n",
    "        The full name of the requested ancestor structure.\n",
    "    \n",
    "    Examples\n",
    "    --------\n",
    "    >>>where_in_the_tree(structure_tree, 'Primary visual area', 2)\n",
    "    u'Isocortex'\n",
    "    >>>where_in_the_tree(structure_tree, 'Hippocampal formation', 0)\n",
    "    u'Hippocampal formation'\n",
    "    >>>where_in_the_tree(structure_tree, 'Cerebrum', 10000)\n",
    "    None\n",
    "    '''\n",
    "    \n",
    "    # your code here\n",
    "    \n",
    "    return ancestor_name\n",
    "\n",
    "```"
   ]
  },
  {
   "cell_type": "code",
   "execution_count": null,
   "metadata": {
    "collapsed": true
   },
   "outputs": [],
   "source": []
  },
  {
   "cell_type": "code",
   "execution_count": null,
   "metadata": {
    "collapsed": false
   },
   "outputs": [],
   "source": [
    "print(where_in_the_tree(structure_tree, 'Primary visual area', 2))\n",
    "print(where_in_the_tree(structure_tree, 'Hippocampal formation', 0))"
   ]
  },
  {
   "cell_type": "markdown",
   "metadata": {
    "collapsed": true
   },
   "source": [
    "<div style=\"border-left: 3px solid #000; padding: 1px; padding-left: 10px; background: #F0FAFF; \">\n",
    "<h3><center>Working in 3d space</center></h3>\n",
    "\n",
    "Anatomic variability across mice is a fundamental problem for our connectivity dataset. How can we ask questions about VISp if its location, size, and shape are different on every brain?\n",
    "\n",
    "<p>We resolved this issue by generating an average template volume from 1675 mouse brain image stacks and registering each of our connectivity datasets to this average template. This allows us to work in a shared 3d space, which we call the Common Coordinate Framework</p>\n",
    "\n",
    "<p>You can view the average template volume using your MouseConnectivityCache:</p>\n",
    "\n",
    "</div>"
   ]
  },
  {
   "cell_type": "code",
   "execution_count": null,
   "metadata": {
    "collapsed": false
   },
   "outputs": [],
   "source": [
    "# load up the average template\n",
    "template, header = mcc.get_template_volume()\n",
    "\n",
    "# recall that this cache is at 25 micron isometric resolution\n",
    "plt.imshow(template[200, :, :], interpolation='none', cmap=plt.cm.gray)\n",
    "\n",
    "# how big?\n",
    "print(template.shape)"
   ]
  },
  {
   "cell_type": "markdown",
   "metadata": {},
   "source": [
    "<div style=\"border-left: 3px solid #000; padding: 1px; padding-left: 10px; background: #F0FAFF; \">\n",
    "<p>The template is oriented:</p>\n",
    "<ul>\n",
    "<li>anterior -> posterior</li>\n",
    "<li>superior -> inferior</li>\n",
    "<li>left -> right</li>\n",
    "</ul>\n",
    "\n",
    "<p>This means that to obtain a sagittal view, we must slice along axis 2:</p>\n",
    "</div>"
   ]
  },
  {
   "cell_type": "code",
   "execution_count": null,
   "metadata": {
    "collapsed": false
   },
   "outputs": [],
   "source": [
    "plt.imshow(template[:, :, 125].T, interpolation='none', cmap=plt.cm.gray)"
   ]
  },
  {
   "cell_type": "markdown",
   "metadata": {},
   "source": [
    "<div style=\"border-left: 3px solid #000; padding: 1px; padding-left: 10px; background: #F0FAFF; \">\n",
    "and along axis 1 for a horizontal section:</div>"
   ]
  },
  {
   "cell_type": "code",
   "execution_count": null,
   "metadata": {
    "collapsed": false
   },
   "outputs": [],
   "source": [
    "plt.imshow(template[:, 75, :], interpolation='none', cmap=plt.cm.gray)"
   ]
  },
  {
   "cell_type": "markdown",
   "metadata": {},
   "source": [
    "<div style=\"border-left: 3px solid #000; padding: 1px; padding-left: 10px; background: #F0FAFF; \">\n",
    "<h4>The annotation volume</h4>\n",
    "\n",
    "<p>Each (brain) voxel in the CCF is associated with a structure in the structure tree. This mapping is recorded in the annotation volume, which occupies the same space as the average template. The value of each voxel in the annotation volume is the id of the most specific structure occupying that point in space.</p>\n",
    "</div>"
   ]
  },
  {
   "cell_type": "code",
   "execution_count": null,
   "metadata": {
    "collapsed": false
   },
   "outputs": [],
   "source": [
    "# you can obtain a reference space object from your mouse connectivity cache\n",
    "# this object handles tasks that require both a structure tree and an annotation volume\n",
    "reference_space =  mcc.get_reference_space()\n",
    "\n",
    "# One such task is to apply our predefined structure colors to \n",
    "# a slice from the annotation volume\n",
    "slice_image = reference_space.get_slice_image(1, 1875) # this method wants an axis and a position in microns\n",
    "plt.imshow(slice_image, interpolation='none')"
   ]
  },
  {
   "cell_type": "code",
   "execution_count": null,
   "metadata": {
    "collapsed": true
   },
   "outputs": [],
   "source": [
    "# you can load up the raw annotation using your MouseConnectivityCache\n",
    "annotation, _ = mcc.get_annotation_volume()"
   ]
  },
  {
   "cell_type": "markdown",
   "metadata": {},
   "source": [
    "<div style=\"border-left: 3px solid #000; padding: 1px; padding-left: 10px; background: #F0FAFF; \">\n",
    "\n",
    "We want to find VISp, whose structure id is 385. How about:\n",
    "</div>"
   ]
  },
  {
   "cell_type": "code",
   "execution_count": null,
   "metadata": {
    "collapsed": false
   },
   "outputs": [],
   "source": [
    "np.where(annotation == 385)"
   ]
  },
  {
   "cell_type": "markdown",
   "metadata": {},
   "source": [
    "<div style=\"border-left: 3px solid #000; padding: 1px; padding-left: 10px; background: #F0FAFF; \">\n",
    "Why did nothing show up? Recall that the annotation only labels the finest structure division at each voxel. VISp has several substructures:\n",
    "</div>"
   ]
  },
  {
   "cell_type": "code",
   "execution_count": null,
   "metadata": {
    "collapsed": false
   },
   "outputs": [],
   "source": [
    "visp_children = structure_tree.children([385])[0]\n",
    "pd.DataFrame(visp_children)"
   ]
  },
  {
   "cell_type": "code",
   "execution_count": null,
   "metadata": {
    "collapsed": false
   },
   "outputs": [],
   "source": [
    "# VISp, like other cortical structures, is subdivided into layers. \n",
    "# Voxels are directly assigned to the layer structures instead of to VISp\n",
    "np.where(annotation==821) # 821 <==> VISp layer 2/3"
   ]
  },
  {
   "cell_type": "markdown",
   "metadata": {},
   "source": [
    "<div style=\"border-left: 3px solid #000; padding: 1px; padding-left: 10px; background: #F0FAFF; \">\n",
    "A couple of caveats regarding the annotation:\n",
    "<ol>\n",
    "<li>It is possible for a structure and its substructures to all be directly annotated. An example would be hypothalamus, which has nuclei labeled where and only where they are distinctly identifiable.</li>\n",
    "<li>Not all structures in the structure tree are annotated or have annotated substructures.</li>\n",
    "</ol>\n",
    "</div>"
   ]
  },
  {
   "cell_type": "markdown",
   "metadata": {},
   "source": [
    "<div style=\"border-left: 3px solid #000; padding: 1px; padding-left: 10px; background: #F0FAFF; \">\n",
    "<h4>Structure masks</h4>\n",
    "\n",
    "<p>The annotation volume and structure tree contain a lot of information in a compact form. It can be simpler to work with more explicit representations of individual structures. We often use binary indicator masks for specific structures. These are:</p>\n",
    "<ul>\n",
    "<li>volumes in the common coordinate framework</li>\n",
    "<li>1 where the annotation is labeled with a structure or its descendants, otherwise 0</li>\n",
    "</ul>\n",
    "</div>"
   ]
  },
  {
   "cell_type": "code",
   "execution_count": null,
   "metadata": {
    "collapsed": false
   },
   "outputs": [],
   "source": [
    "# view a structure mask for VISp\n",
    "visp_mask, _ = mcc.get_structure_mask(385)\n",
    "plt.imshow(visp_mask[:, :, 125].T, interpolation='none', cmap=plt.cm.gray)\n",
    "plt.imshow(template[:, :, 125].T, interpolation='none', cmap=plt.cm.gray, alpha=0.4)"
   ]
  },
  {
   "cell_type": "code",
   "execution_count": null,
   "metadata": {
    "collapsed": false
   },
   "outputs": [],
   "source": [
    "# we can now easily locate VISp-labeled voxels in space:\n",
    "np.where(visp_mask)"
   ]
  },
  {
   "cell_type": "markdown",
   "metadata": {},
   "source": [
    "<div style=\"border-left: 3px solid #000; padding: 1px; padding-left: 10px; background: #F0FAFF; \">\n",
    "It is easy to mask out data. The following syntax will do:\n",
    "</div>"
   ]
  },
  {
   "cell_type": "code",
   "execution_count": null,
   "metadata": {
    "collapsed": false
   },
   "outputs": [],
   "source": [
    "visp_template = template.copy()\n",
    "\n",
    "# we use 0 here for the masked value because pyplot.imshow doesn't play nice with nan.\n",
    "# This is not necessarily the right choice for your application!\n",
    "visp_template[visp_mask == 0] = 0\n",
    "plt.imshow(visp_template[:, :, 125].T, interpolation='none', cmap=plt.cm.gray)"
   ]
  },
  {
   "cell_type": "code",
   "execution_count": null,
   "metadata": {
    "collapsed": false
   },
   "outputs": [],
   "source": [
    "# We can now ask questions about the template while restricting our inquiry to VISp\n",
    "# for instance, to find the mean voxelwise template intensity within visp:\n",
    "visp_template.sum() / np.count_nonzero(visp_mask)"
   ]
  },
  {
   "cell_type": "markdown",
   "metadata": {},
   "source": [
    "<div style=\"border-left: 3px solid #000; padding: 1px; padding-left: 10px; background: #F0FFF0; \">\n",
    "<h4> Excercise: Regional template statistics</h4>\n",
    "\n",
    "Write a function that computes percentiles of average template intensities in selected structures. Use it to compare the median intensity in white and gray matter.\n",
    "\n",
    "\n",
    "hint: check out <a href=\"https://docs.scipy.org/doc/numpy-dev/reference/generated/numpy.percentile.html\">numpy's percentile function</a>\n",
    "</div>"
   ]
  },
  {
   "cell_type": "markdown",
   "metadata": {},
   "source": [
    "```python\n",
    "def get_template_intensity_percentiles(mouse_connectivity_cache, structure_ids, n=None):\n",
    "    '''Computes the nth percentile(s) of the average template volume's intensity within a particular subset of structures.\n",
    "    \n",
    "    Parameters\n",
    "    ----------\n",
    "    mouse_connectivity_cache : MouseConnectivityCache\n",
    "    structure_ids : array-like of int\n",
    "    n : array-like of float, optional\n",
    "    \n",
    "    Returns\n",
    "    -------\n",
    "    percentiles : array-like of float\n",
    "        The nth percentiles. Uses the lower value when a percentile falls between two data.\n",
    "    \n",
    "    '''\n",
    "    \n",
    "    # your code here\n",
    "    \n",
    "    return percentiles\n",
    "    \n",
    "```"
   ]
  },
  {
   "cell_type": "code",
   "execution_count": null,
   "metadata": {
    "collapsed": true
   },
   "outputs": [],
   "source": []
  },
  {
   "cell_type": "code",
   "execution_count": null,
   "metadata": {
    "collapsed": false
   },
   "outputs": [],
   "source": [
    "# find the appropriate ids\n",
    "structure_tree.get_structures_by_name(['fiber tracts', 'Basic cell groups and regions'])"
   ]
  },
  {
   "cell_type": "code",
   "execution_count": null,
   "metadata": {
    "collapsed": false
   },
   "outputs": [],
   "source": [
    "gm = get_median_template_intensity(mcc, [8])\n",
    "wm = get_median_template_intensity(mcc, [1009])\n",
    "\n",
    "print('gray: ' + str(gm))\n",
    "print('white: ' + str(wm))"
   ]
  },
  {
   "cell_type": "markdown",
   "metadata": {},
   "source": [
    "<div style=\"border-left: 3px solid #000; padding: 1px; padding-left: 10px; background: #F0FAFF; \">\n",
    "<center><h3>Which experiments have injections into VISp?</h3></center>\n",
    "\n",
    "<p>Now that we have located primary visual cortex in the ontology tree and in physical space, we are ready to look at some connectivity experiments.</p>\n",
    "<p>On <a href=\"http://connectivity.brain-map.org\">connectivity.brain-map.org</a> you can do a <i>source search</i> to list experiments by the region into which viral tracer was injected. It is possible to do a similar search programmatically using the SDK.</p>\n",
    "</div>"
   ]
  },
  {
   "cell_type": "code",
   "execution_count": null,
   "metadata": {
    "collapsed": false
   },
   "outputs": [],
   "source": [
    "# get a table of VISp experiments. This is a list of dictionaries.\n",
    "visp_experiments = mcc.get_experiments(injection_structure_ids=[385])\n",
    "\n",
    "# get a count\n",
    "print(len(visp_experiments))"
   ]
  },
  {
   "cell_type": "code",
   "execution_count": null,
   "metadata": {
    "collapsed": false
   },
   "outputs": [],
   "source": [
    "# look at one of them\n",
    "visp_experiments[150]"
   ]
  },
  {
   "cell_type": "markdown",
   "metadata": {},
   "source": [
    "<div style=\"border-left: 3px solid #000; padding: 1px; padding-left: 10px; background: #F0FAFF; \">\n",
    "Some particularly important fields here:\n",
    "<ul>\n",
    "<li>id : Like structures, each experiment has a unique id.</li>\n",
    "<li>injection-structures : This is a list of structures that overlapped the injection site. VISp comes first, indicating that it overlapped most heavily. We call VISp the \"primary injection site\" for this experiment.</li>\n",
    "<li>transgenic-line : Is this a wildtype mouse, or is fluorescence genetically restricted to a subset of neurons? This mouse is of the Scnn1a-Tg3 line. If it were wildtype, this field would be an empty string.</li>\n",
    "</ul>\n",
    "</div>"
   ]
  },
  {
   "cell_type": "markdown",
   "metadata": {},
   "source": [
    "<div style=\"border-left: 3px solid #000; padding: 1px; padding-left: 10px; background: #f0f0ff; \">\n",
    "<h4> Website/SDK Exercise: Locate an experiment on the website using the experiment id</h4>\n",
    "\n",
    "<p>Find the experiment above on <a href=\"http://connectivity.brain-map.org\">connectivity.brain-map.org</a> and verify that the primary injection structures and transgnic line information matches what you see here.</p>\n",
    "</div>"
   ]
  },
  {
   "cell_type": "code",
   "execution_count": null,
   "metadata": {
    "collapsed": true
   },
   "outputs": [],
   "source": []
  },
  {
   "cell_type": "markdown",
   "metadata": {},
   "source": [
    "<i>The easiest way to do this is to click on any experiment and open its \"info\" tab by clicking on the i in the top right corner. In the new window that opens up after clicking, paste your experiment id in place of the existing experiment id</i>"
   ]
  },
  {
   "cell_type": "markdown",
   "metadata": {},
   "source": [
    "<div style=\"border-left: 3px solid #000; padding: 1px; padding-left: 10px; background: #f0f0ff; \"><h4> Website/SDK Exercise: Find the number of VISp injection experiments that have been performed.</h4>\n",
    "<p>Verify that you get the same answer using a website search and using the SDK\n",
    "</div>"
   ]
  },
  {
   "cell_type": "code",
   "execution_count": null,
   "metadata": {
    "collapsed": true
   },
   "outputs": [],
   "source": []
  },
  {
   "cell_type": "markdown",
   "metadata": {},
   "source": [
    "<i>This question can be answered either by doing a source search on http://connectivity.brain-map.org or using len(visp_experiments)</i>"
   ]
  },
  {
   "cell_type": "markdown",
   "metadata": {},
   "source": [
    "<div style=\"border-left: 3px solid #000; padding: 1px; padding-left: 10px; background: #F0FFF0; \">\n",
    "<h4> Excercise: Transgenic line counts</h4>\n",
    "\n",
    "<p>Many of our projection experiments are carried out in transgenic mice. Infected neurons in these mice fluoresce only if they also express a specific gene. Determine how many VISp experiments were carried out in each transgenic line.</p>\n",
    "\n",
    "<p>note: we use an empty string for wildtype</p>\n",
    "</div>"
   ]
  },
  {
   "cell_type": "code",
   "execution_count": null,
   "metadata": {
    "collapsed": true
   },
   "outputs": [],
   "source": []
  },
  {
   "cell_type": "code",
   "execution_count": null,
   "metadata": {
    "collapsed": false
   },
   "outputs": [],
   "source": [
    "line_counts"
   ]
  },
  {
   "cell_type": "markdown",
   "metadata": {},
   "source": [
    "<div style=\"border-left: 3px solid #000; padding: 1px; padding-left: 10px; background: #f0f0ff; \"><h4> Website/SDK Exercise: Find the number of VISp injection experiments that have been performed.</h4>\n",
    "<p>Cross-check <b>one</b> of these transgenic line experiment counts with what you find on the Allen Institute website.</p>\n",
    "</div>"
   ]
  },
  {
   "cell_type": "code",
   "execution_count": null,
   "metadata": {
    "collapsed": true
   },
   "outputs": [],
   "source": []
  },
  {
   "cell_type": "markdown",
   "metadata": {},
   "source": [
    "<div style=\"border-left: 3px solid #000; padding: 1px; padding-left: 10px; background: #F0FAFF; \">\n",
    "<center><h3>Gridded projection data</h3></center>\n",
    "\n",
    "<p>Since each connectivity experiment is registered to the CCF, we can load connectivity data in the same way as we do the average template or annotation volume.</p>\n",
    "\n",
    "Here we will load an experiment's projection density volume. These data:\n",
    "<ul>\n",
    "<li>are floats in [0, 1]</li>\n",
    "<li>represent the fraction of each voxel that is occupied by signal (as detected in the segmentation stage)</li>\n",
    "<li>are independent of the injection site (so it makes sense to discuss \"projection in the injection site\")</li>\n",
    "</ul>\n",
    "</div>"
   ]
  },
  {
   "cell_type": "code",
   "execution_count": null,
   "metadata": {
    "collapsed": true
   },
   "outputs": [],
   "source": [
    "prdens, _ = mcc.get_projection_density(159550125)"
   ]
  },
  {
   "cell_type": "code",
   "execution_count": null,
   "metadata": {
    "collapsed": true
   },
   "outputs": [],
   "source": [
    "def axis_proj(data, template, axis, bg_q=90, bg_alpha=0.5):\n",
    "    # let's make some pictures\n",
    "    \n",
    "    data_max = np.amax(data, axis=axis)\n",
    "    template_bg = np.percentile(template, axis=axis, q=bg_q)\n",
    "    \n",
    "    plt.imshow(data_max, interpolation='none', cmap=plt.cm.afmhot)\n",
    "    plt.imshow(template_bg, interpolation='none', cmap=plt.cm.gray, alpha=0.5)"
   ]
  },
  {
   "cell_type": "code",
   "execution_count": null,
   "metadata": {
    "collapsed": false
   },
   "outputs": [],
   "source": [
    "# make a max projection along the anterior-posterior axis for visualization\n",
    "axis_proj(prdens, template, 0)"
   ]
  },
  {
   "cell_type": "code",
   "execution_count": null,
   "metadata": {
    "collapsed": false
   },
   "outputs": [],
   "source": [
    "# now filter the signal to thalamus\n",
    "thalamus_mask, _ = mcc.get_structure_mask(549)\n",
    "\n",
    "prdens_th = prdens.copy()\n",
    "prdens_th[thalamus_mask == 0] = 0\n",
    "axis_proj(prdens_th, template, 0)"
   ]
  },
  {
   "cell_type": "markdown",
   "metadata": {},
   "source": [
    "<div style=\"border-left: 3px solid #000; padding: 1px; padding-left: 10px; background: #F0FAFF; \">\n",
    "\n",
    "Another useful data volume is the injection fraction. This shows the fraction of each voxel that lies within this experiment's manually annotated injection site\n",
    "</div>"
   ]
  },
  {
   "cell_type": "code",
   "execution_count": null,
   "metadata": {
    "collapsed": true
   },
   "outputs": [],
   "source": [
    "ijfr, _ = mcc.get_injection_fraction(159550125)"
   ]
  },
  {
   "cell_type": "code",
   "execution_count": null,
   "metadata": {
    "collapsed": false
   },
   "outputs": [],
   "source": [
    "axis_proj(ijfr, template, 0)"
   ]
  },
  {
   "cell_type": "markdown",
   "metadata": {},
   "source": [
    "<div style=\"border-left: 3px solid #000; padding: 1px; padding-left: 10px; background: #F0FFF0; \">\n",
    "<h4> Excercise: Structure-level density</h4>\n",
    "\n",
    "Write a function that determines the density of signal within a structure (i.e. the fraction of pixels in all the voxels in that structure that were detected as signal). \n",
    "\n",
    "In this experiment, what is the density in VISp? What about thalamus?\n",
    "</div>"
   ]
  },
  {
   "cell_type": "markdown",
   "metadata": {},
   "source": [
    "```python\n",
    "def fraction_of_structure(mouse_connectivity_cache, structure_id, experiment_id):\n",
    "    '''Computes the fraction of pixels in a specified structure that were detected as signal.\n",
    "\n",
    "    Parameters\n",
    "    ----------\n",
    "    mouse_connectivity_cache : MouseConnectivityCache\n",
    "    structure_id : int\n",
    "    experiment_id : int\n",
    "\n",
    "    Returns\n",
    "    -------\n",
    "    fraction : float\n",
    "\n",
    "    '''\n",
    "    \n",
    "    # your code here\n",
    "\n",
    "    return fraction\n",
    "\n",
    "```"
   ]
  },
  {
   "cell_type": "code",
   "execution_count": null,
   "metadata": {
    "collapsed": true
   },
   "outputs": [],
   "source": []
  },
  {
   "cell_type": "code",
   "execution_count": null,
   "metadata": {
    "collapsed": false
   },
   "outputs": [],
   "source": [
    "print('thalamus', fraction_of_structure(mcc, 549, 159550125))\n",
    "print('VISp', fraction_of_structure(mcc, 385, 159550125))"
   ]
  },
  {
   "cell_type": "markdown",
   "metadata": {},
   "source": [
    "<div style=\"border-left: 3px solid #000; padding: 1px; padding-left: 10px; background: #F0FAFF; \">\n",
    "<center><h3>Which structures recieve the most projections from VISp?</h3></center>\n",
    "\n",
    "<p>In order to answer this question you will need a set of structurewise projection summaries. One way to obtain these summary values would be to apply functions like the one you made in the previous excercise across a wider range of structures and experiments. This would be quite time-consuming, so we have precomputed such values for all experiments and structures.</p>\n",
    "\n",
    "<p>We call these structurewise summary records \"unionizes.\" Each unionize summarizes projection data over a unique (though potentially overlapping) spatial domain. Here are some unionize records:</p>\n",
    "</div>"
   ]
  },
  {
   "cell_type": "code",
   "execution_count": null,
   "metadata": {
    "collapsed": false
   },
   "outputs": [],
   "source": [
    "sample_experiment = 159550125\n",
    "\n",
    "unionizes = mcc.get_structure_unionizes(experiment_ids=[sample_experiment])\n",
    "unionizes.head()"
   ]
  },
  {
   "cell_type": "markdown",
   "metadata": {},
   "source": [
    "<div style=\"border-left: 3px solid #000; padding: 1px; padding-left: 10px; background: #F0FAFF; \">\n",
    "Each row in this table is a different unionize record. Some of the columns tell you what spatial domain the unionize record summarizes over:\n",
    "<ul>\n",
    "<li>structure_id : Which structure does the unionize summarize over?</li>\n",
    "<li>hemisphere_id* : Does the unionize summarize over the left hemisphere, the right, or both?</li>\n",
    "<li>is_injection : Does the unionize correspond the the part of this structure which is within the injection site?</li>\n",
    "</ul>\n",
    "<p>The \"experiment_id\" column identifies the experiment from which this unionize's data was drawn. This is not to be confused (!) with the \"id\" column, which is a unique identifier for this specific unionize record.</p>\n",
    "\n",
    "<p>All of the other fields are summaries of data. You can find a reference for these <a href='http://alleninstitute.github.io/AllenSDK/unionizes.html'>here</a>. </p>\n",
    "\n",
    "<p>&#42; the hemisphere ids are: 1 => left, 2 => right, 3 => both</p>\n",
    "</div>"
   ]
  },
  {
   "cell_type": "code",
   "execution_count": null,
   "metadata": {
    "collapsed": false
   },
   "outputs": [],
   "source": [
    "# You can also obtain al of the unionizes for a given set of experiments\n",
    "wt_visp_experiment_ids = [exp['id'] for exp in visp_experiments if exp['transgenic-line'] == '']\n",
    "wt_visp_unionizes = mcc.get_structure_unionizes(wt_visp_experiment_ids)\n",
    "print(wt_visp_unionizes.shape)"
   ]
  },
  {
   "cell_type": "code",
   "execution_count": null,
   "metadata": {
    "collapsed": true
   },
   "outputs": [],
   "source": [
    "# numeric structure ids are hard to read. Let's use our structure name map from before to \n",
    "# add a structure name column to this unionize table\n",
    "wt_visp_unionizes['structure_name'] = wt_visp_unionizes['structure_id'].map(lambda x: name_map[x])"
   ]
  },
  {
   "cell_type": "markdown",
   "metadata": {},
   "source": [
    "<div style=\"border-left: 3px solid #000; padding: 1px; padding-left: 10px; background: #F0FFF0; \">\n",
    "<h4> Excercise: Filtering to injection unionizes</h4>\n",
    "\n",
    "<p>Create a new table which has the same unionize records as wt_vis_unionizes, but filtered down to only those where is_injection is True.</p>\n",
    "\n",
    "<p>Hint: see the help for MouseConnectivityCache.get_structure_unionizes</p>\n",
    "\n",
    "</div>"
   ]
  },
  {
   "cell_type": "code",
   "execution_count": null,
   "metadata": {
    "collapsed": false
   },
   "outputs": [],
   "source": []
  },
  {
   "cell_type": "markdown",
   "metadata": {},
   "source": [
    "<div style=\"border-left: 3px solid #000; padding: 1px; padding-left: 10px; background: #F0FAFF; \">\n",
    "<h4>A nonoverlapping set of structures</h4>\n",
    "\n",
    "<p>A question like \"which structures recieve the most projections from VISp\" don't make much sense across the whole tree - some structures contain others and will therefore end up higher on the list.</p>\n",
    "\n",
    "<p>We've created a nonoverlapping list of 293 biologically relevant structures, which we call the \"summary structures.\" You can download a list of summary structures using the ontologies api:</p>\n",
    "</div>"
   ]
  },
  {
   "cell_type": "markdown",
   "metadata": {},
   "source": [
    "```python\n",
    "oapi = OntologiesApi()\n",
    "summary_structures = oapi.get_structures(structure_set_names=\"'Mouse Connectivity - Summary'\")\n",
    "summary_structure_ids = [item['id'] for item in summary_structures]\n",
    "```"
   ]
  },
  {
   "cell_type": "markdown",
   "metadata": {},
   "source": [
    "<div style=\"border-left: 3px solid #000; padding: 1px; padding-left: 10px; background: #F0FAFF; \">\n",
    "Because of our bandwidth limitations, we will find the summary structure ids using a function from the MouseConnectivityCache structure_tree method. Using the get_structures_by_set_id function, we can access any of the Allen Institute's predefined structure sets by their unique id, which can be found <a href='http://api.brain-map.org/api/v2/data/StructureSet/query.json?'>here</a>. For the \"Mouse Connectivity - Summary\" structure set, the unique id is 167587189.\n",
    "</div>"
   ]
  },
  {
   "cell_type": "code",
   "execution_count": null,
   "metadata": {
    "collapsed": true
   },
   "outputs": [],
   "source": [
    "summary_structures = structure_tree.get_structures_by_set_id([167587189])\n",
    "summary_structure_ids = [item['id'] for item in summary_structures]"
   ]
  },
  {
   "cell_type": "markdown",
   "metadata": {},
   "source": [
    "<div style=\"border-left: 3px solid #000; padding: 1px; padding-left: 10px; background: #F0FAFF; \">\n",
    "\n",
    "Now that we have this set of structure ids, we can easily filter our unionizes to just those whose structure is a summary structure.\n",
    "\n",
    "</div>"
   ]
  },
  {
   "cell_type": "code",
   "execution_count": null,
   "metadata": {
    "collapsed": false
   },
   "outputs": [],
   "source": [
    "wt_visp_summary_unionizes = (\n",
    "    wt_visp_unionizes[wt_visp_unionizes['structure_id'].isin(summary_structure_ids)])\n",
    "print(wt_visp_summary_unionizes.shape)"
   ]
  },
  {
   "cell_type": "markdown",
   "metadata": {},
   "source": [
    "<div style=\"border-left: 3px solid #000; padding: 1px; padding-left: 10px; background: #F0FAFF; \">\n",
    "<h4>What are the projection targets of VISp?</h4>\n",
    "\n",
    "<p>Now that we have a dataframe containing the unionize data outside the injection site for all our experiments in wild type mice, we can use some pandas functions to look at our results. Pandas makes it easy to:</p>\n",
    "<ol>\n",
    "<li>Find the mean projection strength by structure across experiments using <a href='https://pandas.pydata.org/pandas-docs/stable/generated/pandas.DataFrame.groupby.html'>pandas.DataFrame.groupby</a> combined with <a href='https://pandas.pydata.org/pandas-docs/stable/generated/pandas.DataFrame.mean.html'>pandas.DataFrame.mean</a></li>\n",
    "<li>Find the regions that receive the strongest projections using <a href='https://pandas.pydata.org/pandas-docs/stable/generated/pandas.DataFrame.sort_values.html'>pandas.DataFrame.sort_values</a></li>\n",
    "<li>Graph the data</li>\n",
    "</ol>\n",
    "</div>"
   ]
  },
  {
   "cell_type": "code",
   "execution_count": null,
   "metadata": {
    "collapsed": true
   },
   "outputs": [],
   "source": [
    "def top_projection(unionizes, measure, n, group_by='structure_name'):\n",
    "    '''A helper function for listing the top n structures by the average of some data measure\n",
    "    '''\n",
    "    \n",
    "    grouped = unionizes.groupby(group_by, as_index=False)[measure].mean()\n",
    "    return grouped.sort_values(by=measure, ascending=False)[:n]"
   ]
  },
  {
   "cell_type": "code",
   "execution_count": null,
   "metadata": {
    "collapsed": false
   },
   "outputs": [],
   "source": [
    "# Since we are looking at projection targets, we want is_injection to be False\n",
    "# When we have multiple conditions on a pandas dataframe, they can be chained together in a single slice\n",
    "\n",
    "wt_visp_summary_projection_unionizes = (\n",
    "    wt_visp_unionizes[(wt_visp_unionizes['is_injection'] == False) & \n",
    "                      (wt_visp_unionizes['structure_id'].isin(summary_structure_ids))\n",
    "                     ])"
   ]
  },
  {
   "cell_type": "code",
   "execution_count": null,
   "metadata": {
    "collapsed": false
   },
   "outputs": [],
   "source": [
    "# get the top 20 targets of VISp using our helper function\n",
    "top20_density = top_projection(wt_visp_summary_projection_unionizes, 'projection_density', 20)\n",
    "top20_density['structure_name']"
   ]
  },
  {
   "cell_type": "markdown",
   "metadata": {},
   "source": [
    "<div style=\"border-left: 3px solid #000; padding: 1px; padding-left: 10px; background: #F0FAFF; \">This list is a little hard to read. Let's make a bar plot.</div>"
   ]
  },
  {
   "cell_type": "code",
   "execution_count": null,
   "metadata": {
    "collapsed": false
   },
   "outputs": [],
   "source": [
    "def plot_mean_values(un, structure_names, measures, colors=None, include_stdev=False, plot_height=4):\n",
    "    '''A helper function for making shared-axis plots from structure unionize data\n",
    "    \n",
    "    un : pd.DataFrame\n",
    "        A table of unionizes. It must have a 'structure_name' column.\n",
    "    structure_names : list of str\n",
    "        include only data from these structures\n",
    "    measures : list of str\n",
    "        Each specifies a kind of data (unionize column). One plot will be generated per measure.\n",
    "    colors : list of str, optional\n",
    "        The color of the bars in each plot. If None (default), all of them will be dark blue.\n",
    "    include_stdev : bool\n",
    "        If true (default false), standard-deviation based error bars will be added to the plots.\n",
    "    plot_height : numeric, optiona\n",
    "        Height of each subplot in inches (your experience may vary). Default is 4.\n",
    "    '''\n",
    "\n",
    "    nplots = len(measures)\n",
    "    \n",
    "    if colors is None:\n",
    "        colors = ['darkblue'] * nplots\n",
    "    \n",
    "    structure_names = list(structure_names)\n",
    "    un = un[un['structure_name'].isin(structure_names)]\n",
    "    \n",
    "    fig, ax = plt.subplots(nplots, 1, sharex=True, figsize = (15, plot_height * len(measures)))\n",
    "    for ii, mm in enumerate(measures):\n",
    "        grouped = un.groupby('structure_name', as_index=False)\n",
    "        gmeans = grouped[mm].mean()\n",
    "        \n",
    "        if nplots == 1:\n",
    "            axis = ax\n",
    "        else:\n",
    "            axis = ax[ii]\n",
    "        \n",
    "        if include_stdev:\n",
    "            gdevs = grouped[mm].apply(np.std, ddof = 0)\n",
    "            gmeans.plot.bar('structure_name', mm, ax=axis, color=colors[ii], yerr=[gdevs])\n",
    "        else:\n",
    "            gmeans.plot.bar('structure_name', mm, ax=axis, color=colors[ii])\n",
    "            \n",
    "        axis.set_ylabel(mm)"
   ]
  },
  {
   "cell_type": "code",
   "execution_count": null,
   "metadata": {
    "collapsed": false
   },
   "outputs": [],
   "source": [
    "names_of_interest = set(top20_density['structure_name'])\n",
    "plot_mean_values(wt_visp_summary_projection_unionizes, names_of_interest, \n",
    "                 ['projection_density'], ['teal'])"
   ]
  },
  {
   "cell_type": "markdown",
   "metadata": {},
   "source": [
    "<div style=\"border-left: 3px solid #000; padding: 1px; padding-left: 10px; background: #F0FFF0; \"><h4> Excercise: Comparing projection density and projection volume</h4>\n",
    "\n",
    "<p>Use the above function to find the top 20 targets of VISp by normalized projection volume.</p>\n",
    "<ul>\n",
    "<li>Are these regions different from the top 20 targets by density?</li>\n",
    "<li>Which targets are different? Hint: try casting the name column to a python set and using the \"-\" operator.</li>\n",
    "<li>Which gives us the correct answer for the top 20 projection targets of primary visual cortex?</li>\n",
    "</ul>\n",
    "</div>"
   ]
  },
  {
   "cell_type": "code",
   "execution_count": null,
   "metadata": {
    "collapsed": false
   },
   "outputs": [],
   "source": []
  },
  {
   "cell_type": "markdown",
   "metadata": {},
   "source": [
    "<div style=\"border-left: 3px solid #000; padding: 1px; padding-left: 10px; background: #F0FFF0; \">\n",
    "\n",
    "Now plot both sets of results (you can use the above plotting function). Use all structures that appeared in either of the top-20 lists.\n",
    "\n",
    "<p>Recall that | is the union operator on python sets.</p>\n",
    "\n",
    "</div>"
   ]
  },
  {
   "cell_type": "code",
   "execution_count": null,
   "metadata": {
    "collapsed": false
   },
   "outputs": [],
   "source": []
  },
  {
   "cell_type": "markdown",
   "metadata": {},
   "source": [
    "<div style=\"border-left: 3px solid #000; padding: 1px; padding-left: 10px; background: #F0FAFF; \"><h4>Why do we get different answers with projection density and normalized projection volume?</h4>\n",
    "<ul>\n",
    "<li>projection_volume is the volume of projecting signal in mm3 (detected pixels)</li>\n",
    "<li><u>normalized_projection_volume</u> is the projection_volume / volume of injection site</li>\n",
    "<li><u>projection_density</u> is the sum of all detected pixels / volume of structure</li>\n",
    "<li>projection_energy: sum of detected pixel intensity / volume of structure (in general, do not use this)</li>\n",
    "</ul>\n",
    "\n",
    "<p>Please see <a href='http://help.brain-map.org/display/mouseconnectivity/API#API-ProjectionDataGridding'>the documentation</a> for more information.</p>\n",
    "\n",
    "<p>When deciding which measurement to use, think about whether your question is source-centric or target-centric and about how structure sizes might affect your results </p>\n",
    "</div>"
   ]
  },
  {
   "cell_type": "markdown",
   "metadata": {},
   "source": [
    "<div style=\"border-left: 3px solid #000; padding: 1px; padding-left: 10px; background: #F0FFF0; \">\n",
    "<h4> Excercise: Summarizing across experiments</h4>\n",
    "\n",
    "Write a function that computes a summary statistic across all experiments within a particular spatial domain. Pick a non-VISp structure and evaluate the normalized projection volume (volume of projection signal / volume of injection signal) in that structure across all VISp experiments in wild type mice.\n",
    "\n",
    "hint: passing a function as an argument seems weird, but you can actually just call the resulting object. For instance, in the below signature calling fn(x) is equivalent to calling np.mean(x)\n",
    "</div>"
   ]
  },
  {
   "cell_type": "markdown",
   "metadata": {},
   "source": [
    "```python\n",
    "def signal_summary(unionizes, structure_id, hemisphere_id, is_injection, signal_key, fn=np.mean):\n",
    "    '''Applies a function to all unionizes describing a specified spatial domain.\n",
    "    \n",
    "    Parameters\n",
    "    ----------\n",
    "    unionizes : pd.DataFrame\n",
    "    structure_id : int\n",
    "        filter unionizes by structure\n",
    "    hemisphere_id : int\n",
    "        filter unionizes by hemisphere\n",
    "    is_injection : bool\n",
    "        filter unionizes by injection status\n",
    "    signal_key : str\n",
    "        select this column from the data\n",
    "    fn : function, optional\n",
    "        apply this function to the values of the resulting pandas series. Defaults to np.mean.\n",
    "    \n",
    "    Returns\n",
    "    -------\n",
    "    summary : numeric\n",
    "        output of fn on filtered unionizes\n",
    "    \n",
    "    '''\n",
    " \n",
    "    # code here\n",
    "    \n",
    "    return summary\n",
    "\n",
    "```"
   ]
  },
  {
   "cell_type": "code",
   "execution_count": null,
   "metadata": {
    "collapsed": true
   },
   "outputs": [],
   "source": []
  },
  {
   "cell_type": "code",
   "execution_count": null,
   "metadata": {
    "collapsed": false
   },
   "outputs": [],
   "source": [
    "signal_summary(wt_visp_unionizes, 170, 3, False, 'normalized_projection_volume')"
   ]
  },
  {
   "cell_type": "markdown",
   "metadata": {},
   "source": [
    "<div style=\"border-left: 3px solid #000; padding: 1px; padding-left: 10px; background: #F0FFF0; \">\n",
    "<h4> Excercise: projection pattern comparisons</h4>\n",
    "\n",
    "<p>Use the grid and/or unionize data to run a comparison of projection patterns between experiments varying along axes of your choice. Some options:</p>\n",
    "<ul>\n",
    "<li>cre line</li>\n",
    "<li>injection hemisphere</li>\n",
    "<li>primary injection structure</li>\n",
    "<li>secondary injection structures, given a common primary injection structure</li>\n",
    "</ul>\n",
    "<p>As outputs you might look at:</p>\n",
    "<ul>\n",
    "<li>which structures are projected to</li>\n",
    "<li>are projections equally strong across hemispheres?</li>\n",
    "<li>do projections preferentially end up in subregions of the target structures? Can these subregions be identified as substructures in the tree, or only geographically?</li>\n",
    "<li>Which regions are the most or least variably projected to by projections from a particular source?</li>\n",
    "</ul>\n",
    "</div>"
   ]
  },
  {
   "cell_type": "code",
   "execution_count": null,
   "metadata": {
    "collapsed": false
   },
   "outputs": [],
   "source": []
  },
  {
   "cell_type": "markdown",
   "metadata": {},
   "source": [
    "<div style=\"border-left: 3px solid #000; padding: 1px; padding-left: 10px; background: #F0FAFF; \">\n",
    "<h3><center>Additional excercises</center></h3>\n",
    "</div>"
   ]
  },
  {
   "cell_type": "markdown",
   "metadata": {
    "collapsed": true
   },
   "source": [
    "<div style=\"border-left: 3px solid #000; padding: 1px; padding-left: 10px; background: #F0FFF0; \">\n",
    "<h4> Excercise 1: most recent common ancestor</h4>\n",
    "\n",
    "<p>The goal of this excercise is to write a function with the following signature:</p>\n",
    "</div>"
   ]
  },
  {
   "cell_type": "markdown",
   "metadata": {},
   "source": [
    "```python\n",
    "def get_most_recent_common_ancestor(structure_tree, structure_ids):\n",
    "    '''Finds the most leafward structure that is an ancestor (inclusive) of a set of supplied structures.\n",
    "    \n",
    "    Parameters\n",
    "    ----------\n",
    "    structure_tree : StructureTree\n",
    "        The complete structure tree.\n",
    "    structure_ids : list of int\n",
    "        One or more structure identifiers \n",
    "    \n",
    "    Returns\n",
    "    -------\n",
    "    common_ancestor_id : int\n",
    "        Structure id of the most specific ancestor of all supplied structures.\n",
    "    \n",
    "    Examples\n",
    "    --------\n",
    "    >>> get_most_recent_common_ancestor(structure_tree, [385, 425])\n",
    "    669\n",
    "    >>> get_most_recent_common_ancestor(structure_tree, [315])\n",
    "    315\n",
    "    >>> get_most_recent_common_ancestor(structure_tree, [])\n",
    "    None\n",
    "    \n",
    "    '''\n",
    "\n",
    "    # your code here\n",
    "\n",
    "    return common_ancestor_id\n",
    "```\n",
    "<p><i>Hint: see StructureTree.ancestor_ids. How are the ids returned by this function ordered?</i></p>"
   ]
  },
  {
   "cell_type": "code",
   "execution_count": null,
   "metadata": {
    "collapsed": false
   },
   "outputs": [],
   "source": [
    "print(get_most_recent_common_ancestor(structure_tree, [385, 425]))\n",
    "print(get_most_recent_common_ancestor(structure_tree, [315]))\n",
    "print(get_most_recent_common_ancestor(structure_tree, []))"
   ]
  },
  {
   "cell_type": "markdown",
   "metadata": {},
   "source": [
    "<div style=\"border-left: 3px solid #000; padding: 1px; padding-left: 10px; background: #F0FFF0; \"><h4> Excercise 2: Variability between experiments</h4>\n",
    "\n",
    "<p>Find the standard deviation and/or SEM for the projection densitiy and normalized projection volume in the top 20 sources plotted above. Add error bars to the plot.</p>\n",
    "\n",
    "<p>Which of these measures is more reliable? What about if you also check the (non-normalized) projection_volume?</p>\n",
    "\n",
    "</div>"
   ]
  },
  {
   "cell_type": "code",
   "execution_count": null,
   "metadata": {
    "collapsed": true
   },
   "outputs": [],
   "source": []
  },
  {
   "cell_type": "markdown",
   "metadata": {},
   "source": [
    "<div style=\"border-left: 3px solid #000; padding: 1px; padding-left: 10px; background: #F0FFF0; \"><h4> Excercise 3: Correlation between experiments</h4>\n",
    "<p>Get the projection density volumes for two experiments and compute the correlation coefficient between the two.</p>\n",
    "</div>"
   ]
  },
  {
   "cell_type": "code",
   "execution_count": null,
   "metadata": {
    "collapsed": true
   },
   "outputs": [],
   "source": []
  },
  {
   "cell_type": "markdown",
   "metadata": {},
   "source": [
    "<div style=\"border-left: 3px solid #000; padding: 1px; padding-left: 10px; background: #F0FFF0; \"><h4>Exercise 4: Comparing wild type projection data with cre-defined projection data.</h4>\n",
    "<p>Pick a region that has injection experiments in both wild type and cre mice. Compare the projections from the cre injection to the wild type projections using the visualization tool of your choice (bar plot, box plot, axis projection, matrix, etc...).</p>\n",
    "<ul>\n",
    "<li>Bonus 1: How far apart in space are the cre and wild type injections? Would you consider them to be well-matched?</li>\n",
    "<li>Bonus 2: Are there any cre lines which have more projection targets than their corresponding wild type experiments? If so, is this true only in some regions or is it a general phenomenon?</li>\n",
    "</ul>\n",
    "</div>"
   ]
  },
  {
   "cell_type": "code",
   "execution_count": null,
   "metadata": {
    "collapsed": true
   },
   "outputs": [],
   "source": []
  },
  {
   "cell_type": "markdown",
   "metadata": {},
   "source": [
    "<div style=\"border-left: 3px solid #000; padding: 1px; padding-left: 10px; background: #F0FFF0; \"><h4>Exercise 5: Relationship between structure size and projection density</h4>\n",
    "\n",
    "<p>Because projection density is normalized by the volume of target structures, smaller structures that receive fewer projections overall may show a greater disparity between normalized_projection_volume and projection_density. Is this true for the targets of VISp? What is the relationship between structure size and projection density?</p>\n",
    "</div>"
   ]
  },
  {
   "cell_type": "code",
   "execution_count": null,
   "metadata": {
    "collapsed": true
   },
   "outputs": [],
   "source": []
  },
  {
   "cell_type": "markdown",
   "metadata": {},
   "source": [
    "<div style=\"border-left: 3px solid #000; padding: 1px; padding-left: 10px; background: #F0FFF0; \"><h4>Exercise 6: Structure based correlation search</h4>\n",
    "<ul>\n",
    "<li>Pick several experiments delivered into MOp.</li>\n",
    "<li>Get the projection density values for all structures at the \"Summary\" level</li>\n",
    "<li>Build an experiment-experiment correlation matrix based on those values.</li>\n",
    "</ul>\n",
    "</div>"
   ]
  },
  {
   "cell_type": "code",
   "execution_count": null,
   "metadata": {
    "collapsed": true
   },
   "outputs": [],
   "source": []
  },
  {
   "cell_type": "markdown",
   "metadata": {},
   "source": [
    "<div style=\"border-left: 3px solid #000; padding: 1px; padding-left: 10px; background: #F0FFF0; \"><h4>Exercise 7: Reciprocal connections</h4>\n",
    "\n",
    "<p>Of the top 20 projection targets of VISp (or your favorite region), which ones show reciprocal connections (project back to VISp)? Is the strength of the feedback projections proportional to the strength of the feedforward projections?</p>\n",
    "</div>"
   ]
  },
  {
   "cell_type": "code",
   "execution_count": null,
   "metadata": {
    "collapsed": true
   },
   "outputs": [],
   "source": []
  },
  {
   "cell_type": "markdown",
   "metadata": {},
   "source": [
    "<div style=\"border-left: 3px solid #000; padding: 1px; padding-left: 10px; background: #F0FFF0; \"><h4> Excercise 8: Generating a Projection Matrix</h4>\n",
    "\n",
    "<p>The Mouse Connectivity Cache has a built-in function for generating a projection matrix (example below). Use the functions in structure_tree to generate matrices at different levels of detail. Make a projection matrix for:</p>\n",
    "<ul>\n",
    "<li>Contralateral projections from VISp</li>\n",
    "<li>The 293 summary structures</li>\n",
    "<li>Structures in the thalamus</li>\n",
    "<li>All descendants of VISp</li>\n",
    "</ul>\n",
    "</div>"
   ]
  },
  {
   "cell_type": "code",
   "execution_count": null,
   "metadata": {
    "collapsed": false
   },
   "outputs": [],
   "source": [
    "ctx_children = [struct['id'] for struct in structure_tree.children([acronym_to_id_map['Isocortex']])[0]]\n",
    "\n",
    "pm = mcc.get_projection_matrix(experiment_ids = wt_visp_experiment_ids, \n",
    "                               projection_structure_ids = ctx_children,\n",
    "                               hemisphere_ids= [2], # right hemisphere, ipsilateral\n",
    "                               parameter = 'projection_density')\n",
    "\n",
    "row_labels = pm['rows'] # these are just experiment ids\n",
    "column_labels = [ c['label'] for c in pm['columns'] ] \n",
    "matrix = pm['matrix']\n",
    "\n",
    "fig, ax = plt.subplots(figsize=(12,12))\n",
    "heatmap = ax.pcolor(matrix, cmap=plt.cm.afmhot)\n",
    "\n",
    "# put the major ticks at the middle of each cell\n",
    "ax.set_xticks(np.arange(matrix.shape[1])+0.5, minor=False)\n",
    "ax.set_yticks(np.arange(matrix.shape[0])+0.5, minor=False)\n",
    "\n",
    "ax.set_xlim([0, matrix.shape[1]])\n",
    "ax.set_ylim([0, matrix.shape[0]])          \n",
    "\n",
    "# want a more natural, table-like display\n",
    "ax.invert_yaxis()\n",
    "ax.xaxis.tick_top()\n",
    "\n",
    "ax.set_xticklabels(column_labels, minor=False)\n",
    "ax.set_yticklabels(row_labels, minor=False)\n",
    "plt.show()"
   ]
  },
  {
   "cell_type": "markdown",
   "metadata": {},
   "source": [
    "<div style=\"border-left: 3px solid #000; padding: 1px; padding-left: 10px; background: #F0FAFF; \">\n",
    "<h3><center>Ideas for shareable functions</center></h3>\n",
    "</div>"
   ]
  },
  {
   "cell_type": "markdown",
   "metadata": {},
   "source": [
    "<div style=\"border-left: 3px solid #000; padding: 1px; padding-left: 10px; background: #F0FAFF; \">\n",
    "<ol>\n",
    "<li>Find the top n targets for an input source region</li>\n",
    "<li>Find the top n sources that project to an input target region (or sources with projections stronger than a specified threshold)</li>\n",
    "<li>Find the top n differences between two or more experiments</li>\n",
    "<li>Quantify projection density by layer from a specified source to one or more target regions</li>\n",
    "<li>Find all experiments within a specified distance of an anchor experiment\n",
    "</ol>\n",
    "</div>"
   ]
  },
  {
   "cell_type": "markdown",
   "metadata": {},
   "source": [
    "<div style=\"border-left: 3px solid #000; padding: 1px; padding-left: 10px; background: #F0FAFF; \">\n",
    "<h3><center>Project Ideas</center></h3>\n",
    "</div>"
   ]
  },
  {
   "cell_type": "markdown",
   "metadata": {},
   "source": [
    "<div style=\"border-left: 3px solid #000; padding: 1px; padding-left: 10px; background: #F0FAFF; \">\n",
    "<h4>Projection Patterns</h4>\n",
    "<ul>\n",
    "<li>What are the pathways through the brain from sensory input to motor output?</li>\n",
    "<li>What are the paths through the brain for incoming sensory information of different modalities? Where do they converge?</li>\n",
    "<li>Hierarchical streams of cortical processing (for example in the visual cortex) is a successful model in the primate (Felleman and Van Essen). Is there evidence for a similar organization in the mouse (in the connectivity data set)?</li>\n",
    "</ul>\n",
    "\n",
    "<h4>Cell Types</h4>\n",
    "<ul>\n",
    "<li>Which layers and cre lines have contralateral projections? Does the density of contralateral projections vary by region? How do the targeted contralateral regions differ from targeted ipsilateral regions?</li>\n",
    "<li>What do different cell types contribute to the network topology?</li>\n",
    "</ul>\n",
    "\n",
    "<h4>Topology</h4>\n",
    "<ul>\n",
    "<li>Many brain structures have known cortical projection topography including thalamus, superior colliculus, striatum, and primary motor cortex. Does an informatically-driven structure atlas look different when using projection-as-source data to define regions, as opposed to projection-as target (i.e. is there a difference in topology for incoming and outgoing projections in some regions)?</li>\n",
    "<li>What structural motifs are present in the connectivity data set? How do they differ across regions?</li>\n",
    "<li>What are the functional correlates to the structural connectivity? How do they relate to models of information processing?</li>\n",
    "<li>Starting at a given point in the brain, what are the loop back routes and motifs to traverse the network and return to the same spot?</li>\n",
    "<li>If you lose one particular cell type or cre line (say, due to a particular neurodegenerative disease), what happens to the routes and motifs in the rest of the network?</li>\n",
    "</ul>\n",
    "\n",
    "<h4>Methodology</h4>\n",
    "<ul>\n",
    "<li>In some cases, replicate experiments have very similar projection patterns while in other cases the difference between experiments is quite high. There are many experimental factors that contribute to this variability including the precise locations of injections, differences in injection size and depth, etc. Are there ways to quantify and/or control for these experimental variables in order to get a sense for the biological variability between animals? Which factors produce the largest differences between experiments (and are therefore most important to control when comparing across experiments)?</li>\n",
    "<li>Most of the viral tracing experiments in the Allen Mouse Brain Connectivity Atlas use cytosolic GFP as a fluorescent indicator. This tracer produces fluorescent signal in axonal fibers as well as in synapses, so the quantified values are contaminated to some extent by fibers of passage. We have performed ~100 tracing experiments using a synaptophysin-eGFP virus (filter for Syp-EGFP under \"Tracer Type\"), which is a chimeric protein that is trafficked to synapses and has lower fluorescence in axons. How does the quantified projection data from this synaptic tracer differ from the traditional GFP tracer? Are some regions more contaminated by fibers of passage than others? Remember that the sources of variability listed above still apply here.</li>\n",
    "</ul>\n",
    "</div>"
   ]
  }
 ],
 "metadata": {
  "kernelspec": {
   "display_name": "Python 2",
   "language": "python",
   "name": "python2"
  },
  "language_info": {
   "codemirror_mode": {
    "name": "ipython",
    "version": 2
   },
   "file_extension": ".py",
   "mimetype": "text/x-python",
   "name": "python",
   "nbconvert_exporter": "python",
   "pygments_lexer": "ipython2",
   "version": "2.7.13"
  }
 },
 "nbformat": 4,
 "nbformat_minor": 2
}
