{
 "cells": [
  {
   "cell_type": "markdown",
   "metadata": {},
   "source": [
    "<img src=\"../resources/cropped-SummerWorkshop_Header.png\">  \n",
    "\n",
    "<h1 align=\"center\">Neuropixels Extracellular Electrophysiology </h1> \n",
    "<h2 align=\"center\">Summer Workshop on the Dynamic Brain </h2> \n",
    "<h3 align=\"center\">Wednesday, August 22, 2018</h3> "
   ]
  },
  {
   "cell_type": "markdown",
   "metadata": {},
   "source": [
    "<img src=\"../resources/EphysObservatory/neuropixels.png\" height=\"250\" width=\"250\"> "
   ]
  },
  {
   "cell_type": "markdown",
   "metadata": {},
   "source": [
    "<div style=\"border-left: 3px solid #000; padding: 1px; padding-left: 10px; background: #F0FAFF; \">\n",
    "\n",
    "<p>This notebook will introduce you to Neuropixels spiking datasets. We will describe the structure of the data and then walk through basic analysis methods for accesssing, analyzing, and visualizing spike train data.</p>\n",
    "</div>"
   ]
  },
  {
   "cell_type": "markdown",
   "metadata": {},
   "source": [
    "<div style=\"border-left: 3px solid #000; padding: 1px; padding-left: 10px; background: #F0FAFF; \">\n",
    "\n",
    "<b>Datasets:</b>\n",
    "<ul>\n",
    "<li>extracellular action potential recordings</li>\n",
    "<li>populations of single neurons in mouse brain</li>\n",
    "<li>passive visual stimulation in awake mouse</li>\n",
    "<li>battery of stimuli including drifting gratings and natural scenes</li>\n",
    "</ul>\n",
    "</div>"
   ]
  },
  {
   "cell_type": "markdown",
   "metadata": {},
   "source": [
    "<div style=\"border-left: 3px solid #000; padding: 1px; padding-left: 10px; background: #F0FAFF; \">\n",
    "\n",
    "<b>Note:</b>\n",
    "\n",
    "These pre-release datasets were collected during piloting for our new Ephys Brain Observatory. Pipeline data collection has just begun (August 2018) and production data will be released online in 2019.\n",
    "</div>"
   ]
  },
  {
   "cell_type": "markdown",
   "metadata": {},
   "source": [
    "<div style=\"border-left: 3px solid #000; padding: 1px; padding-left: 10px; background: #F0FAFF; \">\n",
    "\n",
    "<b>Today's Agenda:</b>\n",
    "<ol>\n",
    "<li>Overview of Neuropixels spiking datasets  </li>\n",
    "<li>Analysis and visualization of stimulus-evoked activity</li>\n",
    "<li>Correlations and cross-correlogram</li>\n",
    "<li>Waveform and spike pattern analysis for cell classification</li>\n",
    "<li>Project ideas</li>\n",
    "</ol>\n",
    "\n",
    "</div>"
   ]
  },
  {
   "cell_type": "markdown",
   "metadata": {},
   "source": [
    "<div style=\"border-left: 3px solid #000; padding: 1px; padding-left: 10px; background: #F0FAFF; \">\n",
    "\n",
    "<h2>Drive path and imports</h2>\n",
    "</div>"
   ]
  },
  {
   "cell_type": "markdown",
   "metadata": {},
   "source": [
    "<div style=\"border-left: 3px solid #000; padding: 1px; padding-left: 10px; background: #F0FAFF; \">\n",
    "\n",
    "<b>Make sure your drive path is correct!</b>\n",
    "</div>"
   ]
  },
  {
   "cell_type": "code",
   "execution_count": 1,
   "metadata": {},
   "outputs": [],
   "source": [
    "# make sure your drive path is correct! \n",
    "# macOS/OS X\n",
    "# drive_path = '/Volumes/Brain2018/visual_coding_neuropixels'\n",
    "\n",
    "# Windows (a good guess)\n",
    "# drive_path = 'e:/visual_coding_neuropixels'\n",
    "\n",
    "# Linux (will vary; the following is possibly what Ubuntu will do)\n",
    "# drive_path = '/media/Brain2018/visual_coding_neuropixels'\n",
    "\n",
    "# AWS\n",
    "drive_path = '/data/dynamic-brain-workshop/visual_coding_neuropixels'"
   ]
  },
  {
   "cell_type": "code",
   "execution_count": 2,
   "metadata": {},
   "outputs": [],
   "source": [
    "# We need to import these modules to get started\n",
    "import numpy as np\n",
    "import pandas as pd\n",
    "import os\n",
    "import matplotlib.pyplot as plt\n",
    "%matplotlib inline"
   ]
  },
  {
   "cell_type": "markdown",
   "metadata": {},
   "source": [
    "<div style=\"border-left: 3px solid #000; padding: 1px; padding-left: 10px; background: #F0FAFF; \">\n",
    "\n",
    "<h1>1. Overview of datasets</h1>\n",
    "\n",
    "<b>Brain areas:</b>\n",
    "<ul>\n",
    "    <li>Single-probe experiments: VISp</li>\n",
    "    <li>Multi-probe experiments: VISp + higher visual areas (VISam, VISpm, VISrl, VISl, VISal)</li>\n",
    "</ul>\n",
    "    \n",
    "<b>Visual stimuli:</b>\n",
    "<ul>\n",
    "    <li>Passive visual stimulation using Brain Observatory - Visual Coding 1.1 stimulus sets</li>\n",
    "</ul>\n",
    "</div>"
   ]
  },
  {
   "cell_type": "code",
   "execution_count": 3,
   "metadata": {},
   "outputs": [
    {
     "data": {
      "text/html": [
       "<div>\n",
       "<style scoped>\n",
       "    .dataframe tbody tr th:only-of-type {\n",
       "        vertical-align: middle;\n",
       "    }\n",
       "\n",
       "    .dataframe tbody tr th {\n",
       "        vertical-align: top;\n",
       "    }\n",
       "\n",
       "    .dataframe thead th {\n",
       "        text-align: right;\n",
       "    }\n",
       "</style>\n",
       "<table border=\"1\" class=\"dataframe\">\n",
       "  <thead>\n",
       "    <tr style=\"text-align: right;\">\n",
       "      <th></th>\n",
       "      <th>nwb_filename</th>\n",
       "      <th>experiment_type</th>\n",
       "      <th>VISp</th>\n",
       "      <th>VISal</th>\n",
       "      <th>VISam</th>\n",
       "      <th>VISl</th>\n",
       "      <th>VISpm</th>\n",
       "      <th>VISrl</th>\n",
       "      <th>locally_sparse_noise</th>\n",
       "      <th>gabor</th>\n",
       "      <th>drifting_gratings</th>\n",
       "      <th>static_gratings</th>\n",
       "      <th>natural_scenes</th>\n",
       "      <th>natural_movie_3</th>\n",
       "      <th>full_field_flashes</th>\n",
       "    </tr>\n",
       "  </thead>\n",
       "  <tbody>\n",
       "    <tr>\n",
       "      <th>0</th>\n",
       "      <td>ephys_single_14.nwb</td>\n",
       "      <td>single_probe</td>\n",
       "      <td>True</td>\n",
       "      <td>False</td>\n",
       "      <td>False</td>\n",
       "      <td>False</td>\n",
       "      <td>False</td>\n",
       "      <td>False</td>\n",
       "      <td>True</td>\n",
       "      <td>False</td>\n",
       "      <td>True</td>\n",
       "      <td>True</td>\n",
       "      <td>True</td>\n",
       "      <td>True</td>\n",
       "      <td>True</td>\n",
       "    </tr>\n",
       "    <tr>\n",
       "      <th>1</th>\n",
       "      <td>ephys_single_15.nwb</td>\n",
       "      <td>single_probe</td>\n",
       "      <td>True</td>\n",
       "      <td>False</td>\n",
       "      <td>False</td>\n",
       "      <td>False</td>\n",
       "      <td>False</td>\n",
       "      <td>False</td>\n",
       "      <td>True</td>\n",
       "      <td>False</td>\n",
       "      <td>True</td>\n",
       "      <td>True</td>\n",
       "      <td>True</td>\n",
       "      <td>True</td>\n",
       "      <td>True</td>\n",
       "    </tr>\n",
       "    <tr>\n",
       "      <th>2</th>\n",
       "      <td>ephys_single_16.nwb</td>\n",
       "      <td>single_probe</td>\n",
       "      <td>True</td>\n",
       "      <td>False</td>\n",
       "      <td>False</td>\n",
       "      <td>False</td>\n",
       "      <td>False</td>\n",
       "      <td>False</td>\n",
       "      <td>True</td>\n",
       "      <td>False</td>\n",
       "      <td>True</td>\n",
       "      <td>True</td>\n",
       "      <td>True</td>\n",
       "      <td>True</td>\n",
       "      <td>True</td>\n",
       "    </tr>\n",
       "    <tr>\n",
       "      <th>3</th>\n",
       "      <td>ephys_single_39.nwb</td>\n",
       "      <td>single_probe</td>\n",
       "      <td>True</td>\n",
       "      <td>False</td>\n",
       "      <td>False</td>\n",
       "      <td>False</td>\n",
       "      <td>False</td>\n",
       "      <td>False</td>\n",
       "      <td>True</td>\n",
       "      <td>False</td>\n",
       "      <td>True</td>\n",
       "      <td>True</td>\n",
       "      <td>True</td>\n",
       "      <td>True</td>\n",
       "      <td>True</td>\n",
       "    </tr>\n",
       "    <tr>\n",
       "      <th>4</th>\n",
       "      <td>ephys_single_51.nwb</td>\n",
       "      <td>single_probe</td>\n",
       "      <td>True</td>\n",
       "      <td>False</td>\n",
       "      <td>False</td>\n",
       "      <td>False</td>\n",
       "      <td>False</td>\n",
       "      <td>False</td>\n",
       "      <td>True</td>\n",
       "      <td>False</td>\n",
       "      <td>True</td>\n",
       "      <td>True</td>\n",
       "      <td>True</td>\n",
       "      <td>True</td>\n",
       "      <td>True</td>\n",
       "    </tr>\n",
       "    <tr>\n",
       "      <th>5</th>\n",
       "      <td>ephys_multi_84.nwb</td>\n",
       "      <td>multi_probe</td>\n",
       "      <td>True</td>\n",
       "      <td>True</td>\n",
       "      <td>True</td>\n",
       "      <td>False</td>\n",
       "      <td>True</td>\n",
       "      <td>True</td>\n",
       "      <td>True</td>\n",
       "      <td>True</td>\n",
       "      <td>True</td>\n",
       "      <td>True</td>\n",
       "      <td>True</td>\n",
       "      <td>True</td>\n",
       "      <td>True</td>\n",
       "    </tr>\n",
       "    <tr>\n",
       "      <th>6</th>\n",
       "      <td>ephys_multi_58.nwb</td>\n",
       "      <td>multi_probe</td>\n",
       "      <td>True</td>\n",
       "      <td>True</td>\n",
       "      <td>True</td>\n",
       "      <td>True</td>\n",
       "      <td>True</td>\n",
       "      <td>True</td>\n",
       "      <td>False</td>\n",
       "      <td>True</td>\n",
       "      <td>True</td>\n",
       "      <td>True</td>\n",
       "      <td>True</td>\n",
       "      <td>True</td>\n",
       "      <td>True</td>\n",
       "    </tr>\n",
       "    <tr>\n",
       "      <th>7</th>\n",
       "      <td>ephys_multi_10.nwb</td>\n",
       "      <td>multi_probe</td>\n",
       "      <td>True</td>\n",
       "      <td>True</td>\n",
       "      <td>True</td>\n",
       "      <td>True</td>\n",
       "      <td>True</td>\n",
       "      <td>True</td>\n",
       "      <td>False</td>\n",
       "      <td>True</td>\n",
       "      <td>True</td>\n",
       "      <td>True</td>\n",
       "      <td>True</td>\n",
       "      <td>True</td>\n",
       "      <td>True</td>\n",
       "    </tr>\n",
       "    <tr>\n",
       "      <th>8</th>\n",
       "      <td>ephys_multi_21.nwb</td>\n",
       "      <td>multi_probe</td>\n",
       "      <td>True</td>\n",
       "      <td>False</td>\n",
       "      <td>True</td>\n",
       "      <td>True</td>\n",
       "      <td>True</td>\n",
       "      <td>False</td>\n",
       "      <td>False</td>\n",
       "      <td>True</td>\n",
       "      <td>True</td>\n",
       "      <td>True</td>\n",
       "      <td>True</td>\n",
       "      <td>True</td>\n",
       "      <td>True</td>\n",
       "    </tr>\n",
       "  </tbody>\n",
       "</table>\n",
       "</div>"
      ],
      "text/plain": [
       "          nwb_filename experiment_type  VISp  VISal  VISam   VISl  VISpm  \\\n",
       "0  ephys_single_14.nwb    single_probe  True  False  False  False  False   \n",
       "1  ephys_single_15.nwb    single_probe  True  False  False  False  False   \n",
       "2  ephys_single_16.nwb    single_probe  True  False  False  False  False   \n",
       "3  ephys_single_39.nwb    single_probe  True  False  False  False  False   \n",
       "4  ephys_single_51.nwb    single_probe  True  False  False  False  False   \n",
       "5   ephys_multi_84.nwb     multi_probe  True   True   True  False   True   \n",
       "6   ephys_multi_58.nwb     multi_probe  True   True   True   True   True   \n",
       "7   ephys_multi_10.nwb     multi_probe  True   True   True   True   True   \n",
       "8   ephys_multi_21.nwb     multi_probe  True  False   True   True   True   \n",
       "\n",
       "   VISrl  locally_sparse_noise  gabor  drifting_gratings  static_gratings  \\\n",
       "0  False                  True  False               True             True   \n",
       "1  False                  True  False               True             True   \n",
       "2  False                  True  False               True             True   \n",
       "3  False                  True  False               True             True   \n",
       "4  False                  True  False               True             True   \n",
       "5   True                  True   True               True             True   \n",
       "6   True                 False   True               True             True   \n",
       "7   True                 False   True               True             True   \n",
       "8  False                 False   True               True             True   \n",
       "\n",
       "   natural_scenes  natural_movie_3  full_field_flashes  \n",
       "0            True             True                True  \n",
       "1            True             True                True  \n",
       "2            True             True                True  \n",
       "3            True             True                True  \n",
       "4            True             True                True  \n",
       "5            True             True                True  \n",
       "6            True             True                True  \n",
       "7            True             True                True  \n",
       "8            True             True                True  "
      ]
     },
     "execution_count": 3,
     "metadata": {},
     "output_type": "execute_result"
    }
   ],
   "source": [
    "# Provide path to manifest file\n",
    "manifest_file = os.path.join(drive_path,'ephys_manifest.csv')\n",
    "\n",
    "# Create a dataframe \n",
    "expt_info_df = pd.read_csv(manifest_file)\n",
    "\n",
    "# Display information contained in the dataframe\n",
    "expt_info_df"
   ]
  },
  {
   "cell_type": "code",
   "execution_count": 4,
   "metadata": {},
   "outputs": [
    {
     "name": "stdout",
     "output_type": "stream",
     "text": [
      "Number of single-probe experiments: 5\n"
     ]
    },
    {
     "data": {
      "text/html": [
       "<div>\n",
       "<style scoped>\n",
       "    .dataframe tbody tr th:only-of-type {\n",
       "        vertical-align: middle;\n",
       "    }\n",
       "\n",
       "    .dataframe tbody tr th {\n",
       "        vertical-align: top;\n",
       "    }\n",
       "\n",
       "    .dataframe thead th {\n",
       "        text-align: right;\n",
       "    }\n",
       "</style>\n",
       "<table border=\"1\" class=\"dataframe\">\n",
       "  <thead>\n",
       "    <tr style=\"text-align: right;\">\n",
       "      <th></th>\n",
       "      <th>nwb_filename</th>\n",
       "      <th>experiment_type</th>\n",
       "      <th>VISp</th>\n",
       "      <th>VISal</th>\n",
       "      <th>VISam</th>\n",
       "      <th>VISl</th>\n",
       "      <th>VISpm</th>\n",
       "      <th>VISrl</th>\n",
       "      <th>locally_sparse_noise</th>\n",
       "      <th>gabor</th>\n",
       "      <th>drifting_gratings</th>\n",
       "      <th>static_gratings</th>\n",
       "      <th>natural_scenes</th>\n",
       "      <th>natural_movie_3</th>\n",
       "      <th>full_field_flashes</th>\n",
       "    </tr>\n",
       "  </thead>\n",
       "  <tbody>\n",
       "    <tr>\n",
       "      <th>0</th>\n",
       "      <td>ephys_single_14.nwb</td>\n",
       "      <td>single_probe</td>\n",
       "      <td>True</td>\n",
       "      <td>False</td>\n",
       "      <td>False</td>\n",
       "      <td>False</td>\n",
       "      <td>False</td>\n",
       "      <td>False</td>\n",
       "      <td>True</td>\n",
       "      <td>False</td>\n",
       "      <td>True</td>\n",
       "      <td>True</td>\n",
       "      <td>True</td>\n",
       "      <td>True</td>\n",
       "      <td>True</td>\n",
       "    </tr>\n",
       "    <tr>\n",
       "      <th>1</th>\n",
       "      <td>ephys_single_15.nwb</td>\n",
       "      <td>single_probe</td>\n",
       "      <td>True</td>\n",
       "      <td>False</td>\n",
       "      <td>False</td>\n",
       "      <td>False</td>\n",
       "      <td>False</td>\n",
       "      <td>False</td>\n",
       "      <td>True</td>\n",
       "      <td>False</td>\n",
       "      <td>True</td>\n",
       "      <td>True</td>\n",
       "      <td>True</td>\n",
       "      <td>True</td>\n",
       "      <td>True</td>\n",
       "    </tr>\n",
       "    <tr>\n",
       "      <th>2</th>\n",
       "      <td>ephys_single_16.nwb</td>\n",
       "      <td>single_probe</td>\n",
       "      <td>True</td>\n",
       "      <td>False</td>\n",
       "      <td>False</td>\n",
       "      <td>False</td>\n",
       "      <td>False</td>\n",
       "      <td>False</td>\n",
       "      <td>True</td>\n",
       "      <td>False</td>\n",
       "      <td>True</td>\n",
       "      <td>True</td>\n",
       "      <td>True</td>\n",
       "      <td>True</td>\n",
       "      <td>True</td>\n",
       "    </tr>\n",
       "    <tr>\n",
       "      <th>3</th>\n",
       "      <td>ephys_single_39.nwb</td>\n",
       "      <td>single_probe</td>\n",
       "      <td>True</td>\n",
       "      <td>False</td>\n",
       "      <td>False</td>\n",
       "      <td>False</td>\n",
       "      <td>False</td>\n",
       "      <td>False</td>\n",
       "      <td>True</td>\n",
       "      <td>False</td>\n",
       "      <td>True</td>\n",
       "      <td>True</td>\n",
       "      <td>True</td>\n",
       "      <td>True</td>\n",
       "      <td>True</td>\n",
       "    </tr>\n",
       "    <tr>\n",
       "      <th>4</th>\n",
       "      <td>ephys_single_51.nwb</td>\n",
       "      <td>single_probe</td>\n",
       "      <td>True</td>\n",
       "      <td>False</td>\n",
       "      <td>False</td>\n",
       "      <td>False</td>\n",
       "      <td>False</td>\n",
       "      <td>False</td>\n",
       "      <td>True</td>\n",
       "      <td>False</td>\n",
       "      <td>True</td>\n",
       "      <td>True</td>\n",
       "      <td>True</td>\n",
       "      <td>True</td>\n",
       "      <td>True</td>\n",
       "    </tr>\n",
       "  </tbody>\n",
       "</table>\n",
       "</div>"
      ],
      "text/plain": [
       "          nwb_filename experiment_type  VISp  VISal  VISam   VISl  VISpm  \\\n",
       "0  ephys_single_14.nwb    single_probe  True  False  False  False  False   \n",
       "1  ephys_single_15.nwb    single_probe  True  False  False  False  False   \n",
       "2  ephys_single_16.nwb    single_probe  True  False  False  False  False   \n",
       "3  ephys_single_39.nwb    single_probe  True  False  False  False  False   \n",
       "4  ephys_single_51.nwb    single_probe  True  False  False  False  False   \n",
       "\n",
       "   VISrl  locally_sparse_noise  gabor  drifting_gratings  static_gratings  \\\n",
       "0  False                  True  False               True             True   \n",
       "1  False                  True  False               True             True   \n",
       "2  False                  True  False               True             True   \n",
       "3  False                  True  False               True             True   \n",
       "4  False                  True  False               True             True   \n",
       "\n",
       "   natural_scenes  natural_movie_3  full_field_flashes  \n",
       "0            True             True                True  \n",
       "1            True             True                True  \n",
       "2            True             True                True  \n",
       "3            True             True                True  \n",
       "4            True             True                True  "
      ]
     },
     "execution_count": 4,
     "metadata": {},
     "output_type": "execute_result"
    }
   ],
   "source": [
    "# Make new dataframe by selecting only single-probe experiments\n",
    "single_probe_expt_info = expt_info_df[expt_info_df.experiment_type == 'single_probe']\n",
    "\n",
    "print('Number of single-probe experiments: %s') %len(single_probe_expt_info)\n",
    "\n",
    "# Display information about single probe expts\n",
    "single_probe_expt_info"
   ]
  },
  {
   "cell_type": "markdown",
   "metadata": {},
   "source": [
    "<div style=\"background: #DFF0D8; border-radius: 3px; padding: 10px;\">\n",
    "<b>Task 1.1:</b> Make a dataframe for 'multi_probe' experiments. \n",
    "</div>"
   ]
  },
  {
   "cell_type": "code",
   "execution_count": 5,
   "metadata": {},
   "outputs": [
    {
     "data": {
      "text/html": [
       "<div>\n",
       "<style scoped>\n",
       "    .dataframe tbody tr th:only-of-type {\n",
       "        vertical-align: middle;\n",
       "    }\n",
       "\n",
       "    .dataframe tbody tr th {\n",
       "        vertical-align: top;\n",
       "    }\n",
       "\n",
       "    .dataframe thead th {\n",
       "        text-align: right;\n",
       "    }\n",
       "</style>\n",
       "<table border=\"1\" class=\"dataframe\">\n",
       "  <thead>\n",
       "    <tr style=\"text-align: right;\">\n",
       "      <th></th>\n",
       "      <th>nwb_filename</th>\n",
       "      <th>experiment_type</th>\n",
       "      <th>VISp</th>\n",
       "      <th>VISal</th>\n",
       "      <th>VISam</th>\n",
       "      <th>VISl</th>\n",
       "      <th>VISpm</th>\n",
       "      <th>VISrl</th>\n",
       "      <th>locally_sparse_noise</th>\n",
       "      <th>gabor</th>\n",
       "      <th>drifting_gratings</th>\n",
       "      <th>static_gratings</th>\n",
       "      <th>natural_scenes</th>\n",
       "      <th>natural_movie_3</th>\n",
       "      <th>full_field_flashes</th>\n",
       "    </tr>\n",
       "  </thead>\n",
       "  <tbody>\n",
       "    <tr>\n",
       "      <th>5</th>\n",
       "      <td>ephys_multi_84.nwb</td>\n",
       "      <td>multi_probe</td>\n",
       "      <td>True</td>\n",
       "      <td>True</td>\n",
       "      <td>True</td>\n",
       "      <td>False</td>\n",
       "      <td>True</td>\n",
       "      <td>True</td>\n",
       "      <td>True</td>\n",
       "      <td>True</td>\n",
       "      <td>True</td>\n",
       "      <td>True</td>\n",
       "      <td>True</td>\n",
       "      <td>True</td>\n",
       "      <td>True</td>\n",
       "    </tr>\n",
       "    <tr>\n",
       "      <th>6</th>\n",
       "      <td>ephys_multi_58.nwb</td>\n",
       "      <td>multi_probe</td>\n",
       "      <td>True</td>\n",
       "      <td>True</td>\n",
       "      <td>True</td>\n",
       "      <td>True</td>\n",
       "      <td>True</td>\n",
       "      <td>True</td>\n",
       "      <td>False</td>\n",
       "      <td>True</td>\n",
       "      <td>True</td>\n",
       "      <td>True</td>\n",
       "      <td>True</td>\n",
       "      <td>True</td>\n",
       "      <td>True</td>\n",
       "    </tr>\n",
       "    <tr>\n",
       "      <th>7</th>\n",
       "      <td>ephys_multi_10.nwb</td>\n",
       "      <td>multi_probe</td>\n",
       "      <td>True</td>\n",
       "      <td>True</td>\n",
       "      <td>True</td>\n",
       "      <td>True</td>\n",
       "      <td>True</td>\n",
       "      <td>True</td>\n",
       "      <td>False</td>\n",
       "      <td>True</td>\n",
       "      <td>True</td>\n",
       "      <td>True</td>\n",
       "      <td>True</td>\n",
       "      <td>True</td>\n",
       "      <td>True</td>\n",
       "    </tr>\n",
       "    <tr>\n",
       "      <th>8</th>\n",
       "      <td>ephys_multi_21.nwb</td>\n",
       "      <td>multi_probe</td>\n",
       "      <td>True</td>\n",
       "      <td>False</td>\n",
       "      <td>True</td>\n",
       "      <td>True</td>\n",
       "      <td>True</td>\n",
       "      <td>False</td>\n",
       "      <td>False</td>\n",
       "      <td>True</td>\n",
       "      <td>True</td>\n",
       "      <td>True</td>\n",
       "      <td>True</td>\n",
       "      <td>True</td>\n",
       "      <td>True</td>\n",
       "    </tr>\n",
       "  </tbody>\n",
       "</table>\n",
       "</div>"
      ],
      "text/plain": [
       "         nwb_filename experiment_type  VISp  VISal  VISam   VISl  VISpm  \\\n",
       "5  ephys_multi_84.nwb     multi_probe  True   True   True  False   True   \n",
       "6  ephys_multi_58.nwb     multi_probe  True   True   True   True   True   \n",
       "7  ephys_multi_10.nwb     multi_probe  True   True   True   True   True   \n",
       "8  ephys_multi_21.nwb     multi_probe  True  False   True   True   True   \n",
       "\n",
       "   VISrl  locally_sparse_noise  gabor  drifting_gratings  static_gratings  \\\n",
       "5   True                  True   True               True             True   \n",
       "6   True                 False   True               True             True   \n",
       "7   True                 False   True               True             True   \n",
       "8  False                 False   True               True             True   \n",
       "\n",
       "   natural_scenes  natural_movie_3  full_field_flashes  \n",
       "5            True             True                True  \n",
       "6            True             True                True  \n",
       "7            True             True                True  \n",
       "8            True             True                True  "
      ]
     },
     "execution_count": 5,
     "metadata": {},
     "output_type": "execute_result"
    }
   ],
   "source": [
    "# SOLUTION\n",
    "\n",
    "#make new dataframe by selecting only multi-probe experiments\n",
    "multi_probe_expt_info = expt_info_df[expt_info_df.experiment_type == 'multi_probe']\n",
    "multi_probe_expt_info"
   ]
  },
  {
   "cell_type": "markdown",
   "metadata": {},
   "source": [
    "<div style=\"background: #DFF0D8; border-radius: 3px; padding: 10px;\">\n",
    "<b>Task 1.2:</b> How many multi-probe experiments?\n",
    "</div>"
   ]
  },
  {
   "cell_type": "code",
   "execution_count": 6,
   "metadata": {
    "scrolled": true
   },
   "outputs": [
    {
     "name": "stdout",
     "output_type": "stream",
     "text": [
      "Number of multi-probe experiments: 4\n"
     ]
    }
   ],
   "source": [
    "# SOLUTION\n",
    "print('Number of multi-probe experiments: %s') %len(multi_probe_expt_info)"
   ]
  },
  {
   "cell_type": "markdown",
   "metadata": {},
   "source": [
    "<div style=\"border-left: 3px solid #000; padding: 1px; padding-left: 10px; background: #F0FAFF; \">\n",
    "\n",
    "<h3>Load dataset for one multi-probe experiment using NWB file adapter</h3>\n",
    "\n",
    "<ul>\n",
    "<li>Datasets are stored as NWB1.0 files which is based on HDF5 file format</li>\n",
    "<li>To facilitate access to these files we have built a light-weight adapter object (NWB_adapter)</li>\n",
    "<li>The NWB_adapter provides easy access to unit spike times and stimulus presentation metadata</li>\n",
    "</ul>\n",
    "</div>"
   ]
  },
  {
   "cell_type": "code",
   "execution_count": 7,
   "metadata": {
    "scrolled": false
   },
   "outputs": [
    {
     "name": "stderr",
     "output_type": "stream",
     "text": [
      "/Users/michaelbu/anaconda2/lib/python2.7/site-packages/h5py/__init__.py:36: FutureWarning: Conversion of the second argument of issubdtype from `float` to `np.floating` is deprecated. In future, it will be treated as `np.float64 == np.dtype(float).type`.\n",
      "  from ._conv import register_converters as _register_converters\n"
     ]
    }
   ],
   "source": [
    "# Import NWB_adapter\n",
    "from swdb_2018_neuropixels.ephys_nwb_adapter import NWB_adapter"
   ]
  },
  {
   "cell_type": "code",
   "execution_count": 8,
   "metadata": {},
   "outputs": [
    {
     "name": "stdout",
     "output_type": "stream",
     "text": [
      "ephys_multi_58.nwb\n"
     ]
    }
   ],
   "source": [
    "# Choose filename from one row from the multi_probe experiments dataframe\n",
    "multi_probe_filename  = multi_probe_expt_info.iloc[1]['nwb_filename']\n",
    "print multi_probe_filename\n",
    "\n",
    "# Specify full path to the .nwb file\n",
    "nwb_file = os.path.join(drive_path,multi_probe_filename)"
   ]
  },
  {
   "cell_type": "markdown",
   "metadata": {},
   "source": [
    "<div style=\"border-left: 3px solid #000; padding: 1px; padding-left: 10px; background: #F0FAFF; \">\n",
    "<p>We will be using the data contained in this experiment for the remainder of this notebook.\n",
    "\n",
    "<h2>The Dataset Object</h2>\n",
    "<p>We will create a data_set object for this experiment session.\n",
    "\n",
    "<p>The data_set object contains methods and info about the data recorded in this experiment\n",
    "</div>"
   ]
  },
  {
   "cell_type": "code",
   "execution_count": 9,
   "metadata": {},
   "outputs": [],
   "source": [
    "data_set = NWB_adapter(nwb_file)"
   ]
  },
  {
   "cell_type": "markdown",
   "metadata": {},
   "source": [
    "<div style=\"background: #DFF0D8; border-radius: 3px; padding: 10px;\">\n",
    "<b>Task 1.3:</b> What are the attributes of the data_set object? Use either `dir` or tab-completion to find out what methods and info the `data_set` object has.\n",
    "</div>"
   ]
  },
  {
   "cell_type": "code",
   "execution_count": 10,
   "metadata": {},
   "outputs": [],
   "source": [
    "# SOLUTION\n",
    "#data_set.  #\"tab completion\""
   ]
  },
  {
   "cell_type": "markdown",
   "metadata": {},
   "source": [
    "<div style=\"border-left: 3px solid #000; padding: 1px; padding-left: 10px; background: #F0FAFF; \">\n",
    "<h3> probe_list and region_list</h3>\n",
    "\n",
    "<p>Let's look at the cortical regions from which data was recorded in this experiment. For all datasets provided, each of the probes records from a unique cortical region in the order shown below.\n",
    "\n",
    "<p> This information is contained in 'probe_list' and 'region_list' in the data_set object\n",
    "</div>"
   ]
  },
  {
   "cell_type": "code",
   "execution_count": 11,
   "metadata": {},
   "outputs": [
    {
     "data": {
      "text/plain": [
       "(['probeA', 'probeB', 'probeC', 'probeD', 'probeE', 'probeF'],\n",
       " ['VISam', 'VISpm', 'VISp', 'VISl', 'VISal', 'VISrl'])"
      ]
     },
     "execution_count": 11,
     "metadata": {},
     "output_type": "execute_result"
    }
   ],
   "source": [
    "# Probe names and corresponding cortical regions\n",
    "data_set.probe_list, data_set.region_list"
   ]
  },
  {
   "cell_type": "markdown",
   "metadata": {},
   "source": [
    "<div style=\"background: #DFF0D8; border-radius: 3px; padding: 10px;\">\n",
    "<b>Task 1.4:</b> Which probe has the most recorded units in this experiment? Hint: Look at number_cells attribute.\n",
    "</div>"
   ]
  },
  {
   "cell_type": "code",
   "execution_count": 12,
   "metadata": {},
   "outputs": [
    {
     "data": {
      "text/plain": [
       "{'probeA': 178,\n",
       " 'probeB': 286,\n",
       " 'probeC': 307,\n",
       " 'probeD': 181,\n",
       " 'probeE': 194,\n",
       " 'probeF': 56}"
      ]
     },
     "execution_count": 12,
     "metadata": {},
     "output_type": "execute_result"
    }
   ],
   "source": [
    "# SOLUTION\n",
    "data_set.number_cells"
   ]
  },
  {
   "cell_type": "markdown",
   "metadata": {},
   "source": [
    "<div style=\"border-left: 3px solid #000; padding: 1px; padding-left: 10px; background: #F0FAFF; \">\n",
    "<p> So 'number_cells' is  a dictionary that stores number of units recorded on each probe with probe names as keys.\n",
    "</div>"
   ]
  },
  {
   "cell_type": "markdown",
   "metadata": {},
   "source": [
    "<div style=\"border-left: 3px solid #000; padding: 1px; padding-left: 10px; background: #F0FAFF; \">\n",
    "\n",
    "<h3>unit_list</h3>\n",
    "\n",
    "<p> 'unit_list' in data_set is  a dictionary that stores unit IDs from each probe. Unit IDs in recorded on each probe can be accessed by providing a probe name as key.\n",
    "</div>"
   ]
  },
  {
   "cell_type": "code",
   "execution_count": 13,
   "metadata": {},
   "outputs": [],
   "source": [
    "# List of all units recorded on probeC\n",
    "probeC_unit_list = data_set.unit_list['probeC']"
   ]
  },
  {
   "cell_type": "markdown",
   "metadata": {},
   "source": [
    "<div style=\"background: #DFF0D8; border-radius: 3px; padding: 10px;\">\n",
    "<b>Task 1.5:</b> Print the unit ID for the first 20 units in probeC_unit_list\n",
    "</div>"
   ]
  },
  {
   "cell_type": "code",
   "execution_count": 15,
   "metadata": {},
   "outputs": [
    {
     "name": "stdout",
     "output_type": "stream",
     "text": [
      "['1' '2' '3' '5' '6' '7' '8' '9' '10' '11' '12' '13' '14' '15' '16' '17'\n",
      " '18' '19' '20' '21']\n"
     ]
    }
   ],
   "source": [
    "# SOLUTION\n",
    "# print unit ID for first 20 units\n",
    "print(probeC_unit_list[:20]) "
   ]
  },
  {
   "cell_type": "markdown",
   "metadata": {},
   "source": [
    "<div style=\"background: #DFF0D8; border-radius: 3px; padding: 10px;\">\n",
    "<b> Task 1.6:</b> How many units were recorded on probeC in this experiment?\n",
    "</div>"
   ]
  },
  {
   "cell_type": "code",
   "execution_count": 16,
   "metadata": {},
   "outputs": [
    {
     "data": {
      "text/plain": [
       "307"
      ]
     },
     "execution_count": 16,
     "metadata": {},
     "output_type": "execute_result"
    }
   ],
   "source": [
    "# SOLUTION\n",
    "len(probeC_unit_list)"
   ]
  },
  {
   "cell_type": "markdown",
   "metadata": {},
   "source": [
    "<div style=\"border-left: 3px solid #000; padding: 1px; padding-left: 10px; background: #F0FAFF; \">\n",
    "\n",
    "<h3>unit_df</h3>\n",
    "The metadata for each recorded unit is outlined in 'unit_df' as a dataframe. For each recorded unit, this dataframe contains:\n",
    "<ol>\n",
    "<li>the unit_id</li>\n",
    "<li>the probe on which this unit was recorded</li>\n",
    "<li>the brain structure</li>\n",
    "<li>the signal-to-noise ratio of the spike waveform</li>\n",
    "<li>the depth from the cortical surface</li>\n",
    "<li>the probe channel on which it was recorded (useful for later) </li>\n",
    "</ol>\n",
    "</div>"
   ]
  },
  {
   "cell_type": "code",
   "execution_count": 17,
   "metadata": {},
   "outputs": [
    {
     "data": {
      "text/html": [
       "<div>\n",
       "<style scoped>\n",
       "    .dataframe tbody tr th:only-of-type {\n",
       "        vertical-align: middle;\n",
       "    }\n",
       "\n",
       "    .dataframe tbody tr th {\n",
       "        vertical-align: top;\n",
       "    }\n",
       "\n",
       "    .dataframe thead th {\n",
       "        text-align: right;\n",
       "    }\n",
       "</style>\n",
       "<table border=\"1\" class=\"dataframe\">\n",
       "  <thead>\n",
       "    <tr style=\"text-align: right;\">\n",
       "      <th></th>\n",
       "      <th>unit_id</th>\n",
       "      <th>probe</th>\n",
       "      <th>structure</th>\n",
       "      <th>snr</th>\n",
       "      <th>depth</th>\n",
       "      <th>channel</th>\n",
       "    </tr>\n",
       "  </thead>\n",
       "  <tbody>\n",
       "    <tr>\n",
       "      <th>0</th>\n",
       "      <td>2</td>\n",
       "      <td>probeA</td>\n",
       "      <td>TH</td>\n",
       "      <td>2.80716</td>\n",
       "      <td>-3780</td>\n",
       "      <td>4</td>\n",
       "    </tr>\n",
       "    <tr>\n",
       "      <th>1</th>\n",
       "      <td>3</td>\n",
       "      <td>probeA</td>\n",
       "      <td>TH</td>\n",
       "      <td>2.87714</td>\n",
       "      <td>-3720</td>\n",
       "      <td>10</td>\n",
       "    </tr>\n",
       "    <tr>\n",
       "      <th>2</th>\n",
       "      <td>4</td>\n",
       "      <td>probeA</td>\n",
       "      <td>TH</td>\n",
       "      <td>2.05367</td>\n",
       "      <td>-3720</td>\n",
       "      <td>10</td>\n",
       "    </tr>\n",
       "    <tr>\n",
       "      <th>3</th>\n",
       "      <td>5</td>\n",
       "      <td>probeA</td>\n",
       "      <td>TH</td>\n",
       "      <td>2.66352</td>\n",
       "      <td>-3640</td>\n",
       "      <td>19</td>\n",
       "    </tr>\n",
       "    <tr>\n",
       "      <th>4</th>\n",
       "      <td>6</td>\n",
       "      <td>probeA</td>\n",
       "      <td>TH</td>\n",
       "      <td>1.58187</td>\n",
       "      <td>-3580</td>\n",
       "      <td>24</td>\n",
       "    </tr>\n",
       "  </tbody>\n",
       "</table>\n",
       "</div>"
      ],
      "text/plain": [
       "  unit_id   probe structure      snr  depth channel\n",
       "0       2  probeA        TH  2.80716  -3780       4\n",
       "1       3  probeA        TH  2.87714  -3720      10\n",
       "2       4  probeA        TH  2.05367  -3720      10\n",
       "3       5  probeA        TH  2.66352  -3640      19\n",
       "4       6  probeA        TH  1.58187  -3580      24"
      ]
     },
     "execution_count": 17,
     "metadata": {},
     "output_type": "execute_result"
    }
   ],
   "source": [
    "# Look at the first five entries in the unit_df dataframe\n",
    "data_set.unit_df.head()"
   ]
  },
  {
   "cell_type": "code",
   "execution_count": 18,
   "metadata": {},
   "outputs": [
    {
     "data": {
      "text/plain": [
       "array(['CA', 'DG', 'SCs', 'TH', 'VISal', 'VISam', 'VISl', 'VISp', 'VISpm',\n",
       "       'VISrl'], dtype=object)"
      ]
     },
     "execution_count": 18,
     "metadata": {},
     "output_type": "execute_result"
    }
   ],
   "source": [
    "# List of structures from which units were recorded\n",
    "np.unique(data_set.unit_df['structure'])"
   ]
  },
  {
   "cell_type": "markdown",
   "metadata": {},
   "source": [
    "<div style=\"border-left: 3px solid #000; padding: 1px; padding-left: 10px; background: #F0FAFF; \">\n",
    "<h3>Spike times</h3>\n",
    "\n",
    "<p>'spike_times' is a dictionary with probe name as keys. \n",
    "    \n",
    "<p>We will look at spiketimes of units in VISp. Recall from above that these are on probeC. \n",
    "<p>To do this, we have to first isolate units on probeC that were in VISp. We will use 'unit_df' and create a dataframe that is a subset of unit_df \n",
    "</div>"
   ]
  },
  {
   "cell_type": "code",
   "execution_count": 19,
   "metadata": {},
   "outputs": [
    {
     "data": {
      "text/html": [
       "<div>\n",
       "<style scoped>\n",
       "    .dataframe tbody tr th:only-of-type {\n",
       "        vertical-align: middle;\n",
       "    }\n",
       "\n",
       "    .dataframe tbody tr th {\n",
       "        vertical-align: top;\n",
       "    }\n",
       "\n",
       "    .dataframe thead th {\n",
       "        text-align: right;\n",
       "    }\n",
       "</style>\n",
       "<table border=\"1\" class=\"dataframe\">\n",
       "  <thead>\n",
       "    <tr style=\"text-align: right;\">\n",
       "      <th></th>\n",
       "      <th>unit_id</th>\n",
       "      <th>probe</th>\n",
       "      <th>structure</th>\n",
       "      <th>snr</th>\n",
       "      <th>depth</th>\n",
       "      <th>channel</th>\n",
       "    </tr>\n",
       "  </thead>\n",
       "  <tbody>\n",
       "    <tr>\n",
       "      <th>667</th>\n",
       "      <td>222</td>\n",
       "      <td>probeC</td>\n",
       "      <td>VISp</td>\n",
       "      <td>4.77</td>\n",
       "      <td>-1320</td>\n",
       "      <td>250</td>\n",
       "    </tr>\n",
       "    <tr>\n",
       "      <th>668</th>\n",
       "      <td>223</td>\n",
       "      <td>probeC</td>\n",
       "      <td>VISp</td>\n",
       "      <td>7.01134</td>\n",
       "      <td>-1320</td>\n",
       "      <td>250</td>\n",
       "    </tr>\n",
       "    <tr>\n",
       "      <th>669</th>\n",
       "      <td>224</td>\n",
       "      <td>probeC</td>\n",
       "      <td>VISp</td>\n",
       "      <td>3.42435</td>\n",
       "      <td>-1300</td>\n",
       "      <td>253</td>\n",
       "    </tr>\n",
       "    <tr>\n",
       "      <th>670</th>\n",
       "      <td>225</td>\n",
       "      <td>probeC</td>\n",
       "      <td>VISp</td>\n",
       "      <td>3.3767</td>\n",
       "      <td>-1280</td>\n",
       "      <td>254</td>\n",
       "    </tr>\n",
       "    <tr>\n",
       "      <th>671</th>\n",
       "      <td>226</td>\n",
       "      <td>probeC</td>\n",
       "      <td>VISp</td>\n",
       "      <td>2.07795</td>\n",
       "      <td>-1260</td>\n",
       "      <td>256</td>\n",
       "    </tr>\n",
       "  </tbody>\n",
       "</table>\n",
       "</div>"
      ],
      "text/plain": [
       "    unit_id   probe structure      snr  depth channel\n",
       "667     222  probeC      VISp     4.77  -1320     250\n",
       "668     223  probeC      VISp  7.01134  -1320     250\n",
       "669     224  probeC      VISp  3.42435  -1300     253\n",
       "670     225  probeC      VISp   3.3767  -1280     254\n",
       "671     226  probeC      VISp  2.07795  -1260     256"
      ]
     },
     "execution_count": 19,
     "metadata": {},
     "output_type": "execute_result"
    }
   ],
   "source": [
    "# Specify the probe\n",
    "probe_name = 'probeC'\n",
    "\n",
    "# Speciy the region\n",
    "region_name = 'VISp'\n",
    "\n",
    "# Subset df\n",
    "v1_unit_df = data_set.unit_df[data_set.unit_df['structure']==region_name]\n",
    "\n",
    "# Display first 5 entries\n",
    "v1_unit_df.head()"
   ]
  },
  {
   "cell_type": "code",
   "execution_count": 20,
   "metadata": {},
   "outputs": [
    {
     "name": "stdout",
     "output_type": "stream",
     "text": [
      "71\n"
     ]
    }
   ],
   "source": [
    "# Make a list of unit_ids that are in VISp on probeC\n",
    "v1_unit_list = list(v1_unit_df['unit_id'].values)\n",
    "\n",
    "# How many units in VISp? \n",
    "print len(v1_unit_list)"
   ]
  },
  {
   "cell_type": "markdown",
   "metadata": {},
   "source": [
    "<div style=\"border-left: 3px solid #000; padding: 1px; padding-left: 10px; background: #F0FAFF; \">\n",
    "<h4>Extract spike_times corresponding to units on probeC.</h4>\n",
    "    \n",
    "<p>This returns a dictionary with unit IDs as keys. \n",
    "</div>"
   ]
  },
  {
   "cell_type": "code",
   "execution_count": 21,
   "metadata": {},
   "outputs": [
    {
     "name": "stdout",
     "output_type": "stream",
     "text": [
      "['216', '217', '214', '215', '212']\n"
     ]
    }
   ],
   "source": [
    "# Get all spike times from probeC units\n",
    "probe_spikes = data_set.spike_times[probe_name]\n",
    "\n",
    "# Look at the first 5 unit IDs in probe_spikes\n",
    "print probe_spikes.keys()[:5]"
   ]
  },
  {
   "cell_type": "markdown",
   "metadata": {},
   "source": [
    "<div style=\"border-left: 3px solid #000; padding: 1px; padding-left: 10px; background: #F0FAFF; \">\n",
    "<b>Get spike times from single unit in VISp</b>\n",
    "\n",
    "<p> We will do this by specifying a unit of interest in 'v1_unit_list' and providing that as a key to 'probe_spikes'\n",
    "</div>"
   ]
  },
  {
   "cell_type": "code",
   "execution_count": 22,
   "metadata": {},
   "outputs": [
    {
     "data": {
      "text/plain": [
       "array([10.66296688, 13.18336709, 14.18053384, 17.16516742, 18.61320088,\n",
       "       19.35220094, 21.80556781, 22.38693453, 29.00896841, 29.17666843,\n",
       "       29.40403511, 30.9078019 , 35.37656895, 35.84590232, 38.16466918,\n",
       "       38.87430257, 40.4246027 , 40.75716939, 41.1965361 , 42.04250284])"
      ]
     },
     "execution_count": 22,
     "metadata": {},
     "output_type": "execute_result"
    }
   ],
   "source": [
    "unit_of_interest = v1_unit_list[3]        # Specify unit of interest\n",
    "\n",
    "spikes = probe_spikes[unit_of_interest]   # Obtain spike times of this unit\n",
    "\n",
    "spikes[:20]                               # List the first 20 spiketimes of this unit"
   ]
  },
  {
   "cell_type": "markdown",
   "metadata": {},
   "source": [
    "<div style=\"background: #DFF0D8; border-radius: 3px; padding: 10px;\">\n",
    "<b>Task 1.7:</b> How many spikes were recorded from our 'unit_of_interest'?\n",
    "</div>"
   ]
  },
  {
   "cell_type": "code",
   "execution_count": 23,
   "metadata": {},
   "outputs": [
    {
     "data": {
      "text/plain": [
       "60333"
      ]
     },
     "execution_count": 23,
     "metadata": {},
     "output_type": "execute_result"
    }
   ],
   "source": [
    "# SOLUTION\n",
    "len(spikes)"
   ]
  },
  {
   "cell_type": "markdown",
   "metadata": {},
   "source": [
    "<div style=\"background: #DFF0D8; border-radius: 3px; padding: 10px;\">\n",
    "<b>Exercise 1.1:</b> Plot a histogram showing spike count across the population of units recorded in VISp. \n",
    "\n",
    "<ol>\n",
    "    <li>Create an empty list called 'num_spikes'.</li>\n",
    "    <li>Loop through all units in 'v1_unit_list' and append the number of spikes for each unit to 'num_spikes'. Make sure to use 'probe_spikes' and pass unit_id as a key when you loop through.</li>\n",
    "    <li>Use plt.hist to plot the histogram. You can specify 'bins=20' in plt.hist</li>\n",
    "</ol>\n",
    "</div>"
   ]
  },
  {
   "cell_type": "code",
   "execution_count": 24,
   "metadata": {
    "scrolled": true
   },
   "outputs": [
    {
     "data": {
      "image/png": "[encoded data removed]",
      "text/plain": [
       "<Figure size 432x288 with 1 Axes>"
      ]
     },
     "metadata": {},
     "output_type": "display_data"
    }
   ],
   "source": [
    "# SOLUTION\n",
    "num_spikes = []\n",
    "\n",
    "for unit in v1_unit_list:\n",
    "    sp = probe_spikes[unit]     \n",
    "    num_spikes.append(len(sp)) \n",
    "\n",
    "#Plot figure\n",
    "plt.figure()\n",
    "plt.hist(num_spikes,bins=20)\n",
    "plt.ylabel('number of units')\n",
    "plt.xlabel('number of spikes recorded')\n",
    "plt.show()"
   ]
  },
  {
   "cell_type": "markdown",
   "metadata": {},
   "source": [
    "<div style=\"border-left: 3px solid #000; padding: 1px; padding-left: 10px; background: #F0FAFF; \">\n",
    "\n",
    "<h3>Raster plot of spike times over some time interval in session</h3>\n",
    "\n",
    "<p>We have isolated spike times from a unit in VISp and stored it in 'spikes'. We can visualize them using a raster plot.\n",
    "</div>"
   ]
  },
  {
   "cell_type": "code",
   "execution_count": 25,
   "metadata": {},
   "outputs": [
    {
     "data": {
      "image/png": "[encoded data removed]",
      "text/plain": [
       "<Figure size 1080x72 with 1 Axes>"
      ]
     },
     "metadata": {},
     "output_type": "display_data"
    }
   ],
   "source": [
    "# Make raster plot of single unit spike trains within a specified time window\n",
    "\n",
    "tst = 0  #start time in sec\n",
    "tend = 300 #end time in sec\n",
    "\n",
    "#Plot figure\n",
    "fig,ax = plt.subplots(1,1,figsize=(15,1))\n",
    "ax.plot(spikes,np.ones_like(spikes),'|')\n",
    "ax.set_xlim(tst,tend)\n",
    "\n",
    "ax.set_xlabel('time (s)')\n",
    "ax.set_title('Spike train for 1 unit in VISp over first 5 minutes of experimental session')\n",
    "plt.show()"
   ]
  },
  {
   "cell_type": "markdown",
   "metadata": {},
   "source": [
    "<div style=\"background: #DFF0D8; border-radius: 3px; padding: 10px;\">\n",
    "<b>Exercise 1.2</b>  Plot raster of spike train in 'spikes' from 10 mins to 15 mins.\n",
    "</div>"
   ]
  },
  {
   "cell_type": "code",
   "execution_count": 26,
   "metadata": {},
   "outputs": [
    {
     "data": {
      "image/png": "[encoded data removed]",
      "text/plain": [
       "<Figure size 1080x72 with 1 Axes>"
      ]
     },
     "metadata": {},
     "output_type": "display_data"
    }
   ],
   "source": [
    "# SOLUTION\n",
    "tst = 600  #start time in sec\n",
    "tend = 900 #end time in sec\n",
    "\n",
    "#Plot figure\n",
    "fig,ax = plt.subplots(1,1,figsize=(15,1))\n",
    "ax.plot(spikes,np.ones_like(spikes),'|')\n",
    "ax.set_xlim(tst,tend)\n",
    "\n",
    "ax.set_xlabel('time (s)')\n",
    "ax.set_title('Spike train for 1 unit over another 5 minutes of experimental session')\n",
    "plt.show()"
   ]
  },
  {
   "cell_type": "markdown",
   "metadata": {},
   "source": [
    "<div style=\"border-left: 3px solid #000; padding: 1px; padding-left: 10px; background: #F0FAFF; \">\n",
    "<h4>Plot spike times from all VISp neurons for the first five minutes</h4>\n",
    "\n",
    "<p> We will do this by creating a figure object and plotting rasters by looping through all units in VISp\n",
    "</div>"
   ]
  },
  {
   "cell_type": "code",
   "execution_count": 27,
   "metadata": {},
   "outputs": [
    {
     "data": {
      "image/png": "[encoded data removed]",
      "text/plain": [
       "<Figure size 1080x576 with 1 Axes>"
      ]
     },
     "metadata": {},
     "output_type": "display_data"
    }
   ],
   "source": [
    "tst = 0\n",
    "tend = 300\n",
    "\n",
    "# Figure setup\n",
    "fig,ax = plt.subplots(1,1)\n",
    "fig.set_size_inches(15,8)\n",
    "\n",
    "# Loop through list of spike times from each unit and plot at different y-values\n",
    "for i,unit in enumerate(v1_unit_list):\n",
    "    spike_times = probe_spikes[unit]\n",
    "    ax.plot(spike_times,i*np.ones_like(spike_times),'|')\n",
    "\n",
    "#Annotate plot\n",
    "plt.xlim(tst,tend)\n",
    "\n",
    "ax.set_ylabel('units')\n",
    "ax.set_xlabel('time (s)')\n",
    "ax.set_title('Spike train for all V1 units over first 5 minutes of experimental session')\n",
    "plt.show()"
   ]
  },
  {
   "cell_type": "markdown",
   "metadata": {
    "collapsed": true
   },
   "source": [
    "<div style=\"background: #DFF0D8; border-radius: 3px; padding: 10px;\">\n",
    "<b>Exercise 1.3:</b> Make a series of rasters plots showing spiking activity from 20 units recorded from each of the 6 visual cortical areas. To do this,\n",
    "\n",
    "<ol>\n",
    "    <li>Loop over probes--extract all spikes from probe within this loop.</li>\n",
    "    <li>Use function below (**get_units_in_visual_cortex()** ) to return only visual cortical neurons.</li>\n",
    "    <li>Loop over 20 units in each area--extract unit spike times from probe_spikes and plot raster.</li>\n",
    "</ol>\n",
    "\n",
    "<b>HINT:</b> Recall from above that each probe corresponds to a unique visual cortical region. To loop over probes and get the corresponding region for 'get_units_in_visual_cortex', use the <b>zip</b> function in python.\n",
    "</div>"
   ]
  },
  {
   "cell_type": "code",
   "execution_count": 28,
   "metadata": {},
   "outputs": [],
   "source": [
    "def get_units_in_visual_cortex(cortical_region_name, data_set):\n",
    "    '''Inputs:\n",
    "            cortical_region_name: the name of visual cortical region ('VISp','VISl','VISal','VISrl','VISam','VISpm')\n",
    "            data_set: data_set object for one ephys experiment\n",
    "       Returns:\n",
    "            vis_unit_list: list of unit_IDs in the cortical region '''\n",
    "    \n",
    "    # Select dataframe subset of units in cortical region\n",
    "    subset_unit_df = data_set.unit_df[data_set.unit_df['structure']==cortical_region_name]\n",
    "    \n",
    "    # Make a list of unit_ids that are in visual cortical region on specified probe\n",
    "    vis_unit_list = list(subset_unit_df['unit_id'].values)\n",
    "    \n",
    "    return vis_unit_list"
   ]
  },
  {
   "cell_type": "code",
   "execution_count": 29,
   "metadata": {},
   "outputs": [
    {
     "data": {
      "image/png": "[encoded data removed]",
      "text/plain": [
       "<Figure size 1080x504 with 6 Axes>"
      ]
     },
     "metadata": {},
     "output_type": "display_data"
    }
   ],
   "source": [
    "#SOLUTION\n",
    "# Raster plot showing 20 units simultaneously recorded in each of 6 areas\n",
    "\n",
    "#Get probes and regions in data_set\n",
    "probes = data_set.probe_list\n",
    "regions = data_set.region_list\n",
    "\n",
    "# Figure setup\n",
    "fig,ax = plt.subplots(3,2,figsize=(15,7),sharex=True,sharey=True)\n",
    "\n",
    "#The ravel command gets the six axes (3*2) into a single list.\n",
    "ax = ax.ravel()     \n",
    "\n",
    "#List of colors so that a unique color can be used for each plot. \n",
    "colors = plt.rcParams['axes.prop_cycle'].by_key()['color']\n",
    "\n",
    "# Loop over probes. Use a counter variable 'idx' that increments by 1 for every probe\n",
    "idx = 0\n",
    "for probe,region in zip(probes,regions):\n",
    "    probe_spt = data_set.spike_times[probe]                     # Get all spikes from probe\n",
    "    vis_unit_list = get_units_in_visual_cortex(region,data_set) # Get units in one visual cortical region\n",
    "    \n",
    "    # Plot spike times for 20 units\n",
    "    for i,unit in enumerate(vis_unit_list[:20]):\n",
    "        spike_times =  probe_spt[unit]                       #Extract spike times for each unit from probe spiketimes\n",
    "        ax[idx].plot(spike_times,i*np.ones_like(spike_times),'|',color=colors[idx],markersize=3) #fill in the first two entries here\n",
    "        ax[idx].set_title(region)                           #Use region name as title for each subplot \n",
    "    \n",
    "    idx = idx+1\n",
    "        \n",
    "plt.xlim(0,300)\n",
    "ax[0].set_ylabel('Units')\n",
    "plt.show()"
   ]
  },
  {
   "cell_type": "markdown",
   "metadata": {},
   "source": [
    "<div style=\"border-left: 3px solid #000; padding: 1px; padding-left: 10px; background: #F0FAFF; \">\n",
    "<h1>2. Visualization and analysis of stimulus-evoked activity</h1>\n",
    "\n",
    "<p> We will now look at analyses of stimulus-evoked activity for a few stimuli.\n",
    "</div>"
   ]
  },
  {
   "cell_type": "markdown",
   "metadata": {},
   "source": [
    "<div style=\"border-left: 3px solid #000; padding: 1px; padding-left: 10px; background: #F0FAFF; \">\n",
    "<h4>Example units</h4>\n",
    "\n",
    "<p> For the multi-probe experiments, the data_set object contains a dictionary of example units. We will use these to illustrate stimulus-evoked activity. <p>\n",
    "</div>"
   ]
  },
  {
   "cell_type": "markdown",
   "metadata": {},
   "source": [
    "<div style=\"background: #DFF0D8; border-radius: 3px; padding: 10px;\">\n",
    "<b>Task 2.1:</b> What are the keys of the example_units dictionary?\n",
    "</div>"
   ]
  },
  {
   "cell_type": "code",
   "execution_count": 30,
   "metadata": {},
   "outputs": [
    {
     "data": {
      "text/plain": [
       "['probe', 'unit_ids', 'structure']"
      ]
     },
     "execution_count": 30,
     "metadata": {},
     "output_type": "execute_result"
    }
   ],
   "source": [
    "# SOLUTION\n",
    "data_set.example_units.keys()"
   ]
  },
  {
   "cell_type": "markdown",
   "metadata": {},
   "source": [
    "<div style=\"border-left: 3px solid #000; padding: 1px; padding-left: 10px; background: #F0FAFF; \">\n",
    "We will store the information from 'example_units' in several variables for ease of use below.\n",
    "</div>"
   ]
  },
  {
   "cell_type": "code",
   "execution_count": 31,
   "metadata": {},
   "outputs": [
    {
     "name": "stdout",
     "output_type": "stream",
     "text": [
      "('probeC', ['248', '294', '242', '278', '241', '266'], 'VISp')\n"
     ]
    }
   ],
   "source": [
    "ex_probe = data_set.example_units['probe']        #example probe\n",
    "ex_unit_ids = data_set.example_units['unit_ids']   #example unit_ids\n",
    "ex_structure = data_set.example_units['structure']  #example_structure\n",
    "\n",
    "print(ex_probe, ex_unit_ids, ex_structure)"
   ]
  },
  {
   "cell_type": "markdown",
   "metadata": {},
   "source": [
    "<div style=\"border-left: 3px solid #000; padding: 1px; padding-left: 10px; background: #F0FAFF; \">\n",
    "\n",
    "<h3>Stimulus table</h3>\n",
    "<ul>\n",
    "    <li>Stimulus presentation information is found in the stimulus table</li>\n",
    "    <li>The stim table for each stimulus type is accessed via stim_tables dictionary</li>\n",
    "    <li>The keys of stim_tables are names of the stimulus sets</li>\n",
    "</ul>\n",
    "</div>"
   ]
  },
  {
   "cell_type": "code",
   "execution_count": 32,
   "metadata": {},
   "outputs": [
    {
     "data": {
      "text/plain": [
       "['natural_movie_1',\n",
       " 'natural_movie_3',\n",
       " 'flash_250ms',\n",
       " 'drifting_gratings',\n",
       " u'gabor_20_deg_250ms',\n",
       " u'spontaneous',\n",
       " 'static_gratings',\n",
       " 'natural_scenes']"
      ]
     },
     "execution_count": 32,
     "metadata": {},
     "output_type": "execute_result"
    }
   ],
   "source": [
    "#What are the keys of stim_tables?\n",
    "data_set.stim_tables.keys()"
   ]
  },
  {
   "cell_type": "markdown",
   "metadata": {},
   "source": [
    "<div style=\"background: #DFF0D8; border-radius: 3px; padding: 10px;\">\n",
    "<b>Task 2.2:</b> Get the stimulus table for natural scenes.\n",
    "</div>"
   ]
  },
  {
   "cell_type": "code",
   "execution_count": 33,
   "metadata": {},
   "outputs": [],
   "source": [
    "#SOLUTION\n",
    "\n",
    "# Get the stim table for natural scenes\n",
    "ns_table = data_set.stim_tables['natural_scenes']"
   ]
  },
  {
   "cell_type": "code",
   "execution_count": 34,
   "metadata": {},
   "outputs": [
    {
     "data": {
      "text/html": [
       "<div>\n",
       "<style scoped>\n",
       "    .dataframe tbody tr th:only-of-type {\n",
       "        vertical-align: middle;\n",
       "    }\n",
       "\n",
       "    .dataframe tbody tr th {\n",
       "        vertical-align: top;\n",
       "    }\n",
       "\n",
       "    .dataframe thead th {\n",
       "        text-align: right;\n",
       "    }\n",
       "</style>\n",
       "<table border=\"1\" class=\"dataframe\">\n",
       "  <thead>\n",
       "    <tr style=\"text-align: right;\">\n",
       "      <th></th>\n",
       "      <th>start</th>\n",
       "      <th>end</th>\n",
       "      <th>frame</th>\n",
       "    </tr>\n",
       "  </thead>\n",
       "  <tbody>\n",
       "    <tr>\n",
       "      <th>0</th>\n",
       "      <td>5908.72592</td>\n",
       "      <td>5908.97449</td>\n",
       "      <td>34.0</td>\n",
       "    </tr>\n",
       "    <tr>\n",
       "      <th>1</th>\n",
       "      <td>5908.97449</td>\n",
       "      <td>5909.22469</td>\n",
       "      <td>6.0</td>\n",
       "    </tr>\n",
       "    <tr>\n",
       "      <th>2</th>\n",
       "      <td>5909.22469</td>\n",
       "      <td>5909.47521</td>\n",
       "      <td>28.0</td>\n",
       "    </tr>\n",
       "    <tr>\n",
       "      <th>3</th>\n",
       "      <td>5909.47521</td>\n",
       "      <td>5909.72637</td>\n",
       "      <td>109.0</td>\n",
       "    </tr>\n",
       "    <tr>\n",
       "      <th>4</th>\n",
       "      <td>5909.72637</td>\n",
       "      <td>5909.97549</td>\n",
       "      <td>105.0</td>\n",
       "    </tr>\n",
       "  </tbody>\n",
       "</table>\n",
       "</div>"
      ],
      "text/plain": [
       "        start         end  frame\n",
       "0  5908.72592  5908.97449   34.0\n",
       "1  5908.97449  5909.22469    6.0\n",
       "2  5909.22469  5909.47521   28.0\n",
       "3  5909.47521  5909.72637  109.0\n",
       "4  5909.72637  5909.97549  105.0"
      ]
     },
     "execution_count": 34,
     "metadata": {},
     "output_type": "execute_result"
    }
   ],
   "source": [
    "ns_table.head()"
   ]
  },
  {
   "cell_type": "markdown",
   "metadata": {},
   "source": [
    "<div style=\"border-left: 3px solid #000; padding: 1px; padding-left: 10px; background: #F0FAFF; \">\n",
    "The above table shows the start and end time of presentation of each natural scene stimulus. Each scene has a unique image ID given by the 'frame' column \n",
    "</div>"
   ]
  },
  {
   "cell_type": "markdown",
   "metadata": {},
   "source": [
    "<div style=\"background: #DFF0D8; border-radius: 3px; padding: 10px;\">\n",
    "<b>Task 2.3:</b> How many presentations of image 46 are there in this experiment?\n",
    "</div>"
   ]
  },
  {
   "cell_type": "code",
   "execution_count": 35,
   "metadata": {},
   "outputs": [
    {
     "name": "stdout",
     "output_type": "stream",
     "text": [
      "50\n"
     ]
    }
   ],
   "source": [
    "# SOLUTION\n",
    "print(len(ns_table[ns_table.frame==46]))"
   ]
  },
  {
   "cell_type": "markdown",
   "metadata": {},
   "source": [
    "<div style=\"border-left: 3px solid #000; padding: 1px; padding-left: 10px; background: #F0FAFF; \">\n",
    "\n",
    "<h3>Trial-wise raster plot</h3>\n",
    "<ul>\n",
    "    <li>We'll now use the stim table to identify when image #46 was presented</li>\n",
    "    <li>From this we'll extract spikes around each presentation of image #46</li>\n",
    "    <li>Finally we'll make a raster plot showing spikes on each trial</li>\n",
    "</ul>\n",
    "</div>"
   ]
  },
  {
   "cell_type": "code",
   "execution_count": 36,
   "metadata": {},
   "outputs": [
    {
     "data": {
      "text/html": [
       "<div>\n",
       "<style scoped>\n",
       "    .dataframe tbody tr th:only-of-type {\n",
       "        vertical-align: middle;\n",
       "    }\n",
       "\n",
       "    .dataframe tbody tr th {\n",
       "        vertical-align: top;\n",
       "    }\n",
       "\n",
       "    .dataframe thead th {\n",
       "        text-align: right;\n",
       "    }\n",
       "</style>\n",
       "<table border=\"1\" class=\"dataframe\">\n",
       "  <thead>\n",
       "    <tr style=\"text-align: right;\">\n",
       "      <th></th>\n",
       "      <th>start</th>\n",
       "      <th>end</th>\n",
       "      <th>frame</th>\n",
       "    </tr>\n",
       "  </thead>\n",
       "  <tbody>\n",
       "    <tr>\n",
       "      <th>326</th>\n",
       "      <td>5990.29287</td>\n",
       "      <td>5990.54277</td>\n",
       "      <td>46.0</td>\n",
       "    </tr>\n",
       "    <tr>\n",
       "      <th>540</th>\n",
       "      <td>6043.85469</td>\n",
       "      <td>6044.10378</td>\n",
       "      <td>46.0</td>\n",
       "    </tr>\n",
       "    <tr>\n",
       "      <th>579</th>\n",
       "      <td>6053.61356</td>\n",
       "      <td>6053.86333</td>\n",
       "      <td>46.0</td>\n",
       "    </tr>\n",
       "  </tbody>\n",
       "</table>\n",
       "</div>"
      ],
      "text/plain": [
       "          start         end  frame\n",
       "326  5990.29287  5990.54277   46.0\n",
       "540  6043.85469  6044.10378   46.0\n",
       "579  6053.61356  6053.86333   46.0"
      ]
     },
     "execution_count": 36,
     "metadata": {},
     "output_type": "execute_result"
    }
   ],
   "source": [
    "# Select trials from stim table for specific image_id\n",
    "image_id = 46\n",
    "ns_table_subset = ns_table[ns_table.frame==image_id] # This is the stim table for image 46\n",
    "ns_table_subset.head(3) "
   ]
  },
  {
   "cell_type": "code",
   "execution_count": 37,
   "metadata": {},
   "outputs": [],
   "source": [
    "# Select spikes times from example probe\n",
    "ex_probe_spikes = data_set.spike_times[ex_probe]"
   ]
  },
  {
   "cell_type": "code",
   "execution_count": 38,
   "metadata": {},
   "outputs": [],
   "source": [
    "#Get spikes for all repeats of image 46 for ONE example unit on our example probe\n",
    "\n",
    "# Time before and after image presention\n",
    "pre_time = 1.\n",
    "post_time = 1.\n",
    "\n",
    "# Get spike times from first unit in example list\n",
    "unit_spikes = ex_probe_spikes[ex_unit_ids[0]]\n",
    "\n",
    "# Make list that will contain spike train for each image presentation\n",
    "all_trials_spikes = []\n",
    "\n",
    "#Loop through every presentation of image 46\n",
    "for i,start in enumerate(ns_table_subset.start):\n",
    "    \n",
    "    # Extract spikes around stimulus Start time\n",
    "    spikes_each_trial = unit_spikes[(unit_spikes > start-pre_time) & (unit_spikes <= start+post_time)]\n",
    "    \n",
    "    #Subtract start time of stimulus presentation\n",
    "    spikes_each_trial = spikes_each_trial - start\n",
    "    \n",
    "    #Add list of spikes to main list\n",
    "    all_trials_spikes.append(list(spikes_each_trial))"
   ]
  },
  {
   "cell_type": "code",
   "execution_count": 39,
   "metadata": {},
   "outputs": [
    {
     "data": {
      "image/png": "[encoded data removed]",
      "text/plain": [
       "<Figure size 432x288 with 1 Axes>"
      ]
     },
     "metadata": {},
     "output_type": "display_data"
    }
   ],
   "source": [
    "#Plot raster for given unit in VISal for image 46\n",
    "\n",
    "# Figure setup\n",
    "fig,ax = plt.subplots(1,1,figsize=(6,4))\n",
    "\n",
    "# Make raster plot\n",
    "for i,tr_spikes in enumerate(all_trials_spikes):\n",
    "    ax.plot(tr_spikes,i*np.ones_like(tr_spikes),'|',color='b')\n",
    "    ax.invert_yaxis()\n",
    "\n",
    "# Stimulus presentation window\n",
    "stimulus_duration = ns_table_subset.end.values[0] - ns_table_subset.start.values[0]\n",
    "ax.axvspan(0,stimulus_duration,color='gray',alpha=0.2);"
   ]
  },
  {
   "cell_type": "markdown",
   "metadata": {},
   "source": [
    "<div style=\"background: #DFF0D8; border-radius: 3px; padding: 10px;\">\n",
    "<b>Exercise 2.1:</b> Write a function to plot raster for a given unit and image. Use your function to plot rasters for the 6 example units for image 46. Your function should have the following signature:\n",
    "\n",
    "<pre><code>\n",
    "def image_raster(img, unit_spikes, ax):\n",
    "    #your code here\n",
    "    return ax\n",
    "</code></pre>\n",
    "\n",
    "where: \n",
    "<ul>\n",
    "    <li>img: the stim table for 1 image</li>\n",
    "    <li>unit_spikes: the spike times for 1 unit</li>\n",
    "    <li>ax: the handle of a matplotlib axes object (the modified handle is also the return value)</li>\n",
    "</ul>\n",
    "</div>"
   ]
  },
  {
   "cell_type": "code",
   "execution_count": 40,
   "metadata": {},
   "outputs": [],
   "source": [
    "# SOLUTION\n",
    "def image_raster(img,unit_spikes,ax=[]):\n",
    "    \n",
    "    #Default params\n",
    "    if not ax:\n",
    "        fig,ax = plt.subplots(1,1,figsize=(6,3))\n",
    "\n",
    "    pre_time = .5\n",
    "    post_time = .75\n",
    "\n",
    "    all_trials = []\n",
    "    # Get spike train for each trial and append to all_trials\n",
    "    for i,start in enumerate(img.start):\n",
    "        spikes = unit_spikes[(unit_spikes > start-pre_time) & (unit_spikes < start+post_time)]\n",
    "        spikes = spikes - start\n",
    "        all_trials.append(list(spikes))\n",
    "\n",
    "    # Plot raster for each trial\n",
    "    for i,spikes in enumerate(all_trials):\n",
    "        ax.plot(spikes,i*np.ones_like(spikes),'|',color='b',markersize=4)\n",
    "        ax.invert_yaxis()  \n",
    "    \n",
    "    ax.axvspan(0,0.25,color='gray',alpha=0.2);\n",
    "    return ax"
   ]
  },
  {
   "cell_type": "code",
   "execution_count": 41,
   "metadata": {},
   "outputs": [
    {
     "name": "stdout",
     "output_type": "stream",
     "text": [
      "('probeC', ['248', '294', '242', '278', '241', '266'], 'VISp')\n"
     ]
    }
   ],
   "source": [
    "# Reminder: we stored info of example units in these variables:\n",
    "print(ex_probe, ex_unit_ids, ex_structure)"
   ]
  },
  {
   "cell_type": "code",
   "execution_count": 42,
   "metadata": {},
   "outputs": [],
   "source": [
    "# Get spikes on example probe\n",
    "ex_probe_spikes = data_set.spike_times[ex_probe]\n",
    "\n",
    "# Get stim table for natural scene = 46\n",
    "image_id = 46\n",
    "img = ns_table[ns_table.frame==image_id]"
   ]
  },
  {
   "cell_type": "markdown",
   "metadata": {},
   "source": [
    "<div style=\"background: #DFF0D8; border-radius: 3px; padding: 10px;\">\n",
    "<b>Exercise 2.1 (contd.):</b> Plot rasters for the above 6 example units for image 46 using your function. \n",
    "</div>"
   ]
  },
  {
   "cell_type": "code",
   "execution_count": 43,
   "metadata": {},
   "outputs": [
    {
     "data": {
      "image/png": "[encoded data removed]",
      "text/plain": [
       "<Figure size 1152x504 with 6 Axes>"
      ]
     },
     "metadata": {},
     "output_type": "display_data"
    }
   ],
   "source": [
    "# Figure setup\n",
    "fig,ax = plt.subplots(2,3,figsize=(16,7),sharex=True,sharey=True)\n",
    "ax = ax.ravel()\n",
    "\n",
    "#Loop through example units\n",
    "for i,unit in enumerate(ex_unit_ids):\n",
    "    unit_spikes = ex_probe_spikes[unit] #spikes for each example unit\n",
    "    image_raster(img,unit_spikes,ax[i])  #raster plot returned by your function\n",
    "    ax[i].set_title(unit)                 #set plot title\n",
    "    \n",
    "ax[0].set_xlim(-0.5,0.75)\n",
    "ax[0].set_ylim(50,0)\n",
    "plt.show()"
   ]
  },
  {
   "cell_type": "markdown",
   "metadata": {},
   "source": [
    "<div style=\"border-left: 3px solid #000; padding: 1px; padding-left: 10px; background: #F0FAFF; \">\n",
    "\n",
    "<h3>Peri-stimulus time histogram (PSTH)</h3>\n",
    "\n",
    "The PSTH is used to visualize the firing rate of a neuron over time relative to a stimulus presentation event. The firing rate is computed by counting the number of spikes in a given time-window and dividing by the window-size.\n",
    "</div>"
   ]
  },
  {
   "cell_type": "code",
   "execution_count": 44,
   "metadata": {},
   "outputs": [],
   "source": [
    "#Get spikes for all repeats of image 46 for a single unit in VISal \n",
    "\n",
    "# Get spikes for example unit\n",
    "unit = ex_unit_ids[0]\n",
    "unit_spikes = ex_probe_spikes[unit]\n",
    "\n",
    "# Make a list with spike train for each stimulus presentation trial\n",
    "all_trials_spikes = []\n",
    "\n",
    "#Loop through all repeats. \n",
    "for i,start in enumerate(ns_table_subset.start):\n",
    "    trial_spikes = unit_spikes[(unit_spikes > start-pre_time) & (unit_spikes < start+post_time)]\n",
    "    trial_spikes = trial_spikes - start\n",
    "    all_trials_spikes.append(list(trial_spikes))"
   ]
  },
  {
   "cell_type": "code",
   "execution_count": 45,
   "metadata": {},
   "outputs": [],
   "source": [
    "# Make PSTH for each trial with 10 ms bins\n",
    "\n",
    "# Time before and after image presention\n",
    "pre_time = 1.\n",
    "post_time = 1.\n",
    "\n",
    "bin_width = 0.01                 #time-window-size to bin spikes\n",
    "bins = np.arange(-pre_time,post_time+bin_width,bin_width)   # time bins\n",
    "\n",
    "fr_per_trial = []                 #empty list to store firing rates per trial\n",
    "\n",
    "#Loop through all trials\n",
    "for trial_spikes in all_trials_spikes:\n",
    "    counts,edges = np.histogram(trial_spikes,bins)      #\n",
    "    counts = counts/bin_width#np.diff(bins[0:2])\n",
    "    fr_per_trial.append(counts)\n",
    "\n",
    "centers = edges[:-1] + np.diff(bins)/2  #bin centers"
   ]
  },
  {
   "cell_type": "code",
   "execution_count": 46,
   "metadata": {},
   "outputs": [
    {
     "data": {
      "image/png": "[encoded data removed]",
      "text/plain": [
       "<Figure size 432x288 with 1 Axes>"
      ]
     },
     "metadata": {},
     "output_type": "display_data"
    }
   ],
   "source": [
    "#Calculate mean firing rate across all trials\n",
    "mean_fr = np.mean(fr_per_trial,axis=0)\n",
    "\n",
    "# Plot mean PSTH across trials\n",
    "fig,ax = plt.subplots(1,1)\n",
    "ax.plot(centers,mean_fr)\n",
    "ax.axvspan(0,0.25,color='gray',alpha=0.1)\n",
    "ax.set_ylabel('Firing rate (spikes/second)')\n",
    "ax.set_xlabel('Time (s)')\n",
    "ax.set_title('unit_id: ' + unit)\n",
    "plt.show()"
   ]
  },
  {
   "cell_type": "markdown",
   "metadata": {
    "collapsed": true
   },
   "source": [
    "<div style=\"background: #DFF0D8; border-radius: 3px; padding: 10px;\">\n",
    "<b>Exercise 2.2:</b> Write a function to plot PSTH for a given unit and image. Use your function to plot PSTHs for 6 example units for image 46. Use a bin_width of 5 ms to bin spikes. Your function should have the following signature:\n",
    "\n",
    "<pre><code>\n",
    "def image_psth(img, unit_spikes, ax):\n",
    "    #your code here\n",
    "    return ax\n",
    "</code></pre>\n",
    "\n",
    "where: \n",
    "<ul>\n",
    "    <li>img: the stim table for 1 image</li>\n",
    "    <li>unit_spikes: the spike times for 1 unit</li>\n",
    "    <li>ax: the handle of a matplotlib axes object (the modified handle is also the return value)</li>\n",
    "</ul>\n",
    "</div>"
   ]
  },
  {
   "cell_type": "code",
   "execution_count": 47,
   "metadata": {},
   "outputs": [],
   "source": [
    "# SOLUTION\n",
    "def image_psth(img,unit_spikes,ax=[]):\n",
    "    \n",
    "    #Default params\n",
    "    if not ax:\n",
    "        fig,ax = plt.subplots(1,1,figsize=(6,3))\n",
    "\n",
    "    pre_time = 1.#.5\n",
    "    post_time = 1.#.75\n",
    "\n",
    "    all_trials = []\n",
    "    # Get spike train for each trial\n",
    "    for i,start in enumerate(img.start):\n",
    "        spikes = unit_spikes[(unit_spikes > start-pre_time) & (unit_spikes < start+post_time)]\n",
    "        spikes = spikes - start\n",
    "        all_trials.append(list(spikes))\n",
    "\n",
    "    # Make PSTH for each trial with 5 ms bins\n",
    "    bin_width = 0.005\n",
    "    bins = np.arange(-pre_time,post_time+bin_width,bin_width)   \n",
    "    all_counts = []\n",
    "    for trial in all_trials:\n",
    "        c,edges = np.histogram(trial,bins)\n",
    "        c = c/bin_width#np.diff(bins[0:2])\n",
    "        all_counts.append(c)\n",
    "    centers = edges[:-1] + np.diff(bins)/2\n",
    "    \n",
    "    # Plot mean PSTH across trials\n",
    "    ax.plot(centers,np.mean(all_counts,axis=0))\n",
    "    ax.axvspan(0,0.25,color='gray',alpha=0.1)\n",
    "    ax.set_ylabel('Firing rate (spikes/second)')\n",
    "    ax.set_xlabel('Time (s)')\n",
    "    ax.set_xlim(pre_time,post_time)\n",
    "\n",
    "    return ax"
   ]
  },
  {
   "cell_type": "code",
   "execution_count": 48,
   "metadata": {
    "scrolled": false
   },
   "outputs": [
    {
     "name": "stderr",
     "output_type": "stream",
     "text": [
      "/Users/michaelbu/anaconda2/lib/python2.7/site-packages/matplotlib/axes/_base.py:3124: UserWarning: Attempting to set identical left==right results\n",
      "in singular transformations; automatically expanding.\n",
      "left=1.0, right=1.0\n",
      "  'left=%s, right=%s') % (left, right))\n"
     ]
    },
    {
     "data": {
      "text/plain": [
       "(-0.5, 0.75)"
      ]
     },
     "execution_count": 48,
     "metadata": {},
     "output_type": "execute_result"
    },
    {
     "data": {
      "image/png": "[encoded data removed]",
      "text/plain": [
       "<Figure size 1152x504 with 6 Axes>"
      ]
     },
     "metadata": {},
     "output_type": "display_data"
    }
   ],
   "source": [
    "# Figure setup\n",
    "fig,ax = plt.subplots(2,3,figsize=(16,7),sharex=True,sharey=True)\n",
    "ax = ax.ravel()\n",
    "\n",
    "for i,unit in enumerate(ex_unit_ids):\n",
    "    unit_spikes = ex_probe_spikes[unit]\n",
    "    image_psth(img,unit_spikes,ax[i])\n",
    "    ax[i].set_title('unit_id: ' + unit)\n",
    "    \n",
    "ax[0].set_xlim(-0.5,0.75)"
   ]
  },
  {
   "cell_type": "markdown",
   "metadata": {},
   "source": [
    "<div style=\"border-left: 3px solid #000; padding: 1px; padding-left: 10px; background: #F0FAFF; \">\n",
    "<h3>Mean sweep response and tuning curves</h3>\n",
    "\n",
    "<p> We plotted rasters and mean firing rates in response to a natural scene. \n",
    "<p>We will next see how to use the mean responses across different sweeps/trials of drifting gratings to calculate **orientation tuning curves** of single neurons \n",
    "<p> The orientation tuning curve is calculated from the mean responses for different orientations of drifting gratings a fixed spatial and temporal frequency.\n",
    "</div>"
   ]
  },
  {
   "cell_type": "code",
   "execution_count": 49,
   "metadata": {},
   "outputs": [
    {
     "data": {
      "text/html": [
       "<div>\n",
       "<style scoped>\n",
       "    .dataframe tbody tr th:only-of-type {\n",
       "        vertical-align: middle;\n",
       "    }\n",
       "\n",
       "    .dataframe tbody tr th {\n",
       "        vertical-align: top;\n",
       "    }\n",
       "\n",
       "    .dataframe thead th {\n",
       "        text-align: right;\n",
       "    }\n",
       "</style>\n",
       "<table border=\"1\" class=\"dataframe\">\n",
       "  <thead>\n",
       "    <tr style=\"text-align: right;\">\n",
       "      <th></th>\n",
       "      <th>start</th>\n",
       "      <th>end</th>\n",
       "      <th>temporal_frequency</th>\n",
       "      <th>spatial_frequency</th>\n",
       "      <th>orientation</th>\n",
       "    </tr>\n",
       "  </thead>\n",
       "  <tbody>\n",
       "    <tr>\n",
       "      <th>0</th>\n",
       "      <td>1591.12067</td>\n",
       "      <td>1593.12137</td>\n",
       "      <td>2.0</td>\n",
       "      <td>0.04</td>\n",
       "      <td>315.0</td>\n",
       "    </tr>\n",
       "    <tr>\n",
       "      <th>1</th>\n",
       "      <td>1594.12319</td>\n",
       "      <td>1596.12395</td>\n",
       "      <td>4.0</td>\n",
       "      <td>0.04</td>\n",
       "      <td>135.0</td>\n",
       "    </tr>\n",
       "    <tr>\n",
       "      <th>2</th>\n",
       "      <td>1597.12589</td>\n",
       "      <td>1599.12625</td>\n",
       "      <td>15.0</td>\n",
       "      <td>0.04</td>\n",
       "      <td>225.0</td>\n",
       "    </tr>\n",
       "    <tr>\n",
       "      <th>3</th>\n",
       "      <td>1600.12868</td>\n",
       "      <td>1602.12863</td>\n",
       "      <td>4.0</td>\n",
       "      <td>0.04</td>\n",
       "      <td>270.0</td>\n",
       "    </tr>\n",
       "    <tr>\n",
       "      <th>4</th>\n",
       "      <td>1603.13079</td>\n",
       "      <td>1605.13106</td>\n",
       "      <td>4.0</td>\n",
       "      <td>0.04</td>\n",
       "      <td>90.0</td>\n",
       "    </tr>\n",
       "  </tbody>\n",
       "</table>\n",
       "</div>"
      ],
      "text/plain": [
       "        start         end  temporal_frequency  spatial_frequency  orientation\n",
       "0  1591.12067  1593.12137                 2.0               0.04        315.0\n",
       "1  1594.12319  1596.12395                 4.0               0.04        135.0\n",
       "2  1597.12589  1599.12625                15.0               0.04        225.0\n",
       "3  1600.12868  1602.12863                 4.0               0.04        270.0\n",
       "4  1603.13079  1605.13106                 4.0               0.04         90.0"
      ]
     },
     "execution_count": 49,
     "metadata": {},
     "output_type": "execute_result"
    }
   ],
   "source": [
    "# Get drifting gratings stim table\n",
    "dg_stim_full = data_set.stim_tables['drifting_gratings']\n",
    "dg_stim_full.head()"
   ]
  },
  {
   "cell_type": "markdown",
   "metadata": {},
   "source": [
    "<div style=\"background: #DFF0D8; border-radius: 3px; padding: 10px;\">\n",
    "<b>Task 2.4</b>  Make a variable stim_table_ori_90 from dg_stim_full after selecting for orientation = 90. What are the unique temporal frequencies?\n",
    "</div>"
   ]
  },
  {
   "cell_type": "code",
   "execution_count": 50,
   "metadata": {},
   "outputs": [
    {
     "name": "stdout",
     "output_type": "stream",
     "text": [
      "[ 1.  2.  4.  8. 15.]\n"
     ]
    }
   ],
   "source": [
    "# SOLUTION\n",
    "stim_table_ori_90 = dg_stim_full[dg_stim_full.orientation==90.]\n",
    "unique_TFs = np.unique(stim_table_ori_90.temporal_frequency)\n",
    "print unique_TFs"
   ]
  },
  {
   "cell_type": "markdown",
   "metadata": {},
   "source": [
    "<div style=\"border-left: 3px solid #000; padding: 1px; padding-left: 10px; background: #F0FAFF; \">\n",
    "We'll now make an orientation tuning curve for an example unit using only TF = 4.0 Hz\n",
    "</div>"
   ]
  },
  {
   "cell_type": "code",
   "execution_count": 51,
   "metadata": {},
   "outputs": [],
   "source": [
    "# First Make stimulus table for drifting gratings with TF = 4.0\n",
    "dg_stim = dg_stim_full[(dg_stim_full.temporal_frequency==4.0)]\n",
    "\n",
    "# Get list of unique stimulus orientations\n",
    "oris = sorted(dg_stim.orientation.unique())"
   ]
  },
  {
   "cell_type": "markdown",
   "metadata": {},
   "source": [
    "<div style=\"border-left: 3px solid #000; padding: 1px; padding-left: 10px; background: #F0FAFF; \">\n",
    "We will calculate the mean and sem (standard error of mean) of the firing rates for every trial with a given orientation. We will store the results in a dictionary called <b>mean_sweep_response</b>. \n",
    "</div>"
   ]
  },
  {
   "cell_type": "code",
   "execution_count": 52,
   "metadata": {},
   "outputs": [],
   "source": [
    "# Calculate mean response over all orientations\n",
    "\n",
    "# Example unit\n",
    "unit_spikes = ex_probe_spikes[ex_unit_ids[0]]\n",
    "\n",
    "## Dictionary to store trial responses\n",
    "#trial_response = {}\n",
    "\n",
    "# Window to compute firing rate\n",
    "window_size = 0.25\n",
    "\n",
    "# Dictionary to hold results\n",
    "mean_sweep_response = {'Ori':[],'fr_mean':[],'fr_sem':[]}\n",
    "\n",
    "# Loop over orientations\n",
    "for ori in oris:\n",
    "    \n",
    "    tmp = dg_stim[dg_stim.orientation==ori]   #subset stim table for fixed ori\n",
    "    fr = []                                  #empty list to store firing rates\n",
    "    \n",
    "    # Loop over trials/sweeps\n",
    "    for i,start in enumerate(tmp.start):\n",
    "        spikes = unit_spikes[(unit_spikes > start) & (unit_spikes <= start+window_size)]   #collect spikes in window\n",
    "        fr.append(len(spikes)/window_size)    #count total number of spikes in window and divide by window size\n",
    "    \n",
    "    mean_sweep_response['Ori'].append(ori)\n",
    "    mean_sweep_response['fr_mean'].append(np.mean(fr))           #Mean firing rate over time = window_size\n",
    "    mean_sweep_response['fr_sem'].append(np.std(fr)/np.sqrt(len(fr)))"
   ]
  },
  {
   "cell_type": "markdown",
   "metadata": {},
   "source": [
    "<div style=\"border-left: 3px solid #000; padding: 1px; padding-left: 10px; background: #F0FAFF; \">\n",
    "<b>plt.errorbar(x,y,yerr)</b> allows you to plot y vs x along with the standard deviation (sem) at every point.\n",
    "</div>"
   ]
  },
  {
   "cell_type": "code",
   "execution_count": 53,
   "metadata": {},
   "outputs": [
    {
     "data": {
      "image/png": "[encoded data removed]",
      "text/plain": [
       "<Figure size 432x288 with 1 Axes>"
      ]
     },
     "metadata": {},
     "output_type": "display_data"
    }
   ],
   "source": [
    "# Plot tuning curve\n",
    "plt.errorbar(x=mean_sweep_response['Ori'],y=mean_sweep_response['fr_mean'],yerr=mean_sweep_response['fr_sem'])\n",
    "plt.xticks(oris)\n",
    "plt.ylabel('Firing rate (spikes/second)')\n",
    "plt.xlabel('Orientation (degrees)')\n",
    "plt.show()"
   ]
  },
  {
   "cell_type": "markdown",
   "metadata": {},
   "source": [
    "<div style=\"border-left: 3px solid #000; padding: 1px; padding-left: 10px; background: #F0FAFF; \">\n",
    "<p>The tuning curve above shows that our chosen unit is selective for **horizontal** drifting gratings. \n",
    "<p>We can perform a similar analysis for static gratings and check if the results hold. \n",
    "<p>In the interest of time, we leave that for **homework**. Please come talk to us regarding solutions\n",
    "</div>"
   ]
  },
  {
   "cell_type": "markdown",
   "metadata": {
    "collapsed": true
   },
   "source": [
    "<div style=\"background: #DFF0D8; border-radius: 3px; padding: 10px;\">\n",
    "<b>Homework 2.1</b> Compute tuning curve for static gratings. \n",
    "</div>"
   ]
  },
  {
   "cell_type": "code",
   "execution_count": 54,
   "metadata": {},
   "outputs": [],
   "source": [
    "# SOLUTION - Talk to Ram and Shawn"
   ]
  },
  {
   "cell_type": "markdown",
   "metadata": {},
   "source": [
    "<div style=\"background: #DFF0D8; border-radius: 3px; padding: 10px;\">\n",
    "<b>Homework 2.2</b>  Plot rasters for each orientation of static and drifting gratings to compare temporal dynamics.\n",
    "</div>"
   ]
  },
  {
   "cell_type": "code",
   "execution_count": 55,
   "metadata": {},
   "outputs": [],
   "source": [
    "# SOLUTION - talk to Ram and Shawn"
   ]
  },
  {
   "cell_type": "markdown",
   "metadata": {},
   "source": [
    "<div style=\"border-left: 3px solid #000; padding: 1px; padding-left: 10px; background: #F0FAFF; \">\n",
    "<h1>3. Correlations and cross-correlogram</h1>\n",
    "</div>"
   ]
  },
  {
   "cell_type": "markdown",
   "metadata": {},
   "source": [
    "<div style=\"border-left: 3px solid #000; padding: 1px; padding-left: 10px; background: #F0FAFF; \">\n",
    "<h3>Correlation between two neurons</h3>\n",
    "\n",
    "<p> Next, we consider correlated activity between neurons at different timescales by computing signal and noise correlations and pairwise cross-correlograms\n",
    "<p> We start with signal correlations for drifting gratings\n",
    "</div>"
   ]
  },
  {
   "cell_type": "code",
   "execution_count": 56,
   "metadata": {},
   "outputs": [],
   "source": [
    "# Get stimulus table \n",
    "dg = data_set.stim_tables['drifting_gratings']\n",
    "\n",
    "# Select TF = 4.0\n",
    "dg_stim = dg[(dg.temporal_frequency==4.0)]\n",
    "\n",
    "# Get orientation conditions\n",
    "oris = sorted(dg_stim.orientation.unique())\n",
    "\n",
    "# Get number of trials\n",
    "n_trials_dg = 15"
   ]
  },
  {
   "cell_type": "code",
   "execution_count": 57,
   "metadata": {},
   "outputs": [
    {
     "data": {
      "text/html": [
       "<div>\n",
       "<style scoped>\n",
       "    .dataframe tbody tr th:only-of-type {\n",
       "        vertical-align: middle;\n",
       "    }\n",
       "\n",
       "    .dataframe tbody tr th {\n",
       "        vertical-align: top;\n",
       "    }\n",
       "\n",
       "    .dataframe thead th {\n",
       "        text-align: right;\n",
       "    }\n",
       "</style>\n",
       "<table border=\"1\" class=\"dataframe\">\n",
       "  <thead>\n",
       "    <tr style=\"text-align: right;\">\n",
       "      <th></th>\n",
       "      <th>start</th>\n",
       "      <th>end</th>\n",
       "      <th>temporal_frequency</th>\n",
       "      <th>spatial_frequency</th>\n",
       "      <th>orientation</th>\n",
       "    </tr>\n",
       "  </thead>\n",
       "  <tbody>\n",
       "    <tr>\n",
       "      <th>14</th>\n",
       "      <td>1633.15613</td>\n",
       "      <td>1635.15480</td>\n",
       "      <td>4.0</td>\n",
       "      <td>0.04</td>\n",
       "      <td>0.0</td>\n",
       "    </tr>\n",
       "    <tr>\n",
       "      <th>125</th>\n",
       "      <td>1966.43670</td>\n",
       "      <td>1968.43496</td>\n",
       "      <td>4.0</td>\n",
       "      <td>0.04</td>\n",
       "      <td>0.0</td>\n",
       "    </tr>\n",
       "    <tr>\n",
       "      <th>194</th>\n",
       "      <td>2173.60734</td>\n",
       "      <td>2175.60735</td>\n",
       "      <td>4.0</td>\n",
       "      <td>0.04</td>\n",
       "      <td>0.0</td>\n",
       "    </tr>\n",
       "    <tr>\n",
       "      <th>213</th>\n",
       "      <td>3221.48529</td>\n",
       "      <td>3223.48317</td>\n",
       "      <td>4.0</td>\n",
       "      <td>0.04</td>\n",
       "      <td>0.0</td>\n",
       "    </tr>\n",
       "    <tr>\n",
       "      <th>222</th>\n",
       "      <td>3248.50479</td>\n",
       "      <td>3250.50560</td>\n",
       "      <td>4.0</td>\n",
       "      <td>0.04</td>\n",
       "      <td>0.0</td>\n",
       "    </tr>\n",
       "    <tr>\n",
       "      <th>237</th>\n",
       "      <td>3293.54236</td>\n",
       "      <td>3295.54306</td>\n",
       "      <td>4.0</td>\n",
       "      <td>0.04</td>\n",
       "      <td>0.0</td>\n",
       "    </tr>\n",
       "    <tr>\n",
       "      <th>271</th>\n",
       "      <td>3395.62802</td>\n",
       "      <td>3397.62850</td>\n",
       "      <td>4.0</td>\n",
       "      <td>0.04</td>\n",
       "      <td>0.0</td>\n",
       "    </tr>\n",
       "    <tr>\n",
       "      <th>278</th>\n",
       "      <td>3416.64722</td>\n",
       "      <td>3418.64555</td>\n",
       "      <td>4.0</td>\n",
       "      <td>0.04</td>\n",
       "      <td>0.0</td>\n",
       "    </tr>\n",
       "    <tr>\n",
       "      <th>295</th>\n",
       "      <td>3467.68839</td>\n",
       "      <td>3469.68816</td>\n",
       "      <td>4.0</td>\n",
       "      <td>0.04</td>\n",
       "      <td>0.0</td>\n",
       "    </tr>\n",
       "    <tr>\n",
       "      <th>324</th>\n",
       "      <td>3554.76080</td>\n",
       "      <td>3556.76128</td>\n",
       "      <td>4.0</td>\n",
       "      <td>0.04</td>\n",
       "      <td>0.0</td>\n",
       "    </tr>\n",
       "    <tr>\n",
       "      <th>458</th>\n",
       "      <td>4887.87392</td>\n",
       "      <td>4889.87458</td>\n",
       "      <td>4.0</td>\n",
       "      <td>0.04</td>\n",
       "      <td>0.0</td>\n",
       "    </tr>\n",
       "    <tr>\n",
       "      <th>498</th>\n",
       "      <td>5007.97441</td>\n",
       "      <td>5009.97379</td>\n",
       "      <td>4.0</td>\n",
       "      <td>0.04</td>\n",
       "      <td>0.0</td>\n",
       "    </tr>\n",
       "    <tr>\n",
       "      <th>521</th>\n",
       "      <td>5077.03217</td>\n",
       "      <td>5079.03217</td>\n",
       "      <td>4.0</td>\n",
       "      <td>0.04</td>\n",
       "      <td>0.0</td>\n",
       "    </tr>\n",
       "    <tr>\n",
       "      <th>606</th>\n",
       "      <td>5332.24584</td>\n",
       "      <td>5334.24565</td>\n",
       "      <td>4.0</td>\n",
       "      <td>0.04</td>\n",
       "      <td>0.0</td>\n",
       "    </tr>\n",
       "  </tbody>\n",
       "</table>\n",
       "</div>"
      ],
      "text/plain": [
       "          start         end  temporal_frequency  spatial_frequency  \\\n",
       "14   1633.15613  1635.15480                 4.0               0.04   \n",
       "125  1966.43670  1968.43496                 4.0               0.04   \n",
       "194  2173.60734  2175.60735                 4.0               0.04   \n",
       "213  3221.48529  3223.48317                 4.0               0.04   \n",
       "222  3248.50479  3250.50560                 4.0               0.04   \n",
       "237  3293.54236  3295.54306                 4.0               0.04   \n",
       "271  3395.62802  3397.62850                 4.0               0.04   \n",
       "278  3416.64722  3418.64555                 4.0               0.04   \n",
       "295  3467.68839  3469.68816                 4.0               0.04   \n",
       "324  3554.76080  3556.76128                 4.0               0.04   \n",
       "458  4887.87392  4889.87458                 4.0               0.04   \n",
       "498  5007.97441  5009.97379                 4.0               0.04   \n",
       "521  5077.03217  5079.03217                 4.0               0.04   \n",
       "606  5332.24584  5334.24565                 4.0               0.04   \n",
       "\n",
       "     orientation  \n",
       "14           0.0  \n",
       "125          0.0  \n",
       "194          0.0  \n",
       "213          0.0  \n",
       "222          0.0  \n",
       "237          0.0  \n",
       "271          0.0  \n",
       "278          0.0  \n",
       "295          0.0  \n",
       "324          0.0  \n",
       "458          0.0  \n",
       "498          0.0  \n",
       "521          0.0  \n",
       "606          0.0  "
      ]
     },
     "execution_count": 57,
     "metadata": {},
     "output_type": "execute_result"
    }
   ],
   "source": [
    "# Visualize dataframe\n",
    "dg_stim.loc[dg_stim.orientation.values==oris[0]]"
   ]
  },
  {
   "cell_type": "code",
   "execution_count": 58,
   "metadata": {},
   "outputs": [],
   "source": [
    "# Example units\n",
    "ex_probe_spikes = data_set.spike_times[ex_probe]\n",
    "units = ex_unit_ids[:2]#[ex_unit_ids[0],ex_unit_ids[4]]#\n",
    "\n",
    "# Time window to compute firing rate\n",
    "window = 0.25\n",
    "\n",
    "# Define mean response matrix with dimension: neuron*ori*trial\n",
    "dg_response = np.zeros([len(units), len(oris), n_trials_dg])\n",
    "\n",
    "# Loop over units\n",
    "for idx_u, unit in enumerate(units):\n",
    "    unit_spikes = ex_probe_spikes[unit]\n",
    "    \n",
    "    # Loop over orientations\n",
    "    for idx_o, ori in enumerate(oris):\n",
    "        tmp = dg_stim[dg_stim.orientation==ori]\n",
    "        \n",
    "        # Loop over trials/sweeps\n",
    "        for idx, start in enumerate(tmp.start):\n",
    "            dg_tr_spikes = unit_spikes[(unit_spikes > start) & (unit_spikes <= start+window)]\n",
    "            \n",
    "            # Calculate firing rate spike/sec\n",
    "            FR = len(dg_tr_spikes)/window\n",
    "            dg_response[idx_u, idx_o, idx]=FR"
   ]
  },
  {
   "cell_type": "code",
   "execution_count": 59,
   "metadata": {},
   "outputs": [
    {
     "data": {
      "text/plain": [
       "(2, 8, 15)"
      ]
     },
     "execution_count": 59,
     "metadata": {},
     "output_type": "execute_result"
    }
   ],
   "source": [
    "# Check shape of output\n",
    "dg_response.shape"
   ]
  },
  {
   "cell_type": "markdown",
   "metadata": {},
   "source": [
    "<div style=\"border-left: 3px solid #000; padding: 1px; padding-left: 10px; background: #F0FAFF; \">\n",
    "<h3>Signal correlation: correlation among tuning curves</h3>\n",
    "\n",
    "<p> The signal correlation measures the correlation coefficient between mean responses to different stimuli. For drifting gratings with fixed SF and TF, it tells us how similar/dissimilar the orientation tuning of the two neurons is.\n",
    "<p> We first plot the orientation tuning curves for the two neurons and then calculate the signal correlation\n",
    "</div>"
   ]
  },
  {
   "cell_type": "code",
   "execution_count": 60,
   "metadata": {},
   "outputs": [
    {
     "data": {
      "image/png": "[encoded data removed]",
      "text/plain": [
       "<Figure size 432x288 with 1 Axes>"
      ]
     },
     "metadata": {},
     "output_type": "display_data"
    }
   ],
   "source": [
    "resp0 = dg_response[0,:,:]          #response of neuron 1 for all oris*trials\n",
    "mean_fr_0 = resp0.mean(1)        #mean FR across all 15 trials\n",
    "sem_fr_0 = resp0.std(1)/np.sqrt(n_trials_dg)    #sem across all 15 trials\n",
    "\n",
    "resp1 = dg_response[1,:,:]          #response of neuron 2 for all oris*trials\n",
    "mean_fr_1 = resp1.mean(1)        #mean FR across all 15 trials\n",
    "sem_fr_1 = resp1.std(1)/np.sqrt(n_trials_dg)    #sem across all 15 trials\n",
    "\n",
    "plt.figure()\n",
    "plt.errorbar(x=oris,y=mean_fr_0,yerr=sem_fr_0, label=units[0])\n",
    "plt.errorbar(x=oris,y=mean_fr_1,yerr=sem_fr_1, label=units[1])\n",
    "plt.xticks(oris)\n",
    "plt.ylabel('Firing rate (spikes/second)')\n",
    "plt.xlabel('Orientation (degrees)')\n",
    "plt.legend()\n",
    "plt.show()"
   ]
  },
  {
   "cell_type": "markdown",
   "metadata": {},
   "source": [
    "<div style=\"border-left: 3px solid #000; padding: 1px; padding-left: 10px; background: #F0FAFF; \">\n",
    "<p>Its evident that the two tuning curves are not very similar. This can be seen by computing the signal correlation.\n",
    "<p> Correlation between two lists of numbers can be calculated by first calculating the correlation matrix using **numpy.corrcoef** and looking at the off_diagonal element of the 2 x 2 matrix. \n",
    "</div>"
   ]
  },
  {
   "cell_type": "code",
   "execution_count": 61,
   "metadata": {},
   "outputs": [
    {
     "name": "stdout",
     "output_type": "stream",
     "text": [
      "-0.4063753731503961\n"
     ]
    }
   ],
   "source": [
    "signal_corr = np.corrcoef(dg_response.mean(2))[0,1]\n",
    "print(signal_corr)"
   ]
  },
  {
   "cell_type": "markdown",
   "metadata": {},
   "source": [
    "<div style=\"border-left: 3px solid #000; padding: 1px; padding-left: 10px; background: #F0FAFF; \">\n",
    "\n",
    "<h3>Noise correlation: correlation across trials</h3>\n",
    "\n",
    "Noise correlation is the correlation coefficient of spike count responses to repeated presentations of identical stimuli, under the same behavioral conditions\n",
    "\n",
    "<p>Noise correlation estimates are better with more trials so we'll use the natural scenes (n=50 trials) to show an example noise correlation calculation. \n",
    "<p>Here we'll compute the noise correlation for image 46 that we examined earlier.\n",
    "</div>"
   ]
  },
  {
   "cell_type": "code",
   "execution_count": 62,
   "metadata": {},
   "outputs": [],
   "source": [
    "# Example units\n",
    "ex_probe_spikes = data_set.spike_times[ex_probe]\n",
    "units = ex_unit_ids[:2]\n",
    "\n",
    "# Image 46 stim table\n",
    "image_id = 46\n",
    "img_stim = ns_table[ns_table.frame==image_id]\n",
    "n_trials_ns = len(img_stim)\n",
    "\n",
    "# Define mean response matrix with dimension: neuron*trial\n",
    "ns_response = np.zeros([len(units), n_trials_ns])\n",
    "\n",
    "window = 0.5  #(WHY? CHECK WITH SHAWN)\n",
    "\n",
    "# Loop over units\n",
    "for idx_u, unit in enumerate(units):\n",
    "    unit_spikes = ex_probe_spikes[unit]\n",
    "\n",
    "    # Loop over trials/sweeps\n",
    "    for idx, start in enumerate(img_stim.start):\n",
    "        spikes = unit_spikes[(unit_spikes > start) & (unit_spikes <= start+window)]\n",
    "        # Calculate firing rate spike/sec\n",
    "        FR = len(spikes)/window\n",
    "        ns_response[idx_u, idx]=FR"
   ]
  },
  {
   "cell_type": "code",
   "execution_count": 63,
   "metadata": {},
   "outputs": [
    {
     "data": {
      "image/png": "[encoded data removed]",
      "text/plain": [
       "<Figure size 432x288 with 1 Axes>"
      ]
     },
     "metadata": {},
     "output_type": "display_data"
    }
   ],
   "source": [
    "fig,ax = plt.subplots(1,1)\n",
    "ax.plot(ns_response[0,:],ns_response[1,:],'o')\n",
    "plt.ylabel('Firing rate cell 2 (spikes/second)')\n",
    "plt.xlabel('Firing rate cell 1 (spikes/second)')\n",
    "plt.show()"
   ]
  },
  {
   "cell_type": "code",
   "execution_count": 64,
   "metadata": {},
   "outputs": [
    {
     "name": "stdout",
     "output_type": "stream",
     "text": [
      "0.2610897170012992\n"
     ]
    }
   ],
   "source": [
    "noise_corr = np.corrcoef(ns_response[0,:],ns_response[1,:])[0,1]\n",
    "print(noise_corr)"
   ]
  },
  {
   "cell_type": "markdown",
   "metadata": {
    "collapsed": true
   },
   "source": [
    "<div style=\"background: #DFF0D8; border-radius: 3px; padding: 10px;\">\n",
    "<b>Homework 3.1</b> Compute signal and noise correlation across all drifting grating stimulus parameters and compute average noise correlation. Compare this to signal and noise correlation across all natural scene stimuli.\n",
    "</div>"
   ]
  },
  {
   "cell_type": "code",
   "execution_count": 65,
   "metadata": {},
   "outputs": [],
   "source": [
    "# SOLUTION - Talk to Ram and Shawn"
   ]
  },
  {
   "cell_type": "markdown",
   "metadata": {
    "collapsed": true
   },
   "source": [
    "<div style=\"border-left: 3px solid #000; padding: 1px; padding-left: 10px; background: #F0FAFF; \">\n",
    "\n",
    "<h3>Cross-correlogram: fast timescale correlations</h3>\n",
    "\n",
    "The cross-correlogram provides a measure of correlations between neurons on a much faster timescale (typically within ~5 ms). We provide a function <b>ccg</b> below that can be used to compute cross-correlograms between pairs of neurons. \n",
    "</div>"
   ]
  },
  {
   "cell_type": "code",
   "execution_count": 66,
   "metadata": {},
   "outputs": [],
   "source": [
    "# Cross-correlogram (CCG)\n",
    "\n",
    "def ccg(train1, train2, binrange, binsize):\n",
    "    \"\"\"\n",
    "    Computes a cross-correlogram for two spike trains.\n",
    "\n",
    "    Parameters\n",
    "    ----------\n",
    "    train1 : numpy array\n",
    "        Primary spike train. Cross-correlogram will be computed relative to spikes in this spike train.\n",
    "    train2 : numpy array\n",
    "        Secondary spike train.\n",
    "    binrange : tuple or list of length=2\n",
    "        Window over which to compute cross correlogram.\n",
    "    binsize : float\n",
    "        Size of bins in cross-correlogram\n",
    "\n",
    "    \"\"\"\n",
    "    \n",
    "    nbins = int((binrange[1]-binrange[0])/binsize)\n",
    "    \n",
    "    diffs = [extract_local(train2,t1,binrange) for t1 in train1]\n",
    "        \n",
    "    diffs = np.hstack(diffs)\n",
    "    diffs = diffs[diffs!=0]\n",
    "\n",
    "    hist, edges = np.histogram(diffs, bins=nbins, range=binrange)\n",
    "        \n",
    "    return edges[1:]-binsize/2, hist /float(len(train1))*100\n",
    "\n",
    "def extract_local(train2,t1,binrange):\n",
    "    \"\"\"\n",
    "    Returns events in `train2` which are within `binrange` of `t1`, aligned to `t1`\n",
    "\n",
    "    Parameters\n",
    "    ----------\n",
    "    train2 : numpy array\n",
    "    t1 : float\n",
    "    binrange : tuple or list of length=2\n",
    "\n",
    "    \"\"\"\n",
    "\n",
    "    start = np.searchsorted(train2,t1 + binrange[0])\n",
    "    end = np.searchsorted(train2,t1 + binrange[1])\n",
    "\n",
    "    return train2[start:end] - t1"
   ]
  },
  {
   "cell_type": "code",
   "execution_count": 67,
   "metadata": {},
   "outputs": [],
   "source": [
    "spt_0 = ex_probe_spikes[ex_unit_ids[0]]\n",
    "spt_1 = ex_probe_spikes[ex_unit_ids[4]]"
   ]
  },
  {
   "cell_type": "code",
   "execution_count": 68,
   "metadata": {},
   "outputs": [
    {
     "data": {
      "image/png": "[encoded data removed]",
      "text/plain": [
       "<Figure size 432x288 with 1 Axes>"
      ]
     },
     "metadata": {},
     "output_type": "display_data"
    }
   ],
   "source": [
    "# Plot cross-correlogram between spike trains recorded from the two units\n",
    "\n",
    "binsize = 0.001\n",
    "ccg_win = [-0.1005,0.1005] #np.arange(-0.1005,0.1005,binsize)\n",
    "ccg_centers,ccg_vals = ccg(spt_0,spt_1,ccg_win,binsize)\n",
    "\n",
    "#Plot ccg\n",
    "plt.figure()\n",
    "plt.plot(ccg_centers,ccg_vals)\n",
    "ax = plt.gca()\n",
    "ax.axvline(ccg_centers[100],color='gray',linewidth = 0.8)\n",
    "plt.show()"
   ]
  },
  {
   "cell_type": "markdown",
   "metadata": {
    "collapsed": true
   },
   "source": [
    "<div style=\"background: #DFF0D8; border-radius: 3px; padding: 10px;\">\n",
    "<b>Homework 3.2:</b> Write function to compute the \"shuffle corrected CCG\". \n",
    "</div>"
   ]
  },
  {
   "cell_type": "code",
   "execution_count": 69,
   "metadata": {},
   "outputs": [],
   "source": [
    "# SOLUTION - Talk to Ram and Shawn\n"
   ]
  },
  {
   "cell_type": "markdown",
   "metadata": {},
   "source": [
    "<div style=\"border-left: 3px solid #000; padding: 1px; padding-left: 10px; background: #F0FAFF; \">\n",
    "\n",
    "<h1>4. Waveform and spike train analysis for cell classification</h1>\n",
    "\n",
    "<ul>\n",
    "    <li>Different cell types can show distinct extracellular action potential waveforms and firing patterns</li>\n",
    "    <li>Here we will plot spike waveforms and inter-spike interval distributions for units in this experiment</li>\n",
    "    <li>We will start by illustrating the classic RS and FS units division</li>\n",
    "</ul>\n",
    "\n",
    "</div>"
   ]
  },
  {
   "cell_type": "markdown",
   "metadata": {},
   "source": [
    "<div style=\"border-left: 3px solid #000; padding: 1px; padding-left: 10px; background: #F0FAFF; \">\n",
    "<h3>Spike waveforms: regular spiking (RS) and fast spiking (FS) units</h3>\n",
    "</div>"
   ]
  },
  {
   "cell_type": "code",
   "execution_count": 70,
   "metadata": {},
   "outputs": [],
   "source": [
    "# Get spikes waveforms using method on data_set\n",
    "spike_waveforms = data_set.get_waveforms()"
   ]
  },
  {
   "cell_type": "code",
   "execution_count": 71,
   "metadata": {},
   "outputs": [
    {
     "data": {
      "image/png": "[encoded data removed]",
      "text/plain": [
       "<Figure size 432x288 with 1 Axes>"
      ]
     },
     "metadata": {},
     "output_type": "display_data"
    }
   ],
   "source": [
    "# Plot spike waveform for one unit\n",
    "wv = spike_waveforms[ex_probe][ex_unit_ids[0]]\n",
    "plt.plot(wv)\n",
    "plt.ylabel('Microvolts')\n",
    "plt.xlabel('ms')\n",
    "plt.show()"
   ]
  },
  {
   "cell_type": "markdown",
   "metadata": {
    "collapsed": true
   },
   "source": [
    "<div style=\"background: #DFF0D8; border-radius: 3px; padding: 10px;\">\n",
    "<b>Exercise 4.1:</b> Compute spike duration for all units in this experiment and plot histogram of values.\n",
    "Hints:\n",
    "<ol>\n",
    "    <li>Concatenate waveforms in a matrix</li>\n",
    "    <li>Compute location of trough and peak using np.argmax() and np.argmin()</li>\n",
    "    <li>Compute difference between time of trough and peak</li>\n",
    "    <li>Plot histogram of spikes duration (time between trough and peak)</li>\n",
    "</ol>\n",
    "</div>"
   ]
  },
  {
   "cell_type": "code",
   "execution_count": 72,
   "metadata": {},
   "outputs": [],
   "source": [
    "# Concatenate waveforms into matrix\n",
    "wv = []\n",
    "for k,w in spike_waveforms.iteritems():\n",
    "    for kk,ww in w.iteritems():\n",
    "        wv.append(ww)  \n",
    "wv = np.array(wv)"
   ]
  },
  {
   "cell_type": "code",
   "execution_count": 73,
   "metadata": {},
   "outputs": [
    {
     "data": {
      "image/png": "[encoded data removed]",
      "text/plain": [
       "<Figure size 432x288 with 1 Axes>"
      ]
     },
     "metadata": {},
     "output_type": "display_data"
    }
   ],
   "source": [
    "# Plot 100 waveforms in this data_set\n",
    "fig,ax = plt.subplots(1,1,figsize=(6,4))\n",
    "for w in wv[:100]:\n",
    "    ax.plot(w,alpha=0.5)"
   ]
  },
  {
   "cell_type": "code",
   "execution_count": 74,
   "metadata": {},
   "outputs": [],
   "source": [
    "# Compute trough-to-peak duration\n",
    "duration = np.argmax(wv,axis=1) - np.argmin(wv,axis=1)\n",
    "duration = 1/30000.*duration*1000 # Convert samples to ms"
   ]
  },
  {
   "cell_type": "code",
   "execution_count": 75,
   "metadata": {},
   "outputs": [
    {
     "data": {
      "text/plain": [
       "Text(0.5,0,'Spike duration (ms)')"
      ]
     },
     "execution_count": 75,
     "metadata": {},
     "output_type": "execute_result"
    },
    {
     "data": {
      "image/png": "[encoded data removed]",
      "text/plain": [
       "<Figure size 432x288 with 1 Axes>"
      ]
     },
     "metadata": {},
     "output_type": "display_data"
    }
   ],
   "source": [
    "# Plot histogram of duration\n",
    "plt.hist(duration,bins=30,range=(0,1));\n",
    "plt.ylabel('N units')\n",
    "plt.xlabel('Spike duration (ms)')"
   ]
  },
  {
   "cell_type": "markdown",
   "metadata": {},
   "source": [
    "<div style=\"border-left: 3px solid #000; padding: 1px; padding-left: 10px; background: #F0FAFF; \">\n",
    "\n",
    "<h3>Inter-spike interval (ISI) distributions and bursting</h3>\n",
    "The inter-spike interval histogram shows the timing between spikes from single neuron. This histogram can show key features of firing including the refractory period, bursting, and oscillations.\n",
    "</div>"
   ]
  },
  {
   "cell_type": "code",
   "execution_count": 76,
   "metadata": {},
   "outputs": [],
   "source": [
    "# Example units\n",
    "ex_probe_spikes = data_set.spike_times[ex_probe]\n",
    "unit_spikes = ex_probe_spikes[ex_unit_ids[3]]"
   ]
  },
  {
   "cell_type": "code",
   "execution_count": 77,
   "metadata": {},
   "outputs": [
    {
     "data": {
      "image/png": "[encoded data removed]",
      "text/plain": [
       "<Figure size 1080x288 with 1 Axes>"
      ]
     },
     "metadata": {},
     "output_type": "display_data"
    }
   ],
   "source": [
    "# Make raster plot of single unit spike train for first 600 seconds of recording\n",
    "fig,ax = plt.subplots(1,1,figsize=(15,4))\n",
    "\n",
    "t = (300,400)\n",
    "window_length = 5 # 5 seconds\n",
    "t = np.arange(t[0],t[1],window_length)\n",
    "\n",
    "# Plot 5 second chunks from unit\n",
    "for i,start in enumerate(t):\n",
    "    spk = unit_spikes[(unit_spikes>start) & (unit_spikes<=start+window_length)]\n",
    "    spk = spk - start\n",
    "    ax.plot(spk,i*np.ones_like(spk),'|',markersize=8)\n",
    "\n",
    "ax.set_xlabel('Time (s)')\n",
    "ax.set_title('Spike train for 1 unit over first 10 minutes of experimental session')\n",
    "plt.show()"
   ]
  },
  {
   "cell_type": "markdown",
   "metadata": {},
   "source": [
    "<div style=\"background: #DFF0D8; border-radius: 3px; padding: 10px;\">\n",
    "<b>Task 4.1:</b> Plot the inter-spike interval distribution with 1 ms bins. Show 2 graphs with different x-limits: (0, 20 ms) and (0, 200 ms). \n",
    "Hint: use the function np.diff to compute the difference between adjacent spike times (i.e. the inter-spike interval).\n",
    "</div>"
   ]
  },
  {
   "cell_type": "code",
   "execution_count": 78,
   "metadata": {},
   "outputs": [
    {
     "name": "stdout",
     "output_type": "stream",
     "text": [
      "[  18.3666682   190.80001595   41.23333678 1979.60016549   59.96667168\n",
      "   61.90000517 1374.63344825 3364.20028124 2527.03354459   12.50000104\n",
      "   19.86666833  351.90002942   32.60000273  138.40001157   38.73333657\n",
      "   45.33333712   67.10000561   20.7666684    33.30000278   57.13333811]\n"
     ]
    }
   ],
   "source": [
    "#SOLUTION\n",
    "# Compute inter-spike interval distribution for 1 unit\n",
    "isi = np.diff(unit_spikes)\n",
    "isi = isi*1000 # convert to ms\n",
    "print(isi[:20])"
   ]
  },
  {
   "cell_type": "code",
   "execution_count": 79,
   "metadata": {},
   "outputs": [
    {
     "data": {
      "image/png": "[encoded data removed]",
      "text/plain": [
       "<Figure size 720x288 with 2 Axes>"
      ]
     },
     "metadata": {},
     "output_type": "display_data"
    }
   ],
   "source": [
    "# Plot ISI distribution as histogram with 1 ms bins\n",
    "fig,ax = plt.subplots(1,2,figsize=(10,4),sharey=True)\n",
    "ax[0].hist(isi,bins=200,range=(0,200))\n",
    "ax[1].hist(isi,bins=200,range=(0,200))\n",
    "ax[1].set_xlim(0,20)\n",
    "plt.ylabel('Count')\n",
    "plt.xlabel('Inter-spike interval (ms)')\n",
    "plt.show()"
   ]
  },
  {
   "cell_type": "markdown",
   "metadata": {},
   "source": [
    "<div style=\"background: #DFF0D8; border-radius: 3px; padding: 10px;\">\n",
    "<b>Exercise 4.3:</b>\n",
    "<ol>\n",
    "    <li>Get spike times for 50 units with highest SNR and at least 3000 total spikes.</li>\n",
    "    <li>Plot ISI distribution for each unit</li>\n",
    "    <li>Do the ISI distributions vary between cells?</li>\n",
    "</ol>\n",
    "</div>"
   ]
  },
  {
   "cell_type": "code",
   "execution_count": 80,
   "metadata": {},
   "outputs": [
    {
     "data": {
      "text/html": [
       "<div>\n",
       "<style scoped>\n",
       "    .dataframe tbody tr th:only-of-type {\n",
       "        vertical-align: middle;\n",
       "    }\n",
       "\n",
       "    .dataframe tbody tr th {\n",
       "        vertical-align: top;\n",
       "    }\n",
       "\n",
       "    .dataframe thead th {\n",
       "        text-align: right;\n",
       "    }\n",
       "</style>\n",
       "<table border=\"1\" class=\"dataframe\">\n",
       "  <thead>\n",
       "    <tr style=\"text-align: right;\">\n",
       "      <th></th>\n",
       "      <th>unit_id</th>\n",
       "      <th>probe</th>\n",
       "      <th>structure</th>\n",
       "      <th>snr</th>\n",
       "      <th>depth</th>\n",
       "      <th>channel</th>\n",
       "    </tr>\n",
       "  </thead>\n",
       "  <tbody>\n",
       "    <tr>\n",
       "      <th>667</th>\n",
       "      <td>222</td>\n",
       "      <td>probeC</td>\n",
       "      <td>VISp</td>\n",
       "      <td>4.77</td>\n",
       "      <td>-1320</td>\n",
       "      <td>250</td>\n",
       "    </tr>\n",
       "    <tr>\n",
       "      <th>668</th>\n",
       "      <td>223</td>\n",
       "      <td>probeC</td>\n",
       "      <td>VISp</td>\n",
       "      <td>7.01134</td>\n",
       "      <td>-1320</td>\n",
       "      <td>250</td>\n",
       "    </tr>\n",
       "    <tr>\n",
       "      <th>669</th>\n",
       "      <td>224</td>\n",
       "      <td>probeC</td>\n",
       "      <td>VISp</td>\n",
       "      <td>3.42435</td>\n",
       "      <td>-1300</td>\n",
       "      <td>253</td>\n",
       "    </tr>\n",
       "    <tr>\n",
       "      <th>670</th>\n",
       "      <td>225</td>\n",
       "      <td>probeC</td>\n",
       "      <td>VISp</td>\n",
       "      <td>3.3767</td>\n",
       "      <td>-1280</td>\n",
       "      <td>254</td>\n",
       "    </tr>\n",
       "    <tr>\n",
       "      <th>671</th>\n",
       "      <td>226</td>\n",
       "      <td>probeC</td>\n",
       "      <td>VISp</td>\n",
       "      <td>2.07795</td>\n",
       "      <td>-1260</td>\n",
       "      <td>256</td>\n",
       "    </tr>\n",
       "  </tbody>\n",
       "</table>\n",
       "</div>"
      ],
      "text/plain": [
       "    unit_id   probe structure      snr  depth channel\n",
       "667     222  probeC      VISp     4.77  -1320     250\n",
       "668     223  probeC      VISp  7.01134  -1320     250\n",
       "669     224  probeC      VISp  3.42435  -1300     253\n",
       "670     225  probeC      VISp   3.3767  -1280     254\n",
       "671     226  probeC      VISp  2.07795  -1260     256"
      ]
     },
     "execution_count": 80,
     "metadata": {},
     "output_type": "execute_result"
    }
   ],
   "source": [
    "# Get unit_df with metadata including snr\n",
    "snr_df = data_set.unit_df[data_set.unit_df.structure == 'VISp']\n",
    "snr_df.head()"
   ]
  },
  {
   "cell_type": "code",
   "execution_count": 81,
   "metadata": {},
   "outputs": [
    {
     "data": {
      "text/html": [
       "<div>\n",
       "<style scoped>\n",
       "    .dataframe tbody tr th:only-of-type {\n",
       "        vertical-align: middle;\n",
       "    }\n",
       "\n",
       "    .dataframe tbody tr th {\n",
       "        vertical-align: top;\n",
       "    }\n",
       "\n",
       "    .dataframe thead th {\n",
       "        text-align: right;\n",
       "    }\n",
       "</style>\n",
       "<table border=\"1\" class=\"dataframe\">\n",
       "  <thead>\n",
       "    <tr style=\"text-align: right;\">\n",
       "      <th></th>\n",
       "      <th>unit_id</th>\n",
       "      <th>probe</th>\n",
       "      <th>structure</th>\n",
       "      <th>snr</th>\n",
       "      <th>depth</th>\n",
       "      <th>channel</th>\n",
       "    </tr>\n",
       "  </thead>\n",
       "  <tbody>\n",
       "    <tr>\n",
       "      <th>689</th>\n",
       "      <td>245</td>\n",
       "      <td>probeC</td>\n",
       "      <td>VISp</td>\n",
       "      <td>7.16157</td>\n",
       "      <td>-1160</td>\n",
       "      <td>266</td>\n",
       "    </tr>\n",
       "    <tr>\n",
       "      <th>668</th>\n",
       "      <td>223</td>\n",
       "      <td>probeC</td>\n",
       "      <td>VISp</td>\n",
       "      <td>7.01134</td>\n",
       "      <td>-1320</td>\n",
       "      <td>250</td>\n",
       "    </tr>\n",
       "    <tr>\n",
       "      <th>729</th>\n",
       "      <td>293</td>\n",
       "      <td>probeC</td>\n",
       "      <td>VISp</td>\n",
       "      <td>6.4157</td>\n",
       "      <td>-800</td>\n",
       "      <td>302</td>\n",
       "    </tr>\n",
       "    <tr>\n",
       "      <th>696</th>\n",
       "      <td>252</td>\n",
       "      <td>probeC</td>\n",
       "      <td>VISp</td>\n",
       "      <td>6.08229</td>\n",
       "      <td>-1040</td>\n",
       "      <td>278</td>\n",
       "    </tr>\n",
       "    <tr>\n",
       "      <th>713</th>\n",
       "      <td>270</td>\n",
       "      <td>probeC</td>\n",
       "      <td>VISp</td>\n",
       "      <td>5.79568</td>\n",
       "      <td>-940</td>\n",
       "      <td>289</td>\n",
       "    </tr>\n",
       "  </tbody>\n",
       "</table>\n",
       "</div>"
      ],
      "text/plain": [
       "    unit_id   probe structure      snr  depth channel\n",
       "689     245  probeC      VISp  7.16157  -1160     266\n",
       "668     223  probeC      VISp  7.01134  -1320     250\n",
       "729     293  probeC      VISp   6.4157   -800     302\n",
       "696     252  probeC      VISp  6.08229  -1040     278\n",
       "713     270  probeC      VISp  5.79568   -940     289"
      ]
     },
     "execution_count": 81,
     "metadata": {},
     "output_type": "execute_result"
    }
   ],
   "source": [
    "# Sort df by highest snr values\n",
    "snr_df_2 = snr_df.sort_values(by=['snr'], ascending=False)\n",
    "snr_df_2.head()"
   ]
  },
  {
   "cell_type": "code",
   "execution_count": 82,
   "metadata": {},
   "outputs": [
    {
     "data": {
      "image/png": "[encoded data removed]",
      "text/plain": [
       "<Figure size 1080x504 with 50 Axes>"
      ]
     },
     "metadata": {},
     "output_type": "display_data"
    }
   ],
   "source": [
    "# Get spike times for 50 units with highest SNR and at least 3000 total spikes\n",
    "unit_list = snr_df_2.unit_id.values[:50]\n",
    "probe_v1 = 'probeC'\n",
    "cortical_area = 'VISp'\n",
    "probe_v1_spikes = data_set.spike_times[probe_v1]\n",
    "\n",
    "# Figure setup\n",
    "fig,ax = plt.subplots(5,10,figsize=(15,7),sharex=True)\n",
    "ax = ax.ravel()\n",
    "\n",
    "# Plot ISI distribution for each unit\n",
    "for i,unit in enumerate(unit_list):\n",
    "        unit_spikes = probe_v1_spikes[unit]\n",
    "        if len(unit_spikes) > 3000:\n",
    "            isi = np.diff(unit_spikes)\n",
    "            ax[i].hist(isi,bins=50,range=(0,0.3))\n",
    "            ax[i].set_title(str(unit_list[i]),fontsize=7)\n",
    "\n",
    "plt.xlim(0,0.3)\n",
    "\n",
    "for i in ax:\n",
    "    i.axis('off')"
   ]
  },
  {
   "cell_type": "markdown",
   "metadata": {},
   "source": [
    "<div style=\"border-left: 3px solid #000; padding: 1px; padding-left: 10px; background: #F0FAFF; \">\n",
    "<h1>Project ideas</h1>\n",
    "</div>"
   ]
  },
  {
   "cell_type": "markdown",
   "metadata": {},
   "source": [
    "** 1. Characterize visual stimulus coding by burst spikes**\n",
    "    * Many cortical cells fire action potential in bursts (ISI < 10 ms).\n",
    "    * Do burst spikes have similar tuning compared to all spikes?\n",
    "    * Is bursting stimulus-dependent?\n",
    "    \n",
    "** 2. \"Excitatory\" versus \"Inhibitory\" responses to natural images.**\n",
    "    * Examination of raster plots to natural images suggests cells have different response types. Some neurons increase firing rate to images while others are suppressed. Is there a logic to these responses? E.g. are \"suppressed\" cells inhibited by all stimuli or is suppression tuned? What fraction of cells show increases/decreases in firing? Does unsupervised clustering reveal enhanced versus suppressed response patterns? Do these response modes vary across areas?\n",
    "\n",
    "** 3. Cell classification using multi-channel waveform, spiking pattern, functional interactions**\n",
    "    * Extracellular recordings can reveal RS and FS classes. \n",
    "    * High-density Neuropixels probes record single cells on multiple channels and this information can be useful for cell classification.\n",
    "    * Can units be clustered based on spiking pattern ('bursting' vs 'non-bursting')?\n",
    "    * Can spiking pattern, waveform, and functional interaction features be combined to facilitate unsupervised clustering (e.g. k-means) for identifying cell classes?\n",
    "    \n",
    "    \n",
    "** 4. Explore spike count variability as a function of timescale **\n",
    "    * Explore how spike count reliability and precision by examining variability on long (100s of ms) versus short (1-10 ms)timescales. \n",
    "\n",
    "\n",
    "** 5. Temporal dynamics of stimulus decodability**\n",
    "    * How fast can stimuli be decoded from spiking populations? What is the timecourse of decodability in different areas and cortical layers?\n",
    "    \n",
    "    \n",
    "** 6. Compare image decoding using ephys vs ophys measurements**\n",
    "    * Use both EphysObservatory and Ophys BrainObservatory data to compare neural responses estimated with these two modalities. Ephys will likely provide image information on faster timescale. Does Ephys data more information for decoding?\n",
    "  \n",
    "** 7. Data visualization**\n",
    "    * Visualize action potential backpropagation along the Neuropixels probe\n",
    "    * Visualize spike patterns across shank of Neuropixels probe \n",
    "    * Visualize functional interaction network between layers and areas\n",
    "    * Use dimensionality reduction to visualize spiking population dynamics in lower dimensional space\n",
    "    \n",
    "    \n",
    "** 8. Compare backpropagating action potentials in Allen Institute datasets with ground-truth Neuropixels recordings from rat cortex **\n",
    "    * A new preprint (biorxiv) study makes simultaneous patch-clamp and Neuropixels recordings from single neurons providing an important ground-truth dataset: https://www.biorxiv.org/content/early/2018/07/23/370080 (Marques-Smith et al.)\n",
    "    * Compare spatiotemporal action potential properties (e.g action potential backpropagation) measured with Neuropixels from mouse visual cortex and hippocampus (Allen Institute) and ground-truth recordings in rat (Marques-Smith et al.).\n",
    "    * Github repo for external dataset: https://github.com/kampff-lab/sc.io/tree/master/Paired%20Recordings\n",
    "    \n"
   ]
  }
 ],
 "metadata": {
  "kernelspec": {
   "display_name": "Python 2",
   "language": "python",
   "name": "python2"
  },
  "language_info": {
   "codemirror_mode": {
    "name": "ipython",
    "version": 2
   },
   "file_extension": ".py",
   "mimetype": "text/x-python",
   "name": "python",
   "nbconvert_exporter": "python",
   "pygments_lexer": "ipython2",
   "version": "2.7.15"
  }
 },
 "nbformat": 4,
 "nbformat_minor": 2
}
